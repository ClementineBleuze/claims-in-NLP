{
 "cells": [
  {
   "cell_type": "markdown",
   "id": "fd062d5d-ed32-4011-8edf-80835744f098",
   "metadata": {},
   "source": [
    "# BERT classifiers experiments"
   ]
  },
  {
   "cell_type": "code",
   "execution_count": 1,
   "id": "2d4143e8-2572-46a1-9831-66ab1a8afea5",
   "metadata": {},
   "outputs": [
    {
     "name": "stdout",
     "output_type": "stream",
     "text": [
      "cuda\n"
     ]
    }
   ],
   "source": [
    "import numpy as np\n",
    "import torch\n",
    "import pandas as pd\n",
    "import pickle\n",
    "import json\n",
    "from tqdm import tqdm\n",
    "import matplotlib.pyplot as plt\n",
    "import seaborn as sns\n",
    "import os\n",
    "\n",
    "from huggingface_hub import login\n",
    "from datasets import load_dataset\n",
    "from transformers import AutoTokenizer, AutoModelForSequenceClassification, TrainingArguments, Trainer, EvalPrediction, EarlyStoppingCallback\n",
    "from sentence_transformers import SentenceTransformer\n",
    "from sentence_transformers.losses import BatchAllTripletLoss\n",
    "from datasets import Dataset\n",
    "\n",
    "from sklearn.model_selection import train_test_split\n",
    "from sklearn.utils import shuffle\n",
    "from sklearn.metrics import confusion_matrix, classification_report, f1_score, accuracy_score\n",
    "\n",
    "from utils.utils import get_dataset_input, get_dataset_label, radar_plot\n",
    "\n",
    "# check that a GPU is available\n",
    "device = \"cuda\" if torch.cuda.is_available() else \"cpu\"\n",
    "print(device)"
   ]
  },
  {
   "cell_type": "code",
   "execution_count": 2,
   "id": "b05ecc12-b603-4389-a4f8-01d5db7e9d73",
   "metadata": {},
   "outputs": [
    {
     "name": "stdout",
     "output_type": "stream",
     "text": [
      "Token is valid (permission: write).\n",
      "\u001b[1m\u001b[31mCannot authenticate through git-credential as no helper is defined on your machine.\n",
      "You might have to re-authenticate when pushing to the Hugging Face Hub.\n",
      "Run the following command in your terminal in case you want to set the 'store' credential helper as default.\n",
      "\n",
      "git config --global credential.helper store\n",
      "\n",
      "Read https://git-scm.com/book/en/v2/Git-Tools-Credential-Storage for more details.\u001b[0m\n",
      "Token has not been saved to git credential helper.\n",
      "Your token has been saved to /home/clbleuze/.cache/huggingface/token\n",
      "Login successful\n"
     ]
    }
   ],
   "source": [
    "# connect to Huggingface\n",
    "HF_TOKEN = \"\"\n",
    "login(token = HF_TOKEN, add_to_git_credential = True)"
   ]
  },
  {
   "cell_type": "markdown",
   "id": "52f4e0d6-a7f9-4258-8e56-03f13eadd569",
   "metadata": {},
   "source": [
    "## Inspect results"
   ]
  },
  {
   "cell_type": "code",
   "execution_count": 3,
   "id": "0e2a70b0-2ffa-4e9f-ba1d-3ec0784580ac",
   "metadata": {},
   "outputs": [],
   "source": [
    "with open(\"results/BERT.pkl\", \"rb\") as f:\n",
    "    results = pickle.load(f)\n",
    "\n",
    "with open(\"data/labels.json\", \"r\") as f:\n",
    "    LABELS = json.load(f)"
   ]
  },
  {
   "cell_type": "markdown",
   "id": "4e537f19-21bd-480c-b596-19f50e0e4648",
   "metadata": {
    "jp-MarkdownHeadingCollapsed": true
   },
   "source": [
    "### Strategy = threshold (0.5)"
   ]
  },
  {
   "cell_type": "code",
   "execution_count": 4,
   "id": "e4f59f6f-827a-4c8b-b13a-a5c57fdbfa91",
   "metadata": {},
   "outputs": [
    {
     "data": {
      "text/html": [
       "<div>\n",
       "<style scoped>\n",
       "    .dataframe tbody tr th:only-of-type {\n",
       "        vertical-align: middle;\n",
       "    }\n",
       "\n",
       "    .dataframe tbody tr th {\n",
       "        vertical-align: top;\n",
       "    }\n",
       "\n",
       "    .dataframe thead th {\n",
       "        text-align: right;\n",
       "    }\n",
       "</style>\n",
       "<table border=\"1\" class=\"dataframe\">\n",
       "  <thead>\n",
       "    <tr style=\"text-align: right;\">\n",
       "      <th></th>\n",
       "      <th>model</th>\n",
       "      <th>context-AIC</th>\n",
       "      <th>contribution-AIC</th>\n",
       "      <th>result</th>\n",
       "      <th>impact</th>\n",
       "      <th>directions</th>\n",
       "      <th>limitation</th>\n",
       "      <th>outline-AIC</th>\n",
       "      <th>nc</th>\n",
       "      <th>micro_avg</th>\n",
       "      <th>macro_avg</th>\n",
       "      <th>weighted_avg</th>\n",
       "      <th>samples_avg</th>\n",
       "    </tr>\n",
       "  </thead>\n",
       "  <tbody>\n",
       "    <tr>\n",
       "      <th>8</th>\n",
       "      <td>scibert+prefix_cont_ll_SEP</td>\n",
       "      <td>0.929204</td>\n",
       "      <td>0.868852</td>\n",
       "      <td>0.862629</td>\n",
       "      <td>0.516129</td>\n",
       "      <td>0.820000</td>\n",
       "      <td>0.525253</td>\n",
       "      <td>0.880000</td>\n",
       "      <td>0.950666</td>\n",
       "      <td>0.894378</td>\n",
       "      <td>0.794092</td>\n",
       "      <td>0.892190</td>\n",
       "      <td>0.899910</td>\n",
       "    </tr>\n",
       "    <tr>\n",
       "      <th>5</th>\n",
       "      <td>deberta+prefix_cont_ll_SEP</td>\n",
       "      <td>0.916100</td>\n",
       "      <td>0.856423</td>\n",
       "      <td>0.870091</td>\n",
       "      <td>0.454545</td>\n",
       "      <td>0.813953</td>\n",
       "      <td>0.607843</td>\n",
       "      <td>0.904110</td>\n",
       "      <td>0.944488</td>\n",
       "      <td>0.893534</td>\n",
       "      <td>0.795944</td>\n",
       "      <td>0.890773</td>\n",
       "      <td>0.897664</td>\n",
       "    </tr>\n",
       "    <tr>\n",
       "      <th>7</th>\n",
       "      <td>scibert+prefix_cont_lr_SEP</td>\n",
       "      <td>0.924779</td>\n",
       "      <td>0.855586</td>\n",
       "      <td>0.867540</td>\n",
       "      <td>0.500000</td>\n",
       "      <td>0.804124</td>\n",
       "      <td>0.536082</td>\n",
       "      <td>0.849315</td>\n",
       "      <td>0.942474</td>\n",
       "      <td>0.890268</td>\n",
       "      <td>0.784988</td>\n",
       "      <td>0.886667</td>\n",
       "      <td>0.894991</td>\n",
       "    </tr>\n",
       "    <tr>\n",
       "      <th>1</th>\n",
       "      <td>roberta+prefix_cont_lr_SEP</td>\n",
       "      <td>0.889371</td>\n",
       "      <td>0.867403</td>\n",
       "      <td>0.864629</td>\n",
       "      <td>0.370370</td>\n",
       "      <td>0.784314</td>\n",
       "      <td>0.584906</td>\n",
       "      <td>0.873239</td>\n",
       "      <td>0.938547</td>\n",
       "      <td>0.882372</td>\n",
       "      <td>0.771597</td>\n",
       "      <td>0.881345</td>\n",
       "      <td>0.887264</td>\n",
       "    </tr>\n",
       "    <tr>\n",
       "      <th>4</th>\n",
       "      <td>deberta+prefix_cont_lr_SEP</td>\n",
       "      <td>0.904656</td>\n",
       "      <td>0.847716</td>\n",
       "      <td>0.846377</td>\n",
       "      <td>0.416667</td>\n",
       "      <td>0.808989</td>\n",
       "      <td>0.533333</td>\n",
       "      <td>0.838710</td>\n",
       "      <td>0.938095</td>\n",
       "      <td>0.877398</td>\n",
       "      <td>0.766818</td>\n",
       "      <td>0.875370</td>\n",
       "      <td>0.882727</td>\n",
       "    </tr>\n",
       "    <tr>\n",
       "      <th>2</th>\n",
       "      <td>roberta+prefix_cont_ll_SEP</td>\n",
       "      <td>0.894977</td>\n",
       "      <td>0.838046</td>\n",
       "      <td>0.853293</td>\n",
       "      <td>0.538462</td>\n",
       "      <td>0.764045</td>\n",
       "      <td>0.505051</td>\n",
       "      <td>0.852941</td>\n",
       "      <td>0.934066</td>\n",
       "      <td>0.874467</td>\n",
       "      <td>0.772610</td>\n",
       "      <td>0.871701</td>\n",
       "      <td>0.877246</td>\n",
       "    </tr>\n",
       "    <tr>\n",
       "      <th>6</th>\n",
       "      <td>scibert+prefix_SEP</td>\n",
       "      <td>0.857143</td>\n",
       "      <td>0.802168</td>\n",
       "      <td>0.799414</td>\n",
       "      <td>0.538462</td>\n",
       "      <td>0.731183</td>\n",
       "      <td>0.438095</td>\n",
       "      <td>0.805556</td>\n",
       "      <td>0.920660</td>\n",
       "      <td>0.841968</td>\n",
       "      <td>0.736585</td>\n",
       "      <td>0.839859</td>\n",
       "      <td>0.846473</td>\n",
       "    </tr>\n",
       "    <tr>\n",
       "      <th>0</th>\n",
       "      <td>roberta+prefix_SEP</td>\n",
       "      <td>0.841649</td>\n",
       "      <td>0.788406</td>\n",
       "      <td>0.802309</td>\n",
       "      <td>0.300000</td>\n",
       "      <td>0.696629</td>\n",
       "      <td>0.464646</td>\n",
       "      <td>0.818182</td>\n",
       "      <td>0.905929</td>\n",
       "      <td>0.832785</td>\n",
       "      <td>0.702219</td>\n",
       "      <td>0.828413</td>\n",
       "      <td>0.833109</td>\n",
       "    </tr>\n",
       "    <tr>\n",
       "      <th>3</th>\n",
       "      <td>deberta+prefix_SEP</td>\n",
       "      <td>0.820628</td>\n",
       "      <td>0.768844</td>\n",
       "      <td>0.816388</td>\n",
       "      <td>0.000000</td>\n",
       "      <td>0.722892</td>\n",
       "      <td>0.357895</td>\n",
       "      <td>0.848485</td>\n",
       "      <td>0.915094</td>\n",
       "      <td>0.831905</td>\n",
       "      <td>0.656278</td>\n",
       "      <td>0.824542</td>\n",
       "      <td>0.829268</td>\n",
       "    </tr>\n",
       "  </tbody>\n",
       "</table>\n",
       "</div>"
      ],
      "text/plain": [
       "                        model  context-AIC  contribution-AIC    result  \\\n",
       "8  scibert+prefix_cont_ll_SEP     0.929204          0.868852  0.862629   \n",
       "5  deberta+prefix_cont_ll_SEP     0.916100          0.856423  0.870091   \n",
       "7  scibert+prefix_cont_lr_SEP     0.924779          0.855586  0.867540   \n",
       "1  roberta+prefix_cont_lr_SEP     0.889371          0.867403  0.864629   \n",
       "4  deberta+prefix_cont_lr_SEP     0.904656          0.847716  0.846377   \n",
       "2  roberta+prefix_cont_ll_SEP     0.894977          0.838046  0.853293   \n",
       "6          scibert+prefix_SEP     0.857143          0.802168  0.799414   \n",
       "0          roberta+prefix_SEP     0.841649          0.788406  0.802309   \n",
       "3          deberta+prefix_SEP     0.820628          0.768844  0.816388   \n",
       "\n",
       "     impact  directions  limitation  outline-AIC        nc  micro_avg  \\\n",
       "8  0.516129    0.820000    0.525253     0.880000  0.950666   0.894378   \n",
       "5  0.454545    0.813953    0.607843     0.904110  0.944488   0.893534   \n",
       "7  0.500000    0.804124    0.536082     0.849315  0.942474   0.890268   \n",
       "1  0.370370    0.784314    0.584906     0.873239  0.938547   0.882372   \n",
       "4  0.416667    0.808989    0.533333     0.838710  0.938095   0.877398   \n",
       "2  0.538462    0.764045    0.505051     0.852941  0.934066   0.874467   \n",
       "6  0.538462    0.731183    0.438095     0.805556  0.920660   0.841968   \n",
       "0  0.300000    0.696629    0.464646     0.818182  0.905929   0.832785   \n",
       "3  0.000000    0.722892    0.357895     0.848485  0.915094   0.831905   \n",
       "\n",
       "   macro_avg  weighted_avg  samples_avg  \n",
       "8   0.794092      0.892190     0.899910  \n",
       "5   0.795944      0.890773     0.897664  \n",
       "7   0.784988      0.886667     0.894991  \n",
       "1   0.771597      0.881345     0.887264  \n",
       "4   0.766818      0.875370     0.882727  \n",
       "2   0.772610      0.871701     0.877246  \n",
       "6   0.736585      0.839859     0.846473  \n",
       "0   0.702219      0.828413     0.833109  \n",
       "3   0.656278      0.824542     0.829268  "
      ]
     },
     "execution_count": 4,
     "metadata": {},
     "output_type": "execute_result"
    }
   ],
   "source": [
    "df = pd.read_csv(\"results/BERT-df.csv\").rename(columns = {\"Unnamed: 0\": \"model\"})\n",
    "df.sort_values(by = \"weighted_avg\", ascending = False)"
   ]
  },
  {
   "cell_type": "code",
   "execution_count": 9,
   "id": "9898c960-c52a-4d9b-8229-b4ac282379ed",
   "metadata": {},
   "outputs": [
    {
     "data": {
      "image/png": "[encoded data removed]",
      "text/plain": [
       "<Figure size 640x480 with 1 Axes>"
      ]
     },
     "metadata": {},
     "output_type": "display_data"
    }
   ],
   "source": [
    "radar_plot(df[[\"model\"] + LABELS])"
   ]
  },
  {
   "cell_type": "markdown",
   "id": "deb2ab93-8932-4ec1-96eb-76c2c1bbab1f",
   "metadata": {
    "jp-MarkdownHeadingCollapsed": true
   },
   "source": [
    "### Strategy = constraints"
   ]
  },
  {
   "cell_type": "code",
   "execution_count": 6,
   "id": "7af93a9d-2b19-44c5-b037-09edcfa1d8d9",
   "metadata": {},
   "outputs": [],
   "source": [
    "# model2wf1 = {}\n",
    "# for model_type in results.keys():\n",
    "#     for input_type in results[model_type].keys():\n",
    "#         model_name = f\"{model_type}+{input_type}\"\n",
    "#         f1scores = {}\n",
    "#         for i, l in enumerate(LABELS):\n",
    "#             f1scores[LABELS[i]] = results[model_type][input_type][\"classification_report_constraints\"][l][\"f1-score\"]\n",
    "#         for score in results[model_type][input_type][\"classification_report_constraints\"].keys():\n",
    "#             if \"avg\" in score: \n",
    "#                 score_name = \"_\".join(score.split())\n",
    "#                 f1scores[score_name] = results[model_type][input_type][\"classification_report_constraints\"][score][\"f1-score\"]\n",
    "#         model2wf1[model_name] = f1scores\n",
    "\n",
    "# df = pd.DataFrame(model2wf1).transpose()\n",
    "# df.sort_values(by = \"weighted_avg\", ascending = False)\n",
    "# df.to_csv(\"results/BERT-df-constraints.csv\")"
   ]
  },
  {
   "cell_type": "code",
   "execution_count": 7,
   "id": "6c1a7fa7-8f1e-4bfd-b51c-6f5f97839143",
   "metadata": {},
   "outputs": [
    {
     "data": {
      "text/html": [
       "<div>\n",
       "<style scoped>\n",
       "    .dataframe tbody tr th:only-of-type {\n",
       "        vertical-align: middle;\n",
       "    }\n",
       "\n",
       "    .dataframe tbody tr th {\n",
       "        vertical-align: top;\n",
       "    }\n",
       "\n",
       "    .dataframe thead th {\n",
       "        text-align: right;\n",
       "    }\n",
       "</style>\n",
       "<table border=\"1\" class=\"dataframe\">\n",
       "  <thead>\n",
       "    <tr style=\"text-align: right;\">\n",
       "      <th></th>\n",
       "      <th>model</th>\n",
       "      <th>context-AIC</th>\n",
       "      <th>contribution-AIC</th>\n",
       "      <th>result</th>\n",
       "      <th>impact</th>\n",
       "      <th>directions</th>\n",
       "      <th>limitation</th>\n",
       "      <th>outline-AIC</th>\n",
       "      <th>nc</th>\n",
       "      <th>micro_avg</th>\n",
       "      <th>macro_avg</th>\n",
       "      <th>weighted_avg</th>\n",
       "      <th>samples_avg</th>\n",
       "    </tr>\n",
       "  </thead>\n",
       "  <tbody>\n",
       "    <tr>\n",
       "      <th>8</th>\n",
       "      <td>scibert+prefix_cont_ll_SEP</td>\n",
       "      <td>0.931567</td>\n",
       "      <td>0.867209</td>\n",
       "      <td>0.861357</td>\n",
       "      <td>0.516129</td>\n",
       "      <td>0.820000</td>\n",
       "      <td>0.510204</td>\n",
       "      <td>0.880000</td>\n",
       "      <td>0.950743</td>\n",
       "      <td>0.893934</td>\n",
       "      <td>0.792151</td>\n",
       "      <td>0.891509</td>\n",
       "      <td>0.901707</td>\n",
       "    </tr>\n",
       "    <tr>\n",
       "      <th>5</th>\n",
       "      <td>deberta+prefix_cont_ll_SEP</td>\n",
       "      <td>0.909910</td>\n",
       "      <td>0.857143</td>\n",
       "      <td>0.873494</td>\n",
       "      <td>0.454545</td>\n",
       "      <td>0.827586</td>\n",
       "      <td>0.601942</td>\n",
       "      <td>0.904110</td>\n",
       "      <td>0.943838</td>\n",
       "      <td>0.893299</td>\n",
       "      <td>0.796571</td>\n",
       "      <td>0.890678</td>\n",
       "      <td>0.901033</td>\n",
       "    </tr>\n",
       "    <tr>\n",
       "      <th>7</th>\n",
       "      <td>scibert+prefix_cont_lr_SEP</td>\n",
       "      <td>0.927152</td>\n",
       "      <td>0.855586</td>\n",
       "      <td>0.866667</td>\n",
       "      <td>0.476190</td>\n",
       "      <td>0.804124</td>\n",
       "      <td>0.536082</td>\n",
       "      <td>0.849315</td>\n",
       "      <td>0.943485</td>\n",
       "      <td>0.890625</td>\n",
       "      <td>0.782325</td>\n",
       "      <td>0.886997</td>\n",
       "      <td>0.898360</td>\n",
       "    </tr>\n",
       "    <tr>\n",
       "      <th>1</th>\n",
       "      <td>roberta+prefix_cont_lr_SEP</td>\n",
       "      <td>0.883117</td>\n",
       "      <td>0.865014</td>\n",
       "      <td>0.864629</td>\n",
       "      <td>0.370370</td>\n",
       "      <td>0.776699</td>\n",
       "      <td>0.579439</td>\n",
       "      <td>0.873239</td>\n",
       "      <td>0.939394</td>\n",
       "      <td>0.880937</td>\n",
       "      <td>0.768988</td>\n",
       "      <td>0.880068</td>\n",
       "      <td>0.887713</td>\n",
       "    </tr>\n",
       "    <tr>\n",
       "      <th>4</th>\n",
       "      <td>deberta+prefix_cont_lr_SEP</td>\n",
       "      <td>0.904656</td>\n",
       "      <td>0.848485</td>\n",
       "      <td>0.846821</td>\n",
       "      <td>0.480000</td>\n",
       "      <td>0.813187</td>\n",
       "      <td>0.542056</td>\n",
       "      <td>0.838710</td>\n",
       "      <td>0.936508</td>\n",
       "      <td>0.877432</td>\n",
       "      <td>0.776303</td>\n",
       "      <td>0.875982</td>\n",
       "      <td>0.885872</td>\n",
       "    </tr>\n",
       "    <tr>\n",
       "      <th>2</th>\n",
       "      <td>roberta+prefix_cont_ll_SEP</td>\n",
       "      <td>0.895455</td>\n",
       "      <td>0.836735</td>\n",
       "      <td>0.850746</td>\n",
       "      <td>0.562500</td>\n",
       "      <td>0.769231</td>\n",
       "      <td>0.505051</td>\n",
       "      <td>0.852941</td>\n",
       "      <td>0.934902</td>\n",
       "      <td>0.873818</td>\n",
       "      <td>0.775945</td>\n",
       "      <td>0.871788</td>\n",
       "      <td>0.881289</td>\n",
       "    </tr>\n",
       "    <tr>\n",
       "      <th>6</th>\n",
       "      <td>scibert+prefix_SEP</td>\n",
       "      <td>0.860310</td>\n",
       "      <td>0.805405</td>\n",
       "      <td>0.802941</td>\n",
       "      <td>0.571429</td>\n",
       "      <td>0.736842</td>\n",
       "      <td>0.438095</td>\n",
       "      <td>0.821918</td>\n",
       "      <td>0.920784</td>\n",
       "      <td>0.844329</td>\n",
       "      <td>0.744716</td>\n",
       "      <td>0.842415</td>\n",
       "      <td>0.852314</td>\n",
       "    </tr>\n",
       "    <tr>\n",
       "      <th>0</th>\n",
       "      <td>roberta+prefix_SEP</td>\n",
       "      <td>0.840085</td>\n",
       "      <td>0.790831</td>\n",
       "      <td>0.801153</td>\n",
       "      <td>0.300000</td>\n",
       "      <td>0.688889</td>\n",
       "      <td>0.455446</td>\n",
       "      <td>0.794118</td>\n",
       "      <td>0.906225</td>\n",
       "      <td>0.831373</td>\n",
       "      <td>0.697093</td>\n",
       "      <td>0.827206</td>\n",
       "      <td>0.838387</td>\n",
       "    </tr>\n",
       "    <tr>\n",
       "      <th>3</th>\n",
       "      <td>deberta+prefix_SEP</td>\n",
       "      <td>0.813333</td>\n",
       "      <td>0.762376</td>\n",
       "      <td>0.819277</td>\n",
       "      <td>0.000000</td>\n",
       "      <td>0.733333</td>\n",
       "      <td>0.387755</td>\n",
       "      <td>0.848485</td>\n",
       "      <td>0.915625</td>\n",
       "      <td>0.831431</td>\n",
       "      <td>0.660023</td>\n",
       "      <td>0.825021</td>\n",
       "      <td>0.837579</td>\n",
       "    </tr>\n",
       "  </tbody>\n",
       "</table>\n",
       "</div>"
      ],
      "text/plain": [
       "                        model  context-AIC  contribution-AIC    result  \\\n",
       "8  scibert+prefix_cont_ll_SEP     0.931567          0.867209  0.861357   \n",
       "5  deberta+prefix_cont_ll_SEP     0.909910          0.857143  0.873494   \n",
       "7  scibert+prefix_cont_lr_SEP     0.927152          0.855586  0.866667   \n",
       "1  roberta+prefix_cont_lr_SEP     0.883117          0.865014  0.864629   \n",
       "4  deberta+prefix_cont_lr_SEP     0.904656          0.848485  0.846821   \n",
       "2  roberta+prefix_cont_ll_SEP     0.895455          0.836735  0.850746   \n",
       "6          scibert+prefix_SEP     0.860310          0.805405  0.802941   \n",
       "0          roberta+prefix_SEP     0.840085          0.790831  0.801153   \n",
       "3          deberta+prefix_SEP     0.813333          0.762376  0.819277   \n",
       "\n",
       "     impact  directions  limitation  outline-AIC        nc  micro_avg  \\\n",
       "8  0.516129    0.820000    0.510204     0.880000  0.950743   0.893934   \n",
       "5  0.454545    0.827586    0.601942     0.904110  0.943838   0.893299   \n",
       "7  0.476190    0.804124    0.536082     0.849315  0.943485   0.890625   \n",
       "1  0.370370    0.776699    0.579439     0.873239  0.939394   0.880937   \n",
       "4  0.480000    0.813187    0.542056     0.838710  0.936508   0.877432   \n",
       "2  0.562500    0.769231    0.505051     0.852941  0.934902   0.873818   \n",
       "6  0.571429    0.736842    0.438095     0.821918  0.920784   0.844329   \n",
       "0  0.300000    0.688889    0.455446     0.794118  0.906225   0.831373   \n",
       "3  0.000000    0.733333    0.387755     0.848485  0.915625   0.831431   \n",
       "\n",
       "   macro_avg  weighted_avg  samples_avg  \n",
       "8   0.792151      0.891509     0.901707  \n",
       "5   0.796571      0.890678     0.901033  \n",
       "7   0.782325      0.886997     0.898360  \n",
       "1   0.768988      0.880068     0.887713  \n",
       "4   0.776303      0.875982     0.885872  \n",
       "2   0.775945      0.871788     0.881289  \n",
       "6   0.744716      0.842415     0.852314  \n",
       "0   0.697093      0.827206     0.838387  \n",
       "3   0.660023      0.825021     0.837579  "
      ]
     },
     "execution_count": 7,
     "metadata": {},
     "output_type": "execute_result"
    }
   ],
   "source": [
    "df_c = pd.read_csv(\"results/BERT-df-constraints.csv\").rename(columns = {\"Unnamed: 0\": \"model\"})\n",
    "df_c.sort_values(by = \"weighted_avg\", ascending = False)"
   ]
  },
  {
   "cell_type": "code",
   "execution_count": 10,
   "id": "64817c86-5552-401e-acb6-685122d2170d",
   "metadata": {},
   "outputs": [
    {
     "data": {
      "image/png": "[encoded data removed]",
      "text/plain": [
       "<Figure size 640x480 with 1 Axes>"
      ]
     },
     "metadata": {},
     "output_type": "display_data"
    }
   ],
   "source": [
    "radar_plot(df_c[[\"model\"] + LABELS], save_path = \"results/BERT-constraints-radar.png\")"
   ]
  },
  {
   "cell_type": "markdown",
   "id": "8f0622c6-11a2-4025-9139-32d9052b196e",
   "metadata": {
    "jp-MarkdownHeadingCollapsed": true
   },
   "source": [
    "## Data preparation"
   ]
  },
  {
   "cell_type": "markdown",
   "id": "4f5aa339-16cb-45d7-8612-8ef695dd7fd5",
   "metadata": {},
   "source": [
    "### Load train, eval and test splits"
   ]
  },
  {
   "cell_type": "code",
   "execution_count": 2,
   "id": "d933348a-354f-46ac-a429-d377c189ce09",
   "metadata": {},
   "outputs": [],
   "source": [
    "with open(\"data/train_final.pkl\", \"rb\") as f:\n",
    "    train_ds = pickle.load(f)\n",
    "\n",
    "with open(\"data/eval_final.pkl\", \"rb\") as f:\n",
    "    eval_ds = pickle.load(f)\n",
    "\n",
    "with open(\"data/test_final.pkl\", \"rb\") as f:\n",
    "    test_ds = pickle.load(f)"
   ]
  },
  {
   "cell_type": "code",
   "execution_count": 3,
   "id": "bff29513-f237-49fe-84b6-6fc42f6fc2b6",
   "metadata": {},
   "outputs": [
    {
     "data": {
      "text/plain": [
       "Dataset({\n",
       "    features: ['text', 'section', 'li', 'label', '-2', '-1', '+1'],\n",
       "    num_rows: 11830\n",
       "})"
      ]
     },
     "execution_count": 3,
     "metadata": {},
     "output_type": "execute_result"
    }
   ],
   "source": [
    "train_ds"
   ]
  },
  {
   "cell_type": "markdown",
   "id": "9207bd8d-3d33-40cc-ae5d-964dfcba3639",
   "metadata": {},
   "source": [
    "### Test different input / label formats"
   ]
  },
  {
   "cell_type": "code",
   "execution_count": 4,
   "id": "f95877db-a543-4270-8405-80ad28af9141",
   "metadata": {},
   "outputs": [],
   "source": [
    "input_data = {\"prefix_SEP\": {},\n",
    "              \"prefix_cont_lr_SEP\": {},\n",
    "              \"prefix_cont_ll_SEP\": {},\n",
    "             }\n",
    "PATH_TO_DATA = \"data/processed-annotations-11-06.csv\"\n",
    "\n",
    "for input_type in input_data.keys():\n",
    "    for split, ds in zip([\"train\", \"eval\", \"test\"], [train_ds, eval_ds, test_ds]):\n",
    "        input_data[input_type][split] = get_dataset_input(ds, PATH_TO_DATA, type = input_type)"
   ]
  },
  {
   "cell_type": "code",
   "execution_count": 8,
   "id": "5e68fe63-a765-41f4-86a4-69437d48e0cb",
   "metadata": {},
   "outputs": [],
   "source": [
    "# we just use the default multi-label config (encoded as 1-hot vectors)\n",
    "y_train = get_dataset_label(train_ds)\n",
    "y_eval = get_dataset_label(eval_ds)\n",
    "y_test = get_dataset_label(test_ds)\n",
    "\n",
    "labels = {\"train\": y_train, \"eval\": y_eval, \"test\": y_test}"
   ]
  },
  {
   "cell_type": "markdown",
   "id": "e3ae7c5d-c3f5-4d96-a2be-1ab58d790e32",
   "metadata": {
    "jp-MarkdownHeadingCollapsed": true
   },
   "source": [
    "## Vectorization"
   ]
  },
  {
   "cell_type": "markdown",
   "id": "5765e528-c844-4746-87b0-341c28f61682",
   "metadata": {},
   "source": [
    "### Tokenization"
   ]
  },
  {
   "cell_type": "code",
   "execution_count": 9,
   "id": "2c9e89de-595b-462a-8a62-748fcb1eabe3",
   "metadata": {},
   "outputs": [],
   "source": [
    "# define tokenization function\n",
    "def tokenize_function(tokenizer):\n",
    "    def tokenize(examples):\n",
    "        return tokenizer(examples[\"text\"], padding=\"max_length\", truncation=True, max_length=512)\n",
    "    return tokenize"
   ]
  },
  {
   "cell_type": "code",
   "execution_count": 10,
   "id": "97634652-c7a5-4aed-9c79-6966ef8dcc80",
   "metadata": {},
   "outputs": [],
   "source": [
    "CHECKPOINTS = {\n",
    "    \"roberta\": \"FacebookAI/roberta-base\",\n",
    "    \"deberta\": \"microsoft/deberta-v3-base\",\n",
    "    \"scibert\": \"allenai/scibert_scivocab_uncased\",\n",
    "}"
   ]
  },
  {
   "cell_type": "code",
   "execution_count": 11,
   "id": "95ceef4f-715b-46ce-b140-3eb5994db0d6",
   "metadata": {
    "scrolled": true
   },
   "outputs": [
    {
     "name": "stdout",
     "output_type": "stream",
     "text": [
      "50265\n",
      "50266\n"
     ]
    },
    {
     "data": {
      "application/vnd.jupyter.widget-view+json": {
       "model_id": "2fd46894bf7c44fc85e7a7c32564a816",
       "version_major": 2,
       "version_minor": 0
      },
      "text/plain": [
       "Map:   0%|          | 0/11830 [00:00<?, ? examples/s]"
      ]
     },
     "metadata": {},
     "output_type": "display_data"
    },
    {
     "data": {
      "application/vnd.jupyter.widget-view+json": {
       "model_id": "438025a8ec2a4b3eaef5143bed4841df",
       "version_major": 2,
       "version_minor": 0
      },
      "text/plain": [
       "Map:   0%|          | 0/1478 [00:00<?, ? examples/s]"
      ]
     },
     "metadata": {},
     "output_type": "display_data"
    },
    {
     "data": {
      "application/vnd.jupyter.widget-view+json": {
       "model_id": "9efe4c57908f408dac569b4be0a5de30",
       "version_major": 2,
       "version_minor": 0
      },
      "text/plain": [
       "Map:   0%|          | 0/1484 [00:00<?, ? examples/s]"
      ]
     },
     "metadata": {},
     "output_type": "display_data"
    },
    {
     "data": {
      "application/vnd.jupyter.widget-view+json": {
       "model_id": "582918f7938b4d2589dc02c4c8e91af8",
       "version_major": 2,
       "version_minor": 0
      },
      "text/plain": [
       "Map:   0%|          | 0/11830 [00:00<?, ? examples/s]"
      ]
     },
     "metadata": {},
     "output_type": "display_data"
    },
    {
     "data": {
      "application/vnd.jupyter.widget-view+json": {
       "model_id": "97aebbae7a6249488babf54fed47d50b",
       "version_major": 2,
       "version_minor": 0
      },
      "text/plain": [
       "Map:   0%|          | 0/1478 [00:00<?, ? examples/s]"
      ]
     },
     "metadata": {},
     "output_type": "display_data"
    },
    {
     "data": {
      "application/vnd.jupyter.widget-view+json": {
       "model_id": "ef4dbe4695a444e29087ff5a015e54a7",
       "version_major": 2,
       "version_minor": 0
      },
      "text/plain": [
       "Map:   0%|          | 0/1484 [00:00<?, ? examples/s]"
      ]
     },
     "metadata": {},
     "output_type": "display_data"
    },
    {
     "data": {
      "application/vnd.jupyter.widget-view+json": {
       "model_id": "3a6a1371945d4ffca786a93a4ad96afc",
       "version_major": 2,
       "version_minor": 0
      },
      "text/plain": [
       "Map:   0%|          | 0/11830 [00:00<?, ? examples/s]"
      ]
     },
     "metadata": {},
     "output_type": "display_data"
    },
    {
     "data": {
      "application/vnd.jupyter.widget-view+json": {
       "model_id": "09f729a5292d438da46a568e355ad9c4",
       "version_major": 2,
       "version_minor": 0
      },
      "text/plain": [
       "Map:   0%|          | 0/1478 [00:00<?, ? examples/s]"
      ]
     },
     "metadata": {},
     "output_type": "display_data"
    },
    {
     "data": {
      "application/vnd.jupyter.widget-view+json": {
       "model_id": "49e6674136a548689b07a2383b36eaca",
       "version_major": 2,
       "version_minor": 0
      },
      "text/plain": [
       "Map:   0%|          | 0/1484 [00:00<?, ? examples/s]"
      ]
     },
     "metadata": {},
     "output_type": "display_data"
    },
    {
     "name": "stderr",
     "output_type": "stream",
     "text": [
      "/home/clbleuze/myenv/lib/python3.9/site-packages/transformers/convert_slow_tokenizer.py:560: UserWarning: The sentencepiece tokenizer that you are converting to a fast tokenizer uses the byte fallback option which is not implemented in the fast tokenizers. In practice this means that the fast version of the tokenizer can produce unknown tokens whereas the sentencepiece version would have converted these unknown tokens into a sequence of byte tokens matching the original piece of text.\n",
      "  warnings.warn(\n"
     ]
    },
    {
     "name": "stdout",
     "output_type": "stream",
     "text": [
      "128001\n",
      "128002\n"
     ]
    },
    {
     "data": {
      "application/vnd.jupyter.widget-view+json": {
       "model_id": "96c8b93812174789b9667d1eb2452efa",
       "version_major": 2,
       "version_minor": 0
      },
      "text/plain": [
       "Map:   0%|          | 0/11830 [00:00<?, ? examples/s]"
      ]
     },
     "metadata": {},
     "output_type": "display_data"
    },
    {
     "data": {
      "application/vnd.jupyter.widget-view+json": {
       "model_id": "9e020a6722594483a371881acdb331df",
       "version_major": 2,
       "version_minor": 0
      },
      "text/plain": [
       "Map:   0%|          | 0/1478 [00:00<?, ? examples/s]"
      ]
     },
     "metadata": {},
     "output_type": "display_data"
    },
    {
     "data": {
      "application/vnd.jupyter.widget-view+json": {
       "model_id": "dfa0245052a74da5b900a6dcef96c239",
       "version_major": 2,
       "version_minor": 0
      },
      "text/plain": [
       "Map:   0%|          | 0/1484 [00:00<?, ? examples/s]"
      ]
     },
     "metadata": {},
     "output_type": "display_data"
    },
    {
     "data": {
      "application/vnd.jupyter.widget-view+json": {
       "model_id": "3af07e5e255c4f5095630e253c6c9b0f",
       "version_major": 2,
       "version_minor": 0
      },
      "text/plain": [
       "Map:   0%|          | 0/11830 [00:00<?, ? examples/s]"
      ]
     },
     "metadata": {},
     "output_type": "display_data"
    },
    {
     "data": {
      "application/vnd.jupyter.widget-view+json": {
       "model_id": "a5a3c6ec630d4544bc9792e406f22556",
       "version_major": 2,
       "version_minor": 0
      },
      "text/plain": [
       "Map:   0%|          | 0/1478 [00:00<?, ? examples/s]"
      ]
     },
     "metadata": {},
     "output_type": "display_data"
    },
    {
     "data": {
      "application/vnd.jupyter.widget-view+json": {
       "model_id": "b3d10c5cf45e42a4b380e79d93bc3524",
       "version_major": 2,
       "version_minor": 0
      },
      "text/plain": [
       "Map:   0%|          | 0/1484 [00:00<?, ? examples/s]"
      ]
     },
     "metadata": {},
     "output_type": "display_data"
    },
    {
     "data": {
      "application/vnd.jupyter.widget-view+json": {
       "model_id": "1242c5bd097041c79500057a7703e51b",
       "version_major": 2,
       "version_minor": 0
      },
      "text/plain": [
       "Map:   0%|          | 0/11830 [00:00<?, ? examples/s]"
      ]
     },
     "metadata": {},
     "output_type": "display_data"
    },
    {
     "data": {
      "application/vnd.jupyter.widget-view+json": {
       "model_id": "dde8dac31e4245aea3a7031c8decd562",
       "version_major": 2,
       "version_minor": 0
      },
      "text/plain": [
       "Map:   0%|          | 0/1478 [00:00<?, ? examples/s]"
      ]
     },
     "metadata": {},
     "output_type": "display_data"
    },
    {
     "data": {
      "application/vnd.jupyter.widget-view+json": {
       "model_id": "155631b14ba24be5bebe394257d01945",
       "version_major": 2,
       "version_minor": 0
      },
      "text/plain": [
       "Map:   0%|          | 0/1484 [00:00<?, ? examples/s]"
      ]
     },
     "metadata": {},
     "output_type": "display_data"
    },
    {
     "name": "stderr",
     "output_type": "stream",
     "text": [
      "/home/clbleuze/myenv/lib/python3.9/site-packages/huggingface_hub/file_download.py:1132: FutureWarning: `resume_download` is deprecated and will be removed in version 1.0.0. Downloads always resume when possible. If you want to force a new download, use `force_download=True`.\n",
      "  warnings.warn(\n"
     ]
    },
    {
     "name": "stdout",
     "output_type": "stream",
     "text": [
      "31090\n",
      "31091\n"
     ]
    },
    {
     "data": {
      "application/vnd.jupyter.widget-view+json": {
       "model_id": "35fdc99d4e0b4997bf67a885dc6fbf64",
       "version_major": 2,
       "version_minor": 0
      },
      "text/plain": [
       "Map:   0%|          | 0/11830 [00:00<?, ? examples/s]"
      ]
     },
     "metadata": {},
     "output_type": "display_data"
    },
    {
     "data": {
      "application/vnd.jupyter.widget-view+json": {
       "model_id": "89b00f8be95d42779f8048aa3ee11010",
       "version_major": 2,
       "version_minor": 0
      },
      "text/plain": [
       "Map:   0%|          | 0/1478 [00:00<?, ? examples/s]"
      ]
     },
     "metadata": {},
     "output_type": "display_data"
    },
    {
     "data": {
      "application/vnd.jupyter.widget-view+json": {
       "model_id": "94433da8f9594c6c9541a1800c9e848d",
       "version_major": 2,
       "version_minor": 0
      },
      "text/plain": [
       "Map:   0%|          | 0/1484 [00:00<?, ? examples/s]"
      ]
     },
     "metadata": {},
     "output_type": "display_data"
    },
    {
     "data": {
      "application/vnd.jupyter.widget-view+json": {
       "model_id": "5f42ea741e984096ac18ab532e793dfc",
       "version_major": 2,
       "version_minor": 0
      },
      "text/plain": [
       "Map:   0%|          | 0/11830 [00:00<?, ? examples/s]"
      ]
     },
     "metadata": {},
     "output_type": "display_data"
    },
    {
     "data": {
      "application/vnd.jupyter.widget-view+json": {
       "model_id": "de164e7eff9c4712a6b3f7f0713197fc",
       "version_major": 2,
       "version_minor": 0
      },
      "text/plain": [
       "Map:   0%|          | 0/1478 [00:00<?, ? examples/s]"
      ]
     },
     "metadata": {},
     "output_type": "display_data"
    },
    {
     "data": {
      "application/vnd.jupyter.widget-view+json": {
       "model_id": "fea9cd5d6a534c6da12fcb3a0a2f83eb",
       "version_major": 2,
       "version_minor": 0
      },
      "text/plain": [
       "Map:   0%|          | 0/1484 [00:00<?, ? examples/s]"
      ]
     },
     "metadata": {},
     "output_type": "display_data"
    },
    {
     "data": {
      "application/vnd.jupyter.widget-view+json": {
       "model_id": "cc316a442117408982c8eef47eaa4aff",
       "version_major": 2,
       "version_minor": 0
      },
      "text/plain": [
       "Map:   0%|          | 0/11830 [00:00<?, ? examples/s]"
      ]
     },
     "metadata": {},
     "output_type": "display_data"
    },
    {
     "data": {
      "application/vnd.jupyter.widget-view+json": {
       "model_id": "23d044cb68a147d99ba42435cb1e4c18",
       "version_major": 2,
       "version_minor": 0
      },
      "text/plain": [
       "Map:   0%|          | 0/1478 [00:00<?, ? examples/s]"
      ]
     },
     "metadata": {},
     "output_type": "display_data"
    },
    {
     "data": {
      "application/vnd.jupyter.widget-view+json": {
       "model_id": "7b380f5d691e4ec6b5a8ed719fa6ba22",
       "version_major": 2,
       "version_minor": 0
      },
      "text/plain": [
       "Map:   0%|          | 0/1484 [00:00<?, ? examples/s]"
      ]
     },
     "metadata": {},
     "output_type": "display_data"
    }
   ],
   "source": [
    "input_data_per_model_family = {}\n",
    "\n",
    "for model_family in CHECKPOINTS.keys():\n",
    "    # load the tokenizer\n",
    "    tokenizer = AutoTokenizer.from_pretrained(CHECKPOINTS[model_family])\n",
    "    print(len(tokenizer.vocab))\n",
    "    #add new special token separator for section\n",
    "    special_tokens_dict = {'additional_special_tokens': ['[SEC]']}\n",
    "    num_added_toks = tokenizer.add_special_tokens(special_tokens_dict)\n",
    "    print(len(tokenizer.vocab))\n",
    "    \n",
    "    input_data_per_model_family[model_family] = {}\n",
    "    \n",
    "    # apply on the data\n",
    "    for input_type in input_data.keys():\n",
    "        input_data_per_model_family[model_family][input_type] = {}\n",
    "        for split in input_data[input_type].keys():\n",
    "            dataset = Dataset.from_dict({\"text\": input_data[input_type][split], \"label\": labels[split]})\n",
    "            input_data_per_model_family[model_family][input_type][split] = dataset.map(tokenize_function(tokenizer), batched = True)"
   ]
  },
  {
   "cell_type": "code",
   "execution_count": 12,
   "id": "1a4c5388-0c6d-46fc-8e68-14889431b70e",
   "metadata": {},
   "outputs": [
    {
     "data": {
      "text/plain": [
       "Dataset({\n",
       "    features: ['text', 'label', 'input_ids', 'token_type_ids', 'attention_mask'],\n",
       "    num_rows: 11830\n",
       "})"
      ]
     },
     "execution_count": 12,
     "metadata": {},
     "output_type": "execute_result"
    }
   ],
   "source": [
    "input_data_per_model_family[\"scibert\"][\"prefix_cont_ll_SEP\"][\"train\"]"
   ]
  },
  {
   "cell_type": "markdown",
   "id": "740fec70-dd58-44f8-838a-7e2548708bbb",
   "metadata": {},
   "source": [
    "## Models"
   ]
  },
  {
   "cell_type": "markdown",
   "id": "b5ab9fc9-66d9-4bfa-b3f3-dbf7fa81b706",
   "metadata": {},
   "source": [
    "### Training"
   ]
  },
  {
   "cell_type": "code",
   "execution_count": 13,
   "id": "1be0f866-c067-490f-9ab6-512500c5e522",
   "metadata": {},
   "outputs": [],
   "source": [
    "# source: https://jesusleal.io/2021/04/21/Longformer-multilabel-classification/\n",
    "def multi_label_metrics(predictions, labels, threshold=0.5):\n",
    "    # first, apply sigmoid on predictions which are of shape (batch_size, num_labels)\n",
    "    sigmoid = torch.nn.Sigmoid()\n",
    "    probs = sigmoid(torch.Tensor(predictions))\n",
    "    # next, use threshold to turn them into integer predictions\n",
    "    y_pred = np.zeros(probs.shape)\n",
    "    y_pred[np.where(probs >= threshold)] = 1\n",
    "    # finally, compute metrics\n",
    "    y_true = labels\n",
    "    f1_samples_average = f1_score(y_true=y_true, y_pred=y_pred, average='samples')\n",
    "    f1_weighted_average = f1_score(y_true=y_true, y_pred=y_pred, average='weighted')\n",
    "    f1_macro_average = f1_score(y_true=y_true, y_pred=y_pred, average='macro')\n",
    "    f1_micro_average = f1_score(y_true=y_true, y_pred=y_pred, average='micro')\n",
    "    accuracy = accuracy_score(y_true, y_pred)\n",
    "    # return as dictionary\n",
    "    metrics = {'f1_weighted': f1_weighted_average,\n",
    "               'f1_samples': f1_samples_average,\n",
    "               'f1_macro': f1_macro_average,\n",
    "               'f1_micro' : f1_micro_average,\n",
    "               'accuracy': accuracy}\n",
    "    return metrics\n",
    "\n",
    "def compute_metrics(p: EvalPrediction):\n",
    "    preds = p.predictions[0] if isinstance(p.predictions, \n",
    "            tuple) else p.predictions\n",
    "    result = multi_label_metrics(\n",
    "        predictions=preds, \n",
    "        labels=p.label_ids)\n",
    "    return result"
   ]
  },
  {
   "cell_type": "code",
   "execution_count": 12,
   "id": "44acd60b-2dac-4e8f-884b-57af3370fe8e",
   "metadata": {},
   "outputs": [
    {
     "data": {
      "text/plain": [
       "dict_keys(['prefix_SEP', 'prefix_cont_lr_SEP', 'prefix_cont_ll_SEP'])"
      ]
     },
     "execution_count": 12,
     "metadata": {},
     "output_type": "execute_result"
    }
   ],
   "source": [
    "with open(\"results/BERT.pkl\", \"rb\") as f:\n",
    "    results = pickle.load(f)\n",
    "\n",
    "results[\"roberta\"].keys()"
   ]
  },
  {
   "cell_type": "code",
   "execution_count": 13,
   "id": "4ffb28c5-8e8e-492d-af84-6618a5f425ee",
   "metadata": {
    "scrolled": true
   },
   "outputs": [
    {
     "name": "stderr",
     "output_type": "stream",
     "text": [
      "Some weights of BertForSequenceClassification were not initialized from the model checkpoint at allenai/scibert_scivocab_uncased and are newly initialized: ['classifier.bias', 'classifier.weight']\n",
      "You should probably TRAIN this model on a down-stream task to be able to use it for predictions and inference.\n"
     ]
    },
    {
     "name": "stdout",
     "output_type": "stream",
     "text": [
      "Successfully loaded model scibert_prefix_SEP !\n",
      " Small example :\n",
      "\n",
      "Example sentence: We believe that this will be useful for other languages too.\n",
      "\n",
      "tensor([0.5242, 0.4880, 0.5638, 0.5282, 0.5523, 0.4215, 0.5311, 0.5195],\n",
      "       device='cuda:0', grad_fn=<SigmoidBackward0>)\n"
     ]
    },
    {
     "name": "stderr",
     "output_type": "stream",
     "text": [
      "huggingface/tokenizers: The current process just got forked, after parallelism has already been used. Disabling parallelism to avoid deadlocks...\n",
      "To disable this warning, you can either:\n",
      "\t- Avoid using `tokenizers` before the fork if possible\n",
      "\t- Explicitly set the environment variable TOKENIZERS_PARALLELISM=(true | false)\n"
     ]
    },
    {
     "data": {
      "text/html": [
       "\n",
       "    <div>\n",
       "      \n",
       "      <progress value='7500' max='22185' style='width:300px; height:20px; vertical-align: middle;'></progress>\n",
       "      [ 7500/22185 50:08 < 2:27:20, 1.66 it/s, Epoch 5/15]\n",
       "    </div>\n",
       "    <table border=\"1\" class=\"dataframe\">\n",
       "  <thead>\n",
       " <tr style=\"text-align: left;\">\n",
       "      <th>Step</th>\n",
       "      <th>Training Loss</th>\n",
       "      <th>Validation Loss</th>\n",
       "      <th>F1 Weighted</th>\n",
       "      <th>F1 Samples</th>\n",
       "      <th>F1 Macro</th>\n",
       "      <th>F1 Micro</th>\n",
       "      <th>Accuracy</th>\n",
       "    </tr>\n",
       "  </thead>\n",
       "  <tbody>\n",
       "    <tr>\n",
       "      <td>3000</td>\n",
       "      <td>0.104000</td>\n",
       "      <td>0.110228</td>\n",
       "      <td>0.850850</td>\n",
       "      <td>0.855210</td>\n",
       "      <td>0.702564</td>\n",
       "      <td>0.855826</td>\n",
       "      <td>0.820704</td>\n",
       "    </tr>\n",
       "    <tr>\n",
       "      <td>3500</td>\n",
       "      <td>0.074000</td>\n",
       "      <td>0.109233</td>\n",
       "      <td>0.853929</td>\n",
       "      <td>0.860397</td>\n",
       "      <td>0.708115</td>\n",
       "      <td>0.859591</td>\n",
       "      <td>0.826793</td>\n",
       "    </tr>\n",
       "    <tr>\n",
       "      <td>4000</td>\n",
       "      <td>0.077600</td>\n",
       "      <td>0.108736</td>\n",
       "      <td>0.857324</td>\n",
       "      <td>0.864456</td>\n",
       "      <td>0.713428</td>\n",
       "      <td>0.865187</td>\n",
       "      <td>0.837618</td>\n",
       "    </tr>\n",
       "    <tr>\n",
       "      <td>4500</td>\n",
       "      <td>0.073800</td>\n",
       "      <td>0.113642</td>\n",
       "      <td>0.857293</td>\n",
       "      <td>0.861863</td>\n",
       "      <td>0.735485</td>\n",
       "      <td>0.863471</td>\n",
       "      <td>0.832206</td>\n",
       "    </tr>\n",
       "    <tr>\n",
       "      <td>5000</td>\n",
       "      <td>0.053300</td>\n",
       "      <td>0.109963</td>\n",
       "      <td>0.862088</td>\n",
       "      <td>0.867591</td>\n",
       "      <td>0.756279</td>\n",
       "      <td>0.866514</td>\n",
       "      <td>0.831529</td>\n",
       "    </tr>\n",
       "    <tr>\n",
       "      <td>5500</td>\n",
       "      <td>0.053400</td>\n",
       "      <td>0.118143</td>\n",
       "      <td>0.853066</td>\n",
       "      <td>0.858593</td>\n",
       "      <td>0.702774</td>\n",
       "      <td>0.858928</td>\n",
       "      <td>0.826793</td>\n",
       "    </tr>\n",
       "    <tr>\n",
       "      <td>6000</td>\n",
       "      <td>0.054900</td>\n",
       "      <td>0.108464</td>\n",
       "      <td>0.876321</td>\n",
       "      <td>0.878101</td>\n",
       "      <td>0.800311</td>\n",
       "      <td>0.877044</td>\n",
       "      <td>0.847767</td>\n",
       "    </tr>\n",
       "    <tr>\n",
       "      <td>6500</td>\n",
       "      <td>0.035600</td>\n",
       "      <td>0.116928</td>\n",
       "      <td>0.868392</td>\n",
       "      <td>0.873478</td>\n",
       "      <td>0.754532</td>\n",
       "      <td>0.871626</td>\n",
       "      <td>0.845737</td>\n",
       "    </tr>\n",
       "    <tr>\n",
       "      <td>7000</td>\n",
       "      <td>0.038000</td>\n",
       "      <td>0.121809</td>\n",
       "      <td>0.865817</td>\n",
       "      <td>0.871651</td>\n",
       "      <td>0.745787</td>\n",
       "      <td>0.868232</td>\n",
       "      <td>0.837618</td>\n",
       "    </tr>\n",
       "    <tr>\n",
       "      <td>7500</td>\n",
       "      <td>0.034900</td>\n",
       "      <td>0.122880</td>\n",
       "      <td>0.869692</td>\n",
       "      <td>0.876364</td>\n",
       "      <td>0.751854</td>\n",
       "      <td>0.872180</td>\n",
       "      <td>0.842355</td>\n",
       "    </tr>\n",
       "  </tbody>\n",
       "</table><p>"
      ],
      "text/plain": [
       "<IPython.core.display.HTML object>"
      ]
     },
     "metadata": {},
     "output_type": "display_data"
    },
    {
     "data": {
      "text/html": [],
      "text/plain": [
       "<IPython.core.display.HTML object>"
      ]
     },
     "metadata": {},
     "output_type": "display_data"
    },
    {
     "name": "stdout",
     "output_type": "stream",
     "text": [
      "Example sentence: We believe that this will be useful for other languages too.\n",
      "\n",
      "tensor([[0.0290, 0.0537, 0.0277, 0.5621, 0.4030, 0.0177, 0.0096, 0.0297]],\n",
      "       device='cuda:0')\n"
     ]
    },
    {
     "name": "stderr",
     "output_type": "stream",
     "text": [
      "/tmp/ipykernel_1006793/2758355497.py:93: UserWarning: To copy construct from a tensor, it is recommended to use sourceTensor.clone().detach() or sourceTensor.clone().detach().requires_grad_(True), rather than torch.tensor(sourceTensor).\n",
      "  probas = torch.nn.Sigmoid()(torch.tensor(logits))\n",
      "Some weights of BertForSequenceClassification were not initialized from the model checkpoint at allenai/scibert_scivocab_uncased and are newly initialized: ['classifier.bias', 'classifier.weight']\n",
      "You should probably TRAIN this model on a down-stream task to be able to use it for predictions and inference.\n",
      "/home/clbleuze/myenv/lib/python3.9/site-packages/huggingface_hub/file_download.py:1132: FutureWarning: `resume_download` is deprecated and will be removed in version 1.0.0. Downloads always resume when possible. If you want to force a new download, use `force_download=True`.\n",
      "  warnings.warn(\n"
     ]
    },
    {
     "name": "stdout",
     "output_type": "stream",
     "text": [
      "Successfully loaded model scibert_prefix_cont_lr_SEP !\n",
      " Small example :\n",
      "\n",
      "Example sentence: We believe that this will be useful for other languages too.\n",
      "\n",
      "tensor([0.5176, 0.7337, 0.3848, 0.5391, 0.5237, 0.5016, 0.3664, 0.4494],\n",
      "       device='cuda:0', grad_fn=<SigmoidBackward0>)\n"
     ]
    },
    {
     "name": "stderr",
     "output_type": "stream",
     "text": [
      "huggingface/tokenizers: The current process just got forked, after parallelism has already been used. Disabling parallelism to avoid deadlocks...\n",
      "To disable this warning, you can either:\n",
      "\t- Avoid using `tokenizers` before the fork if possible\n",
      "\t- Explicitly set the environment variable TOKENIZERS_PARALLELISM=(true | false)\n"
     ]
    },
    {
     "data": {
      "text/html": [
       "\n",
       "    <div>\n",
       "      \n",
       "      <progress value='6500' max='22185' style='width:300px; height:20px; vertical-align: middle;'></progress>\n",
       "      [ 6500/22185 1:05:12 < 2:37:24, 1.66 it/s, Epoch 4/15]\n",
       "    </div>\n",
       "    <table border=\"1\" class=\"dataframe\">\n",
       "  <thead>\n",
       " <tr style=\"text-align: left;\">\n",
       "      <th>Step</th>\n",
       "      <th>Training Loss</th>\n",
       "      <th>Validation Loss</th>\n",
       "      <th>F1 Weighted</th>\n",
       "      <th>F1 Samples</th>\n",
       "      <th>F1 Macro</th>\n",
       "      <th>F1 Micro</th>\n",
       "      <th>Accuracy</th>\n",
       "    </tr>\n",
       "  </thead>\n",
       "  <tbody>\n",
       "    <tr>\n",
       "      <td>500</td>\n",
       "      <td>0.230700</td>\n",
       "      <td>0.172839</td>\n",
       "      <td>0.744801</td>\n",
       "      <td>0.716734</td>\n",
       "      <td>0.587936</td>\n",
       "      <td>0.760862</td>\n",
       "      <td>0.694858</td>\n",
       "    </tr>\n",
       "    <tr>\n",
       "      <td>1000</td>\n",
       "      <td>0.149300</td>\n",
       "      <td>0.127108</td>\n",
       "      <td>0.810612</td>\n",
       "      <td>0.805593</td>\n",
       "      <td>0.621557</td>\n",
       "      <td>0.826384</td>\n",
       "      <td>0.785521</td>\n",
       "    </tr>\n",
       "    <tr>\n",
       "      <td>1500</td>\n",
       "      <td>0.128800</td>\n",
       "      <td>0.115765</td>\n",
       "      <td>0.837972</td>\n",
       "      <td>0.842467</td>\n",
       "      <td>0.684316</td>\n",
       "      <td>0.848161</td>\n",
       "      <td>0.818674</td>\n",
       "    </tr>\n",
       "    <tr>\n",
       "      <td>2000</td>\n",
       "      <td>0.101000</td>\n",
       "      <td>0.101084</td>\n",
       "      <td>0.862605</td>\n",
       "      <td>0.860735</td>\n",
       "      <td>0.714346</td>\n",
       "      <td>0.868984</td>\n",
       "      <td>0.836942</td>\n",
       "    </tr>\n",
       "    <tr>\n",
       "      <td>2500</td>\n",
       "      <td>0.095500</td>\n",
       "      <td>0.105827</td>\n",
       "      <td>0.857346</td>\n",
       "      <td>0.862427</td>\n",
       "      <td>0.710035</td>\n",
       "      <td>0.865135</td>\n",
       "      <td>0.834235</td>\n",
       "    </tr>\n",
       "    <tr>\n",
       "      <td>3000</td>\n",
       "      <td>0.091300</td>\n",
       "      <td>0.095622</td>\n",
       "      <td>0.873478</td>\n",
       "      <td>0.880131</td>\n",
       "      <td>0.722409</td>\n",
       "      <td>0.880424</td>\n",
       "      <td>0.850474</td>\n",
       "    </tr>\n",
       "    <tr>\n",
       "      <td>3500</td>\n",
       "      <td>0.064700</td>\n",
       "      <td>0.106637</td>\n",
       "      <td>0.861347</td>\n",
       "      <td>0.870771</td>\n",
       "      <td>0.701193</td>\n",
       "      <td>0.868334</td>\n",
       "      <td>0.843031</td>\n",
       "    </tr>\n",
       "    <tr>\n",
       "      <td>4000</td>\n",
       "      <td>0.066000</td>\n",
       "      <td>0.093812</td>\n",
       "      <td>0.879591</td>\n",
       "      <td>0.887686</td>\n",
       "      <td>0.738148</td>\n",
       "      <td>0.885959</td>\n",
       "      <td>0.859946</td>\n",
       "    </tr>\n",
       "    <tr>\n",
       "      <td>4500</td>\n",
       "      <td>0.061700</td>\n",
       "      <td>0.084378</td>\n",
       "      <td>0.892162</td>\n",
       "      <td>0.899301</td>\n",
       "      <td>0.755917</td>\n",
       "      <td>0.897487</td>\n",
       "      <td>0.874154</td>\n",
       "    </tr>\n",
       "    <tr>\n",
       "      <td>5000</td>\n",
       "      <td>0.042200</td>\n",
       "      <td>0.092113</td>\n",
       "      <td>0.895556</td>\n",
       "      <td>0.903811</td>\n",
       "      <td>0.772889</td>\n",
       "      <td>0.900230</td>\n",
       "      <td>0.877537</td>\n",
       "    </tr>\n",
       "    <tr>\n",
       "      <td>5500</td>\n",
       "      <td>0.042200</td>\n",
       "      <td>0.095945</td>\n",
       "      <td>0.889970</td>\n",
       "      <td>0.897948</td>\n",
       "      <td>0.774406</td>\n",
       "      <td>0.892810</td>\n",
       "      <td>0.867388</td>\n",
       "    </tr>\n",
       "    <tr>\n",
       "      <td>6000</td>\n",
       "      <td>0.043900</td>\n",
       "      <td>0.095100</td>\n",
       "      <td>0.893449</td>\n",
       "      <td>0.898286</td>\n",
       "      <td>0.819609</td>\n",
       "      <td>0.893840</td>\n",
       "      <td>0.870095</td>\n",
       "    </tr>\n",
       "    <tr>\n",
       "      <td>6500</td>\n",
       "      <td>0.029700</td>\n",
       "      <td>0.099669</td>\n",
       "      <td>0.892171</td>\n",
       "      <td>0.898060</td>\n",
       "      <td>0.795731</td>\n",
       "      <td>0.894373</td>\n",
       "      <td>0.871448</td>\n",
       "    </tr>\n",
       "  </tbody>\n",
       "</table><p>"
      ],
      "text/plain": [
       "<IPython.core.display.HTML object>"
      ]
     },
     "metadata": {},
     "output_type": "display_data"
    },
    {
     "data": {
      "text/html": [],
      "text/plain": [
       "<IPython.core.display.HTML object>"
      ]
     },
     "metadata": {},
     "output_type": "display_data"
    },
    {
     "name": "stdout",
     "output_type": "stream",
     "text": [
      "Example sentence: We believe that this will be useful for other languages too.\n",
      "\n",
      "tensor([[0.0527, 0.0239, 0.0703, 0.2893, 0.6643, 0.0146, 0.0130, 0.0138]],\n",
      "       device='cuda:0')\n"
     ]
    },
    {
     "name": "stderr",
     "output_type": "stream",
     "text": [
      "/tmp/ipykernel_1006793/2758355497.py:93: UserWarning: To copy construct from a tensor, it is recommended to use sourceTensor.clone().detach() or sourceTensor.clone().detach().requires_grad_(True), rather than torch.tensor(sourceTensor).\n",
      "  probas = torch.nn.Sigmoid()(torch.tensor(logits))\n",
      "Some weights of BertForSequenceClassification were not initialized from the model checkpoint at allenai/scibert_scivocab_uncased and are newly initialized: ['classifier.bias', 'classifier.weight']\n",
      "You should probably TRAIN this model on a down-stream task to be able to use it for predictions and inference.\n",
      "/home/clbleuze/myenv/lib/python3.9/site-packages/huggingface_hub/file_download.py:1132: FutureWarning: `resume_download` is deprecated and will be removed in version 1.0.0. Downloads always resume when possible. If you want to force a new download, use `force_download=True`.\n",
      "  warnings.warn(\n"
     ]
    },
    {
     "name": "stdout",
     "output_type": "stream",
     "text": [
      "Successfully loaded model scibert_prefix_cont_ll_SEP !\n",
      " Small example :\n",
      "\n",
      "Example sentence: We believe that this will be useful for other languages too.\n",
      "\n",
      "tensor([0.5677, 0.4933, 0.5262, 0.5689, 0.5118, 0.4977, 0.5093, 0.4616],\n",
      "       device='cuda:0', grad_fn=<SigmoidBackward0>)\n"
     ]
    },
    {
     "name": "stderr",
     "output_type": "stream",
     "text": [
      "huggingface/tokenizers: The current process just got forked, after parallelism has already been used. Disabling parallelism to avoid deadlocks...\n",
      "To disable this warning, you can either:\n",
      "\t- Avoid using `tokenizers` before the fork if possible\n",
      "\t- Explicitly set the environment variable TOKENIZERS_PARALLELISM=(true | false)\n"
     ]
    },
    {
     "data": {
      "text/html": [
       "\n",
       "    <div>\n",
       "      \n",
       "      <progress value='8000' max='22185' style='width:300px; height:20px; vertical-align: middle;'></progress>\n",
       "      [ 8000/22185 1:20:15 < 2:22:19, 1.66 it/s, Epoch 5/15]\n",
       "    </div>\n",
       "    <table border=\"1\" class=\"dataframe\">\n",
       "  <thead>\n",
       " <tr style=\"text-align: left;\">\n",
       "      <th>Step</th>\n",
       "      <th>Training Loss</th>\n",
       "      <th>Validation Loss</th>\n",
       "      <th>F1 Weighted</th>\n",
       "      <th>F1 Samples</th>\n",
       "      <th>F1 Macro</th>\n",
       "      <th>F1 Micro</th>\n",
       "      <th>Accuracy</th>\n",
       "    </tr>\n",
       "  </thead>\n",
       "  <tbody>\n",
       "    <tr>\n",
       "      <td>500</td>\n",
       "      <td>0.221300</td>\n",
       "      <td>0.139167</td>\n",
       "      <td>0.815081</td>\n",
       "      <td>0.822282</td>\n",
       "      <td>0.608078</td>\n",
       "      <td>0.835537</td>\n",
       "      <td>0.801759</td>\n",
       "    </tr>\n",
       "    <tr>\n",
       "      <td>1000</td>\n",
       "      <td>0.137700</td>\n",
       "      <td>0.112922</td>\n",
       "      <td>0.852271</td>\n",
       "      <td>0.858367</td>\n",
       "      <td>0.688929</td>\n",
       "      <td>0.864520</td>\n",
       "      <td>0.834235</td>\n",
       "    </tr>\n",
       "    <tr>\n",
       "      <td>1500</td>\n",
       "      <td>0.121400</td>\n",
       "      <td>0.110337</td>\n",
       "      <td>0.850445</td>\n",
       "      <td>0.855210</td>\n",
       "      <td>0.695481</td>\n",
       "      <td>0.861333</td>\n",
       "      <td>0.830176</td>\n",
       "    </tr>\n",
       "    <tr>\n",
       "      <td>2000</td>\n",
       "      <td>0.092100</td>\n",
       "      <td>0.096091</td>\n",
       "      <td>0.865625</td>\n",
       "      <td>0.865471</td>\n",
       "      <td>0.711148</td>\n",
       "      <td>0.873995</td>\n",
       "      <td>0.838972</td>\n",
       "    </tr>\n",
       "    <tr>\n",
       "      <td>2500</td>\n",
       "      <td>0.086300</td>\n",
       "      <td>0.089999</td>\n",
       "      <td>0.878894</td>\n",
       "      <td>0.881033</td>\n",
       "      <td>0.728130</td>\n",
       "      <td>0.884692</td>\n",
       "      <td>0.854533</td>\n",
       "    </tr>\n",
       "    <tr>\n",
       "      <td>3000</td>\n",
       "      <td>0.082500</td>\n",
       "      <td>0.095915</td>\n",
       "      <td>0.876394</td>\n",
       "      <td>0.884416</td>\n",
       "      <td>0.732309</td>\n",
       "      <td>0.882586</td>\n",
       "      <td>0.853180</td>\n",
       "    </tr>\n",
       "    <tr>\n",
       "      <td>3500</td>\n",
       "      <td>0.056700</td>\n",
       "      <td>0.085617</td>\n",
       "      <td>0.887935</td>\n",
       "      <td>0.895129</td>\n",
       "      <td>0.745418</td>\n",
       "      <td>0.892237</td>\n",
       "      <td>0.863329</td>\n",
       "    </tr>\n",
       "    <tr>\n",
       "      <td>4000</td>\n",
       "      <td>0.061000</td>\n",
       "      <td>0.095192</td>\n",
       "      <td>0.880192</td>\n",
       "      <td>0.882724</td>\n",
       "      <td>0.739674</td>\n",
       "      <td>0.885648</td>\n",
       "      <td>0.858593</td>\n",
       "    </tr>\n",
       "    <tr>\n",
       "      <td>4500</td>\n",
       "      <td>0.053200</td>\n",
       "      <td>0.083929</td>\n",
       "      <td>0.897945</td>\n",
       "      <td>0.905841</td>\n",
       "      <td>0.763933</td>\n",
       "      <td>0.903098</td>\n",
       "      <td>0.877537</td>\n",
       "    </tr>\n",
       "    <tr>\n",
       "      <td>5000</td>\n",
       "      <td>0.036100</td>\n",
       "      <td>0.083146</td>\n",
       "      <td>0.900730</td>\n",
       "      <td>0.911254</td>\n",
       "      <td>0.779051</td>\n",
       "      <td>0.904467</td>\n",
       "      <td>0.876861</td>\n",
       "    </tr>\n",
       "    <tr>\n",
       "      <td>5500</td>\n",
       "      <td>0.036900</td>\n",
       "      <td>0.083306</td>\n",
       "      <td>0.901773</td>\n",
       "      <td>0.909405</td>\n",
       "      <td>0.787956</td>\n",
       "      <td>0.903058</td>\n",
       "      <td>0.877537</td>\n",
       "    </tr>\n",
       "    <tr>\n",
       "      <td>6000</td>\n",
       "      <td>0.039200</td>\n",
       "      <td>0.082591</td>\n",
       "      <td>0.906237</td>\n",
       "      <td>0.910803</td>\n",
       "      <td>0.817968</td>\n",
       "      <td>0.908136</td>\n",
       "      <td>0.882273</td>\n",
       "    </tr>\n",
       "    <tr>\n",
       "      <td>6500</td>\n",
       "      <td>0.027000</td>\n",
       "      <td>0.076866</td>\n",
       "      <td>0.911162</td>\n",
       "      <td>0.915494</td>\n",
       "      <td>0.818378</td>\n",
       "      <td>0.912120</td>\n",
       "      <td>0.886333</td>\n",
       "    </tr>\n",
       "    <tr>\n",
       "      <td>7000</td>\n",
       "      <td>0.025100</td>\n",
       "      <td>0.086816</td>\n",
       "      <td>0.899631</td>\n",
       "      <td>0.906067</td>\n",
       "      <td>0.769329</td>\n",
       "      <td>0.901821</td>\n",
       "      <td>0.871448</td>\n",
       "    </tr>\n",
       "    <tr>\n",
       "      <td>7500</td>\n",
       "      <td>0.025500</td>\n",
       "      <td>0.086729</td>\n",
       "      <td>0.908254</td>\n",
       "      <td>0.914750</td>\n",
       "      <td>0.804775</td>\n",
       "      <td>0.911533</td>\n",
       "      <td>0.887009</td>\n",
       "    </tr>\n",
       "    <tr>\n",
       "      <td>8000</td>\n",
       "      <td>0.021200</td>\n",
       "      <td>0.083432</td>\n",
       "      <td>0.910037</td>\n",
       "      <td>0.916148</td>\n",
       "      <td>0.820887</td>\n",
       "      <td>0.911582</td>\n",
       "      <td>0.884980</td>\n",
       "    </tr>\n",
       "  </tbody>\n",
       "</table><p>"
      ],
      "text/plain": [
       "<IPython.core.display.HTML object>"
      ]
     },
     "metadata": {},
     "output_type": "display_data"
    },
    {
     "data": {
      "text/html": [],
      "text/plain": [
       "<IPython.core.display.HTML object>"
      ]
     },
     "metadata": {},
     "output_type": "display_data"
    },
    {
     "name": "stdout",
     "output_type": "stream",
     "text": [
      "Example sentence: We believe that this will be useful for other languages too.\n",
      "\n",
      "tensor([[0.0439, 0.0110, 0.0207, 0.5026, 0.4139, 0.0075, 0.0104, 0.0146]],\n",
      "       device='cuda:0')\n"
     ]
    },
    {
     "name": "stderr",
     "output_type": "stream",
     "text": [
      "/tmp/ipykernel_1006793/2758355497.py:93: UserWarning: To copy construct from a tensor, it is recommended to use sourceTensor.clone().detach() or sourceTensor.clone().detach().requires_grad_(True), rather than torch.tensor(sourceTensor).\n",
      "  probas = torch.nn.Sigmoid()(torch.tensor(logits))\n"
     ]
    }
   ],
   "source": [
    "with open(\"results/BERT.pkl\", \"rb\") as f:\n",
    "    results = pickle.load(f)\n",
    "\n",
    "for model_family in input_data_per_model_family.keys():\n",
    "    if model_family not in results.keys():\n",
    "        results[model_family] = {}\n",
    "        \n",
    "    for input_type in  input_data_per_model_family[model_family].keys():\n",
    "\n",
    "        os.environ['CUDA_LAUNCH_BLOCKING'] = '1'\n",
    "\n",
    "        # skip models already trained (until the end)\n",
    "        if input_type in results[model_family].keys():\n",
    "            continue\n",
    "\n",
    "        # load the model to be fine-tuned\n",
    "        model_name = f\"{model_family}_{input_type}\"\n",
    "        model = AutoModelForSequenceClassification.from_pretrained(CHECKPOINTS[model_family],\n",
    "                                                          num_labels = len(LABELS),\n",
    "                                                          problem_type = \"multi_label_classification\")\n",
    "\n",
    "        # load the tokenizer\n",
    "        tokenizer = AutoTokenizer.from_pretrained(CHECKPOINTS[model_family])\n",
    "        # add new special token separator for section\n",
    "        special_tokens_dict = {'additional_special_tokens': ['[SEC]']}\n",
    "        num_added_toks = tokenizer.add_special_tokens(special_tokens_dict)\n",
    "        # resize model embeddings\n",
    "        model.resize_token_embeddings(len(tokenizer))\n",
    "\n",
    "        # datasets\n",
    "        train_ds = input_data_per_model_family[model_family][input_type][\"train\"]\n",
    "        eval_ds = input_data_per_model_family[model_family][input_type][\"eval\"]\n",
    "        test_ds = input_data_per_model_family[model_family][input_type][\"test\"]\n",
    "\n",
    "        # safety check: does model inference work correctly ?\n",
    "        print(f\"Successfully loaded model {model_name} !\\n Small example :\\n\")\n",
    "        ex_sent = \"We believe that this will be useful for other languages too.\"\n",
    "        print(f\"Example sentence: {ex_sent}\\n\")\n",
    "        inputs = tokenizer(ex_sent, return_tensors=\"pt\")\n",
    "        logits = model(**inputs).logits\n",
    "        probas = torch.nn.Sigmoid()(logits.squeeze().cuda())\n",
    "        print(probas)\n",
    "\n",
    "        # define the training arguments\n",
    "        training_args = TrainingArguments(\n",
    "            output_dir=f\"models/NEW/{model_name}\",\n",
    "            push_to_hub = True,\n",
    "            num_train_epochs= 15,\n",
    "            per_device_train_batch_size=8,\n",
    "            per_device_eval_batch_size=8,\n",
    "            weight_decay=0.1,\n",
    "            learning_rate = 1e-5,\n",
    "            logging_dir=\"./logs\",\n",
    "            eval_strategy=\"steps\",\n",
    "            eval_steps = 500,\n",
    "            save_strategy = \"steps\",\n",
    "            save_steps = 500,\n",
    "            logging_steps = 500,\n",
    "            save_total_limit = 2,\n",
    "            load_best_model_at_end = True,\n",
    "            metric_for_best_model = \"f1_weighted\",\n",
    "        )\n",
    "\n",
    "        # define the Trainer\n",
    "        trainer = Trainer(\n",
    "            model=model,\n",
    "            args=training_args,\n",
    "            train_dataset=train_ds,\n",
    "            eval_dataset=eval_ds,\n",
    "            compute_metrics = compute_metrics,\n",
    "            callbacks = [EarlyStoppingCallback(early_stopping_patience = 3)] # stop when the performance degrades for 3 consecutive eval steps\n",
    "        )\n",
    "\n",
    "        # let the model run on the GPU\n",
    "        model = model.to(device)\n",
    "\n",
    "        # train\n",
    "        try:\n",
    "            trainer.train(resume_from_checkpoint = True) # in case of an interrupted training\n",
    "        except:\n",
    "            trainer.train()\n",
    "            \n",
    "        trainer.evaluate()\n",
    "\n",
    "        # push to hub\n",
    "        trainer.push_to_hub()\n",
    "\n",
    "        # re-run the initial example\n",
    "        ex_sent = \"We believe that this will be useful for other languages too.\"\n",
    "        print(f\"Example sentence: {ex_sent}\\n\")\n",
    "        inputs = tokenizer(ex_sent, return_tensors=\"pt\").to(device)\n",
    "        logits = model(**inputs).logits\n",
    "        probas = torch.nn.Sigmoid()(torch.tensor(logits))\n",
    "        print(probas)\n",
    "\n",
    "        # on the test set\n",
    "        logits = trainer.predict(test_ds).predictions\n",
    "        sigmoid = torch.nn.Sigmoid()\n",
    "        probas = sigmoid(torch.tensor(logits))\n",
    "        predictions = np.zeros(probas.shape)\n",
    "        predictions[np.where(probas >= 0.50)] = 1\n",
    "        gold = test_ds[\"label\"]\n",
    "        cr = classification_report(gold, predictions, target_names = LABELS, zero_division = 0, output_dict = True)\n",
    "\n",
    "        # store results\n",
    "        results[model_family][input_type] = {\n",
    "            \"log_history\" : trainer.state.log_history,\n",
    "            \"classification_report\": cr,\n",
    "        }\n",
    "\n",
    "        with open(\"results/BERT.pkl\", \"wb\") as f:\n",
    "            pickle.dump(results, f)"
   ]
  },
  {
   "cell_type": "code",
   "execution_count": 14,
   "id": "cc57a11a-ed45-4dcf-ad02-933f6e3a1382",
   "metadata": {},
   "outputs": [
    {
     "name": "stdout",
     "output_type": "stream",
     "text": [
      "12.1\n",
      "8902\n",
      "True\n"
     ]
    }
   ],
   "source": [
    "import torch\n",
    "print(torch.version.cuda)\n",
    "print(torch.backends.cudnn.version())\n",
    "print(torch.cuda.is_available())\n"
   ]
  },
  {
   "cell_type": "markdown",
   "id": "5e3baaab-1f2a-4fb3-b008-890e3aa90573",
   "metadata": {},
   "source": [
    "## Inference: store predictions"
   ]
  },
  {
   "cell_type": "code",
   "execution_count": 24,
   "id": "116faae5-3a06-407a-817c-3a69f85b7f89",
   "metadata": {
    "scrolled": true
   },
   "outputs": [
    {
     "data": {
      "application/vnd.jupyter.widget-view+json": {
       "model_id": "8e90da2c0ee2405a92ec33a3eaf0bed8",
       "version_major": 2,
       "version_minor": 0
      },
      "text/plain": [
       "config.json:   0%|          | 0.00/1.09k [00:00<?, ?B/s]"
      ]
     },
     "metadata": {},
     "output_type": "display_data"
    },
    {
     "data": {
      "application/vnd.jupyter.widget-view+json": {
       "model_id": "e3b9c3ed8ef8462bb922e9ceb0611929",
       "version_major": 2,
       "version_minor": 0
      },
      "text/plain": [
       "model.safetensors:   0%|          | 0.00/499M [00:00<?, ?B/s]"
      ]
     },
     "metadata": {},
     "output_type": "display_data"
    },
    {
     "name": "stderr",
     "output_type": "stream",
     "text": [
      "huggingface/tokenizers: The current process just got forked, after parallelism has already been used. Disabling parallelism to avoid deadlocks...\n",
      "To disable this warning, you can either:\n",
      "\t- Avoid using `tokenizers` before the fork if possible\n",
      "\t- Explicitly set the environment variable TOKENIZERS_PARALLELISM=(true | false)\n"
     ]
    },
    {
     "data": {
      "text/html": [],
      "text/plain": [
       "<IPython.core.display.HTML object>"
      ]
     },
     "metadata": {},
     "output_type": "display_data"
    },
    {
     "data": {
      "application/vnd.jupyter.widget-view+json": {
       "model_id": "d7e77feac6cf458b81ae0ee13e29a05d",
       "version_major": 2,
       "version_minor": 0
      },
      "text/plain": [
       "config.json:   0%|          | 0.00/1.09k [00:00<?, ?B/s]"
      ]
     },
     "metadata": {},
     "output_type": "display_data"
    },
    {
     "data": {
      "application/vnd.jupyter.widget-view+json": {
       "model_id": "5b87738b07a5463d97ff440691762d80",
       "version_major": 2,
       "version_minor": 0
      },
      "text/plain": [
       "model.safetensors:   0%|          | 0.00/499M [00:00<?, ?B/s]"
      ]
     },
     "metadata": {},
     "output_type": "display_data"
    },
    {
     "name": "stderr",
     "output_type": "stream",
     "text": [
      "huggingface/tokenizers: The current process just got forked, after parallelism has already been used. Disabling parallelism to avoid deadlocks...\n",
      "To disable this warning, you can either:\n",
      "\t- Avoid using `tokenizers` before the fork if possible\n",
      "\t- Explicitly set the environment variable TOKENIZERS_PARALLELISM=(true | false)\n"
     ]
    },
    {
     "data": {
      "text/html": [],
      "text/plain": [
       "<IPython.core.display.HTML object>"
      ]
     },
     "metadata": {},
     "output_type": "display_data"
    },
    {
     "data": {
      "application/vnd.jupyter.widget-view+json": {
       "model_id": "11eca3b804c34a7292e9ebe61cc2e393",
       "version_major": 2,
       "version_minor": 0
      },
      "text/plain": [
       "config.json:   0%|          | 0.00/1.09k [00:00<?, ?B/s]"
      ]
     },
     "metadata": {},
     "output_type": "display_data"
    },
    {
     "data": {
      "application/vnd.jupyter.widget-view+json": {
       "model_id": "989fb07c2c2d4ce5b5059b6dca4ea994",
       "version_major": 2,
       "version_minor": 0
      },
      "text/plain": [
       "model.safetensors:   0%|          | 0.00/499M [00:00<?, ?B/s]"
      ]
     },
     "metadata": {},
     "output_type": "display_data"
    },
    {
     "name": "stderr",
     "output_type": "stream",
     "text": [
      "huggingface/tokenizers: The current process just got forked, after parallelism has already been used. Disabling parallelism to avoid deadlocks...\n",
      "To disable this warning, you can either:\n",
      "\t- Avoid using `tokenizers` before the fork if possible\n",
      "\t- Explicitly set the environment variable TOKENIZERS_PARALLELISM=(true | false)\n"
     ]
    },
    {
     "data": {
      "text/html": [],
      "text/plain": [
       "<IPython.core.display.HTML object>"
      ]
     },
     "metadata": {},
     "output_type": "display_data"
    },
    {
     "data": {
      "application/vnd.jupyter.widget-view+json": {
       "model_id": "04c82159e18747d4a850c2c0223e37ce",
       "version_major": 2,
       "version_minor": 0
      },
      "text/plain": [
       "config.json:   0%|          | 0.00/1.27k [00:00<?, ?B/s]"
      ]
     },
     "metadata": {},
     "output_type": "display_data"
    },
    {
     "data": {
      "application/vnd.jupyter.widget-view+json": {
       "model_id": "8d761fcd294c4b99afb550c29b122913",
       "version_major": 2,
       "version_minor": 0
      },
      "text/plain": [
       "model.safetensors:   0%|          | 0.00/737M [00:00<?, ?B/s]"
      ]
     },
     "metadata": {},
     "output_type": "display_data"
    },
    {
     "name": "stderr",
     "output_type": "stream",
     "text": [
      "/home/clbleuze/myenv/lib/python3.9/site-packages/transformers/convert_slow_tokenizer.py:560: UserWarning: The sentencepiece tokenizer that you are converting to a fast tokenizer uses the byte fallback option which is not implemented in the fast tokenizers. In practice this means that the fast version of the tokenizer can produce unknown tokens whereas the sentencepiece version would have converted these unknown tokens into a sequence of byte tokens matching the original piece of text.\n",
      "  warnings.warn(\n",
      "huggingface/tokenizers: The current process just got forked, after parallelism has already been used. Disabling parallelism to avoid deadlocks...\n",
      "To disable this warning, you can either:\n",
      "\t- Avoid using `tokenizers` before the fork if possible\n",
      "\t- Explicitly set the environment variable TOKENIZERS_PARALLELISM=(true | false)\n"
     ]
    },
    {
     "data": {
      "text/html": [],
      "text/plain": [
       "<IPython.core.display.HTML object>"
      ]
     },
     "metadata": {},
     "output_type": "display_data"
    },
    {
     "data": {
      "application/vnd.jupyter.widget-view+json": {
       "model_id": "ad68fd3a9371446692693864854b1942",
       "version_major": 2,
       "version_minor": 0
      },
      "text/plain": [
       "config.json:   0%|          | 0.00/1.27k [00:00<?, ?B/s]"
      ]
     },
     "metadata": {},
     "output_type": "display_data"
    },
    {
     "data": {
      "application/vnd.jupyter.widget-view+json": {
       "model_id": "75efad5a47ed434a9f4e8c5dcffc0ff1",
       "version_major": 2,
       "version_minor": 0
      },
      "text/plain": [
       "model.safetensors:   0%|          | 0.00/737M [00:00<?, ?B/s]"
      ]
     },
     "metadata": {},
     "output_type": "display_data"
    },
    {
     "name": "stderr",
     "output_type": "stream",
     "text": [
      "/home/clbleuze/myenv/lib/python3.9/site-packages/transformers/convert_slow_tokenizer.py:560: UserWarning: The sentencepiece tokenizer that you are converting to a fast tokenizer uses the byte fallback option which is not implemented in the fast tokenizers. In practice this means that the fast version of the tokenizer can produce unknown tokens whereas the sentencepiece version would have converted these unknown tokens into a sequence of byte tokens matching the original piece of text.\n",
      "  warnings.warn(\n",
      "huggingface/tokenizers: The current process just got forked, after parallelism has already been used. Disabling parallelism to avoid deadlocks...\n",
      "To disable this warning, you can either:\n",
      "\t- Avoid using `tokenizers` before the fork if possible\n",
      "\t- Explicitly set the environment variable TOKENIZERS_PARALLELISM=(true | false)\n"
     ]
    },
    {
     "data": {
      "text/html": [],
      "text/plain": [
       "<IPython.core.display.HTML object>"
      ]
     },
     "metadata": {},
     "output_type": "display_data"
    },
    {
     "data": {
      "application/vnd.jupyter.widget-view+json": {
       "model_id": "2bf9169ed0b342ad9accb800eafda8fd",
       "version_major": 2,
       "version_minor": 0
      },
      "text/plain": [
       "config.json:   0%|          | 0.00/1.27k [00:00<?, ?B/s]"
      ]
     },
     "metadata": {},
     "output_type": "display_data"
    },
    {
     "data": {
      "application/vnd.jupyter.widget-view+json": {
       "model_id": "7d21931376d54842b13cc28e97412805",
       "version_major": 2,
       "version_minor": 0
      },
      "text/plain": [
       "model.safetensors:   0%|          | 0.00/737M [00:00<?, ?B/s]"
      ]
     },
     "metadata": {},
     "output_type": "display_data"
    },
    {
     "name": "stderr",
     "output_type": "stream",
     "text": [
      "/home/clbleuze/myenv/lib/python3.9/site-packages/transformers/convert_slow_tokenizer.py:560: UserWarning: The sentencepiece tokenizer that you are converting to a fast tokenizer uses the byte fallback option which is not implemented in the fast tokenizers. In practice this means that the fast version of the tokenizer can produce unknown tokens whereas the sentencepiece version would have converted these unknown tokens into a sequence of byte tokens matching the original piece of text.\n",
      "  warnings.warn(\n",
      "huggingface/tokenizers: The current process just got forked, after parallelism has already been used. Disabling parallelism to avoid deadlocks...\n",
      "To disable this warning, you can either:\n",
      "\t- Avoid using `tokenizers` before the fork if possible\n",
      "\t- Explicitly set the environment variable TOKENIZERS_PARALLELISM=(true | false)\n"
     ]
    },
    {
     "data": {
      "text/html": [],
      "text/plain": [
       "<IPython.core.display.HTML object>"
      ]
     },
     "metadata": {},
     "output_type": "display_data"
    },
    {
     "data": {
      "application/vnd.jupyter.widget-view+json": {
       "model_id": "953b76d825154fe4b55b3d648e9a4e8d",
       "version_major": 2,
       "version_minor": 0
      },
      "text/plain": [
       "config.json:   0%|          | 0.00/1.05k [00:00<?, ?B/s]"
      ]
     },
     "metadata": {},
     "output_type": "display_data"
    },
    {
     "data": {
      "application/vnd.jupyter.widget-view+json": {
       "model_id": "db4e332a2cd0455c90e89ecb70fc8a0c",
       "version_major": 2,
       "version_minor": 0
      },
      "text/plain": [
       "model.safetensors:   0%|          | 0.00/440M [00:00<?, ?B/s]"
      ]
     },
     "metadata": {},
     "output_type": "display_data"
    },
    {
     "name": "stderr",
     "output_type": "stream",
     "text": [
      "/home/clbleuze/myenv/lib/python3.9/site-packages/huggingface_hub/file_download.py:1132: FutureWarning: `resume_download` is deprecated and will be removed in version 1.0.0. Downloads always resume when possible. If you want to force a new download, use `force_download=True`.\n",
      "  warnings.warn(\n",
      "huggingface/tokenizers: The current process just got forked, after parallelism has already been used. Disabling parallelism to avoid deadlocks...\n",
      "To disable this warning, you can either:\n",
      "\t- Avoid using `tokenizers` before the fork if possible\n",
      "\t- Explicitly set the environment variable TOKENIZERS_PARALLELISM=(true | false)\n"
     ]
    },
    {
     "data": {
      "text/html": [],
      "text/plain": [
       "<IPython.core.display.HTML object>"
      ]
     },
     "metadata": {},
     "output_type": "display_data"
    },
    {
     "data": {
      "application/vnd.jupyter.widget-view+json": {
       "model_id": "5178decb62af4403b51794b403f23fd5",
       "version_major": 2,
       "version_minor": 0
      },
      "text/plain": [
       "config.json:   0%|          | 0.00/1.05k [00:00<?, ?B/s]"
      ]
     },
     "metadata": {},
     "output_type": "display_data"
    },
    {
     "data": {
      "application/vnd.jupyter.widget-view+json": {
       "model_id": "1289c3f4d6f045b0948e76589f5dc495",
       "version_major": 2,
       "version_minor": 0
      },
      "text/plain": [
       "model.safetensors:   0%|          | 0.00/440M [00:00<?, ?B/s]"
      ]
     },
     "metadata": {},
     "output_type": "display_data"
    },
    {
     "name": "stderr",
     "output_type": "stream",
     "text": [
      "/home/clbleuze/myenv/lib/python3.9/site-packages/huggingface_hub/file_download.py:1132: FutureWarning: `resume_download` is deprecated and will be removed in version 1.0.0. Downloads always resume when possible. If you want to force a new download, use `force_download=True`.\n",
      "  warnings.warn(\n",
      "huggingface/tokenizers: The current process just got forked, after parallelism has already been used. Disabling parallelism to avoid deadlocks...\n",
      "To disable this warning, you can either:\n",
      "\t- Avoid using `tokenizers` before the fork if possible\n",
      "\t- Explicitly set the environment variable TOKENIZERS_PARALLELISM=(true | false)\n"
     ]
    },
    {
     "data": {
      "text/html": [],
      "text/plain": [
       "<IPython.core.display.HTML object>"
      ]
     },
     "metadata": {},
     "output_type": "display_data"
    },
    {
     "data": {
      "application/vnd.jupyter.widget-view+json": {
       "model_id": "aca68f22721347a1b4bf14518ee6725a",
       "version_major": 2,
       "version_minor": 0
      },
      "text/plain": [
       "config.json:   0%|          | 0.00/1.05k [00:00<?, ?B/s]"
      ]
     },
     "metadata": {},
     "output_type": "display_data"
    },
    {
     "data": {
      "application/vnd.jupyter.widget-view+json": {
       "model_id": "2182afa9e22a4e5d93680555e91011fc",
       "version_major": 2,
       "version_minor": 0
      },
      "text/plain": [
       "model.safetensors:   0%|          | 0.00/440M [00:00<?, ?B/s]"
      ]
     },
     "metadata": {},
     "output_type": "display_data"
    },
    {
     "name": "stderr",
     "output_type": "stream",
     "text": [
      "/home/clbleuze/myenv/lib/python3.9/site-packages/huggingface_hub/file_download.py:1132: FutureWarning: `resume_download` is deprecated and will be removed in version 1.0.0. Downloads always resume when possible. If you want to force a new download, use `force_download=True`.\n",
      "  warnings.warn(\n",
      "huggingface/tokenizers: The current process just got forked, after parallelism has already been used. Disabling parallelism to avoid deadlocks...\n",
      "To disable this warning, you can either:\n",
      "\t- Avoid using `tokenizers` before the fork if possible\n",
      "\t- Explicitly set the environment variable TOKENIZERS_PARALLELISM=(true | false)\n"
     ]
    },
    {
     "data": {
      "text/html": [],
      "text/plain": [
       "<IPython.core.display.HTML object>"
      ]
     },
     "metadata": {},
     "output_type": "display_data"
    }
   ],
   "source": [
    "# inf = {}\n",
    "# hf_prefix = \"ClementineBleuze\"\n",
    "\n",
    "# for model_family in results.keys():\n",
    "#     inf[model_family] = {}\n",
    "    \n",
    "#     for input_type in results[model_family].keys():\n",
    "        \n",
    "#         # load the model to be fine-tuned\n",
    "#         model_name = f\"{hf_prefix}/{model_family}_{input_type}\"\n",
    "#         model = AutoModelForSequenceClassification.from_pretrained(model_name,\n",
    "#                                                           num_labels = len(LABELS),\n",
    "#                                                           problem_type = \"multi_label_classification\")\n",
    "\n",
    "#         # load the tokenizer\n",
    "#         tokenizer = AutoTokenizer.from_pretrained(CHECKPOINTS[model_family])\n",
    "#         # add new special token separator for section\n",
    "#         special_tokens_dict = {'additional_special_tokens': ['[SEC]']}\n",
    "#         num_added_toks = tokenizer.add_special_tokens(special_tokens_dict)\n",
    "#         # resize model embeddings\n",
    "#         model.resize_token_embeddings(len(tokenizer))\n",
    "\n",
    "#         # load test data\n",
    "#         test_ds = input_data_per_model_family[model_family][input_type][\"test\"]\n",
    "\n",
    "#         # create a trainer \n",
    "#         args = TrainingArguments(output_dir = \"results\", per_device_eval_batch_size = 8)\n",
    "#         trainer = Trainer(model = model, args = args)\n",
    "\n",
    "#         # on the test set\n",
    "#         logits = trainer.predict(test_ds).predictions\n",
    "#         sigmoid = torch.nn.Sigmoid()\n",
    "#         probas = sigmoid(torch.tensor(logits))\n",
    "#         predictions = np.zeros(probas.shape)\n",
    "#         predictions[np.where(probas >= 0.50)] = 1\n",
    "#         gold = test_ds[\"label\"]\n",
    "#         cr = classification_report(gold, predictions, target_names = LABELS, zero_division = 0, output_dict = True)\n",
    "\n",
    "#         # store results\n",
    "#         inf[model_family][input_type] = {\n",
    "#             \"classification_report\": cr,\n",
    "#             \"logits\": logits,\n",
    "#             \"predictions\": predictions,\n",
    "#         }\n",
    "        \n",
    "    "
   ]
  },
  {
   "cell_type": "code",
   "execution_count": 26,
   "id": "f17de219-981b-47ef-a52f-49523f990b0d",
   "metadata": {},
   "outputs": [
    {
     "data": {
      "text/html": [
       "<div>\n",
       "<style scoped>\n",
       "    .dataframe tbody tr th:only-of-type {\n",
       "        vertical-align: middle;\n",
       "    }\n",
       "\n",
       "    .dataframe tbody tr th {\n",
       "        vertical-align: top;\n",
       "    }\n",
       "\n",
       "    .dataframe thead th {\n",
       "        text-align: right;\n",
       "    }\n",
       "</style>\n",
       "<table border=\"1\" class=\"dataframe\">\n",
       "  <thead>\n",
       "    <tr style=\"text-align: right;\">\n",
       "      <th></th>\n",
       "      <th>context-AIC</th>\n",
       "      <th>contribution-AIC</th>\n",
       "      <th>result</th>\n",
       "      <th>impact</th>\n",
       "      <th>directions</th>\n",
       "      <th>limitation</th>\n",
       "      <th>outline-AIC</th>\n",
       "      <th>nc</th>\n",
       "      <th>micro_avg</th>\n",
       "      <th>macro_avg</th>\n",
       "      <th>weighted_avg</th>\n",
       "      <th>samples_avg</th>\n",
       "    </tr>\n",
       "  </thead>\n",
       "  <tbody>\n",
       "    <tr>\n",
       "      <th>scibert+prefix_cont_ll_SEP</th>\n",
       "      <td>0.929204</td>\n",
       "      <td>0.868852</td>\n",
       "      <td>0.862629</td>\n",
       "      <td>0.516129</td>\n",
       "      <td>0.820000</td>\n",
       "      <td>0.525253</td>\n",
       "      <td>0.880000</td>\n",
       "      <td>0.950666</td>\n",
       "      <td>0.894378</td>\n",
       "      <td>0.794092</td>\n",
       "      <td>0.892190</td>\n",
       "      <td>0.899910</td>\n",
       "    </tr>\n",
       "    <tr>\n",
       "      <th>deberta+prefix_cont_ll_SEP</th>\n",
       "      <td>0.916100</td>\n",
       "      <td>0.856423</td>\n",
       "      <td>0.870091</td>\n",
       "      <td>0.454545</td>\n",
       "      <td>0.813953</td>\n",
       "      <td>0.607843</td>\n",
       "      <td>0.904110</td>\n",
       "      <td>0.944488</td>\n",
       "      <td>0.893534</td>\n",
       "      <td>0.795944</td>\n",
       "      <td>0.890773</td>\n",
       "      <td>0.897664</td>\n",
       "    </tr>\n",
       "    <tr>\n",
       "      <th>scibert+prefix_cont_lr_SEP</th>\n",
       "      <td>0.924779</td>\n",
       "      <td>0.855586</td>\n",
       "      <td>0.867540</td>\n",
       "      <td>0.500000</td>\n",
       "      <td>0.804124</td>\n",
       "      <td>0.536082</td>\n",
       "      <td>0.849315</td>\n",
       "      <td>0.942474</td>\n",
       "      <td>0.890268</td>\n",
       "      <td>0.784988</td>\n",
       "      <td>0.886667</td>\n",
       "      <td>0.894991</td>\n",
       "    </tr>\n",
       "    <tr>\n",
       "      <th>roberta+prefix_cont_lr_SEP</th>\n",
       "      <td>0.889371</td>\n",
       "      <td>0.867403</td>\n",
       "      <td>0.864629</td>\n",
       "      <td>0.370370</td>\n",
       "      <td>0.784314</td>\n",
       "      <td>0.584906</td>\n",
       "      <td>0.873239</td>\n",
       "      <td>0.938547</td>\n",
       "      <td>0.882372</td>\n",
       "      <td>0.771597</td>\n",
       "      <td>0.881345</td>\n",
       "      <td>0.887264</td>\n",
       "    </tr>\n",
       "    <tr>\n",
       "      <th>deberta+prefix_cont_lr_SEP</th>\n",
       "      <td>0.904656</td>\n",
       "      <td>0.847716</td>\n",
       "      <td>0.846377</td>\n",
       "      <td>0.416667</td>\n",
       "      <td>0.808989</td>\n",
       "      <td>0.533333</td>\n",
       "      <td>0.838710</td>\n",
       "      <td>0.938095</td>\n",
       "      <td>0.877398</td>\n",
       "      <td>0.766818</td>\n",
       "      <td>0.875370</td>\n",
       "      <td>0.882727</td>\n",
       "    </tr>\n",
       "    <tr>\n",
       "      <th>roberta+prefix_cont_ll_SEP</th>\n",
       "      <td>0.894977</td>\n",
       "      <td>0.838046</td>\n",
       "      <td>0.853293</td>\n",
       "      <td>0.538462</td>\n",
       "      <td>0.764045</td>\n",
       "      <td>0.505051</td>\n",
       "      <td>0.852941</td>\n",
       "      <td>0.934066</td>\n",
       "      <td>0.874467</td>\n",
       "      <td>0.772610</td>\n",
       "      <td>0.871701</td>\n",
       "      <td>0.877246</td>\n",
       "    </tr>\n",
       "    <tr>\n",
       "      <th>scibert+prefix_SEP</th>\n",
       "      <td>0.857143</td>\n",
       "      <td>0.802168</td>\n",
       "      <td>0.799414</td>\n",
       "      <td>0.538462</td>\n",
       "      <td>0.731183</td>\n",
       "      <td>0.438095</td>\n",
       "      <td>0.805556</td>\n",
       "      <td>0.920660</td>\n",
       "      <td>0.841968</td>\n",
       "      <td>0.736585</td>\n",
       "      <td>0.839859</td>\n",
       "      <td>0.846473</td>\n",
       "    </tr>\n",
       "    <tr>\n",
       "      <th>roberta+prefix_SEP</th>\n",
       "      <td>0.841649</td>\n",
       "      <td>0.788406</td>\n",
       "      <td>0.802309</td>\n",
       "      <td>0.300000</td>\n",
       "      <td>0.696629</td>\n",
       "      <td>0.464646</td>\n",
       "      <td>0.818182</td>\n",
       "      <td>0.905929</td>\n",
       "      <td>0.832785</td>\n",
       "      <td>0.702219</td>\n",
       "      <td>0.828413</td>\n",
       "      <td>0.833109</td>\n",
       "    </tr>\n",
       "    <tr>\n",
       "      <th>deberta+prefix_SEP</th>\n",
       "      <td>0.820628</td>\n",
       "      <td>0.768844</td>\n",
       "      <td>0.816388</td>\n",
       "      <td>0.000000</td>\n",
       "      <td>0.722892</td>\n",
       "      <td>0.357895</td>\n",
       "      <td>0.848485</td>\n",
       "      <td>0.915094</td>\n",
       "      <td>0.831905</td>\n",
       "      <td>0.656278</td>\n",
       "      <td>0.824542</td>\n",
       "      <td>0.829268</td>\n",
       "    </tr>\n",
       "  </tbody>\n",
       "</table>\n",
       "</div>"
      ],
      "text/plain": [
       "                            context-AIC  contribution-AIC    result    impact  \\\n",
       "scibert+prefix_cont_ll_SEP     0.929204          0.868852  0.862629  0.516129   \n",
       "deberta+prefix_cont_ll_SEP     0.916100          0.856423  0.870091  0.454545   \n",
       "scibert+prefix_cont_lr_SEP     0.924779          0.855586  0.867540  0.500000   \n",
       "roberta+prefix_cont_lr_SEP     0.889371          0.867403  0.864629  0.370370   \n",
       "deberta+prefix_cont_lr_SEP     0.904656          0.847716  0.846377  0.416667   \n",
       "roberta+prefix_cont_ll_SEP     0.894977          0.838046  0.853293  0.538462   \n",
       "scibert+prefix_SEP             0.857143          0.802168  0.799414  0.538462   \n",
       "roberta+prefix_SEP             0.841649          0.788406  0.802309  0.300000   \n",
       "deberta+prefix_SEP             0.820628          0.768844  0.816388  0.000000   \n",
       "\n",
       "                            directions  limitation  outline-AIC        nc  \\\n",
       "scibert+prefix_cont_ll_SEP    0.820000    0.525253     0.880000  0.950666   \n",
       "deberta+prefix_cont_ll_SEP    0.813953    0.607843     0.904110  0.944488   \n",
       "scibert+prefix_cont_lr_SEP    0.804124    0.536082     0.849315  0.942474   \n",
       "roberta+prefix_cont_lr_SEP    0.784314    0.584906     0.873239  0.938547   \n",
       "deberta+prefix_cont_lr_SEP    0.808989    0.533333     0.838710  0.938095   \n",
       "roberta+prefix_cont_ll_SEP    0.764045    0.505051     0.852941  0.934066   \n",
       "scibert+prefix_SEP            0.731183    0.438095     0.805556  0.920660   \n",
       "roberta+prefix_SEP            0.696629    0.464646     0.818182  0.905929   \n",
       "deberta+prefix_SEP            0.722892    0.357895     0.848485  0.915094   \n",
       "\n",
       "                            micro_avg  macro_avg  weighted_avg  samples_avg  \n",
       "scibert+prefix_cont_ll_SEP   0.894378   0.794092      0.892190     0.899910  \n",
       "deberta+prefix_cont_ll_SEP   0.893534   0.795944      0.890773     0.897664  \n",
       "scibert+prefix_cont_lr_SEP   0.890268   0.784988      0.886667     0.894991  \n",
       "roberta+prefix_cont_lr_SEP   0.882372   0.771597      0.881345     0.887264  \n",
       "deberta+prefix_cont_lr_SEP   0.877398   0.766818      0.875370     0.882727  \n",
       "roberta+prefix_cont_ll_SEP   0.874467   0.772610      0.871701     0.877246  \n",
       "scibert+prefix_SEP           0.841968   0.736585      0.839859     0.846473  \n",
       "roberta+prefix_SEP           0.832785   0.702219      0.828413     0.833109  \n",
       "deberta+prefix_SEP           0.831905   0.656278      0.824542     0.829268  "
      ]
     },
     "execution_count": 26,
     "metadata": {},
     "output_type": "execute_result"
    }
   ],
   "source": [
    "# model2wf1 = {}\n",
    "# for model_type in inf.keys():\n",
    "#     for input_type in inf[model_type].keys():\n",
    "#         model_name = f\"{model_type}+{input_type}\"\n",
    "#         f1scores = {}\n",
    "#         for i, l in enumerate(LABELS):\n",
    "#             f1scores[LABELS[i]] = inf[model_type][input_type][\"classification_report\"][l][\"f1-score\"]\n",
    "#         for score in inf[model_type][input_type][\"classification_report\"].keys():\n",
    "#             if \"avg\" in score: \n",
    "#                 score_name = \"_\".join(score.split())\n",
    "#                 f1scores[score_name] = inf[model_type][input_type][\"classification_report\"][score][\"f1-score\"]\n",
    "#         model2wf1[model_name] = f1scores\n",
    "\n",
    "# df = pd.DataFrame(model2wf1).transpose()\n",
    "# df.sort_values(by = \"weighted_avg\", ascending = False)"
   ]
  },
  {
   "cell_type": "code",
   "execution_count": 32,
   "id": "8e4c534a-0201-4e9a-8c27-9db1cf8d1042",
   "metadata": {
    "scrolled": true
   },
   "outputs": [],
   "source": [
    "# for model_family in inf.keys():\n",
    "#     for input_type in inf[model_family].keys():\n",
    "#         results[model_family][input_type][\"classification_report_with_preds\"] = inf[model_family][input_type][\"classification_report\"]\n",
    "#         results[model_family][input_type][\"logits\"] = inf[model_family][input_type][\"logits\"]\n",
    "#         results[model_family][input_type][\"predictions\"] = {\n",
    "#             \"t=0.5\" : inf[model_family][input_type][\"predictions\"],\n",
    "#         }"
   ]
  },
  {
   "cell_type": "code",
   "execution_count": 38,
   "id": "e8a9c74b-d5b3-4756-a2dc-cbfeb269246d",
   "metadata": {},
   "outputs": [],
   "source": [
    "# with open(\"results/BERT.pkl\", \"wb\") as f:\n",
    "#     pickle.dump(results, f)"
   ]
  },
  {
   "cell_type": "code",
   "execution_count": 122,
   "id": "e7e4934e-0c20-4c8f-b3e5-ce34e823081d",
   "metadata": {},
   "outputs": [],
   "source": [
    "def get_predictions_from_logits(logits, strategy = \"\", threshold = 0.5, use_sigmoid = True):\n",
    "\n",
    "    # if needed, start by applying the sigmoid function to logits, to have values between 0 and 1\n",
    "    if use_sigmoid:\n",
    "        sigmoid = torch.nn.Sigmoid()\n",
    "        probas = sigmoid(torch.tensor(logits))\n",
    "    else:\n",
    "        probas = torch.tensor(logits)\n",
    "\n",
    "    if strategy == \"argmax\":\n",
    "        predictions = np.zeros(probas.shape)\n",
    "        for i, row in enumerate(probas):\n",
    "            max_ = max(row).item()\n",
    "            predictions[i][np.where(row == max_)] = 1\n",
    "\n",
    "    elif strategy == \"constraints\":\n",
    "        predictions = np.zeros(probas.shape)\n",
    "        for i, row in enumerate(probas):\n",
    "            argmax = np.argmax(row)\n",
    "            predictions[i][argmax] = 1\n",
    "\n",
    "            if argmax != 7:\n",
    "                other_labels = [j for j in range(8) if i!= argmax and row[j] >= threshold and row[j] > row[7]]\n",
    "                predictions[i][other_labels] = 1\n",
    "\n",
    "    else:\n",
    "        predictions = np.zeros(probas.shape)\n",
    "        predictions[np.where(probas >= threshold)] = 1\n",
    "\n",
    "    return predictions\n",
    "    "
   ]
  },
  {
   "cell_type": "code",
   "execution_count": 123,
   "id": "ef0a1a98-002c-4df2-927d-6a369d06b15c",
   "metadata": {},
   "outputs": [
    {
     "data": {
      "text/plain": [
       "['Analysis[SEC]Furthermore, tasks demanding exact equality (task sent01) prove more challenging than those requiring a range (task para03), and are considerably more difficult than tasks specifying just an upper or lower bound (tasks word01, sent03, para04). [SEP]Increased difficulty with logical composition.[SEP]The incorporation of logical compositions into constraints considerably increases their difficulty.',\n",
       " 'Conclusion and Future Work[SEC]Furthermore, the joint parser achieved the best performance, an improvement of over 2.2 LAS points from the previous state-of-the-art.[SEP]We have also seen that the joint parser yields state-of-the-art in textual entailment and unbounded dependency recovery tasks, and raised the possibility that TAG can provide useful structural analysis of sentences for other NLP tasks.[SEP]We will explore more applications of our TAG parsers in future work.',\n",
       " 'Generation[SEC]The statistical model is therefore still applicable to the derived generation grammar. [SEP]Probabilities can be determined for substructures exactly as in the analysis grammar, thus retaining the effects of the rule conditions without requiring reversing and explicit testing when generating. [SEP]The derived, simplified, generation grammar, because almost all rule conditions have been discarded, will massively overgenerate.',\n",
       " 'Data of cognition transformation (Q12)[SEC]Here, the \"rank dropping\" means the ranks of previously-clicked feedbacks is dropped by volunteers after a new click occurs.[SEP]For instance, if the original order of the i-th and j-th clicked feedbacks is {i, j}, and the k-th clicked feedback is inserted into the linear order as {i, k, j}, then the rank of j-th click drops but the i-th doesn\\'t.[SEP]This test is used to inspect the obstinacy of users to believe their opinions on factualness.',\n",
       " 'Effects of Sparse Data[SEC]Figure 6 plots Equation 34 over different values of γ and p.[SEP]The range of p corresponds roughly to the range of the y-axis in Figures 4 and 5.[SEP]The figure illustrates how the power of the one-to-one assumption varies with corpus size. ']"
      ]
     },
     "execution_count": 123,
     "metadata": {},
     "output_type": "execute_result"
    }
   ],
   "source": [
    "input_data_per_model_family[\"roberta\"][\"prefix_cont_ll_SEP\"][\"test\"][\"text\"][15:20]"
   ]
  },
  {
   "cell_type": "code",
   "execution_count": 124,
   "id": "2b196d1f-7cb5-495a-8586-ce6114508980",
   "metadata": {},
   "outputs": [
    {
     "name": "stdout",
     "output_type": "stream",
     "text": [
      "[-8.700507  -6.7617826  4.97776   -8.452294  -7.900831  -3.3996882\n",
      " -8.344694  -5.757049 ]\n",
      "[-4.877341  -4.912148  -4.720849  -2.6606655  4.2404156 -3.9510045\n",
      " -5.991606  -5.9420023]\n",
      "[-8.699544  -7.1979084  1.950918  -9.026472  -8.807053  -2.548445\n",
      " -9.6226015 -2.958127 ]\n",
      "[-7.358006  -7.3440814 -6.358609  -9.528758  -8.910784  -8.505489\n",
      " -9.0073595  6.1526084]\n",
      "[ -7.478571  -7.80916   -5.271467 -10.225271  -9.844537  -9.084631\n",
      "  -9.359738   5.223785]\n"
     ]
    }
   ],
   "source": [
    "logits = results[\"deberta\"][\"prefix_cont_ll_SEP\"][\"logits\"]\n",
    "for row in logits[15:20]:\n",
    "    print(row)"
   ]
  },
  {
   "cell_type": "code",
   "execution_count": 125,
   "id": "dfe03804-ad8e-4466-8723-81d3b13bca37",
   "metadata": {},
   "outputs": [
    {
     "name": "stdout",
     "output_type": "stream",
     "text": [
      "[0. 0. 1. 0. 0. 0. 0. 0.]\n",
      "[0. 0. 0. 0. 1. 0. 0. 0.]\n",
      "[0. 0. 1. 0. 0. 0. 0. 0.]\n",
      "[0. 0. 0. 0. 0. 0. 0. 1.]\n",
      "[0. 0. 0. 0. 0. 0. 0. 1.]\n"
     ]
    }
   ],
   "source": [
    "preds = get_predictions_from_logits(logits, strategy = \"constraints\", use_sigmoid = True)\n",
    "for row in preds[15:20]:\n",
    "    print(row)"
   ]
  },
  {
   "cell_type": "code",
   "execution_count": 126,
   "id": "8a231479-376c-4544-ba55-2de500435208",
   "metadata": {},
   "outputs": [],
   "source": [
    "for model_family in results.keys():\n",
    "    for input_type in results[model_family].keys():\n",
    "        logits = results[model_family][input_type][\"logits\"]\n",
    "        preds_constraints = get_predictions_from_logits(logits, strategy = \"constraints\", use_sigmoid = True)\n",
    "\n",
    "        #load test data\n",
    "        test_ds = input_data_per_model_family[model_family][input_type][\"test\"]\n",
    "        gold = test_ds[\"label\"]\n",
    "        \n",
    "        cr_constraints = classification_report(gold, preds_constraints, target_names = LABELS, zero_division = 0, output_dict = True)\n",
    "        results[model_family][input_type][\"predictions_constraints\"] = preds_constraints\n",
    "        results[model_family][input_type][\"classification_report_constraints\"] = cr_constraints"
   ]
  },
  {
   "cell_type": "code",
   "execution_count": 130,
   "id": "6f5e4482-6479-42fd-91bd-921d86e90b03",
   "metadata": {},
   "outputs": [],
   "source": [
    "with open(\"results/BERT.pkl\", \"wb\") as f:\n",
    "    pickle.dump(results,f)"
   ]
  }
 ],
 "metadata": {
  "kernelspec": {
   "display_name": "myenv",
   "language": "python",
   "name": "myenv"
  },
  "language_info": {
   "codemirror_mode": {
    "name": "ipython",
    "version": 3
   },
   "file_extension": ".py",
   "mimetype": "text/x-python",
   "name": "python",
   "nbconvert_exporter": "python",
   "pygments_lexer": "ipython3",
   "version": "3.9.2"
  }
 },
 "nbformat": 4,
 "nbformat_minor": 5
}
