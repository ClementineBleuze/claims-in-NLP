{
 "cells": [
  {
   "cell_type": "code",
   "execution_count": 2,
   "metadata": {},
   "outputs": [],
   "source": [
    "import sys\n",
    "sys.path.insert(0, \"../\")\n",
    "from utils.ClaimDB import ClaimDB\n",
    "import pickle\n",
    "import json\n",
    "import pandas as pd"
   ]
  },
  {
   "cell_type": "markdown",
   "metadata": {},
   "source": [
    "### 1. First instanciation of `ClaimDB` : load papers from ACL and ArXiv `Corpus`"
   ]
  },
  {
   "cell_type": "code",
   "execution_count": 3,
   "metadata": {},
   "outputs": [],
   "source": [
    "# Load the ACL and arXiv corpora\n",
    "with open(\"../data/acl/corpus_ACL.pkl\", \"rb\") as f:\n",
    "    corpus_ACL = pickle.load(f)\n",
    "\n",
    "with open(\"../data/arxiv/corpus_arxiv.pkl\", \"rb\") as f:\n",
    "    corpus_arxiv = pickle.load(f)"
   ]
  },
  {
   "cell_type": "code",
   "execution_count": 4,
   "metadata": {},
   "outputs": [
    {
     "name": "stderr",
     "output_type": "stream",
     "text": [
      "100%|██████████| 60725/60725 [04:29<00:00, 225.69it/s]\n",
      "100%|██████████| 30361/30361 [03:01<00:00, 167.10it/s]\n",
      "100%|██████████| 2/2 [07:30<00:00, 225.39s/it]\n"
     ]
    }
   ],
   "source": [
    "# initialize a claim database\n",
    "cdb = ClaimDB(corpora = [corpus_ACL, corpus_arxiv], annotated_idx_path=\"../data/annotated_articles.json\")"
   ]
  },
  {
   "cell_type": "code",
   "execution_count": 5,
   "metadata": {},
   "outputs": [
    {
     "data": {
      "text/plain": [
       "(10900317, 6)"
      ]
     },
     "execution_count": 5,
     "metadata": {},
     "output_type": "execute_result"
    }
   ],
   "source": [
    "cdb.candidates.shape"
   ]
  },
  {
   "cell_type": "code",
   "execution_count": 6,
   "metadata": {},
   "outputs": [
    {
     "data": {
      "text/html": [
       "<div>\n",
       "<style scoped>\n",
       "    .dataframe tbody tr th:only-of-type {\n",
       "        vertical-align: middle;\n",
       "    }\n",
       "\n",
       "    .dataframe tbody tr th {\n",
       "        vertical-align: top;\n",
       "    }\n",
       "\n",
       "    .dataframe thead th {\n",
       "        text-align: right;\n",
       "    }\n",
       "</style>\n",
       "<table border=\"1\" class=\"dataframe\">\n",
       "  <thead>\n",
       "    <tr style=\"text-align: right;\">\n",
       "      <th></th>\n",
       "      <th>idx</th>\n",
       "      <th>corpus</th>\n",
       "      <th>paper_id</th>\n",
       "      <th>sentence_id</th>\n",
       "      <th>sentence</th>\n",
       "      <th>section</th>\n",
       "    </tr>\n",
       "  </thead>\n",
       "  <tbody>\n",
       "    <tr>\n",
       "      <th>0</th>\n",
       "      <td>0</td>\n",
       "      <td>ACL</td>\n",
       "      <td>O02-2002</td>\n",
       "      <td>0</td>\n",
       "      <td>There is a need to measure word similarity whe...</td>\n",
       "      <td>abstract</td>\n",
       "    </tr>\n",
       "    <tr>\n",
       "      <th>1</th>\n",
       "      <td>1</td>\n",
       "      <td>ACL</td>\n",
       "      <td>O02-2002</td>\n",
       "      <td>1</td>\n",
       "      <td>Usually, measures of similarity between two wo...</td>\n",
       "      <td>abstract</td>\n",
       "    </tr>\n",
       "    <tr>\n",
       "      <th>2</th>\n",
       "      <td>2</td>\n",
       "      <td>ACL</td>\n",
       "      <td>O02-2002</td>\n",
       "      <td>2</td>\n",
       "      <td>The taxonomy approaches are more or less seman...</td>\n",
       "      <td>abstract</td>\n",
       "    </tr>\n",
       "    <tr>\n",
       "      <th>3</th>\n",
       "      <td>3</td>\n",
       "      <td>ACL</td>\n",
       "      <td>O02-2002</td>\n",
       "      <td>3</td>\n",
       "      <td>However, in real applications, both semantic a...</td>\n",
       "      <td>abstract</td>\n",
       "    </tr>\n",
       "    <tr>\n",
       "      <th>4</th>\n",
       "      <td>4</td>\n",
       "      <td>ACL</td>\n",
       "      <td>O02-2002</td>\n",
       "      <td>4</td>\n",
       "      <td>Word similarity based on context vectors is a ...</td>\n",
       "      <td>abstract</td>\n",
       "    </tr>\n",
       "    <tr>\n",
       "      <th>5</th>\n",
       "      <td>5</td>\n",
       "      <td>ACL</td>\n",
       "      <td>O02-2002</td>\n",
       "      <td>5</td>\n",
       "      <td>In this paper, we propose using only syntactic...</td>\n",
       "      <td>abstract</td>\n",
       "    </tr>\n",
       "    <tr>\n",
       "      <th>6</th>\n",
       "      <td>6</td>\n",
       "      <td>ACL</td>\n",
       "      <td>O02-2002</td>\n",
       "      <td>6</td>\n",
       "      <td>The probabilistic distribution of co-occurrenc...</td>\n",
       "      <td>abstract</td>\n",
       "    </tr>\n",
       "    <tr>\n",
       "      <th>7</th>\n",
       "      <td>7</td>\n",
       "      <td>ACL</td>\n",
       "      <td>O02-2002</td>\n",
       "      <td>7</td>\n",
       "      <td>The agglomerative clustering algorithm is appl...</td>\n",
       "      <td>abstract</td>\n",
       "    </tr>\n",
       "    <tr>\n",
       "      <th>8</th>\n",
       "      <td>8</td>\n",
       "      <td>ACL</td>\n",
       "      <td>O02-2002</td>\n",
       "      <td>8</td>\n",
       "      <td>It turns out that words with similar syntactic...</td>\n",
       "      <td>abstract</td>\n",
       "    </tr>\n",
       "    <tr>\n",
       "      <th>9</th>\n",
       "      <td>9</td>\n",
       "      <td>ACL</td>\n",
       "      <td>O02-2002</td>\n",
       "      <td>9</td>\n",
       "      <td>It is well known that word-sense is defined by...</td>\n",
       "      <td>Introduction</td>\n",
       "    </tr>\n",
       "  </tbody>\n",
       "</table>\n",
       "</div>"
      ],
      "text/plain": [
       "   idx corpus  paper_id  sentence_id  \\\n",
       "0    0    ACL  O02-2002            0   \n",
       "1    1    ACL  O02-2002            1   \n",
       "2    2    ACL  O02-2002            2   \n",
       "3    3    ACL  O02-2002            3   \n",
       "4    4    ACL  O02-2002            4   \n",
       "5    5    ACL  O02-2002            5   \n",
       "6    6    ACL  O02-2002            6   \n",
       "7    7    ACL  O02-2002            7   \n",
       "8    8    ACL  O02-2002            8   \n",
       "9    9    ACL  O02-2002            9   \n",
       "\n",
       "                                            sentence       section  \n",
       "0  There is a need to measure word similarity whe...      abstract  \n",
       "1  Usually, measures of similarity between two wo...      abstract  \n",
       "2  The taxonomy approaches are more or less seman...      abstract  \n",
       "3  However, in real applications, both semantic a...      abstract  \n",
       "4  Word similarity based on context vectors is a ...      abstract  \n",
       "5  In this paper, we propose using only syntactic...      abstract  \n",
       "6  The probabilistic distribution of co-occurrenc...      abstract  \n",
       "7  The agglomerative clustering algorithm is appl...      abstract  \n",
       "8  It turns out that words with similar syntactic...      abstract  \n",
       "9  It is well known that word-sense is defined by...  Introduction  "
      ]
     },
     "execution_count": 6,
     "metadata": {},
     "output_type": "execute_result"
    }
   ],
   "source": [
    "cdb.candidates.head(10)"
   ]
  },
  {
   "cell_type": "code",
   "execution_count": 7,
   "metadata": {},
   "outputs": [
    {
     "data": {
      "text/plain": [
       "('ACL', 'O02-2002', 4)"
      ]
     },
     "execution_count": 7,
     "metadata": {},
     "output_type": "execute_result"
    }
   ],
   "source": [
    "cdb.idx_map[4]"
   ]
  },
  {
   "cell_type": "code",
   "execution_count": 8,
   "metadata": {},
   "outputs": [],
   "source": [
    "with open(\"../data/cdb.pkl\", \"wb\") as f:\n",
    "    pickle.dump(cdb, f)"
   ]
  },
  {
   "cell_type": "markdown",
   "metadata": {},
   "source": [
    "### 2. Load from pickle"
   ]
  },
  {
   "cell_type": "code",
   "execution_count": 9,
   "metadata": {},
   "outputs": [],
   "source": [
    "with open(\"../data/cdb.pkl\", \"rb\") as f:\n",
    "    cdb = pickle.load(f)"
   ]
  },
  {
   "cell_type": "code",
   "execution_count": 13,
   "metadata": {},
   "outputs": [],
   "source": [
    "cdb.annotated_idx_path = \"../data/annotated_articles.json\""
   ]
  },
  {
   "cell_type": "code",
   "execution_count": 15,
   "metadata": {},
   "outputs": [
    {
     "data": {
      "text/plain": [
       "['W17-5513', 'W09-1207']"
      ]
     },
     "execution_count": 15,
     "metadata": {},
     "output_type": "execute_result"
    }
   ],
   "source": [
    "cdb.draw_random_idx_from_corpus(\"ACL\", 2)"
   ]
  },
  {
   "cell_type": "code",
   "execution_count": 19,
   "metadata": {},
   "outputs": [
    {
     "data": {
      "text/plain": [
       "['1704.06217', '2108.06957']"
      ]
     },
     "execution_count": 19,
     "metadata": {},
     "output_type": "execute_result"
    }
   ],
   "source": [
    "cdb.draw_random_idx_from_corpus(\"arXiv\", 2)"
   ]
  },
  {
   "cell_type": "code",
   "execution_count": 26,
   "metadata": {},
   "outputs": [
    {
     "data": {
      "text/html": [
       "<div>\n",
       "<style scoped>\n",
       "    .dataframe tbody tr th:only-of-type {\n",
       "        vertical-align: middle;\n",
       "    }\n",
       "\n",
       "    .dataframe tbody tr th {\n",
       "        vertical-align: top;\n",
       "    }\n",
       "\n",
       "    .dataframe thead th {\n",
       "        text-align: right;\n",
       "    }\n",
       "</style>\n",
       "<table border=\"1\" class=\"dataframe\">\n",
       "  <thead>\n",
       "    <tr style=\"text-align: right;\">\n",
       "      <th></th>\n",
       "      <th>article_id</th>\n",
       "      <th>source</th>\n",
       "      <th>sent_id</th>\n",
       "      <th>prev_sec</th>\n",
       "      <th>prev_sent</th>\n",
       "      <th>sec</th>\n",
       "      <th>sent</th>\n",
       "      <th>next_sec</th>\n",
       "      <th>next_sent</th>\n",
       "    </tr>\n",
       "  </thead>\n",
       "  <tbody>\n",
       "    <tr>\n",
       "      <th>0</th>\n",
       "      <td>W17-5513</td>\n",
       "      <td>ACL</td>\n",
       "      <td>0</td>\n",
       "      <td>None</td>\n",
       "      <td>None</td>\n",
       "      <td>abstract</td>\n",
       "      <td>We propose a software architecture designed to...</td>\n",
       "      <td>abstract</td>\n",
       "      <td>The Modular Architecture for Conversational Ag...</td>\n",
       "    </tr>\n",
       "    <tr>\n",
       "      <th>1</th>\n",
       "      <td>W17-5513</td>\n",
       "      <td>ACL</td>\n",
       "      <td>1</td>\n",
       "      <td>abstract</td>\n",
       "      <td>We propose a software architecture designed to...</td>\n",
       "      <td>abstract</td>\n",
       "      <td>The Modular Architecture for Conversational Ag...</td>\n",
       "      <td>abstract</td>\n",
       "      <td>The architecture separates the domain of the c...</td>\n",
       "    </tr>\n",
       "    <tr>\n",
       "      <th>2</th>\n",
       "      <td>W17-5513</td>\n",
       "      <td>ACL</td>\n",
       "      <td>2</td>\n",
       "      <td>abstract</td>\n",
       "      <td>The Modular Architecture for Conversational Ag...</td>\n",
       "      <td>abstract</td>\n",
       "      <td>The architecture separates the domain of the c...</td>\n",
       "      <td>abstract</td>\n",
       "      <td>MACA provides tools to host dialogue agents on...</td>\n",
       "    </tr>\n",
       "    <tr>\n",
       "      <th>3</th>\n",
       "      <td>W17-5513</td>\n",
       "      <td>ACL</td>\n",
       "      <td>3</td>\n",
       "      <td>abstract</td>\n",
       "      <td>The architecture separates the domain of the c...</td>\n",
       "      <td>abstract</td>\n",
       "      <td>MACA provides tools to host dialogue agents on...</td>\n",
       "      <td>abstract</td>\n",
       "      <td>The current version of the framework already i...</td>\n",
       "    </tr>\n",
       "    <tr>\n",
       "      <th>4</th>\n",
       "      <td>W17-5513</td>\n",
       "      <td>ACL</td>\n",
       "      <td>4</td>\n",
       "      <td>abstract</td>\n",
       "      <td>MACA provides tools to host dialogue agents on...</td>\n",
       "      <td>abstract</td>\n",
       "      <td>The current version of the framework already i...</td>\n",
       "      <td>Introduction</td>\n",
       "      <td>Recent research in building sophisticated AIba...</td>\n",
       "    </tr>\n",
       "  </tbody>\n",
       "</table>\n",
       "</div>"
      ],
      "text/plain": [
       "  article_id source  sent_id  prev_sec  \\\n",
       "0   W17-5513    ACL        0      None   \n",
       "1   W17-5513    ACL        1  abstract   \n",
       "2   W17-5513    ACL        2  abstract   \n",
       "3   W17-5513    ACL        3  abstract   \n",
       "4   W17-5513    ACL        4  abstract   \n",
       "\n",
       "                                           prev_sent       sec  \\\n",
       "0                                               None  abstract   \n",
       "1  We propose a software architecture designed to...  abstract   \n",
       "2  The Modular Architecture for Conversational Ag...  abstract   \n",
       "3  The architecture separates the domain of the c...  abstract   \n",
       "4  MACA provides tools to host dialogue agents on...  abstract   \n",
       "\n",
       "                                                sent      next_sec  \\\n",
       "0  We propose a software architecture designed to...      abstract   \n",
       "1  The Modular Architecture for Conversational Ag...      abstract   \n",
       "2  The architecture separates the domain of the c...      abstract   \n",
       "3  MACA provides tools to host dialogue agents on...      abstract   \n",
       "4  The current version of the framework already i...  Introduction   \n",
       "\n",
       "                                           next_sent  \n",
       "0  The Modular Architecture for Conversational Ag...  \n",
       "1  The architecture separates the domain of the c...  \n",
       "2  MACA provides tools to host dialogue agents on...  \n",
       "3  The current version of the framework already i...  \n",
       "4  Recent research in building sophisticated AIba...  "
      ]
     },
     "execution_count": 26,
     "metadata": {},
     "output_type": "execute_result"
    }
   ],
   "source": [
    "import pandas as pd\n",
    "\n",
    "idx = [(\"ACL\", \"W17-5513\"), (\"arXiv\", \"2108.06957\")]\n",
    "data = []\n",
    "\n",
    "for c, id in idx:\n",
    "\n",
    "    # find the paper\n",
    "    if c == \"ACL\":\n",
    "        p = cdb.corpora[0].get_paper_by_id(id)\n",
    "    else:\n",
    "        p = cdb.corpora[1].get_paper_by_id(id)\n",
    "\n",
    "    # access its content\n",
    "    contents = p.content[[\"sentence\", \"section\", \"id\", \"candidate\"]].values\n",
    "    \n",
    "    for i, row in enumerate(contents):\n",
    "        if row[3] == True:\n",
    "            # catch the previous sentence\n",
    "            if i == 0:\n",
    "                prev_sec, prev_sent = None, None\n",
    "            else:\n",
    "                prev_sec, prev_sent = contents[i-1][1], contents[i-1][0]\n",
    "\n",
    "            # current sentence (the one to annotate)\n",
    "            sec, sent = row[1], row[0]\n",
    "\n",
    "            # catch the next sentence\n",
    "            if i == len(contents) - 1:\n",
    "                next_sec, next_sent = None, None\n",
    "            else:\n",
    "                next_sec, next_sent = contents[i+1][1], contents[i+1][0]\n",
    "\n",
    "            data.append({\"article_id\": p.id, \"source\": c, \"sent_id\": row[2], \"prev_sec\": prev_sec, \"prev_sent\": prev_sent, \"sec\": sec, \"sent\": sent, \"next_sec\": next_sec, \"next_sent\": next_sent})\n",
    "\n",
    "df = pd.DataFrame(data)\n",
    "df.head()"
   ]
  },
  {
   "cell_type": "code",
   "execution_count": 27,
   "metadata": {},
   "outputs": [
    {
     "data": {
      "text/plain": [
       "(176, 9)"
      ]
     },
     "execution_count": 27,
     "metadata": {},
     "output_type": "execute_result"
    }
   ],
   "source": [
    "df.shape"
   ]
  },
  {
   "cell_type": "code",
   "execution_count": 30,
   "metadata": {},
   "outputs": [],
   "source": [
    "rev_idx_map = {v: k for k, v in cdb.idx_map.items()}\n",
    "\n",
    "df[\"idx\"] = df.apply(lambda x: rev_idx_map[(x[\"source\"], x[\"article_id\"], x[\"sent_id\"])], axis=1)"
   ]
  },
  {
   "cell_type": "code",
   "execution_count": 33,
   "metadata": {},
   "outputs": [
    {
     "data": {
      "text/html": [
       "<div>\n",
       "<style scoped>\n",
       "    .dataframe tbody tr th:only-of-type {\n",
       "        vertical-align: middle;\n",
       "    }\n",
       "\n",
       "    .dataframe tbody tr th {\n",
       "        vertical-align: top;\n",
       "    }\n",
       "\n",
       "    .dataframe thead th {\n",
       "        text-align: right;\n",
       "    }\n",
       "</style>\n",
       "<table border=\"1\" class=\"dataframe\">\n",
       "  <thead>\n",
       "    <tr style=\"text-align: right;\">\n",
       "      <th></th>\n",
       "      <th>idx</th>\n",
       "      <th>sent</th>\n",
       "      <th>sec</th>\n",
       "      <th>prev_sec</th>\n",
       "      <th>prev_sent</th>\n",
       "      <th>next_sec</th>\n",
       "      <th>next_sent</th>\n",
       "    </tr>\n",
       "  </thead>\n",
       "  <tbody>\n",
       "    <tr>\n",
       "      <th>0</th>\n",
       "      <td>3075788</td>\n",
       "      <td>We propose a software architecture designed to...</td>\n",
       "      <td>abstract</td>\n",
       "      <td>None</td>\n",
       "      <td>None</td>\n",
       "      <td>abstract</td>\n",
       "      <td>The Modular Architecture for Conversational Ag...</td>\n",
       "    </tr>\n",
       "    <tr>\n",
       "      <th>1</th>\n",
       "      <td>3075789</td>\n",
       "      <td>The Modular Architecture for Conversational Ag...</td>\n",
       "      <td>abstract</td>\n",
       "      <td>abstract</td>\n",
       "      <td>We propose a software architecture designed to...</td>\n",
       "      <td>abstract</td>\n",
       "      <td>The architecture separates the domain of the c...</td>\n",
       "    </tr>\n",
       "    <tr>\n",
       "      <th>2</th>\n",
       "      <td>3075790</td>\n",
       "      <td>The architecture separates the domain of the c...</td>\n",
       "      <td>abstract</td>\n",
       "      <td>abstract</td>\n",
       "      <td>The Modular Architecture for Conversational Ag...</td>\n",
       "      <td>abstract</td>\n",
       "      <td>MACA provides tools to host dialogue agents on...</td>\n",
       "    </tr>\n",
       "    <tr>\n",
       "      <th>3</th>\n",
       "      <td>3075791</td>\n",
       "      <td>MACA provides tools to host dialogue agents on...</td>\n",
       "      <td>abstract</td>\n",
       "      <td>abstract</td>\n",
       "      <td>The architecture separates the domain of the c...</td>\n",
       "      <td>abstract</td>\n",
       "      <td>The current version of the framework already i...</td>\n",
       "    </tr>\n",
       "    <tr>\n",
       "      <th>4</th>\n",
       "      <td>3075792</td>\n",
       "      <td>The current version of the framework already i...</td>\n",
       "      <td>abstract</td>\n",
       "      <td>abstract</td>\n",
       "      <td>MACA provides tools to host dialogue agents on...</td>\n",
       "      <td>Introduction</td>\n",
       "      <td>Recent research in building sophisticated AIba...</td>\n",
       "    </tr>\n",
       "    <tr>\n",
       "      <th>...</th>\n",
       "      <td>...</td>\n",
       "      <td>...</td>\n",
       "      <td>...</td>\n",
       "      <td>...</td>\n",
       "      <td>...</td>\n",
       "      <td>...</td>\n",
       "      <td>...</td>\n",
       "    </tr>\n",
       "    <tr>\n",
       "      <th>171</th>\n",
       "      <td>8054606</td>\n",
       "      <td>These triples gives model wrong supervisions, ...</td>\n",
       "      <td>Conclusions</td>\n",
       "      <td>Conclusions</td>\n",
       "      <td>First, in the RE subtask, many triples are not...</td>\n",
       "      <td>Conclusions</td>\n",
       "      <td>But this missing annotation issue is still an ...</td>\n",
       "    </tr>\n",
       "    <tr>\n",
       "      <th>172</th>\n",
       "      <td>8054607</td>\n",
       "      <td>But this missing annotation issue is still an ...</td>\n",
       "      <td>Conclusions</td>\n",
       "      <td>Conclusions</td>\n",
       "      <td>These triples gives model wrong supervisions, ...</td>\n",
       "      <td>Conclusions</td>\n",
       "      <td>Second, in the DEE subtask, how to process lon...</td>\n",
       "    </tr>\n",
       "    <tr>\n",
       "      <th>173</th>\n",
       "      <td>8054608</td>\n",
       "      <td>Second, in the DEE subtask, how to process lon...</td>\n",
       "      <td>Conclusions</td>\n",
       "      <td>Conclusions</td>\n",
       "      <td>But this missing annotation issue is still an ...</td>\n",
       "      <td>Conclusions</td>\n",
       "      <td>In addition, if two arguments of one event are...</td>\n",
       "    </tr>\n",
       "    <tr>\n",
       "      <th>174</th>\n",
       "      <td>8054609</td>\n",
       "      <td>In addition, if two arguments of one event are...</td>\n",
       "      <td>Conclusions</td>\n",
       "      <td>Conclusions</td>\n",
       "      <td>Second, in the DEE subtask, how to process lon...</td>\n",
       "      <td>Conclusions</td>\n",
       "      <td>This issue also should be well studied in the ...</td>\n",
       "    </tr>\n",
       "    <tr>\n",
       "      <th>175</th>\n",
       "      <td>8054610</td>\n",
       "      <td>This issue also should be well studied in the ...</td>\n",
       "      <td>Conclusions</td>\n",
       "      <td>Conclusions</td>\n",
       "      <td>In addition, if two arguments of one event are...</td>\n",
       "      <td>None</td>\n",
       "      <td>None</td>\n",
       "    </tr>\n",
       "  </tbody>\n",
       "</table>\n",
       "<p>176 rows × 7 columns</p>\n",
       "</div>"
      ],
      "text/plain": [
       "         idx                                               sent          sec  \\\n",
       "0    3075788  We propose a software architecture designed to...     abstract   \n",
       "1    3075789  The Modular Architecture for Conversational Ag...     abstract   \n",
       "2    3075790  The architecture separates the domain of the c...     abstract   \n",
       "3    3075791  MACA provides tools to host dialogue agents on...     abstract   \n",
       "4    3075792  The current version of the framework already i...     abstract   \n",
       "..       ...                                                ...          ...   \n",
       "171  8054606  These triples gives model wrong supervisions, ...  Conclusions   \n",
       "172  8054607  But this missing annotation issue is still an ...  Conclusions   \n",
       "173  8054608  Second, in the DEE subtask, how to process lon...  Conclusions   \n",
       "174  8054609  In addition, if two arguments of one event are...  Conclusions   \n",
       "175  8054610  This issue also should be well studied in the ...  Conclusions   \n",
       "\n",
       "        prev_sec                                          prev_sent  \\\n",
       "0           None                                               None   \n",
       "1       abstract  We propose a software architecture designed to...   \n",
       "2       abstract  The Modular Architecture for Conversational Ag...   \n",
       "3       abstract  The architecture separates the domain of the c...   \n",
       "4       abstract  MACA provides tools to host dialogue agents on...   \n",
       "..           ...                                                ...   \n",
       "171  Conclusions  First, in the RE subtask, many triples are not...   \n",
       "172  Conclusions  These triples gives model wrong supervisions, ...   \n",
       "173  Conclusions  But this missing annotation issue is still an ...   \n",
       "174  Conclusions  Second, in the DEE subtask, how to process lon...   \n",
       "175  Conclusions  In addition, if two arguments of one event are...   \n",
       "\n",
       "         next_sec                                          next_sent  \n",
       "0        abstract  The Modular Architecture for Conversational Ag...  \n",
       "1        abstract  The architecture separates the domain of the c...  \n",
       "2        abstract  MACA provides tools to host dialogue agents on...  \n",
       "3        abstract  The current version of the framework already i...  \n",
       "4    Introduction  Recent research in building sophisticated AIba...  \n",
       "..            ...                                                ...  \n",
       "171   Conclusions  But this missing annotation issue is still an ...  \n",
       "172   Conclusions  Second, in the DEE subtask, how to process lon...  \n",
       "173   Conclusions  In addition, if two arguments of one event are...  \n",
       "174   Conclusions  This issue also should be well studied in the ...  \n",
       "175          None                                               None  \n",
       "\n",
       "[176 rows x 7 columns]"
      ]
     },
     "execution_count": 33,
     "metadata": {},
     "output_type": "execute_result"
    }
   ],
   "source": [
    "df = df[[\"idx\", \"sent\", \"sec\", \"prev_sec\", \"prev_sent\", \"next_sec\", \"next_sent\"]]\n",
    "df"
   ]
  },
  {
   "cell_type": "code",
   "execution_count": 41,
   "metadata": {},
   "outputs": [],
   "source": [
    "df[\"label\"] = [\"\"] * df.shape[0]"
   ]
  },
  {
   "cell_type": "code",
   "execution_count": 42,
   "metadata": {},
   "outputs": [],
   "source": [
    "df.to_csv(\"to-annotate-2.csv\", index = False)"
   ]
  },
  {
   "cell_type": "code",
   "execution_count": 37,
   "metadata": {},
   "outputs": [],
   "source": [
    "with open(cdb.annotated_idx_path, \"r\") as f:\n",
    "    anno = json.load(f)"
   ]
  },
  {
   "cell_type": "code",
   "execution_count": 38,
   "metadata": {},
   "outputs": [
    {
     "data": {
      "text/plain": [
       "{'v1': [['ACL', '2020.signlang-1.20'],\n",
       "  ['ACL', 'W17-4709'],\n",
       "  ['ACL', 'N19-1358'],\n",
       "  ['arXiv', '2103.14302'],\n",
       "  ['ACL', 'Y15-1047'],\n",
       "  ['ACL', 'P18-1048'],\n",
       "  ['arXiv', '1708.01009'],\n",
       "  ['arXiv', '1611.08765'],\n",
       "  ['arXiv', '1605.05172'],\n",
       "  ['arXiv', '2012.04584']]}"
      ]
     },
     "execution_count": 38,
     "metadata": {},
     "output_type": "execute_result"
    }
   ],
   "source": [
    "anno"
   ]
  },
  {
   "cell_type": "code",
   "execution_count": 39,
   "metadata": {},
   "outputs": [
    {
     "data": {
      "text/plain": [
       "{'v1': [['ACL', '2020.signlang-1.20'],\n",
       "  ['ACL', 'W17-4709'],\n",
       "  ['ACL', 'N19-1358'],\n",
       "  ['arXiv', '2103.14302'],\n",
       "  ['ACL', 'Y15-1047'],\n",
       "  ['ACL', 'P18-1048'],\n",
       "  ['arXiv', '1708.01009'],\n",
       "  ['arXiv', '1611.08765'],\n",
       "  ['arXiv', '1605.05172'],\n",
       "  ['arXiv', '2012.04584']],\n",
       " 'v2': [['ACL', 'W17-5513'], ['arXiv', '2108.06957']]}"
      ]
     },
     "execution_count": 39,
     "metadata": {},
     "output_type": "execute_result"
    }
   ],
   "source": [
    "anno['v2'] = [[c, id] for c,id in idx]\n",
    "anno"
   ]
  },
  {
   "cell_type": "code",
   "execution_count": 40,
   "metadata": {},
   "outputs": [],
   "source": [
    "with open(cdb.annotated_idx_path, \"w\") as f:\n",
    "    json.dump(anno, f)"
   ]
  }
 ],
 "metadata": {
  "kernelspec": {
   "display_name": ".venv",
   "language": "python",
   "name": "python3"
  },
  "language_info": {
   "codemirror_mode": {
    "name": "ipython",
    "version": 3
   },
   "file_extension": ".py",
   "mimetype": "text/x-python",
   "name": "python",
   "nbconvert_exporter": "python",
   "pygments_lexer": "ipython3",
   "version": "3.11.4"
  }
 },
 "nbformat": 4,
 "nbformat_minor": 2
}
