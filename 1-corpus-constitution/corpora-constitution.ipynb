{
 "cells": [
  {
   "cell_type": "markdown",
   "metadata": {},
   "source": [
    "# Constitution of a corpus of NLP papers from two sources: ACL Anthology and ArXiv"
   ]
  },
  {
   "cell_type": "markdown",
   "metadata": {},
   "source": [
    "**In this Notebook**: We will create two `Corpus` objects and populate them with `Paper`(s), whose content will be further investigated. We use two sources of papers (XML format) and metadata: [the ACL Anthology](#a-acl-corpus) and [ArXiv](#b-arxiv-corpus)."
   ]
  },
  {
   "cell_type": "code",
   "execution_count": 1,
   "metadata": {},
   "outputs": [],
   "source": [
    "import pandas as pd\n",
    "import numpy as np\n",
    "import warnings\n",
    "import xml.etree.ElementTree as ET\n",
    "import json\n",
    "from typing import Tuple, List\n",
    "import pickle\n",
    "import re\n",
    "import tqdm\n",
    "import os\n",
    "from matplotlib import pyplot as plt\n",
    "from collections import Counter\n",
    "import sys\n",
    "sys.path.insert(0, '../') # add parent directory (containing the util module) to path\n",
    "import utils.Corpus"
   ]
  },
  {
   "cell_type": "markdown",
   "metadata": {},
   "source": [
    "## A. ACL corpus"
   ]
  },
  {
   "cell_type": "markdown",
   "metadata": {},
   "source": [
    "### 1. Initial data inspection"
   ]
  },
  {
   "cell_type": "markdown",
   "metadata": {},
   "source": [
    "Data source: [ACL Anthology corpus](https://github.com/shauryr/ACL-anthology-corpus) by Shaurya Rohatgi (metadata + grobid extractions as XML files)."
   ]
  },
  {
   "cell_type": "code",
   "execution_count": 7,
   "metadata": {},
   "outputs": [],
   "source": [
    "XML_FILES_DIR = \"../data/acl/tei.xml/\"\n",
    "METADATA_PATH = \"../data/acl/acl-publication-info.74k.v3.full-sections-partial-topic-labels.pkl\""
   ]
  },
  {
   "cell_type": "markdown",
   "metadata": {},
   "source": [
    "Have a look at the complete metadata provided in Shaurya Rohatgi's corpus:"
   ]
  },
  {
   "cell_type": "code",
   "execution_count": 8,
   "metadata": {},
   "outputs": [
    {
     "name": "stdout",
     "output_type": "stream",
     "text": [
      "(73285, 26)\n"
     ]
    },
    {
     "data": {
      "text/plain": [
       "Index(['acl_id', 'abstract', 'full_text', 'corpus_paper_id', 'pdf_hash',\n",
       "       'numcitedby', 'url', 'publisher', 'address', 'year', 'month',\n",
       "       'booktitle', 'author', 'title', 'pages', 'doi', 'number', 'volume',\n",
       "       'journal', 'editor', 'isbn', 'ENTRYTYPE', 'ID', 'language', 'note',\n",
       "       'Model Predicted Topics'],\n",
       "      dtype='object')"
      ]
     },
     "execution_count": 8,
     "metadata": {},
     "output_type": "execute_result"
    }
   ],
   "source": [
    "df = pd.read_pickle(METADATA_PATH)\n",
    "print(df.shape)\n",
    "df.columns"
   ]
  },
  {
   "cell_type": "markdown",
   "metadata": {},
   "source": [
    "Check the years:"
   ]
  },
  {
   "cell_type": "code",
   "execution_count": 9,
   "metadata": {},
   "outputs": [
    {
     "data": {
      "text/plain": [
       "count    73285.000000\n",
       "mean      2011.292707\n",
       "std          9.885551\n",
       "min       1952.000000\n",
       "25%       2007.000000\n",
       "50%       2014.000000\n",
       "75%       2019.000000\n",
       "max       2022.000000\n",
       "Name: year, dtype: float64"
      ]
     },
     "execution_count": 9,
     "metadata": {},
     "output_type": "execute_result"
    }
   ],
   "source": [
    "df[\"year\"] = df[\"year\"].astype(int)\n",
    "df[\"year\"].describe()"
   ]
  },
  {
   "cell_type": "markdown",
   "metadata": {},
   "source": [
    "Also check that for every article mentionned in the metadata, we have the corresponding XML file stored."
   ]
  },
  {
   "cell_type": "code",
   "execution_count": null,
   "metadata": {},
   "outputs": [],
   "source": [
    "# # for every acl_id, check that the xml file exists\n",
    "# for acl_id in tqdm.tqdm(list(df[\"acl_id\"])):\n",
    "#     path = f\"{XML_FILES_DIR}/{acl_id}.tei.xml\"\n",
    "#     if not os.path.exists(path):\n",
    "#         print(f\"File {path} does not exist\")\n",
    "#         break"
   ]
  },
  {
   "cell_type": "markdown",
   "metadata": {},
   "source": [
    "Check for attributes with missing values:"
   ]
  },
  {
   "cell_type": "code",
   "execution_count": 10,
   "metadata": {},
   "outputs": [
    {
     "name": "stdout",
     "output_type": "stream",
     "text": [
      "No abstract: 5616\n",
      "No full_text: 5830\n",
      "No pdf_hash: 1209\n",
      "No publisher: 10119\n",
      "No address: 7192\n",
      "No month: 7323\n",
      "No booktitle: 2041\n",
      "No author: 667\n",
      "No pages: 13807\n",
      "No doi: 43607\n",
      "No number: 71811\n",
      "No volume: 71445\n",
      "No journal: 71248\n",
      "No editor: 73272\n",
      "No isbn: 71915\n",
      "No language: 70265\n",
      "No note: 73088\n",
      "No Model Predicted Topics: 42254\n"
     ]
    }
   ],
   "source": [
    "for col in df.columns:\n",
    "    none_rows = df[df[col].isnull()].shape[0]\n",
    "    if none_rows > 0:\n",
    "        print(f\"No {col}: {none_rows}\")"
   ]
  },
  {
   "cell_type": "markdown",
   "metadata": {},
   "source": [
    "We can directly exclude papers that are explicitly not in English, and posters (at least, papers whose id contains \"poster\"):"
   ]
  },
  {
   "cell_type": "code",
   "execution_count": 11,
   "metadata": {},
   "outputs": [
    {
     "data": {
      "text/plain": [
       "language\n",
       "French                 1453\n",
       "English                1371\n",
       "Chinese                 188\n",
       "German                    6\n",
       "Portuguese (Brazil)       2\n",
       "Name: count, dtype: int64"
      ]
     },
     "execution_count": 11,
     "metadata": {},
     "output_type": "execute_result"
    }
   ],
   "source": [
    "df[\"language\"].value_counts()"
   ]
  },
  {
   "cell_type": "code",
   "execution_count": 12,
   "metadata": {},
   "outputs": [
    {
     "data": {
      "text/plain": [
       "266"
      ]
     },
     "execution_count": 12,
     "metadata": {},
     "output_type": "execute_result"
    }
   ],
   "source": [
    "len([id_ for id_ in list(df[\"acl_id\"].values) if \"poster\" in id_])"
   ]
  },
  {
   "cell_type": "code",
   "execution_count": 24,
   "metadata": {},
   "outputs": [
    {
     "data": {
      "text/plain": [
       "Index(['acl_id', 'abstract', 'full_text', 'corpus_paper_id', 'pdf_hash',\n",
       "       'numcitedby', 'url', 'publisher', 'address', 'year', 'month',\n",
       "       'booktitle', 'author', 'title', 'pages', 'doi', 'number', 'volume',\n",
       "       'journal', 'editor', 'isbn', 'ENTRYTYPE', 'ID', 'language', 'note',\n",
       "       'Model Predicted Topics'],\n",
       "      dtype='object')"
      ]
     },
     "execution_count": 24,
     "metadata": {},
     "output_type": "execute_result"
    }
   ],
   "source": [
    "df.columns"
   ]
  },
  {
   "cell_type": "markdown",
   "metadata": {},
   "source": [
    "We note that even if they have different ids, some papers seem to be duplicated, i.e., they have the same title, authors, publisher and year of publication:"
   ]
  },
  {
   "cell_type": "code",
   "execution_count": 27,
   "metadata": {},
   "outputs": [
    {
     "name": "stdout",
     "output_type": "stream",
     "text": [
      "(775,)\n"
     ]
    }
   ],
   "source": [
    "dupl_titles = df.duplicated(subset = [\"title\"])\n",
    "print(dupl_titles[dupl_titles == True].shape)"
   ]
  },
  {
   "cell_type": "code",
   "execution_count": 35,
   "metadata": {},
   "outputs": [
    {
     "name": "stdout",
     "output_type": "stream",
     "text": [
      "(267,)\n"
     ]
    },
    {
     "data": {
      "text/html": [
       "<div>\n",
       "<style scoped>\n",
       "    .dataframe tbody tr th:only-of-type {\n",
       "        vertical-align: middle;\n",
       "    }\n",
       "\n",
       "    .dataframe tbody tr th {\n",
       "        vertical-align: top;\n",
       "    }\n",
       "\n",
       "    .dataframe thead th {\n",
       "        text-align: right;\n",
       "    }\n",
       "</style>\n",
       "<table border=\"1\" class=\"dataframe\">\n",
       "  <thead>\n",
       "    <tr style=\"text-align: right;\">\n",
       "      <th></th>\n",
       "      <th>acl_id</th>\n",
       "      <th>abstract</th>\n",
       "      <th>full_text</th>\n",
       "      <th>corpus_paper_id</th>\n",
       "      <th>pdf_hash</th>\n",
       "      <th>numcitedby</th>\n",
       "      <th>url</th>\n",
       "      <th>publisher</th>\n",
       "      <th>address</th>\n",
       "      <th>year</th>\n",
       "      <th>...</th>\n",
       "      <th>number</th>\n",
       "      <th>volume</th>\n",
       "      <th>journal</th>\n",
       "      <th>editor</th>\n",
       "      <th>isbn</th>\n",
       "      <th>ENTRYTYPE</th>\n",
       "      <th>ID</th>\n",
       "      <th>language</th>\n",
       "      <th>note</th>\n",
       "      <th>Model Predicted Topics</th>\n",
       "    </tr>\n",
       "  </thead>\n",
       "  <tbody>\n",
       "    <tr>\n",
       "      <th>5060</th>\n",
       "      <td>S14-2017</td>\n",
       "      <td>We describe our approach for the SemEval-2014 ...</td>\n",
       "      <td>We describe our approach for the SemEval-2014 ...</td>\n",
       "      <td>14181656</td>\n",
       "      <td>966bf176ca89ec7b87ed86c3cfcc7e43db5730f8</td>\n",
       "      <td>14</td>\n",
       "      <td>https://aclanthology.org/S14-2017</td>\n",
       "      <td>Association for Computational Linguistics</td>\n",
       "      <td>Dublin, Ireland</td>\n",
       "      <td>2014</td>\n",
       "      <td>...</td>\n",
       "      <td>None</td>\n",
       "      <td>None</td>\n",
       "      <td>None</td>\n",
       "      <td>None</td>\n",
       "      <td>None</td>\n",
       "      <td>inproceedings</td>\n",
       "      <td>silva-etal-2014-biocom</td>\n",
       "      <td>None</td>\n",
       "      <td>None</td>\n",
       "      <td>NaN</td>\n",
       "    </tr>\n",
       "    <tr>\n",
       "      <th>5078</th>\n",
       "      <td>S14-2018</td>\n",
       "      <td>We describe our approach for the SemEval-2014 ...</td>\n",
       "      <td>We describe our approach for the SemEval-2014 ...</td>\n",
       "      <td>208317455</td>\n",
       "      <td>210cc85c75ad5a2d1350b7c670fdf88c13fc156a</td>\n",
       "      <td>1</td>\n",
       "      <td>https://aclanthology.org/S14-2018</td>\n",
       "      <td>Association for Computational Linguistics</td>\n",
       "      <td>Dublin, Ireland</td>\n",
       "      <td>2014</td>\n",
       "      <td>...</td>\n",
       "      <td>None</td>\n",
       "      <td>None</td>\n",
       "      <td>None</td>\n",
       "      <td>None</td>\n",
       "      <td>None</td>\n",
       "      <td>inproceedings</td>\n",
       "      <td>silva-etal-2014-biocom-usp</td>\n",
       "      <td>None</td>\n",
       "      <td>None</td>\n",
       "      <td>NaN</td>\n",
       "    </tr>\n",
       "  </tbody>\n",
       "</table>\n",
       "<p>2 rows × 26 columns</p>\n",
       "</div>"
      ],
      "text/plain": [
       "        acl_id                                           abstract  \\\n",
       "5060  S14-2017  We describe our approach for the SemEval-2014 ...   \n",
       "5078  S14-2018  We describe our approach for the SemEval-2014 ...   \n",
       "\n",
       "                                              full_text  corpus_paper_id  \\\n",
       "5060  We describe our approach for the SemEval-2014 ...         14181656   \n",
       "5078  We describe our approach for the SemEval-2014 ...        208317455   \n",
       "\n",
       "                                      pdf_hash  numcitedby  \\\n",
       "5060  966bf176ca89ec7b87ed86c3cfcc7e43db5730f8          14   \n",
       "5078  210cc85c75ad5a2d1350b7c670fdf88c13fc156a           1   \n",
       "\n",
       "                                    url  \\\n",
       "5060  https://aclanthology.org/S14-2017   \n",
       "5078  https://aclanthology.org/S14-2018   \n",
       "\n",
       "                                      publisher          address  year  ...  \\\n",
       "5060  Association for Computational Linguistics  Dublin, Ireland  2014  ...   \n",
       "5078  Association for Computational Linguistics  Dublin, Ireland  2014  ...   \n",
       "\n",
       "     number volume journal editor  isbn      ENTRYTYPE  \\\n",
       "5060   None   None    None   None  None  inproceedings   \n",
       "5078   None   None    None   None  None  inproceedings   \n",
       "\n",
       "                              ID language  note Model Predicted Topics  \n",
       "5060      silva-etal-2014-biocom     None  None                    NaN  \n",
       "5078  silva-etal-2014-biocom-usp     None  None                    NaN  \n",
       "\n",
       "[2 rows x 26 columns]"
      ]
     },
     "execution_count": 35,
     "metadata": {},
     "output_type": "execute_result"
    }
   ],
   "source": [
    "dupl = df.duplicated(subset = [\"title\", \"author\", \"year\", \"publisher\"])\n",
    "print(dupl[dupl == True].shape)\n",
    "i = dupl[dupl == True].index[0]\n",
    "t = df.loc[i, \"title\"]\n",
    "df[df[\"title\"] == t]"
   ]
  },
  {
   "cell_type": "code",
   "execution_count": 10,
   "metadata": {},
   "outputs": [
    {
     "name": "stdout",
     "output_type": "stream",
     "text": [
      "(71636, 26)\n",
      "(71553, 26)\n"
     ]
    }
   ],
   "source": [
    "# ignore warnings\n",
    "warnings.filterwarnings(\"ignore\")\n",
    "\n",
    "# get rid of the non-english papers\n",
    "df_c = df[(df[\"language\"] == \"English\") | (df[\"language\"].isnull())]\n",
    "print(df_c.shape)\n",
    "\n",
    "# get rid of the posters\n",
    "for i, row in df_c.iterrows():\n",
    "    if \"poster\" in df_c.loc[i, \"acl_id\"]:\n",
    "        df_c.drop(i, inplace=True)\n",
    "\n",
    "print(df_c.shape)"
   ]
  },
  {
   "cell_type": "code",
   "execution_count": 11,
   "metadata": {},
   "outputs": [],
   "source": [
    "# # save in pickle format\n",
    "# df_c.to_pickle(\"acl-metadata-full-en_no-p.pkl\")"
   ]
  },
  {
   "cell_type": "markdown",
   "metadata": {},
   "source": [
    "### 2. Create `Corpus` object and extract papers content"
   ]
  },
  {
   "cell_type": "markdown",
   "metadata": {},
   "source": [
    "Below, we create a `Corpus` and provide it with the paths to find useful XML papers and metadata."
   ]
  },
  {
   "cell_type": "code",
   "execution_count": 11,
   "metadata": {},
   "outputs": [],
   "source": [
    "# XML_FILES_DIR = \"../data/acl/tei.xml/\"\n",
    "# METADATA_PATH = \"../data/acl/acl-metadata-full-en_no-p.pkl\"\n",
    "\n",
    "# corpus_ACL = utils.Corpus.Corpus(xml_dir_path= XML_FILES_DIR,\n",
    "#                     metadata_path = METADATA_PATH,\n",
    "#                     name = \"ACL\")"
   ]
  },
  {
   "cell_type": "markdown",
   "metadata": {},
   "source": [
    "When calling `load_papers`, we extract the content of all the XML files in the corpus to create some `Paper` objects. This process can take a long time to run (~9:35:20 in our case, ran on Grid5000)."
   ]
  },
  {
   "cell_type": "code",
   "execution_count": 3,
   "metadata": {},
   "outputs": [
    {
     "name": "stderr",
     "output_type": "stream",
     "text": [
      "100%|██████████| 71553/71553 [9:35:20<00:00,  2.07it/s]   \n"
     ]
    }
   ],
   "source": [
    "# corpus_ACL.load_papers()"
   ]
  },
  {
   "cell_type": "markdown",
   "metadata": {},
   "source": [
    "Then, the method `preprocess_papers` will sort sentences from `Paper` objects into two categories: candidates (for containing claims) and non candidates, based on the section that they belong to (e.g the sentences of a section named \"Experimental setup\" will be considered as non candidates)."
   ]
  },
  {
   "cell_type": "code",
   "execution_count": 4,
   "metadata": {},
   "outputs": [],
   "source": [
    "# corpus_ACL.preprocess_papers()"
   ]
  },
  {
   "cell_type": "code",
   "execution_count": 5,
   "metadata": {},
   "outputs": [],
   "source": [
    "# # serialize the corpus for later access\n",
    "# with open(\"../data/acl/corpus_ACL.pkl\", \"wb\") as f:\n",
    "#     pickle.dump(corpus_ACL, f)"
   ]
  },
  {
   "cell_type": "code",
   "execution_count": 4,
   "metadata": {},
   "outputs": [],
   "source": [
    "# with open(\"../data/acl/corpus_ACL.pkl\", \"rb\") as f:\n",
    "#     corpus_ACL = pickle.load(f)"
   ]
  },
  {
   "cell_type": "code",
   "execution_count": 69,
   "metadata": {},
   "outputs": [],
   "source": [
    "# Actually, the latest available version of the corpus has been stored as a json file\n",
    "# Duplicates have been removed (based on the title, author, year, and publisher)\n",
    "from utils.utils import load_corpus_object\n",
    "\n",
    "with open(\"../data/acl/corpus_ACL.json\", \"r\") as f:\n",
    "    corpus_dict = json.load(f)\n",
    "\n",
    "corpus_ACL = utils.Corpus.Corpus.from_dict(corpus_dict)"
   ]
  },
  {
   "cell_type": "code",
   "execution_count": 70,
   "metadata": {},
   "outputs": [
    {
     "data": {
      "text/plain": [
       "<utils.Corpus.Corpus at 0x25168c280d0>"
      ]
     },
     "execution_count": 70,
     "metadata": {},
     "output_type": "execute_result"
    }
   ],
   "source": [
    "corpus_ACL"
   ]
  },
  {
   "cell_type": "code",
   "execution_count": 71,
   "metadata": {},
   "outputs": [
    {
     "name": "stdout",
     "output_type": "stream",
     "text": [
      "A Study on Word Similarity using Context Vector Models\n",
      "There is a need to measure word similarity when processing natural languages, especially when using generalization, classification, or example -based approaches. Usually, measures of similarity between two words are defined according to the distance between their semantic classes in a semantic taxonomy . The taxonomy approaches are more or less semantic -based that do not consider syntactic similarit ies. However, in real applications, both semantic and syntactic similarities are required and weighted differently. Word similarity based on context vectors is a mixture of syntactic and semantic similarit ies. In this paper, we propose using only syntactic related co-occurrences as context vectors and adopt information theoretic models to solve the problems of data sparseness and characteristic precision. The probabilistic distribution of co-occurrence context features is derived by parsing the contextual environment of each word , and all the context features are adjusted according to their IDF (inverse document frequency) values. The agglomerative clustering algorithm is applied to group similar words according to their similarity values. It turns out that words with similar syntactic categories and semantic classes are grouped together.\n",
      "['Chen', 'Keh-Jiann']\n",
      "['You', 'Jia-Ming']\n"
     ]
    }
   ],
   "source": [
    "p = corpus_ACL.papers[0]\n",
    "\n",
    "print(p.title)\n",
    "print(p.abstract)\n",
    "authors = p.authors\n",
    "for a in authors:\n",
    "    print(a.names)"
   ]
  },
  {
   "cell_type": "markdown",
   "metadata": {},
   "source": [
    "### 3. Corpus content inspection"
   ]
  },
  {
   "cell_type": "markdown",
   "metadata": {},
   "source": [
    "#### Errors"
   ]
  },
  {
   "cell_type": "markdown",
   "metadata": {},
   "source": [
    "All the encountered errors (e.g a `Paper` object couldn't be correctly initialized because the corresponding XML file is not well-structured) are stored for later analysis. Plus, the \"correct\" and \"incorrect\" `Paper` objets are stored separately into `Corpus` attributes `papers` and `papers_with_errors`."
   ]
  },
  {
   "cell_type": "code",
   "execution_count": 72,
   "metadata": {},
   "outputs": [
    {
     "name": "stdout",
     "output_type": "stream",
     "text": [
      "62227\n",
      "10828\n"
     ]
    }
   ],
   "source": [
    "print(len(corpus_ACL.papers))\n",
    "print(len(corpus_ACL.papers_with_errors))"
   ]
  },
  {
   "cell_type": "markdown",
   "metadata": {},
   "source": [
    "We can know more about these errors:"
   ]
  },
  {
   "cell_type": "code",
   "execution_count": 73,
   "metadata": {},
   "outputs": [
    {
     "name": "stdout",
     "output_type": "stream",
     "text": [
      "Corpus 'ACL' was filled with 73055 papers:\n",
      "  - 62227 papers were successfully loaded\n",
      "  - 10828 papers could not be loaded\n",
      "\n",
      "Errors:\n",
      "  - Parsing error: XML file not well formed : 5523\n",
      "  - Parsing error: no abstract found : 3163\n",
      "  - Noisy data: wrong language (sk) : 8\n",
      "  - Noisy data: wrong language (sq) : 34\n",
      "  - parsing error: not enough paper content found (<2 distinct sections) : 715\n",
      "  - Noisy data: wrong language (da) : 155\n",
      "  - Noisy data: wrong language (de) : 76\n",
      "  - Noisy data: wrong language (fr) : 636\n",
      "  - Noisy data: wrong language (sl) : 8\n",
      "  - Noisy data: wrong language (hr) : 4\n",
      "  - Noisy data: wrong language (so) : 21\n",
      "  - Noisy data: wrong language (tr) : 11\n",
      "  - Noisy data: wrong language (pl) : 21\n",
      "  - Noisy data: wrong language (pt) : 124\n",
      "  - Noisy data: wrong language (af) : 1\n",
      "  - Noisy data: wrong language (et) : 3\n",
      "  - Noisy data: wrong language (no) : 40\n",
      "  - Noisy data: wrong language (nl) : 8\n",
      "  - Noisy data: wrong language (vi) : 26\n",
      "  - Noisy data: wrong language (es) : 10\n",
      "  - Noisy data: wrong language (zh-tw) : 148\n",
      "  - Noisy data: wrong language (bn) : 6\n",
      "  - Noisy data: wrong language (ru) : 1\n",
      "  - Noisy data: wrong language (hu) : 10\n",
      "  - Noisy data: wrong language (fi) : 12\n",
      "  - Noisy data: wrong language (it) : 12\n",
      "  - Noisy data: wrong language (ro) : 2\n",
      "  - Noisy data: wrong language (sv) : 38\n",
      "  - Noisy data: wrong language (cs) : 5\n",
      "  - Noisy data: wrong language (ja) : 1\n",
      "  - Noisy data: wrong language (lt) : 1\n",
      "  - Noisy data: wrong language (hi) : 1\n",
      "  - Noisy data: wrong language (id) : 2\n",
      "  - Noisy data: wrong language (zh-cn) : 1\n",
      "  - Noisy data: wrong language (sw) : 1\n"
     ]
    }
   ],
   "source": [
    "corpus_ACL.describe(error_verbose=True)"
   ]
  },
  {
   "cell_type": "code",
   "execution_count": 74,
   "metadata": {},
   "outputs": [],
   "source": [
    "# collect the encountered errors\n",
    "errors = [[pe.id, pe.init_error, pe.title, pe.abstract, pe.year] for pe in corpus_ACL.papers_with_errors]\n",
    "df_errors = pd.DataFrame(errors, columns=[\"id\", \"error\", \"title\", \"abstract\", \"year\"])\n",
    "df_errors.to_csv(\"../data/acl/acl-init-errors.csv\", index=False)"
   ]
  },
  {
   "cell_type": "code",
   "execution_count": 75,
   "metadata": {},
   "outputs": [
    {
     "data": {
      "text/html": [
       "<div>\n",
       "<style scoped>\n",
       "    .dataframe tbody tr th:only-of-type {\n",
       "        vertical-align: middle;\n",
       "    }\n",
       "\n",
       "    .dataframe tbody tr th {\n",
       "        vertical-align: top;\n",
       "    }\n",
       "\n",
       "    .dataframe thead th {\n",
       "        text-align: right;\n",
       "    }\n",
       "</style>\n",
       "<table border=\"1\" class=\"dataframe\">\n",
       "  <thead>\n",
       "    <tr style=\"text-align: right;\">\n",
       "      <th></th>\n",
       "      <th>id</th>\n",
       "    </tr>\n",
       "    <tr>\n",
       "      <th>error</th>\n",
       "      <th></th>\n",
       "    </tr>\n",
       "  </thead>\n",
       "  <tbody>\n",
       "    <tr>\n",
       "      <th>Noisy data: wrong language (af)</th>\n",
       "      <td>1</td>\n",
       "    </tr>\n",
       "    <tr>\n",
       "      <th>Noisy data: wrong language (bn)</th>\n",
       "      <td>6</td>\n",
       "    </tr>\n",
       "    <tr>\n",
       "      <th>Noisy data: wrong language (cs)</th>\n",
       "      <td>5</td>\n",
       "    </tr>\n",
       "    <tr>\n",
       "      <th>Noisy data: wrong language (da)</th>\n",
       "      <td>155</td>\n",
       "    </tr>\n",
       "    <tr>\n",
       "      <th>Noisy data: wrong language (de)</th>\n",
       "      <td>76</td>\n",
       "    </tr>\n",
       "    <tr>\n",
       "      <th>Noisy data: wrong language (es)</th>\n",
       "      <td>10</td>\n",
       "    </tr>\n",
       "    <tr>\n",
       "      <th>Noisy data: wrong language (et)</th>\n",
       "      <td>3</td>\n",
       "    </tr>\n",
       "    <tr>\n",
       "      <th>Noisy data: wrong language (fi)</th>\n",
       "      <td>12</td>\n",
       "    </tr>\n",
       "    <tr>\n",
       "      <th>Noisy data: wrong language (fr)</th>\n",
       "      <td>636</td>\n",
       "    </tr>\n",
       "    <tr>\n",
       "      <th>Noisy data: wrong language (hi)</th>\n",
       "      <td>1</td>\n",
       "    </tr>\n",
       "    <tr>\n",
       "      <th>Noisy data: wrong language (hr)</th>\n",
       "      <td>4</td>\n",
       "    </tr>\n",
       "    <tr>\n",
       "      <th>Noisy data: wrong language (hu)</th>\n",
       "      <td>10</td>\n",
       "    </tr>\n",
       "    <tr>\n",
       "      <th>Noisy data: wrong language (id)</th>\n",
       "      <td>2</td>\n",
       "    </tr>\n",
       "    <tr>\n",
       "      <th>Noisy data: wrong language (it)</th>\n",
       "      <td>12</td>\n",
       "    </tr>\n",
       "    <tr>\n",
       "      <th>Noisy data: wrong language (ja)</th>\n",
       "      <td>1</td>\n",
       "    </tr>\n",
       "    <tr>\n",
       "      <th>Noisy data: wrong language (lt)</th>\n",
       "      <td>1</td>\n",
       "    </tr>\n",
       "    <tr>\n",
       "      <th>Noisy data: wrong language (nl)</th>\n",
       "      <td>8</td>\n",
       "    </tr>\n",
       "    <tr>\n",
       "      <th>Noisy data: wrong language (no)</th>\n",
       "      <td>40</td>\n",
       "    </tr>\n",
       "    <tr>\n",
       "      <th>Noisy data: wrong language (pl)</th>\n",
       "      <td>21</td>\n",
       "    </tr>\n",
       "    <tr>\n",
       "      <th>Noisy data: wrong language (pt)</th>\n",
       "      <td>124</td>\n",
       "    </tr>\n",
       "    <tr>\n",
       "      <th>Noisy data: wrong language (ro)</th>\n",
       "      <td>2</td>\n",
       "    </tr>\n",
       "    <tr>\n",
       "      <th>Noisy data: wrong language (ru)</th>\n",
       "      <td>1</td>\n",
       "    </tr>\n",
       "    <tr>\n",
       "      <th>Noisy data: wrong language (sk)</th>\n",
       "      <td>8</td>\n",
       "    </tr>\n",
       "    <tr>\n",
       "      <th>Noisy data: wrong language (sl)</th>\n",
       "      <td>8</td>\n",
       "    </tr>\n",
       "    <tr>\n",
       "      <th>Noisy data: wrong language (so)</th>\n",
       "      <td>21</td>\n",
       "    </tr>\n",
       "    <tr>\n",
       "      <th>Noisy data: wrong language (sq)</th>\n",
       "      <td>34</td>\n",
       "    </tr>\n",
       "    <tr>\n",
       "      <th>Noisy data: wrong language (sv)</th>\n",
       "      <td>38</td>\n",
       "    </tr>\n",
       "    <tr>\n",
       "      <th>Noisy data: wrong language (sw)</th>\n",
       "      <td>1</td>\n",
       "    </tr>\n",
       "    <tr>\n",
       "      <th>Noisy data: wrong language (tr)</th>\n",
       "      <td>11</td>\n",
       "    </tr>\n",
       "    <tr>\n",
       "      <th>Noisy data: wrong language (vi)</th>\n",
       "      <td>26</td>\n",
       "    </tr>\n",
       "    <tr>\n",
       "      <th>Noisy data: wrong language (zh-cn)</th>\n",
       "      <td>1</td>\n",
       "    </tr>\n",
       "    <tr>\n",
       "      <th>Noisy data: wrong language (zh-tw)</th>\n",
       "      <td>148</td>\n",
       "    </tr>\n",
       "    <tr>\n",
       "      <th>Parsing error: XML file not well formed</th>\n",
       "      <td>5523</td>\n",
       "    </tr>\n",
       "    <tr>\n",
       "      <th>Parsing error: no abstract found</th>\n",
       "      <td>3163</td>\n",
       "    </tr>\n",
       "    <tr>\n",
       "      <th>parsing error: not enough paper content found (&lt;2 distinct sections)</th>\n",
       "      <td>715</td>\n",
       "    </tr>\n",
       "  </tbody>\n",
       "</table>\n",
       "</div>"
      ],
      "text/plain": [
       "                                                      id\n",
       "error                                                   \n",
       "Noisy data: wrong language (af)                        1\n",
       "Noisy data: wrong language (bn)                        6\n",
       "Noisy data: wrong language (cs)                        5\n",
       "Noisy data: wrong language (da)                      155\n",
       "Noisy data: wrong language (de)                       76\n",
       "Noisy data: wrong language (es)                       10\n",
       "Noisy data: wrong language (et)                        3\n",
       "Noisy data: wrong language (fi)                       12\n",
       "Noisy data: wrong language (fr)                      636\n",
       "Noisy data: wrong language (hi)                        1\n",
       "Noisy data: wrong language (hr)                        4\n",
       "Noisy data: wrong language (hu)                       10\n",
       "Noisy data: wrong language (id)                        2\n",
       "Noisy data: wrong language (it)                       12\n",
       "Noisy data: wrong language (ja)                        1\n",
       "Noisy data: wrong language (lt)                        1\n",
       "Noisy data: wrong language (nl)                        8\n",
       "Noisy data: wrong language (no)                       40\n",
       "Noisy data: wrong language (pl)                       21\n",
       "Noisy data: wrong language (pt)                      124\n",
       "Noisy data: wrong language (ro)                        2\n",
       "Noisy data: wrong language (ru)                        1\n",
       "Noisy data: wrong language (sk)                        8\n",
       "Noisy data: wrong language (sl)                        8\n",
       "Noisy data: wrong language (so)                       21\n",
       "Noisy data: wrong language (sq)                       34\n",
       "Noisy data: wrong language (sv)                       38\n",
       "Noisy data: wrong language (sw)                        1\n",
       "Noisy data: wrong language (tr)                       11\n",
       "Noisy data: wrong language (vi)                       26\n",
       "Noisy data: wrong language (zh-cn)                     1\n",
       "Noisy data: wrong language (zh-tw)                   148\n",
       "Parsing error: XML file not well formed             5523\n",
       "Parsing error: no abstract found                    3163\n",
       "parsing error: not enough paper content found (...   715"
      ]
     },
     "execution_count": 75,
     "metadata": {},
     "output_type": "execute_result"
    }
   ],
   "source": [
    "df_errors = pd.read_csv(\"../data/acl/acl-init-errors.csv\")\n",
    "df_errors.groupby(\"error\").count()[[\"id\"]]"
   ]
  },
  {
   "cell_type": "code",
   "execution_count": 76,
   "metadata": {},
   "outputs": [
    {
     "data": {
      "text/plain": [
       "(1427, 5)"
      ]
     },
     "execution_count": 76,
     "metadata": {},
     "output_type": "execute_result"
    }
   ],
   "source": [
    "df_errors[df_errors[\"error\"].str.startswith(\"Noisy data: wrong language\")].shape"
   ]
  },
  {
   "cell_type": "code",
   "execution_count": 77,
   "metadata": {},
   "outputs": [
    {
     "name": "stderr",
     "output_type": "stream",
     "text": [
      "C:\\Users\\cleme\\AppData\\Local\\Temp\\ipykernel_14788\\1734814697.py:4: SettingWithCopyWarning: \n",
      "A value is trying to be set on a copy of a slice from a DataFrame.\n",
      "Try using .loc[row_indexer,col_indexer] = value instead\n",
      "\n",
      "See the caveats in the documentation: https://pandas.pydata.org/pandas-docs/stable/user_guide/indexing.html#returning-a-view-versus-a-copy\n",
      "  df_errors_lg[\"lg\"] = df_errors_lg[\"error\"].apply(lambda x: re.match(re.compile(\"Noisy data: wrong language (\\(.*\\))\"), x).group(1).strip(\"()\"))\n"
     ]
    },
    {
     "data": {
      "text/html": [
       "<div>\n",
       "<style scoped>\n",
       "    .dataframe tbody tr th:only-of-type {\n",
       "        vertical-align: middle;\n",
       "    }\n",
       "\n",
       "    .dataframe tbody tr th {\n",
       "        vertical-align: top;\n",
       "    }\n",
       "\n",
       "    .dataframe thead th {\n",
       "        text-align: right;\n",
       "    }\n",
       "</style>\n",
       "<table border=\"1\" class=\"dataframe\">\n",
       "  <thead>\n",
       "    <tr style=\"text-align: right;\">\n",
       "      <th></th>\n",
       "      <th>id</th>\n",
       "      <th>error</th>\n",
       "      <th>title</th>\n",
       "      <th>abstract</th>\n",
       "      <th>year</th>\n",
       "      <th>lg</th>\n",
       "    </tr>\n",
       "  </thead>\n",
       "  <tbody>\n",
       "    <tr>\n",
       "      <th>11</th>\n",
       "      <td>W02-1409</td>\n",
       "      <td>Noisy data: wrong language (sk)</td>\n",
       "      <td>An {LCS}-Based Approach for Analyzing {J}apane...</td>\n",
       "      <td>Hr q sr g &amp;g h i 5j k ml on qp &amp;j r es p at uk...</td>\n",
       "      <td>2002</td>\n",
       "      <td>sk</td>\n",
       "    </tr>\n",
       "    <tr>\n",
       "      <th>17</th>\n",
       "      <td>N01-1004</td>\n",
       "      <td>Noisy data: wrong language (sq)</td>\n",
       "      <td>Why Inverse Document Frequency?</td>\n",
       "      <td>NaN</td>\n",
       "      <td>2001</td>\n",
       "      <td>sq</td>\n",
       "    </tr>\n",
       "    <tr>\n",
       "      <th>47</th>\n",
       "      <td>C02-1165</td>\n",
       "      <td>Noisy data: wrong language (da)</td>\n",
       "      <td>Complexity of Event Structure in {IE} Scenarios</td>\n",
       "      <td>NaN</td>\n",
       "      <td>2002</td>\n",
       "      <td>da</td>\n",
       "    </tr>\n",
       "    <tr>\n",
       "      <th>49</th>\n",
       "      <td>2012.iwslt-evaluation.16</td>\n",
       "      <td>Noisy data: wrong language (de)</td>\n",
       "      <td>The {NICT} translation system for {IWSLT} 2012</td>\n",
       "      <td>NaN</td>\n",
       "      <td>2012</td>\n",
       "      <td>de</td>\n",
       "    </tr>\n",
       "    <tr>\n",
       "      <th>51</th>\n",
       "      <td>C00-2136</td>\n",
       "      <td>Noisy data: wrong language (da)</td>\n",
       "      <td>Automatic Acquisition of Domain Knowledge for ...</td>\n",
       "      <td>NaN</td>\n",
       "      <td>2000</td>\n",
       "      <td>da</td>\n",
       "    </tr>\n",
       "    <tr>\n",
       "      <th>...</th>\n",
       "      <td>...</td>\n",
       "      <td>...</td>\n",
       "      <td>...</td>\n",
       "      <td>...</td>\n",
       "      <td>...</td>\n",
       "      <td>...</td>\n",
       "    </tr>\n",
       "    <tr>\n",
       "      <th>10791</th>\n",
       "      <td>W04-0864</td>\n",
       "      <td>Noisy data: wrong language (so)</td>\n",
       "      <td>Some experiments with a Naive {B}ayes {WSD} sy...</td>\n",
       "      <td>NaN</td>\n",
       "      <td>2004</td>\n",
       "      <td>so</td>\n",
       "    </tr>\n",
       "    <tr>\n",
       "      <th>10792</th>\n",
       "      <td>W04-1512</td>\n",
       "      <td>Noisy data: wrong language (sq)</td>\n",
       "      <td>Dependencies as Categories</td>\n",
       "      <td>NaN</td>\n",
       "      <td>2004</td>\n",
       "      <td>sq</td>\n",
       "    </tr>\n",
       "    <tr>\n",
       "      <th>10806</th>\n",
       "      <td>P00-1069</td>\n",
       "      <td>Noisy data: wrong language (da)</td>\n",
       "      <td>Word Sense Disambiguation by Learning from Unl...</td>\n",
       "      <td>NaN</td>\n",
       "      <td>2000</td>\n",
       "      <td>da</td>\n",
       "    </tr>\n",
       "    <tr>\n",
       "      <th>10820</th>\n",
       "      <td>P04-3009</td>\n",
       "      <td>Noisy data: wrong language (da)</td>\n",
       "      <td>Wide Coverage Symbolic Surface Realization</td>\n",
       "      <td>NaN</td>\n",
       "      <td>2004</td>\n",
       "      <td>da</td>\n",
       "    </tr>\n",
       "    <tr>\n",
       "      <th>10821</th>\n",
       "      <td>2021.americasnlp-1.20</td>\n",
       "      <td>Noisy data: wrong language (es)</td>\n",
       "      <td>Explicit Tone Transcription Improves {ASR} Per...</td>\n",
       "      <td>Linguistic tone is transcribed for input into ...</td>\n",
       "      <td>2021</td>\n",
       "      <td>es</td>\n",
       "    </tr>\n",
       "  </tbody>\n",
       "</table>\n",
       "<p>1427 rows × 6 columns</p>\n",
       "</div>"
      ],
      "text/plain": [
       "                             id                            error  \\\n",
       "11                     W02-1409  Noisy data: wrong language (sk)   \n",
       "17                     N01-1004  Noisy data: wrong language (sq)   \n",
       "47                     C02-1165  Noisy data: wrong language (da)   \n",
       "49     2012.iwslt-evaluation.16  Noisy data: wrong language (de)   \n",
       "51                     C00-2136  Noisy data: wrong language (da)   \n",
       "...                         ...                              ...   \n",
       "10791                  W04-0864  Noisy data: wrong language (so)   \n",
       "10792                  W04-1512  Noisy data: wrong language (sq)   \n",
       "10806                  P00-1069  Noisy data: wrong language (da)   \n",
       "10820                  P04-3009  Noisy data: wrong language (da)   \n",
       "10821     2021.americasnlp-1.20  Noisy data: wrong language (es)   \n",
       "\n",
       "                                                   title  \\\n",
       "11     An {LCS}-Based Approach for Analyzing {J}apane...   \n",
       "17                       Why Inverse Document Frequency?   \n",
       "47       Complexity of Event Structure in {IE} Scenarios   \n",
       "49        The {NICT} translation system for {IWSLT} 2012   \n",
       "51     Automatic Acquisition of Domain Knowledge for ...   \n",
       "...                                                  ...   \n",
       "10791  Some experiments with a Naive {B}ayes {WSD} sy...   \n",
       "10792                         Dependencies as Categories   \n",
       "10806  Word Sense Disambiguation by Learning from Unl...   \n",
       "10820         Wide Coverage Symbolic Surface Realization   \n",
       "10821  Explicit Tone Transcription Improves {ASR} Per...   \n",
       "\n",
       "                                                abstract  year  lg  \n",
       "11     Hr q sr g &g h i 5j k ml on qp &j r es p at uk...  2002  sk  \n",
       "17                                                   NaN  2001  sq  \n",
       "47                                                   NaN  2002  da  \n",
       "49                                                   NaN  2012  de  \n",
       "51                                                   NaN  2000  da  \n",
       "...                                                  ...   ...  ..  \n",
       "10791                                                NaN  2004  so  \n",
       "10792                                                NaN  2004  sq  \n",
       "10806                                                NaN  2000  da  \n",
       "10820                                                NaN  2004  da  \n",
       "10821  Linguistic tone is transcribed for input into ...  2021  es  \n",
       "\n",
       "[1427 rows x 6 columns]"
      ]
     },
     "execution_count": 77,
     "metadata": {},
     "output_type": "execute_result"
    }
   ],
   "source": [
    "# plot a graph for all the different types of languages contained in the corpus\n",
    "import re\n",
    "df_errors_lg = df_errors[df_errors[\"error\"].str.startswith(\"Noisy data: wrong language\")]\n",
    "df_errors_lg[\"lg\"] = df_errors_lg[\"error\"].apply(lambda x: re.match(re.compile(\"Noisy data: wrong language (\\(.*\\))\"), x).group(1).strip(\"()\"))\n",
    "df_errors_lg"
   ]
  },
  {
   "cell_type": "code",
   "execution_count": 78,
   "metadata": {},
   "outputs": [
    {
     "data": {
      "text/html": [
       "<div>\n",
       "<style scoped>\n",
       "    .dataframe tbody tr th:only-of-type {\n",
       "        vertical-align: middle;\n",
       "    }\n",
       "\n",
       "    .dataframe tbody tr th {\n",
       "        vertical-align: top;\n",
       "    }\n",
       "\n",
       "    .dataframe thead th {\n",
       "        text-align: right;\n",
       "    }\n",
       "</style>\n",
       "<table border=\"1\" class=\"dataframe\">\n",
       "  <thead>\n",
       "    <tr style=\"text-align: right;\">\n",
       "      <th></th>\n",
       "      <th>id</th>\n",
       "      <th>error</th>\n",
       "      <th>title</th>\n",
       "      <th>abstract</th>\n",
       "      <th>year</th>\n",
       "    </tr>\n",
       "    <tr>\n",
       "      <th>lg</th>\n",
       "      <th></th>\n",
       "      <th></th>\n",
       "      <th></th>\n",
       "      <th></th>\n",
       "      <th></th>\n",
       "    </tr>\n",
       "  </thead>\n",
       "  <tbody>\n",
       "    <tr>\n",
       "      <th>fr</th>\n",
       "      <td>636</td>\n",
       "      <td>636</td>\n",
       "      <td>636</td>\n",
       "      <td>584</td>\n",
       "      <td>636</td>\n",
       "    </tr>\n",
       "    <tr>\n",
       "      <th>da</th>\n",
       "      <td>155</td>\n",
       "      <td>155</td>\n",
       "      <td>155</td>\n",
       "      <td>12</td>\n",
       "      <td>155</td>\n",
       "    </tr>\n",
       "    <tr>\n",
       "      <th>zh-tw</th>\n",
       "      <td>148</td>\n",
       "      <td>148</td>\n",
       "      <td>148</td>\n",
       "      <td>6</td>\n",
       "      <td>148</td>\n",
       "    </tr>\n",
       "    <tr>\n",
       "      <th>pt</th>\n",
       "      <td>124</td>\n",
       "      <td>124</td>\n",
       "      <td>124</td>\n",
       "      <td>75</td>\n",
       "      <td>124</td>\n",
       "    </tr>\n",
       "    <tr>\n",
       "      <th>de</th>\n",
       "      <td>76</td>\n",
       "      <td>76</td>\n",
       "      <td>76</td>\n",
       "      <td>7</td>\n",
       "      <td>76</td>\n",
       "    </tr>\n",
       "    <tr>\n",
       "      <th>no</th>\n",
       "      <td>40</td>\n",
       "      <td>40</td>\n",
       "      <td>40</td>\n",
       "      <td>6</td>\n",
       "      <td>40</td>\n",
       "    </tr>\n",
       "    <tr>\n",
       "      <th>sv</th>\n",
       "      <td>38</td>\n",
       "      <td>38</td>\n",
       "      <td>38</td>\n",
       "      <td>11</td>\n",
       "      <td>38</td>\n",
       "    </tr>\n",
       "    <tr>\n",
       "      <th>sq</th>\n",
       "      <td>34</td>\n",
       "      <td>34</td>\n",
       "      <td>34</td>\n",
       "      <td>9</td>\n",
       "      <td>34</td>\n",
       "    </tr>\n",
       "    <tr>\n",
       "      <th>vi</th>\n",
       "      <td>26</td>\n",
       "      <td>26</td>\n",
       "      <td>26</td>\n",
       "      <td>7</td>\n",
       "      <td>26</td>\n",
       "    </tr>\n",
       "    <tr>\n",
       "      <th>pl</th>\n",
       "      <td>21</td>\n",
       "      <td>21</td>\n",
       "      <td>21</td>\n",
       "      <td>7</td>\n",
       "      <td>21</td>\n",
       "    </tr>\n",
       "    <tr>\n",
       "      <th>so</th>\n",
       "      <td>21</td>\n",
       "      <td>21</td>\n",
       "      <td>21</td>\n",
       "      <td>3</td>\n",
       "      <td>21</td>\n",
       "    </tr>\n",
       "    <tr>\n",
       "      <th>fi</th>\n",
       "      <td>12</td>\n",
       "      <td>12</td>\n",
       "      <td>12</td>\n",
       "      <td>12</td>\n",
       "      <td>12</td>\n",
       "    </tr>\n",
       "    <tr>\n",
       "      <th>it</th>\n",
       "      <td>12</td>\n",
       "      <td>12</td>\n",
       "      <td>12</td>\n",
       "      <td>5</td>\n",
       "      <td>12</td>\n",
       "    </tr>\n",
       "    <tr>\n",
       "      <th>tr</th>\n",
       "      <td>11</td>\n",
       "      <td>11</td>\n",
       "      <td>11</td>\n",
       "      <td>1</td>\n",
       "      <td>11</td>\n",
       "    </tr>\n",
       "    <tr>\n",
       "      <th>es</th>\n",
       "      <td>10</td>\n",
       "      <td>10</td>\n",
       "      <td>10</td>\n",
       "      <td>4</td>\n",
       "      <td>10</td>\n",
       "    </tr>\n",
       "    <tr>\n",
       "      <th>hu</th>\n",
       "      <td>10</td>\n",
       "      <td>10</td>\n",
       "      <td>10</td>\n",
       "      <td>5</td>\n",
       "      <td>10</td>\n",
       "    </tr>\n",
       "    <tr>\n",
       "      <th>sl</th>\n",
       "      <td>8</td>\n",
       "      <td>8</td>\n",
       "      <td>8</td>\n",
       "      <td>3</td>\n",
       "      <td>8</td>\n",
       "    </tr>\n",
       "    <tr>\n",
       "      <th>sk</th>\n",
       "      <td>8</td>\n",
       "      <td>8</td>\n",
       "      <td>8</td>\n",
       "      <td>2</td>\n",
       "      <td>8</td>\n",
       "    </tr>\n",
       "    <tr>\n",
       "      <th>nl</th>\n",
       "      <td>8</td>\n",
       "      <td>8</td>\n",
       "      <td>8</td>\n",
       "      <td>2</td>\n",
       "      <td>8</td>\n",
       "    </tr>\n",
       "    <tr>\n",
       "      <th>bn</th>\n",
       "      <td>6</td>\n",
       "      <td>6</td>\n",
       "      <td>6</td>\n",
       "      <td>0</td>\n",
       "      <td>6</td>\n",
       "    </tr>\n",
       "    <tr>\n",
       "      <th>cs</th>\n",
       "      <td>5</td>\n",
       "      <td>5</td>\n",
       "      <td>5</td>\n",
       "      <td>1</td>\n",
       "      <td>5</td>\n",
       "    </tr>\n",
       "    <tr>\n",
       "      <th>hr</th>\n",
       "      <td>4</td>\n",
       "      <td>4</td>\n",
       "      <td>4</td>\n",
       "      <td>0</td>\n",
       "      <td>4</td>\n",
       "    </tr>\n",
       "    <tr>\n",
       "      <th>et</th>\n",
       "      <td>3</td>\n",
       "      <td>3</td>\n",
       "      <td>3</td>\n",
       "      <td>3</td>\n",
       "      <td>3</td>\n",
       "    </tr>\n",
       "    <tr>\n",
       "      <th>ro</th>\n",
       "      <td>2</td>\n",
       "      <td>2</td>\n",
       "      <td>2</td>\n",
       "      <td>0</td>\n",
       "      <td>2</td>\n",
       "    </tr>\n",
       "    <tr>\n",
       "      <th>id</th>\n",
       "      <td>2</td>\n",
       "      <td>2</td>\n",
       "      <td>2</td>\n",
       "      <td>0</td>\n",
       "      <td>2</td>\n",
       "    </tr>\n",
       "    <tr>\n",
       "      <th>ru</th>\n",
       "      <td>1</td>\n",
       "      <td>1</td>\n",
       "      <td>1</td>\n",
       "      <td>1</td>\n",
       "      <td>1</td>\n",
       "    </tr>\n",
       "    <tr>\n",
       "      <th>lt</th>\n",
       "      <td>1</td>\n",
       "      <td>1</td>\n",
       "      <td>1</td>\n",
       "      <td>0</td>\n",
       "      <td>1</td>\n",
       "    </tr>\n",
       "    <tr>\n",
       "      <th>ja</th>\n",
       "      <td>1</td>\n",
       "      <td>1</td>\n",
       "      <td>1</td>\n",
       "      <td>1</td>\n",
       "      <td>1</td>\n",
       "    </tr>\n",
       "    <tr>\n",
       "      <th>hi</th>\n",
       "      <td>1</td>\n",
       "      <td>1</td>\n",
       "      <td>1</td>\n",
       "      <td>1</td>\n",
       "      <td>1</td>\n",
       "    </tr>\n",
       "    <tr>\n",
       "      <th>sw</th>\n",
       "      <td>1</td>\n",
       "      <td>1</td>\n",
       "      <td>1</td>\n",
       "      <td>1</td>\n",
       "      <td>1</td>\n",
       "    </tr>\n",
       "    <tr>\n",
       "      <th>zh-cn</th>\n",
       "      <td>1</td>\n",
       "      <td>1</td>\n",
       "      <td>1</td>\n",
       "      <td>0</td>\n",
       "      <td>1</td>\n",
       "    </tr>\n",
       "    <tr>\n",
       "      <th>af</th>\n",
       "      <td>1</td>\n",
       "      <td>1</td>\n",
       "      <td>1</td>\n",
       "      <td>1</td>\n",
       "      <td>1</td>\n",
       "    </tr>\n",
       "  </tbody>\n",
       "</table>\n",
       "</div>"
      ],
      "text/plain": [
       "        id  error  title  abstract  year\n",
       "lg                                      \n",
       "fr     636    636    636       584   636\n",
       "da     155    155    155        12   155\n",
       "zh-tw  148    148    148         6   148\n",
       "pt     124    124    124        75   124\n",
       "de      76     76     76         7    76\n",
       "no      40     40     40         6    40\n",
       "sv      38     38     38        11    38\n",
       "sq      34     34     34         9    34\n",
       "vi      26     26     26         7    26\n",
       "pl      21     21     21         7    21\n",
       "so      21     21     21         3    21\n",
       "fi      12     12     12        12    12\n",
       "it      12     12     12         5    12\n",
       "tr      11     11     11         1    11\n",
       "es      10     10     10         4    10\n",
       "hu      10     10     10         5    10\n",
       "sl       8      8      8         3     8\n",
       "sk       8      8      8         2     8\n",
       "nl       8      8      8         2     8\n",
       "bn       6      6      6         0     6\n",
       "cs       5      5      5         1     5\n",
       "hr       4      4      4         0     4\n",
       "et       3      3      3         3     3\n",
       "ro       2      2      2         0     2\n",
       "id       2      2      2         0     2\n",
       "ru       1      1      1         1     1\n",
       "lt       1      1      1         0     1\n",
       "ja       1      1      1         1     1\n",
       "hi       1      1      1         1     1\n",
       "sw       1      1      1         1     1\n",
       "zh-cn    1      1      1         0     1\n",
       "af       1      1      1         1     1"
      ]
     },
     "execution_count": 78,
     "metadata": {},
     "output_type": "execute_result"
    }
   ],
   "source": [
    "from matplotlib import pyplot as plt\n",
    "\n",
    "counts = df_errors_lg.groupby(\"lg\").count().sort_values(\"id\", ascending=False)\n",
    "counts"
   ]
  },
  {
   "cell_type": "code",
   "execution_count": 79,
   "metadata": {},
   "outputs": [
    {
     "data": {
      "image/png": "[encoded data removed]",
      "text/plain": [
       "<Figure size 640x480 with 1 Axes>"
      ]
     },
     "metadata": {},
     "output_type": "display_data"
    }
   ],
   "source": [
    "# plot a pie chart to show the repartition of languages in the corpus\n",
    "languages = [lg for lg in list(counts.index) if counts.loc[lg, \"id\"] >= 10]\n",
    "values = [count for count in list(counts.id) if count >=10]\n",
    "\n",
    "# Label distance: gives the space between labels and the center of the pie\n",
    "plt.pie(values, labels=languages, labeldistance=.8, autopct='%1.1f%%',\n",
    "       pctdistance=1.1, textprops = {\"fontsize\": 8}, rotatelabels = False, radius = 1.5)\n",
    "plt.show()"
   ]
  },
  {
   "cell_type": "markdown",
   "metadata": {},
   "source": [
    "#### `Paper` objects"
   ]
  },
  {
   "cell_type": "code",
   "execution_count": 80,
   "metadata": {},
   "outputs": [
    {
     "name": "stdout",
     "output_type": "stream",
     "text": [
      "R13-1012\n",
      "A unified lexical processing framework based on the Margin Infused Relaxed Algorithm. A case study on the {R}omanian Language\n",
      "General natural language processing and text-to-speech applications require certain (lexical level) processing steps in order to solve some frequent tasks such as lemmatization, syllabification, lexical stress prediction and phonetic transcription. These steps usually require knowledge of the word's lexical composition (derivative morphology, inflectional affixes, etc.). For known words all applications use lexicons, but there are always out-of-vocabulary (OOV) words that impede the performance of NLP and speech synthesis applications. In such cases, either rule based or data-driven techniques are used to automatically process these OOV words and generate the desired results. In this paper we describe how the above mentioned tasks can be achieved using a Perceptron with the Margin Infused Relaxed Algorithm (MIRA) and sequence labeling.\n",
      "2013\n"
     ]
    }
   ],
   "source": [
    "# an example of a Paper object\n",
    "p = corpus_ACL.papers[123]\n",
    "\n",
    "# some metadata\n",
    "print(p.id)\n",
    "print(p.title)\n",
    "print(p.abstract)\n",
    "print(p.year)"
   ]
  },
  {
   "cell_type": "code",
   "execution_count": 82,
   "metadata": {},
   "outputs": [
    {
     "name": "stdout",
     "output_type": "stream",
     "text": [
      "ACL\n"
     ]
    }
   ],
   "source": [
    "# the Corpus to which the Paper belongs\n",
    "print(p.corpus)"
   ]
  },
  {
   "cell_type": "code",
   "execution_count": 84,
   "metadata": {},
   "outputs": [
    {
     "name": "stdout",
     "output_type": "stream",
     "text": [
      "[<utils.Author.Author object at 0x0000024DACEC2D50>]\n",
      "['Boro{\\\\textcommabelow{s}}', 'Tiberiu']\n",
      "[]\n"
     ]
    }
   ],
   "source": [
    "# the authors of the paper\n",
    "print(p.authors)\n",
    "for auth in p.authors:\n",
    "    print(auth.names)\n",
    "    print(auth.norm_names) # TO DO: store the normalized names in the json file"
   ]
  },
  {
   "cell_type": "markdown",
   "metadata": {},
   "source": [
    "More importantly, we have access to the content of the Paper:"
   ]
  },
  {
   "cell_type": "code",
   "execution_count": 85,
   "metadata": {},
   "outputs": [
    {
     "data": {
      "text/html": [
       "<div>\n",
       "<style scoped>\n",
       "    .dataframe tbody tr th:only-of-type {\n",
       "        vertical-align: middle;\n",
       "    }\n",
       "\n",
       "    .dataframe tbody tr th {\n",
       "        vertical-align: top;\n",
       "    }\n",
       "\n",
       "    .dataframe thead th {\n",
       "        text-align: right;\n",
       "    }\n",
       "</style>\n",
       "<table border=\"1\" class=\"dataframe\">\n",
       "  <thead>\n",
       "    <tr style=\"text-align: right;\">\n",
       "      <th></th>\n",
       "      <th>id</th>\n",
       "      <th>sentence</th>\n",
       "      <th>section</th>\n",
       "      <th>candidate</th>\n",
       "    </tr>\n",
       "  </thead>\n",
       "  <tbody>\n",
       "    <tr>\n",
       "      <th>0</th>\n",
       "      <td>0</td>\n",
       "      <td>General natural language processing and text-t...</td>\n",
       "      <td>abstract</td>\n",
       "      <td>True</td>\n",
       "    </tr>\n",
       "    <tr>\n",
       "      <th>1</th>\n",
       "      <td>1</td>\n",
       "      <td>These steps usually require knowledge of the w...</td>\n",
       "      <td>abstract</td>\n",
       "      <td>True</td>\n",
       "    </tr>\n",
       "    <tr>\n",
       "      <th>2</th>\n",
       "      <td>2</td>\n",
       "      <td>For known words all applications use lexicons,...</td>\n",
       "      <td>abstract</td>\n",
       "      <td>True</td>\n",
       "    </tr>\n",
       "    <tr>\n",
       "      <th>3</th>\n",
       "      <td>3</td>\n",
       "      <td>In such cases, either rule based or data-drive...</td>\n",
       "      <td>abstract</td>\n",
       "      <td>True</td>\n",
       "    </tr>\n",
       "    <tr>\n",
       "      <th>4</th>\n",
       "      <td>4</td>\n",
       "      <td>In this paper we describe how the above mentio...</td>\n",
       "      <td>abstract</td>\n",
       "      <td>True</td>\n",
       "    </tr>\n",
       "    <tr>\n",
       "      <th>...</th>\n",
       "      <td>...</td>\n",
       "      <td>...</td>\n",
       "      <td>...</td>\n",
       "      <td>...</td>\n",
       "    </tr>\n",
       "    <tr>\n",
       "      <th>128</th>\n",
       "      <td>128</td>\n",
       "      <td>We presented a unified data-driven framework t...</td>\n",
       "      <td>Conclusions</td>\n",
       "      <td>True</td>\n",
       "    </tr>\n",
       "    <tr>\n",
       "      <th>129</th>\n",
       "      <td>129</td>\n",
       "      <td>Although, our main focus was on Romanian, the ...</td>\n",
       "      <td>Conclusions</td>\n",
       "      <td>True</td>\n",
       "    </tr>\n",
       "    <tr>\n",
       "      <th>130</th>\n",
       "      <td>130</td>\n",
       "      <td>Our results are better than state-of-the-art r...</td>\n",
       "      <td>Conclusions</td>\n",
       "      <td>True</td>\n",
       "    </tr>\n",
       "    <tr>\n",
       "      <th>131</th>\n",
       "      <td>131</td>\n",
       "      <td>In this context, we should emphasize that we s...</td>\n",
       "      <td>Conclusions</td>\n",
       "      <td>True</td>\n",
       "    </tr>\n",
       "    <tr>\n",
       "      <th>132</th>\n",
       "      <td>132</td>\n",
       "      <td>The methods we presented are already implement...</td>\n",
       "      <td>Conclusions</td>\n",
       "      <td>True</td>\n",
       "    </tr>\n",
       "  </tbody>\n",
       "</table>\n",
       "<p>133 rows × 4 columns</p>\n",
       "</div>"
      ],
      "text/plain": [
       "      id                                           sentence      section  \\\n",
       "0      0  General natural language processing and text-t...     abstract   \n",
       "1      1  These steps usually require knowledge of the w...     abstract   \n",
       "2      2  For known words all applications use lexicons,...     abstract   \n",
       "3      3  In such cases, either rule based or data-drive...     abstract   \n",
       "4      4  In this paper we describe how the above mentio...     abstract   \n",
       "..   ...                                                ...          ...   \n",
       "128  128  We presented a unified data-driven framework t...  Conclusions   \n",
       "129  129  Although, our main focus was on Romanian, the ...  Conclusions   \n",
       "130  130  Our results are better than state-of-the-art r...  Conclusions   \n",
       "131  131  In this context, we should emphasize that we s...  Conclusions   \n",
       "132  132  The methods we presented are already implement...  Conclusions   \n",
       "\n",
       "     candidate  \n",
       "0         True  \n",
       "1         True  \n",
       "2         True  \n",
       "3         True  \n",
       "4         True  \n",
       "..         ...  \n",
       "128       True  \n",
       "129       True  \n",
       "130       True  \n",
       "131       True  \n",
       "132       True  \n",
       "\n",
       "[133 rows x 4 columns]"
      ]
     },
     "execution_count": 85,
     "metadata": {},
     "output_type": "execute_result"
    }
   ],
   "source": [
    "p.content"
   ]
  },
  {
   "cell_type": "markdown",
   "metadata": {},
   "source": [
    "We can separately look at the candidate sentences (potential claims) and the non candidate ones (those who belong to a section which should, a priori, not contain claims). ONLY RELEVANT FOR ANNOTATION (WHEN SELECTING IRC PAPERS)."
   ]
  },
  {
   "cell_type": "code",
   "execution_count": 87,
   "metadata": {},
   "outputs": [
    {
     "data": {
      "text/html": [
       "<div>\n",
       "<style scoped>\n",
       "    .dataframe tbody tr th:only-of-type {\n",
       "        vertical-align: middle;\n",
       "    }\n",
       "\n",
       "    .dataframe tbody tr th {\n",
       "        vertical-align: top;\n",
       "    }\n",
       "\n",
       "    .dataframe thead th {\n",
       "        text-align: right;\n",
       "    }\n",
       "</style>\n",
       "<table border=\"1\" class=\"dataframe\">\n",
       "  <thead>\n",
       "    <tr style=\"text-align: right;\">\n",
       "      <th></th>\n",
       "      <th>id</th>\n",
       "      <th>sentence</th>\n",
       "      <th>section</th>\n",
       "      <th>candidate</th>\n",
       "    </tr>\n",
       "  </thead>\n",
       "  <tbody>\n",
       "    <tr>\n",
       "      <th>0</th>\n",
       "      <td>0</td>\n",
       "      <td>General natural language processing and text-t...</td>\n",
       "      <td>abstract</td>\n",
       "      <td>True</td>\n",
       "    </tr>\n",
       "    <tr>\n",
       "      <th>1</th>\n",
       "      <td>1</td>\n",
       "      <td>These steps usually require knowledge of the w...</td>\n",
       "      <td>abstract</td>\n",
       "      <td>True</td>\n",
       "    </tr>\n",
       "    <tr>\n",
       "      <th>2</th>\n",
       "      <td>2</td>\n",
       "      <td>For known words all applications use lexicons,...</td>\n",
       "      <td>abstract</td>\n",
       "      <td>True</td>\n",
       "    </tr>\n",
       "    <tr>\n",
       "      <th>3</th>\n",
       "      <td>3</td>\n",
       "      <td>In such cases, either rule based or data-drive...</td>\n",
       "      <td>abstract</td>\n",
       "      <td>True</td>\n",
       "    </tr>\n",
       "    <tr>\n",
       "      <th>4</th>\n",
       "      <td>4</td>\n",
       "      <td>In this paper we describe how the above mentio...</td>\n",
       "      <td>abstract</td>\n",
       "      <td>True</td>\n",
       "    </tr>\n",
       "    <tr>\n",
       "      <th>...</th>\n",
       "      <td>...</td>\n",
       "      <td>...</td>\n",
       "      <td>...</td>\n",
       "      <td>...</td>\n",
       "    </tr>\n",
       "    <tr>\n",
       "      <th>128</th>\n",
       "      <td>128</td>\n",
       "      <td>We presented a unified data-driven framework t...</td>\n",
       "      <td>Conclusions</td>\n",
       "      <td>True</td>\n",
       "    </tr>\n",
       "    <tr>\n",
       "      <th>129</th>\n",
       "      <td>129</td>\n",
       "      <td>Although, our main focus was on Romanian, the ...</td>\n",
       "      <td>Conclusions</td>\n",
       "      <td>True</td>\n",
       "    </tr>\n",
       "    <tr>\n",
       "      <th>130</th>\n",
       "      <td>130</td>\n",
       "      <td>Our results are better than state-of-the-art r...</td>\n",
       "      <td>Conclusions</td>\n",
       "      <td>True</td>\n",
       "    </tr>\n",
       "    <tr>\n",
       "      <th>131</th>\n",
       "      <td>131</td>\n",
       "      <td>In this context, we should emphasize that we s...</td>\n",
       "      <td>Conclusions</td>\n",
       "      <td>True</td>\n",
       "    </tr>\n",
       "    <tr>\n",
       "      <th>132</th>\n",
       "      <td>132</td>\n",
       "      <td>The methods we presented are already implement...</td>\n",
       "      <td>Conclusions</td>\n",
       "      <td>True</td>\n",
       "    </tr>\n",
       "  </tbody>\n",
       "</table>\n",
       "<p>95 rows × 4 columns</p>\n",
       "</div>"
      ],
      "text/plain": [
       "      id                                           sentence      section  \\\n",
       "0      0  General natural language processing and text-t...     abstract   \n",
       "1      1  These steps usually require knowledge of the w...     abstract   \n",
       "2      2  For known words all applications use lexicons,...     abstract   \n",
       "3      3  In such cases, either rule based or data-drive...     abstract   \n",
       "4      4  In this paper we describe how the above mentio...     abstract   \n",
       "..   ...                                                ...          ...   \n",
       "128  128  We presented a unified data-driven framework t...  Conclusions   \n",
       "129  129  Although, our main focus was on Romanian, the ...  Conclusions   \n",
       "130  130  Our results are better than state-of-the-art r...  Conclusions   \n",
       "131  131  In this context, we should emphasize that we s...  Conclusions   \n",
       "132  132  The methods we presented are already implement...  Conclusions   \n",
       "\n",
       "     candidate  \n",
       "0         True  \n",
       "1         True  \n",
       "2         True  \n",
       "3         True  \n",
       "4         True  \n",
       "..         ...  \n",
       "128       True  \n",
       "129       True  \n",
       "130       True  \n",
       "131       True  \n",
       "132       True  \n",
       "\n",
       "[95 rows x 4 columns]"
      ]
     },
     "execution_count": 87,
     "metadata": {},
     "output_type": "execute_result"
    }
   ],
   "source": [
    "p.content[p.content[\"candidate\"] == True]"
   ]
  },
  {
   "cell_type": "code",
   "execution_count": 88,
   "metadata": {},
   "outputs": [
    {
     "data": {
      "text/html": [
       "<div>\n",
       "<style scoped>\n",
       "    .dataframe tbody tr th:only-of-type {\n",
       "        vertical-align: middle;\n",
       "    }\n",
       "\n",
       "    .dataframe tbody tr th {\n",
       "        vertical-align: top;\n",
       "    }\n",
       "\n",
       "    .dataframe thead th {\n",
       "        text-align: right;\n",
       "    }\n",
       "</style>\n",
       "<table border=\"1\" class=\"dataframe\">\n",
       "  <thead>\n",
       "    <tr style=\"text-align: right;\">\n",
       "      <th></th>\n",
       "      <th>id</th>\n",
       "      <th>sentence</th>\n",
       "      <th>section</th>\n",
       "      <th>candidate</th>\n",
       "    </tr>\n",
       "  </thead>\n",
       "  <tbody>\n",
       "    <tr>\n",
       "      <th>12</th>\n",
       "      <td>12</td>\n",
       "      <td>There are various methods proposed in the lite...</td>\n",
       "      <td>Lexical processing with MIRA</td>\n",
       "      <td>False</td>\n",
       "    </tr>\n",
       "    <tr>\n",
       "      <th>13</th>\n",
       "      <td>13</td>\n",
       "      <td>For each of them, we will offer a short litera...</td>\n",
       "      <td>Lexical processing with MIRA</td>\n",
       "      <td>False</td>\n",
       "    </tr>\n",
       "    <tr>\n",
       "      <th>14</th>\n",
       "      <td>14</td>\n",
       "      <td>The previously proposed methods vary from rule...</td>\n",
       "      <td>Lexical processing with MIRA</td>\n",
       "      <td>False</td>\n",
       "    </tr>\n",
       "    <tr>\n",
       "      <th>15</th>\n",
       "      <td>15</td>\n",
       "      <td>While these are all powerful methodologies, we...</td>\n",
       "      <td>Lexical processing with MIRA</td>\n",
       "      <td>False</td>\n",
       "    </tr>\n",
       "    <tr>\n",
       "      <th>16</th>\n",
       "      <td>16</td>\n",
       "      <td>All the lexical processing methods that we pro...</td>\n",
       "      <td>Lexical processing with MIRA</td>\n",
       "      <td>False</td>\n",
       "    </tr>\n",
       "    <tr>\n",
       "      <th>17</th>\n",
       "      <td>17</td>\n",
       "      <td>the tests are reported on OOV words, as we ass...</td>\n",
       "      <td>Lexical processing with MIRA</td>\n",
       "      <td>False</td>\n",
       "    </tr>\n",
       "    <tr>\n",
       "      <th>86</th>\n",
       "      <td>86</td>\n",
       "      <td>Phonetic transcription (PT; also referred to a...</td>\n",
       "      <td>Phonetic transcription</td>\n",
       "      <td>False</td>\n",
       "    </tr>\n",
       "    <tr>\n",
       "      <th>87</th>\n",
       "      <td>87</td>\n",
       "      <td>For Romanian, phonetic transcription rules are...</td>\n",
       "      <td>Phonetic transcription</td>\n",
       "      <td>False</td>\n",
       "    </tr>\n",
       "    <tr>\n",
       "      <th>88</th>\n",
       "      <td>88</td>\n",
       "      <td>For the purpose of language independence, data...</td>\n",
       "      <td>Phonetic transcription</td>\n",
       "      <td>False</td>\n",
       "    </tr>\n",
       "    <tr>\n",
       "      <th>89</th>\n",
       "      <td>89</td>\n",
       "      <td>Several Machine Learning (ML) methods have bee...</td>\n",
       "      <td>Phonetic transcription</td>\n",
       "      <td>False</td>\n",
       "    </tr>\n",
       "    <tr>\n",
       "      <th>90</th>\n",
       "      <td>90</td>\n",
       "      <td>(1998), Jiampojamarn et al. (2008), Pagel et al.</td>\n",
       "      <td>Phonetic transcription</td>\n",
       "      <td>False</td>\n",
       "    </tr>\n",
       "    <tr>\n",
       "      <th>91</th>\n",
       "      <td>91</td>\n",
       "      <td>(1998), Bisani and Ney (2002), Marchand and Da...</td>\n",
       "      <td>Phonetic transcription</td>\n",
       "      <td>False</td>\n",
       "    </tr>\n",
       "    <tr>\n",
       "      <th>92</th>\n",
       "      <td>92</td>\n",
       "      <td>Jiampojamarn et al. (2008) presented a MIRA ba...</td>\n",
       "      <td>Phonetic transcription</td>\n",
       "      <td>False</td>\n",
       "    </tr>\n",
       "    <tr>\n",
       "      <th>93</th>\n",
       "      <td>93</td>\n",
       "      <td>Their best result on the English CMU lexicon w...</td>\n",
       "      <td>Phonetic transcription</td>\n",
       "      <td>False</td>\n",
       "    </tr>\n",
       "    <tr>\n",
       "      <th>94</th>\n",
       "      <td>94</td>\n",
       "      <td>However, the feature template provided in thei...</td>\n",
       "      <td>Phonetic transcription</td>\n",
       "      <td>False</td>\n",
       "    </tr>\n",
       "    <tr>\n",
       "      <th>95</th>\n",
       "      <td>95</td>\n",
       "      <td>Instead we came up with a different one, which...</td>\n",
       "      <td>Phonetic transcription</td>\n",
       "      <td>False</td>\n",
       "    </tr>\n",
       "    <tr>\n",
       "      <th>96</th>\n",
       "      <td>96</td>\n",
       "      <td>-2 ,l -1 ,l), (l,l 1 ,l 2 ), (l,l 1 ,l 2 ,l 3 ...</td>\n",
       "      <td>Phonetic transcription</td>\n",
       "      <td>False</td>\n",
       "    </tr>\n",
       "    <tr>\n",
       "      <th>97</th>\n",
       "      <td>97</td>\n",
       "      <td>All the data-driven methods for phonetic trans...</td>\n",
       "      <td>Phonetic transcription</td>\n",
       "      <td>False</td>\n",
       "    </tr>\n",
       "    <tr>\n",
       "      <th>98</th>\n",
       "      <td>98</td>\n",
       "      <td>For so-called phonetic (or pseudo-phonetic) la...</td>\n",
       "      <td>Phonetic transcription</td>\n",
       "      <td>False</td>\n",
       "    </tr>\n",
       "    <tr>\n",
       "      <th>99</th>\n",
       "      <td>99</td>\n",
       "      <td>However, there are several issues, common to s...</td>\n",
       "      <td>Phonetic transcription</td>\n",
       "      <td>False</td>\n",
       "    </tr>\n",
       "    <tr>\n",
       "      <th>100</th>\n",
       "      <td>100</td>\n",
       "      <td>The simplest example is that not all words hav...</td>\n",
       "      <td>Phonetic transcription</td>\n",
       "      <td>False</td>\n",
       "    </tr>\n",
       "    <tr>\n",
       "      <th>101</th>\n",
       "      <td>101</td>\n",
       "      <td>Expectation-Maximization (EM) can be used to f...</td>\n",
       "      <td>Phonetic transcription</td>\n",
       "      <td>False</td>\n",
       "    </tr>\n",
       "    <tr>\n",
       "      <th>102</th>\n",
       "      <td>102</td>\n",
       "      <td>Although it is arguable that in the case of Ro...</td>\n",
       "      <td>Phonetic transcription</td>\n",
       "      <td>False</td>\n",
       "    </tr>\n",
       "    <tr>\n",
       "      <th>106</th>\n",
       "      <td>106</td>\n",
       "      <td>In natural speech certain syllables inside a w...</td>\n",
       "      <td>Lexical stress prediction</td>\n",
       "      <td>False</td>\n",
       "    </tr>\n",
       "    <tr>\n",
       "      <th>107</th>\n",
       "      <td>107</td>\n",
       "      <td>When this phenomenon occurs, it is said that t...</td>\n",
       "      <td>Lexical stress prediction</td>\n",
       "      <td>False</td>\n",
       "    </tr>\n",
       "    <tr>\n",
       "      <th>108</th>\n",
       "      <td>108</td>\n",
       "      <td>Lexical stress prediction is critical in proso...</td>\n",
       "      <td>Lexical stress prediction</td>\n",
       "      <td>False</td>\n",
       "    </tr>\n",
       "    <tr>\n",
       "      <th>109</th>\n",
       "      <td>109</td>\n",
       "      <td>Oancea and Bădulescu (2003) introduced their r...</td>\n",
       "      <td>Lexical stress prediction</td>\n",
       "      <td>False</td>\n",
       "    </tr>\n",
       "    <tr>\n",
       "      <th>110</th>\n",
       "      <td>110</td>\n",
       "      <td>They trained and tested their method on the sa...</td>\n",
       "      <td>Lexical stress prediction</td>\n",
       "      <td>False</td>\n",
       "    </tr>\n",
       "    <tr>\n",
       "      <th>111</th>\n",
       "      <td>111</td>\n",
       "      <td>Ungurean et al.</td>\n",
       "      <td>Lexical stress prediction</td>\n",
       "      <td>False</td>\n",
       "    </tr>\n",
       "    <tr>\n",
       "      <th>112</th>\n",
       "      <td>112</td>\n",
       "      <td>(2009) used Katz back-off smoothing, for lexic...</td>\n",
       "      <td>Lexical stress prediction</td>\n",
       "      <td>False</td>\n",
       "    </tr>\n",
       "    <tr>\n",
       "      <th>113</th>\n",
       "      <td>113</td>\n",
       "      <td>Their algorithm works by calculating the proba...</td>\n",
       "      <td>Lexical stress prediction</td>\n",
       "      <td>False</td>\n",
       "    </tr>\n",
       "    <tr>\n",
       "      <th>114</th>\n",
       "      <td>114</td>\n",
       "      <td>According to their evaluation, this method ach...</td>\n",
       "      <td>Lexical stress prediction</td>\n",
       "      <td>False</td>\n",
       "    </tr>\n",
       "    <tr>\n",
       "      <th>115</th>\n",
       "      <td>115</td>\n",
       "      <td>Our tagging strategy is inspired after the num...</td>\n",
       "      <td>Lexical stress prediction with MIRA</td>\n",
       "      <td>False</td>\n",
       "    </tr>\n",
       "    <tr>\n",
       "      <th>116</th>\n",
       "      <td>116</td>\n",
       "      <td>In this case we designed a numbered tagging st...</td>\n",
       "      <td>Lexical stress prediction with MIRA</td>\n",
       "      <td>False</td>\n",
       "    </tr>\n",
       "    <tr>\n",
       "      <th>117</th>\n",
       "      <td>117</td>\n",
       "      <td>To exemplify, we will show the labels for the ...</td>\n",
       "      <td>Lexical stress prediction with MIRA</td>\n",
       "      <td>False</td>\n",
       "    </tr>\n",
       "    <tr>\n",
       "      <th>118</th>\n",
       "      <td>118</td>\n",
       "      <td>This type of encoding is available for Romania...</td>\n",
       "      <td>Lexical stress prediction with MIRA</td>\n",
       "      <td>False</td>\n",
       "    </tr>\n",
       "    <tr>\n",
       "      <th>119</th>\n",
       "      <td>119</td>\n",
       "      <td>For other languages, which support multiple de...</td>\n",
       "      <td>Lexical stress prediction with MIRA</td>\n",
       "      <td>False</td>\n",
       "    </tr>\n",
       "    <tr>\n",
       "      <th>126</th>\n",
       "      <td>126</td>\n",
       "      <td>The lexical feature templates we used for lexi...</td>\n",
       "      <td>POS</td>\n",
       "      <td>False</td>\n",
       "    </tr>\n",
       "  </tbody>\n",
       "</table>\n",
       "</div>"
      ],
      "text/plain": [
       "      id                                           sentence  \\\n",
       "12    12  There are various methods proposed in the lite...   \n",
       "13    13  For each of them, we will offer a short litera...   \n",
       "14    14  The previously proposed methods vary from rule...   \n",
       "15    15  While these are all powerful methodologies, we...   \n",
       "16    16  All the lexical processing methods that we pro...   \n",
       "17    17  the tests are reported on OOV words, as we ass...   \n",
       "86    86  Phonetic transcription (PT; also referred to a...   \n",
       "87    87  For Romanian, phonetic transcription rules are...   \n",
       "88    88  For the purpose of language independence, data...   \n",
       "89    89  Several Machine Learning (ML) methods have bee...   \n",
       "90    90   (1998), Jiampojamarn et al. (2008), Pagel et al.   \n",
       "91    91  (1998), Bisani and Ney (2002), Marchand and Da...   \n",
       "92    92  Jiampojamarn et al. (2008) presented a MIRA ba...   \n",
       "93    93  Their best result on the English CMU lexicon w...   \n",
       "94    94  However, the feature template provided in thei...   \n",
       "95    95  Instead we came up with a different one, which...   \n",
       "96    96  -2 ,l -1 ,l), (l,l 1 ,l 2 ), (l,l 1 ,l 2 ,l 3 ...   \n",
       "97    97  All the data-driven methods for phonetic trans...   \n",
       "98    98  For so-called phonetic (or pseudo-phonetic) la...   \n",
       "99    99  However, there are several issues, common to s...   \n",
       "100  100  The simplest example is that not all words hav...   \n",
       "101  101  Expectation-Maximization (EM) can be used to f...   \n",
       "102  102  Although it is arguable that in the case of Ro...   \n",
       "106  106  In natural speech certain syllables inside a w...   \n",
       "107  107  When this phenomenon occurs, it is said that t...   \n",
       "108  108  Lexical stress prediction is critical in proso...   \n",
       "109  109  Oancea and Bădulescu (2003) introduced their r...   \n",
       "110  110  They trained and tested their method on the sa...   \n",
       "111  111                                    Ungurean et al.   \n",
       "112  112  (2009) used Katz back-off smoothing, for lexic...   \n",
       "113  113  Their algorithm works by calculating the proba...   \n",
       "114  114  According to their evaluation, this method ach...   \n",
       "115  115  Our tagging strategy is inspired after the num...   \n",
       "116  116  In this case we designed a numbered tagging st...   \n",
       "117  117  To exemplify, we will show the labels for the ...   \n",
       "118  118  This type of encoding is available for Romania...   \n",
       "119  119  For other languages, which support multiple de...   \n",
       "126  126  The lexical feature templates we used for lexi...   \n",
       "\n",
       "                                 section  candidate  \n",
       "12          Lexical processing with MIRA      False  \n",
       "13          Lexical processing with MIRA      False  \n",
       "14          Lexical processing with MIRA      False  \n",
       "15          Lexical processing with MIRA      False  \n",
       "16          Lexical processing with MIRA      False  \n",
       "17          Lexical processing with MIRA      False  \n",
       "86                Phonetic transcription      False  \n",
       "87                Phonetic transcription      False  \n",
       "88                Phonetic transcription      False  \n",
       "89                Phonetic transcription      False  \n",
       "90                Phonetic transcription      False  \n",
       "91                Phonetic transcription      False  \n",
       "92                Phonetic transcription      False  \n",
       "93                Phonetic transcription      False  \n",
       "94                Phonetic transcription      False  \n",
       "95                Phonetic transcription      False  \n",
       "96                Phonetic transcription      False  \n",
       "97                Phonetic transcription      False  \n",
       "98                Phonetic transcription      False  \n",
       "99                Phonetic transcription      False  \n",
       "100               Phonetic transcription      False  \n",
       "101               Phonetic transcription      False  \n",
       "102               Phonetic transcription      False  \n",
       "106            Lexical stress prediction      False  \n",
       "107            Lexical stress prediction      False  \n",
       "108            Lexical stress prediction      False  \n",
       "109            Lexical stress prediction      False  \n",
       "110            Lexical stress prediction      False  \n",
       "111            Lexical stress prediction      False  \n",
       "112            Lexical stress prediction      False  \n",
       "113            Lexical stress prediction      False  \n",
       "114            Lexical stress prediction      False  \n",
       "115  Lexical stress prediction with MIRA      False  \n",
       "116  Lexical stress prediction with MIRA      False  \n",
       "117  Lexical stress prediction with MIRA      False  \n",
       "118  Lexical stress prediction with MIRA      False  \n",
       "119  Lexical stress prediction with MIRA      False  \n",
       "126                                  POS      False  "
      ]
     },
     "execution_count": 88,
     "metadata": {},
     "output_type": "execute_result"
    }
   ],
   "source": [
    "p.content[p.content[\"candidate\"] == False]"
   ]
  },
  {
   "cell_type": "code",
   "execution_count": 90,
   "metadata": {},
   "outputs": [
    {
     "data": {
      "image/png": "[encoded data removed]",
      "text/plain": [
       "<Figure size 640x480 with 1 Axes>"
      ]
     },
     "metadata": {},
     "output_type": "display_data"
    }
   ],
   "source": [
    "# distribution of years of the papers in the corpus\n",
    "years = [int(p.year) for p in corpus_ACL.papers]\n",
    "plt.hist(years, bins=range(min(years), max(years) + 1))\n",
    "plt.title(\"Distribution of years of papers in the ACL corpus\")\n",
    "plt.show()"
   ]
  },
  {
   "cell_type": "code",
   "execution_count": 91,
   "metadata": {},
   "outputs": [
    {
     "name": "stdout",
     "output_type": "stream",
     "text": [
      "9401\n"
     ]
    },
    {
     "data": {
      "image/png": "[encoded data removed]",
      "text/plain": [
       "<Figure size 640x480 with 1 Axes>"
      ]
     },
     "metadata": {},
     "output_type": "display_data"
    }
   ],
   "source": [
    "parsing_error_papers = [p for p in corpus_ACL.papers_with_errors if p.init_error.lower().startswith(\"parsing error\")]\n",
    "print(len(parsing_error_papers))\n",
    "\n",
    "years = [int(p.year) for p in parsing_error_papers]\n",
    "plt.hist(years, bins=range(min(years), max(years) + 1))\n",
    "plt.title(\"Distribution of years of papers with parsing errors\")\n",
    "plt.show()"
   ]
  },
  {
   "cell_type": "markdown",
   "metadata": {},
   "source": [
    "## B. ArXiv corpus"
   ]
  },
  {
   "cell_type": "markdown",
   "metadata": {},
   "source": [
    "### 1. Initial corpus inspection"
   ]
  },
  {
   "cell_type": "markdown",
   "metadata": {},
   "source": [
    "We load the initial metadata of the entire ArXiv corpus, available on Kaggle."
   ]
  },
  {
   "cell_type": "code",
   "execution_count": 2,
   "metadata": {},
   "outputs": [
    {
     "name": "stderr",
     "output_type": "stream",
     "text": [
      "2431375it [01:20, 66423.69it/s]"
     ]
    }
   ],
   "source": [
    "data = []\n",
    "with open(\"../data/arxiv/arxiv-metadata-oai-snapshot.json\", \"r\", errors = \"ignore\", encoding = \"utf-8\") as f:\n",
    "    for line in tqdm.tqdm(f):\n",
    "        data.append(json.loads(line))\n",
    "\n",
    "df = pd.DataFrame(data)"
   ]
  },
  {
   "cell_type": "code",
   "execution_count": 12,
   "metadata": {},
   "outputs": [
    {
     "name": "stdout",
     "output_type": "stream",
     "text": [
      "(2445865, 14)\n"
     ]
    },
    {
     "data": {
      "text/html": [
       "<div>\n",
       "<style scoped>\n",
       "    .dataframe tbody tr th:only-of-type {\n",
       "        vertical-align: middle;\n",
       "    }\n",
       "\n",
       "    .dataframe tbody tr th {\n",
       "        vertical-align: top;\n",
       "    }\n",
       "\n",
       "    .dataframe thead th {\n",
       "        text-align: right;\n",
       "    }\n",
       "</style>\n",
       "<table border=\"1\" class=\"dataframe\">\n",
       "  <thead>\n",
       "    <tr style=\"text-align: right;\">\n",
       "      <th></th>\n",
       "      <th>id</th>\n",
       "      <th>submitter</th>\n",
       "      <th>authors</th>\n",
       "      <th>title</th>\n",
       "      <th>comments</th>\n",
       "      <th>journal-ref</th>\n",
       "      <th>doi</th>\n",
       "      <th>report-no</th>\n",
       "      <th>categories</th>\n",
       "      <th>license</th>\n",
       "      <th>abstract</th>\n",
       "      <th>versions</th>\n",
       "      <th>update_date</th>\n",
       "      <th>authors_parsed</th>\n",
       "    </tr>\n",
       "  </thead>\n",
       "  <tbody>\n",
       "    <tr>\n",
       "      <th>0</th>\n",
       "      <td>0704.0001</td>\n",
       "      <td>Pavel Nadolsky</td>\n",
       "      <td>C. Bal\\'azs, E. L. Berger, P. M. Nadolsky, C.-...</td>\n",
       "      <td>Calculation of prompt diphoton production cros...</td>\n",
       "      <td>37 pages, 15 figures; published version</td>\n",
       "      <td>Phys.Rev.D76:013009,2007</td>\n",
       "      <td>10.1103/PhysRevD.76.013009</td>\n",
       "      <td>ANL-HEP-PR-07-12</td>\n",
       "      <td>hep-ph</td>\n",
       "      <td>None</td>\n",
       "      <td>A fully differential calculation in perturba...</td>\n",
       "      <td>[{'version': 'v1', 'created': 'Mon, 2 Apr 2007...</td>\n",
       "      <td>2008-11-26</td>\n",
       "      <td>[[Balázs, C., ], [Berger, E. L., ], [Nadolsky,...</td>\n",
       "    </tr>\n",
       "    <tr>\n",
       "      <th>1</th>\n",
       "      <td>0704.0002</td>\n",
       "      <td>Louis Theran</td>\n",
       "      <td>Ileana Streinu and Louis Theran</td>\n",
       "      <td>Sparsity-certifying Graph Decompositions</td>\n",
       "      <td>To appear in Graphs and Combinatorics</td>\n",
       "      <td>None</td>\n",
       "      <td>None</td>\n",
       "      <td>None</td>\n",
       "      <td>math.CO cs.CG</td>\n",
       "      <td>http://arxiv.org/licenses/nonexclusive-distrib...</td>\n",
       "      <td>We describe a new algorithm, the $(k,\\ell)$-...</td>\n",
       "      <td>[{'version': 'v1', 'created': 'Sat, 31 Mar 200...</td>\n",
       "      <td>2008-12-13</td>\n",
       "      <td>[[Streinu, Ileana, ], [Theran, Louis, ]]</td>\n",
       "    </tr>\n",
       "    <tr>\n",
       "      <th>2</th>\n",
       "      <td>0704.0003</td>\n",
       "      <td>Hongjun Pan</td>\n",
       "      <td>Hongjun Pan</td>\n",
       "      <td>The evolution of the Earth-Moon system based o...</td>\n",
       "      <td>23 pages, 3 figures</td>\n",
       "      <td>None</td>\n",
       "      <td>None</td>\n",
       "      <td>None</td>\n",
       "      <td>physics.gen-ph</td>\n",
       "      <td>None</td>\n",
       "      <td>The evolution of Earth-Moon system is descri...</td>\n",
       "      <td>[{'version': 'v1', 'created': 'Sun, 1 Apr 2007...</td>\n",
       "      <td>2008-01-13</td>\n",
       "      <td>[[Pan, Hongjun, ]]</td>\n",
       "    </tr>\n",
       "    <tr>\n",
       "      <th>3</th>\n",
       "      <td>0704.0004</td>\n",
       "      <td>David Callan</td>\n",
       "      <td>David Callan</td>\n",
       "      <td>A determinant of Stirling cycle numbers counts...</td>\n",
       "      <td>11 pages</td>\n",
       "      <td>None</td>\n",
       "      <td>None</td>\n",
       "      <td>None</td>\n",
       "      <td>math.CO</td>\n",
       "      <td>None</td>\n",
       "      <td>We show that a determinant of Stirling cycle...</td>\n",
       "      <td>[{'version': 'v1', 'created': 'Sat, 31 Mar 200...</td>\n",
       "      <td>2007-05-23</td>\n",
       "      <td>[[Callan, David, ]]</td>\n",
       "    </tr>\n",
       "    <tr>\n",
       "      <th>4</th>\n",
       "      <td>0704.0005</td>\n",
       "      <td>Alberto Torchinsky</td>\n",
       "      <td>Wael Abu-Shammala and Alberto Torchinsky</td>\n",
       "      <td>From dyadic $\\Lambda_{\\alpha}$ to $\\Lambda_{\\a...</td>\n",
       "      <td>None</td>\n",
       "      <td>Illinois J. Math. 52 (2008) no.2, 681-689</td>\n",
       "      <td>None</td>\n",
       "      <td>None</td>\n",
       "      <td>math.CA math.FA</td>\n",
       "      <td>None</td>\n",
       "      <td>In this paper we show how to compute the $\\L...</td>\n",
       "      <td>[{'version': 'v1', 'created': 'Mon, 2 Apr 2007...</td>\n",
       "      <td>2013-10-15</td>\n",
       "      <td>[[Abu-Shammala, Wael, ], [Torchinsky, Alberto, ]]</td>\n",
       "    </tr>\n",
       "  </tbody>\n",
       "</table>\n",
       "</div>"
      ],
      "text/plain": [
       "          id           submitter  \\\n",
       "0  0704.0001      Pavel Nadolsky   \n",
       "1  0704.0002        Louis Theran   \n",
       "2  0704.0003         Hongjun Pan   \n",
       "3  0704.0004        David Callan   \n",
       "4  0704.0005  Alberto Torchinsky   \n",
       "\n",
       "                                             authors  \\\n",
       "0  C. Bal\\'azs, E. L. Berger, P. M. Nadolsky, C.-...   \n",
       "1                    Ileana Streinu and Louis Theran   \n",
       "2                                        Hongjun Pan   \n",
       "3                                       David Callan   \n",
       "4           Wael Abu-Shammala and Alberto Torchinsky   \n",
       "\n",
       "                                               title  \\\n",
       "0  Calculation of prompt diphoton production cros...   \n",
       "1           Sparsity-certifying Graph Decompositions   \n",
       "2  The evolution of the Earth-Moon system based o...   \n",
       "3  A determinant of Stirling cycle numbers counts...   \n",
       "4  From dyadic $\\Lambda_{\\alpha}$ to $\\Lambda_{\\a...   \n",
       "\n",
       "                                  comments  \\\n",
       "0  37 pages, 15 figures; published version   \n",
       "1    To appear in Graphs and Combinatorics   \n",
       "2                      23 pages, 3 figures   \n",
       "3                                 11 pages   \n",
       "4                                     None   \n",
       "\n",
       "                                 journal-ref                         doi  \\\n",
       "0                   Phys.Rev.D76:013009,2007  10.1103/PhysRevD.76.013009   \n",
       "1                                       None                        None   \n",
       "2                                       None                        None   \n",
       "3                                       None                        None   \n",
       "4  Illinois J. Math. 52 (2008) no.2, 681-689                        None   \n",
       "\n",
       "          report-no       categories  \\\n",
       "0  ANL-HEP-PR-07-12           hep-ph   \n",
       "1              None    math.CO cs.CG   \n",
       "2              None   physics.gen-ph   \n",
       "3              None          math.CO   \n",
       "4              None  math.CA math.FA   \n",
       "\n",
       "                                             license  \\\n",
       "0                                               None   \n",
       "1  http://arxiv.org/licenses/nonexclusive-distrib...   \n",
       "2                                               None   \n",
       "3                                               None   \n",
       "4                                               None   \n",
       "\n",
       "                                            abstract  \\\n",
       "0    A fully differential calculation in perturba...   \n",
       "1    We describe a new algorithm, the $(k,\\ell)$-...   \n",
       "2    The evolution of Earth-Moon system is descri...   \n",
       "3    We show that a determinant of Stirling cycle...   \n",
       "4    In this paper we show how to compute the $\\L...   \n",
       "\n",
       "                                            versions update_date  \\\n",
       "0  [{'version': 'v1', 'created': 'Mon, 2 Apr 2007...  2008-11-26   \n",
       "1  [{'version': 'v1', 'created': 'Sat, 31 Mar 200...  2008-12-13   \n",
       "2  [{'version': 'v1', 'created': 'Sun, 1 Apr 2007...  2008-01-13   \n",
       "3  [{'version': 'v1', 'created': 'Sat, 31 Mar 200...  2007-05-23   \n",
       "4  [{'version': 'v1', 'created': 'Mon, 2 Apr 2007...  2013-10-15   \n",
       "\n",
       "                                      authors_parsed  \n",
       "0  [[Balázs, C., ], [Berger, E. L., ], [Nadolsky,...  \n",
       "1           [[Streinu, Ileana, ], [Theran, Louis, ]]  \n",
       "2                                 [[Pan, Hongjun, ]]  \n",
       "3                                [[Callan, David, ]]  \n",
       "4  [[Abu-Shammala, Wael, ], [Torchinsky, Alberto, ]]  "
      ]
     },
     "execution_count": 12,
     "metadata": {},
     "output_type": "execute_result"
    }
   ],
   "source": [
    "print(df.shape)\n",
    "df.head()"
   ]
  },
  {
   "cell_type": "markdown",
   "metadata": {},
   "source": [
    "We see that it is very large, but we will only keep the articles having the cs.CL category (Computational Linguistics), possibly among others."
   ]
  },
  {
   "cell_type": "code",
   "execution_count": 13,
   "metadata": {},
   "outputs": [
    {
     "name": "stdout",
     "output_type": "stream",
     "text": [
      "(59167, 14)\n"
     ]
    }
   ],
   "source": [
    "df_NLP = df[df[\"categories\"].str.contains(\"cs.CL\")]\n",
    "print(df_NLP.shape)"
   ]
  },
  {
   "cell_type": "code",
   "execution_count": 2,
   "metadata": {},
   "outputs": [],
   "source": [
    "#df_NLP.to_csv(\"../data/arxiv/arxiv-metadata-nlp.csv\", index = False)\n",
    "df_NLP = pd.read_csv(\"../data/arxiv/arxiv-metadata-nlp.csv\")"
   ]
  },
  {
   "cell_type": "code",
   "execution_count": 3,
   "metadata": {},
   "outputs": [
    {
     "data": {
      "text/html": [
       "<div>\n",
       "<style scoped>\n",
       "    .dataframe tbody tr th:only-of-type {\n",
       "        vertical-align: middle;\n",
       "    }\n",
       "\n",
       "    .dataframe tbody tr th {\n",
       "        vertical-align: top;\n",
       "    }\n",
       "\n",
       "    .dataframe thead th {\n",
       "        text-align: right;\n",
       "    }\n",
       "</style>\n",
       "<table border=\"1\" class=\"dataframe\">\n",
       "  <thead>\n",
       "    <tr style=\"text-align: right;\">\n",
       "      <th></th>\n",
       "      <th>id</th>\n",
       "      <th>submitter</th>\n",
       "      <th>authors</th>\n",
       "      <th>title</th>\n",
       "      <th>comments</th>\n",
       "      <th>journal-ref</th>\n",
       "      <th>doi</th>\n",
       "      <th>report-no</th>\n",
       "      <th>categories</th>\n",
       "      <th>license</th>\n",
       "      <th>abstract</th>\n",
       "      <th>versions</th>\n",
       "      <th>update_date</th>\n",
       "      <th>authors_parsed</th>\n",
       "    </tr>\n",
       "  </thead>\n",
       "  <tbody>\n",
       "    <tr>\n",
       "      <th>0</th>\n",
       "      <td>0704.2083</td>\n",
       "      <td>Hassan Satori</td>\n",
       "      <td>H. Satori, M. Harti and N. Chenfour</td>\n",
       "      <td>Introduction to Arabic Speech Recognition Usin...</td>\n",
       "      <td>4 pages, 3 figures and 2 tables, was in Inform...</td>\n",
       "      <td>NaN</td>\n",
       "      <td>NaN</td>\n",
       "      <td>NaN</td>\n",
       "      <td>cs.CL cs.AI</td>\n",
       "      <td>NaN</td>\n",
       "      <td>In this paper Arabic was investigated from t...</td>\n",
       "      <td>[{'version': 'v1', 'created': 'Tue, 17 Apr 200...</td>\n",
       "      <td>2007-05-23</td>\n",
       "      <td>[['Satori', 'H.', ''], ['Harti', 'M.', ''], ['...</td>\n",
       "    </tr>\n",
       "    <tr>\n",
       "      <th>1</th>\n",
       "      <td>0704.2201</td>\n",
       "      <td>Hassan Satori</td>\n",
       "      <td>H. Satori, M. Harti and N. Chenfour</td>\n",
       "      <td>Arabic Speech Recognition System using CMU-Sph...</td>\n",
       "      <td>5 pages, 3 figures and 2 tables, in French</td>\n",
       "      <td>NaN</td>\n",
       "      <td>NaN</td>\n",
       "      <td>NaN</td>\n",
       "      <td>cs.CL cs.AI</td>\n",
       "      <td>NaN</td>\n",
       "      <td>In this paper we present the creation of an ...</td>\n",
       "      <td>[{'version': 'v1', 'created': 'Tue, 17 Apr 200...</td>\n",
       "      <td>2007-05-23</td>\n",
       "      <td>[['Satori', 'H.', ''], ['Harti', 'M.', ''], ['...</td>\n",
       "    </tr>\n",
       "    <tr>\n",
       "      <th>2</th>\n",
       "      <td>0704.3662</td>\n",
       "      <td>Tian-Jian Jiang</td>\n",
       "      <td>Mike Tian-Jian Jiang, James Zhan, Jaimie Lin, ...</td>\n",
       "      <td>An Automated Evaluation Metric for Chinese Tex...</td>\n",
       "      <td>8 pages</td>\n",
       "      <td>Jiang, Mike Tian-Jian, et al. \"Robustness anal...</td>\n",
       "      <td>NaN</td>\n",
       "      <td>NaN</td>\n",
       "      <td>cs.HC cs.CL</td>\n",
       "      <td>NaN</td>\n",
       "      <td>In this paper, we propose an automated evalu...</td>\n",
       "      <td>[{'version': 'v1', 'created': 'Fri, 27 Apr 200...</td>\n",
       "      <td>2013-10-29</td>\n",
       "      <td>[['Jiang', 'Mike Tian-Jian', ''], ['Zhan', 'Ja...</td>\n",
       "    </tr>\n",
       "    <tr>\n",
       "      <th>3</th>\n",
       "      <td>0704.3665</td>\n",
       "      <td>Tian-Jian Jiang</td>\n",
       "      <td>Mike Tian-Jian Jiang, Deng Liu, Meng-Juei Hsie...</td>\n",
       "      <td>On the Development of Text Input Method - Less...</td>\n",
       "      <td>10 pages</td>\n",
       "      <td>NaN</td>\n",
       "      <td>NaN</td>\n",
       "      <td>NaN</td>\n",
       "      <td>cs.CL cs.HC</td>\n",
       "      <td>NaN</td>\n",
       "      <td>Intelligent Input Methods (IM) are essential...</td>\n",
       "      <td>[{'version': 'v1', 'created': 'Fri, 27 Apr 200...</td>\n",
       "      <td>2007-05-23</td>\n",
       "      <td>[['Jiang', 'Mike Tian-Jian', ''], ['Liu', 'Den...</td>\n",
       "    </tr>\n",
       "    <tr>\n",
       "      <th>4</th>\n",
       "      <td>0704.3708</td>\n",
       "      <td>Bernat Corominas-Murtra BCM</td>\n",
       "      <td>Bernat Corominas-Murtra</td>\n",
       "      <td>Network statistics on early English Syntax: St...</td>\n",
       "      <td>New abstract. Due to a mistake, abstract from ...</td>\n",
       "      <td>NaN</td>\n",
       "      <td>NaN</td>\n",
       "      <td>NaN</td>\n",
       "      <td>cs.CL</td>\n",
       "      <td>NaN</td>\n",
       "      <td>This paper includes a reflection on the role...</td>\n",
       "      <td>[{'version': 'v1', 'created': 'Fri, 27 Apr 200...</td>\n",
       "      <td>2007-05-23</td>\n",
       "      <td>[['Corominas-Murtra', 'Bernat', '']]</td>\n",
       "    </tr>\n",
       "  </tbody>\n",
       "</table>\n",
       "</div>"
      ],
      "text/plain": [
       "          id                    submitter  \\\n",
       "0  0704.2083                Hassan Satori   \n",
       "1  0704.2201                Hassan Satori   \n",
       "2  0704.3662              Tian-Jian Jiang   \n",
       "3  0704.3665              Tian-Jian Jiang   \n",
       "4  0704.3708  Bernat Corominas-Murtra BCM   \n",
       "\n",
       "                                             authors  \\\n",
       "0                H. Satori, M. Harti and N. Chenfour   \n",
       "1                H. Satori, M. Harti and N. Chenfour   \n",
       "2  Mike Tian-Jian Jiang, James Zhan, Jaimie Lin, ...   \n",
       "3  Mike Tian-Jian Jiang, Deng Liu, Meng-Juei Hsie...   \n",
       "4                            Bernat Corominas-Murtra   \n",
       "\n",
       "                                               title  \\\n",
       "0  Introduction to Arabic Speech Recognition Usin...   \n",
       "1  Arabic Speech Recognition System using CMU-Sph...   \n",
       "2  An Automated Evaluation Metric for Chinese Tex...   \n",
       "3  On the Development of Text Input Method - Less...   \n",
       "4  Network statistics on early English Syntax: St...   \n",
       "\n",
       "                                            comments  \\\n",
       "0  4 pages, 3 figures and 2 tables, was in Inform...   \n",
       "1         5 pages, 3 figures and 2 tables, in French   \n",
       "2                                            8 pages   \n",
       "3                                           10 pages   \n",
       "4  New abstract. Due to a mistake, abstract from ...   \n",
       "\n",
       "                                         journal-ref  doi report-no  \\\n",
       "0                                                NaN  NaN       NaN   \n",
       "1                                                NaN  NaN       NaN   \n",
       "2  Jiang, Mike Tian-Jian, et al. \"Robustness anal...  NaN       NaN   \n",
       "3                                                NaN  NaN       NaN   \n",
       "4                                                NaN  NaN       NaN   \n",
       "\n",
       "    categories license                                           abstract  \\\n",
       "0  cs.CL cs.AI     NaN    In this paper Arabic was investigated from t...   \n",
       "1  cs.CL cs.AI     NaN    In this paper we present the creation of an ...   \n",
       "2  cs.HC cs.CL     NaN    In this paper, we propose an automated evalu...   \n",
       "3  cs.CL cs.HC     NaN    Intelligent Input Methods (IM) are essential...   \n",
       "4        cs.CL     NaN    This paper includes a reflection on the role...   \n",
       "\n",
       "                                            versions update_date  \\\n",
       "0  [{'version': 'v1', 'created': 'Tue, 17 Apr 200...  2007-05-23   \n",
       "1  [{'version': 'v1', 'created': 'Tue, 17 Apr 200...  2007-05-23   \n",
       "2  [{'version': 'v1', 'created': 'Fri, 27 Apr 200...  2013-10-29   \n",
       "3  [{'version': 'v1', 'created': 'Fri, 27 Apr 200...  2007-05-23   \n",
       "4  [{'version': 'v1', 'created': 'Fri, 27 Apr 200...  2007-05-23   \n",
       "\n",
       "                                      authors_parsed  \n",
       "0  [['Satori', 'H.', ''], ['Harti', 'M.', ''], ['...  \n",
       "1  [['Satori', 'H.', ''], ['Harti', 'M.', ''], ['...  \n",
       "2  [['Jiang', 'Mike Tian-Jian', ''], ['Zhan', 'Ja...  \n",
       "3  [['Jiang', 'Mike Tian-Jian', ''], ['Liu', 'Den...  \n",
       "4               [['Corominas-Murtra', 'Bernat', '']]  "
      ]
     },
     "execution_count": 3,
     "metadata": {},
     "output_type": "execute_result"
    }
   ],
   "source": [
    "df_NLP.head()"
   ]
  },
  {
   "cell_type": "code",
   "execution_count": 4,
   "metadata": {},
   "outputs": [
    {
     "name": "stdout",
     "output_type": "stream",
     "text": [
      "(8310, 14)\n"
     ]
    },
    {
     "data": {
      "text/plain": [
       "array(['Jiang, Mike Tian-Jian, et al. \"Robustness analysis of adaptive\\n  chinese input methods.\" Advances in Text Input Methods (WTIM 2011) (2011): 53',\n",
       "       'Computer Speech & Language 24(4): 698-710 (2010)',\n",
       "       'Natural Language Engineering 10, 3-4 (09/2004) 211-225',\n",
       "       'Dans Euralex 2000 Euralex 2000, Stuttgart : Allemagne (2000)',\n",
       "       'PhD dissertation, May 1998, Department of Computer Science and\\n  Engineering, Southern Methodist University'],\n",
       "      dtype=object)"
      ]
     },
     "execution_count": 4,
     "metadata": {},
     "output_type": "execute_result"
    }
   ],
   "source": [
    "# find the papers with a journal ref\n",
    "published_NLP = df_NLP[~(df_NLP[\"journal-ref\"].isnull()) | ~(df_NLP[\"doi\"].isnull())]\n",
    "print(published_NLP.shape)\n",
    "published_NLP.head()[\"journal-ref\"].values"
   ]
  },
  {
   "cell_type": "code",
   "execution_count": 20,
   "metadata": {},
   "outputs": [],
   "source": [
    "published_NLP.to_csv(\"../data/arxiv/arxiv-metadata-nlp-published.csv\", index = False)"
   ]
  },
  {
   "cell_type": "markdown",
   "metadata": {},
   "source": [
    "Then we remove papers having a journal ref or a DOI, indicating that they have been published."
   ]
  },
  {
   "cell_type": "code",
   "execution_count": 19,
   "metadata": {},
   "outputs": [
    {
     "name": "stdout",
     "output_type": "stream",
     "text": [
      "(50857, 14)\n"
     ]
    }
   ],
   "source": [
    "unpublished_NLP = df_NLP[df_NLP[\"journal-ref\"].isnull() & df_NLP[\"doi\"].isnull()]\n",
    "print(unpublished_NLP.shape)"
   ]
  },
  {
   "cell_type": "code",
   "execution_count": 21,
   "metadata": {},
   "outputs": [],
   "source": [
    "unpublished_NLP.to_csv(\"../data/arxiv/arxiv-metadata-nlp-unpublished.csv\", index = False)"
   ]
  },
  {
   "cell_type": "markdown",
   "metadata": {},
   "source": [
    "In case the paper has been published after being first put in arXiv, and the authors haven't updated its information, we will check that the title of the paper is not already in the ACL Anthology."
   ]
  },
  {
   "cell_type": "code",
   "execution_count": 22,
   "metadata": {},
   "outputs": [
    {
     "data": {
      "text/plain": [
       "'anautomatedevaluationmetricforchinesetextentry'"
      ]
     },
     "execution_count": 22,
     "metadata": {},
     "output_type": "execute_result"
    }
   ],
   "source": [
    "# gather all (supposedly) unpublished titles from the arxiv NLP corpus\n",
    "all_published_titles = []\n",
    "for t in list(published_NLP[\"title\"]):\n",
    "    #t = utils.Author.Author.normalize_str(t).lower()\n",
    "    nt = re.sub(re.compile('[^a-z]'), \"\", t.lower())\n",
    "    all_published_titles.append((t, nt))\n",
    "\n",
    "all_published_titles[0][1]"
   ]
  },
  {
   "cell_type": "code",
   "execution_count": 23,
   "metadata": {},
   "outputs": [
    {
     "name": "stdout",
     "output_type": "stream",
     "text": [
      "93387\n"
     ]
    },
    {
     "data": {
      "text/plain": [
       "'@inproceedings{zhu-etal-2024-resolving,    title = \"Resolving Transcription Ambiguity in {S}panish: A Hybrid Acoustic-Lexical System for Punctuation Restoration\",    author = \"Zhu, Xiliang  and      Chang, Chia-Tien  and      Gardiner, Shayna  and      Rossouw, David  and      Robertson, Jonas\",    editor = \"Pyatkin, Valentina  and      Fried, Daniel  and      Stengel-Eskin, Elias  and      Stengel-Eskin, Elias  and      Liu, Alisa  and      Pezzelle, Sandro\",    booktitle = \"Proceedings of the Third Workshop on Understanding Implicit and Underspecified Language\",    month = mar,    year = \"2024\",    address = \"Malta\",    publisher = \"Association for Computational Linguistics\",    url = \"https://aclanthology.org/2024.unimplicit-1.3\",    pages = \"33--41\",'"
      ]
     },
     "execution_count": 23,
     "metadata": {},
     "output_type": "execute_result"
    }
   ],
   "source": [
    "# use the full acl anthology to gather all acl papers titles and authors\n",
    "with open(\"C:/Users/cleme/Documents/STAGE/claims-in-NLP/data/acl/anthology.bib\", \"r\", encoding=\"utf-8\", errors = \"ignore\") as f:\n",
    "    antho = str(f.read())\n",
    "\n",
    "papers = [p.replace(\"\\n\", \"\") for p in antho.split(\"\\n}\\n\")]\n",
    "print(len(papers))\n",
    "papers[14]"
   ]
  },
  {
   "cell_type": "code",
   "execution_count": 24,
   "metadata": {},
   "outputs": [
    {
     "name": "stdout",
     "output_type": "stream",
     "text": [
      "['Resolving Transcription Ambiguity in {S}panish: A Hybrid Acoustic-Lexical System for Punctuation Restoration']\n",
      "['Zhu, Xiliang  and      Chang, Chia-Tien  and      Gardiner, Shayna  and      Rossouw, David  and      Robertson, Jonas']\n",
      "['https://aclanthology.org/2024.unimplicit-1.3']\n"
     ]
    }
   ],
   "source": [
    "# example on one paper\n",
    "tp = re.compile(r\" title = \\\"(.*?)\\\",\")\n",
    "ap = re.compile(r\" author = \\\"(.*?)\\\",\")\n",
    "lp = re.compile(r\" url = \\\"(.*?)\\\",\")\n",
    "\n",
    "print(re.findall(tp, papers[14]))\n",
    "print(re.findall(ap, papers[14]))\n",
    "print(re.findall(lp, papers[14]))"
   ]
  },
  {
   "cell_type": "code",
   "execution_count": 25,
   "metadata": {},
   "outputs": [],
   "source": [
    "# collect all the titles and authors of the papers in the anthology\n",
    "import utils.Author\n",
    "antho_papers = []\n",
    "\n",
    "for p in papers:\n",
    "\n",
    "    # catch the title\n",
    "    t = re.findall(tp, p)\n",
    "    if len(t) > 0:\n",
    "        #t = utils.Author.Author.normalize_str(t[0]).lower()\n",
    "        nt = re.sub(re.compile('[^a-z]'), \"\", t[0].lower())\n",
    "    else:\n",
    "        nt = \"\"\n",
    "\n",
    "    # catch the authors\n",
    "    authors = re.findall(ap, p)\n",
    "    if len(authors) > 0:\n",
    "        al = []\n",
    "        als = authors[0].replace(\"\\n\", \"\").split(\" and \")\n",
    "        for a in als:\n",
    "            names = a.split(\",\")\n",
    "            ao = utils.Author.Author(names = [n.strip() for n in names])\n",
    "            ao.normalize_names()\n",
    "            al.append(ao)\n",
    "    else:\n",
    "        al = []\n",
    "\n",
    "    # catch the url\n",
    "    url = re.findall(lp, p)\n",
    "    if len(url) > 0:\n",
    "        u = url[0]\n",
    "    else:\n",
    "        u = \"\"\n",
    "\n",
    "    antho_papers.append(((t, nt), al, u))"
   ]
  },
  {
   "cell_type": "code",
   "execution_count": 26,
   "metadata": {},
   "outputs": [
    {
     "name": "stdout",
     "output_type": "stream",
     "text": [
      "(['Resolving Transcription Ambiguity in {S}panish: A Hybrid Acoustic-Lexical System for Punctuation Restoration'], 'resolvingtranscriptionambiguityinspanishahybridacousticlexicalsystemforpunctuationrestoration')\n",
      "[<utils.Author.Author object at 0x000001CE73283D50>, <utils.Author.Author object at 0x000001CE73282C50>, <utils.Author.Author object at 0x000001CE73282510>, <utils.Author.Author object at 0x000001CE73280C10>, <utils.Author.Author object at 0x000001CE73281D10>]\n",
      "https://aclanthology.org/2024.unimplicit-1.3\n",
      "['Zhu', 'Xiliang']\n",
      "['Chang', 'Chia-Tien']\n"
     ]
    }
   ],
   "source": [
    "print(antho_papers[14][0])\n",
    "print(antho_papers[14][1])\n",
    "print(antho_papers[14][2])\n",
    "print(antho_papers[14][1][0].norm_names)\n",
    "print(antho_papers[14][1][1].norm_names)"
   ]
  },
  {
   "cell_type": "markdown",
   "metadata": {},
   "source": [
    "Find the arxiv papers whose title is already found in the ACL Anthology:"
   ]
  },
  {
   "cell_type": "code",
   "execution_count": 27,
   "metadata": {},
   "outputs": [
    {
     "name": "stdout",
     "output_type": "stream",
     "text": [
      "2265\n"
     ]
    },
    {
     "data": {
      "text/plain": [
       "'bilinguallexiconinductionwithsemisupervisioninnonisometricembeddingspaces'"
      ]
     },
     "execution_count": 27,
     "metadata": {},
     "output_type": "execute_result"
    }
   ],
   "source": [
    "all_ACL_titles = [t_and_a[0][1] for t_and_a in antho_papers]\n",
    "inter = set([t[1] for t in all_published_titles]).intersection(set(all_ACL_titles))\n",
    "print(len(inter))\n",
    "list(inter)[0]"
   ]
  },
  {
   "cell_type": "code",
   "execution_count": null,
   "metadata": {},
   "outputs": [],
   "source": [
    "import editdistance\n",
    "\n",
    "remaining_arxiv_titles = [t[1] for t in all_unpublished_titles if t[1] not in inter]\n",
    "\n",
    "for arxiv_title in tqdm.tqdm(remaining_arxiv_titles):\n",
    "    for acl_title in list(all_ACL_titles):\n",
    "        dist = editdistance.distance(arxiv_title, acl_title)\n",
    "        if dist <= 5:\n",
    "            print(acl_title, arxiv_title)"
   ]
  },
  {
   "cell_type": "code",
   "execution_count": 28,
   "metadata": {},
   "outputs": [
    {
     "name": "stdout",
     "output_type": "stream",
     "text": [
      "(6039, 14)\n"
     ]
    }
   ],
   "source": [
    "# remove from the arxiv NLP corpus the papers that are already in the intersection\n",
    "published_NLP = published_NLP[~published_NLP[\"title\"].str.lower().str.replace(re.compile('[^a-z]'), \"\", regex = True).isin(inter)]\n",
    "print(published_NLP.shape)\n",
    "# reset the index\n",
    "published_NLP.reset_index(drop = True, inplace = True)"
   ]
  },
  {
   "cell_type": "code",
   "execution_count": 29,
   "metadata": {},
   "outputs": [],
   "source": [
    "published_NLP.to_csv(\"../data/arxiv/arxiv-metadata-nlp-published.csv\", index = False)"
   ]
  },
  {
   "cell_type": "code",
   "execution_count": null,
   "metadata": {},
   "outputs": [],
   "source": [
    "unpublished_titles = [p.title for p in ar]\n",
    "for i, row in published_NLP.iterrows():\n",
    "    title = row[\"title\"]\n",
    "    if title in "
   ]
  },
  {
   "cell_type": "code",
   "execution_count": 31,
   "metadata": {},
   "outputs": [
    {
     "data": {
      "text/plain": [
       "'introductiontoarabicspeechrecognitionusingcmusphinxsystem'"
      ]
     },
     "execution_count": 31,
     "metadata": {},
     "output_type": "execute_result"
    }
   ],
   "source": [
    "# gather all (supposedly) unpublished titles from the arxiv NLP corpus\n",
    "all_unpublished_titles = []\n",
    "for t in list(unpublished_NLP[\"title\"]):\n",
    "    #t = utils.Author.Author.normalize_str(t).lower()\n",
    "    nt = re.sub(re.compile('[^a-z]'), \"\", t.lower())\n",
    "    all_unpublished_titles.append((t, nt))\n",
    "\n",
    "all_unpublished_titles[0][1]"
   ]
  },
  {
   "cell_type": "code",
   "execution_count": 32,
   "metadata": {},
   "outputs": [
    {
     "name": "stdout",
     "output_type": "stream",
     "text": [
      "17022\n"
     ]
    },
    {
     "data": {
      "text/plain": [
       "'decompevalevaluatinggeneratedtextsasunsuperviseddecomposedquestionanswering'"
      ]
     },
     "execution_count": 32,
     "metadata": {},
     "output_type": "execute_result"
    }
   ],
   "source": [
    "inter = set([t[1] for t in all_unpublished_titles]).intersection(set(all_ACL_titles))\n",
    "print(len(inter))\n",
    "list(inter)[0]"
   ]
  },
  {
   "cell_type": "code",
   "execution_count": 33,
   "metadata": {},
   "outputs": [
    {
     "name": "stdout",
     "output_type": "stream",
     "text": [
      "(33817, 14)\n"
     ]
    }
   ],
   "source": [
    "# remove from the arxiv NLP corpus the papers that are already in the intersection\n",
    "unpublished_NLP = unpublished_NLP[~unpublished_NLP[\"title\"].str.lower().str.replace(re.compile('[^a-z]'), \"\", regex = True).isin(inter)]\n",
    "# reset the index\n",
    "unpublished_NLP.reset_index(drop = True, inplace = True)\n",
    "unpublished_NLP.to_csv(\"../data/arxiv/arxiv-metadata-nlp-unpublished.csv\", index = False)\n",
    "unpublished_NLP = pd.read_csv(\"../data/arxiv/arxiv-metadata-nlp-unpublished.csv\")\n",
    "print(unpublished_NLP.shape)"
   ]
  },
  {
   "cell_type": "markdown",
   "metadata": {},
   "source": [
    "Inspect the comments:"
   ]
  },
  {
   "cell_type": "code",
   "execution_count": 34,
   "metadata": {},
   "outputs": [
    {
     "data": {
      "text/plain": [
       "['14 pages, 5 figures, unpublished',\n",
       " 'unpublished manuscript',\n",
       " '5 pages, 1 figure, unpublished',\n",
       " '21 pages, 4 figures, 5 tables. Old (2012) unpublished manuscript',\n",
       " 'unpublished',\n",
       " '8 pages, 2010, unpublished',\n",
       " '12 pages, 2014, unpublished',\n",
       " 'Reprint of an unpublished 2010 Working Note',\n",
       " '17 pages, 4 figures, 3 tables, unpublished (comments welcome)',\n",
       " 'unpublished preprint',\n",
       " '8 pages; unpublished contribution to the PharmaCoNER shared task held\\n  as part of BioNLP-OST 2019',\n",
       " 'unpublished short paper',\n",
       " 'An unpublished survey',\n",
       " '2021, non-print, unpublished version',\n",
       " 'Technical report, unpublished']"
      ]
     },
     "execution_count": 34,
     "metadata": {},
     "output_type": "execute_result"
    }
   ],
   "source": [
    "[str(c) for c in unpublished_NLP[\"comments\"].values if \"unpublished\" in str(c)]"
   ]
  },
  {
   "cell_type": "code",
   "execution_count": 35,
   "metadata": {},
   "outputs": [
    {
     "data": {
      "text/plain": [
       "['10 pages, 1 figure, 3 tables, in Russian, short version of the paper\\n  to be published in Proceedings of the Wiki-Conference 2007, Russia, St.\\n  Petersburg, October 27-28. http://tinyurl.com/2czd6e ; v3: +figure; v4: typo\\n  in Table 3; v5: +desc (res_hypo formula); v6: typo',\n",
       " 'latex2e, 8 pages, 1 figure, published in the Proceedings of\\n  Cross-Language Knowledge Induction Workshop, 2005 Cluj-Napoca, held during\\n  the summer school EUROLAN 2005',\n",
       " \"13 pages, to be presented at QI'11, to be published in LNCS\\n  (Springer)\",\n",
       " '11 pages, 2 figures. To be published in the proceedings of Quantum\\n  Interaction 2011',\n",
       " '10 pages, 3 figures, 3 tables, short paper version published in JCDL\\n  2011',\n",
       " '14 pages, 14 figures, published in IJWEST Journal',\n",
       " 'This version supercedes the short version of this paper published in\\n  the proceedings of WWW 2012',\n",
       " \"Draft of the chapter published In: Explorations Across Languages and\\n  Corpora. PALC 2009, ed. by S. Go\\\\'zd\\\\'z-Roszkowski, Peter Lang, 2011, p.\\n  123-133\",\n",
       " \"This is a draft of a book chapter to be published in 2014 by\\n  Scarecrow Press. Please cite as: Yasseri T., Spoerri A., Graham M., and\\n  Kert\\\\'esz J., The most controversial topics in Wikipedia: A multilingual and\\n  geographical analysis. In: Fichman P., Hara N., editors, Global\\n  Wikipedia:International and cross-cultural issues in online collaboration.\\n  Scarecrow Press (2014)\",\n",
       " 'To be published in Journal of the American Society for Information\\n  Science and Technology',\n",
       " '37 pages, 8 figures A short version of this paper was already\\n  published at ECML/PKDD 2012',\n",
       " 'to be published in: Proceedings of the Sixth Text Analysis Conference\\n  (TAC 2013)',\n",
       " '12 pages with 3 figures, to be published in \"International Conference\\n  on Foundations of Computer Science & Technology (CST 2014), Zurich,\\n  Switzerland - January 2014 Proceedings, AIRCC\"',\n",
       " '9 pages, published on International Journal on Computational Sciences\\n  & Applications (IJCSA) Vol.3, No.6, December 2013',\n",
       " 'Presented at Russian Summer School in Information Retrieval (RuSSIR\\n  2014). To be published in Springer Communications in Computer and Information\\n  Science series',\n",
       " 'This paper have been presented and published in 10th International\\n  Conference on Terminology and Artificial Intelligence Proceedings',\n",
       " '10 pages, 2 figures, published at ICLR 2015',\n",
       " '12 pages, published as conference paper at ICLR 2015',\n",
       " '47 pages; 3 figures; 25 tables. Also published as ICSI Technical\\n  Report TR-15-001',\n",
       " '4 pages, 4 figures, not published',\n",
       " 'To be published in the INTERSPEECH 2015 proceedings',\n",
       " 'Conflict between recently published and arxiv versions',\n",
       " '10 pages, published as a conference paper at ICLR 2016',\n",
       " 'To be published in the proceedings of INTERSPEECH 2016',\n",
       " '6 pages, 3 figures, published at IEEE SLT 2016. arXiv admin note:\\n  text overlap with arXiv:1610.05812',\n",
       " 'Re-written abstract and intro, other minor changes throughout. This\\n  version published at AAAI 2017',\n",
       " 'paper accepted on Cicling 2016 conference, will be published in\\n  Springer',\n",
       " 'This is the non-final version of the paper. The final version is\\n  published in the IC3INA 2016 Conference (3-5 Oct. 2016,\\n  http://situs.opi.lipi.go.id/ic3ina2016/). All citation should be directed to\\n  the final version',\n",
       " 'Further experiments were performed on the model using LibriVox speech\\n  dataset and it was found that a Time Distributed CRNN model performed better\\n  and represented our initial ideas about the speaker recognition task better.\\n  The dataset contains speech in three languages - English, Spanish and Czech.\\n  A report on our findings along with experimental results will be published\\n  soon',\n",
       " '30 pages, Accepted to be published in \"Applications of Comparable\\n  Corpora\", Berlin: Language Science Press',\n",
       " '16 pages, accepted to be published in \"Applications of Comparable\\n  Corpora\", Berlin: Language Science Press',\n",
       " \"4 pages, 1 figure, published at ICWSM'17\",\n",
       " \"10 pages, published at ICWSM'17\",\n",
       " 'This paper was published at ICWSM 2017 as a full paper, Proc. of the\\n  11th International AAAI Conference on Web and Social Media (ICWSM 2017).\\n  Montreal, Canada. 2017',\n",
       " '34 pages. 9 page version of this paper published at EMNLP 2017',\n",
       " 'Accepted to be published at The 26th ACM International Conference on\\n  Information and Knowledge Management (CIKM2017)',\n",
       " 'A paper with a similar method has been published earlier at\\n  arXiv:1706.04815 The authors believe there is no need for a separate\\n  publication',\n",
       " '7 pages, 3 figures, camera-ready version published on AAAI 2016',\n",
       " 'To be published in the proceedings of NIPS 2017',\n",
       " '5 pages conference paper accepted to IEEE ASRU 2017. Will be\\n  published in December 2017',\n",
       " '6 pages, published in Workshop on Learning with Limited Labeled Data\\n  co-held with NIPS 2017',\n",
       " '6 pages, 3 figures, published at IEEE ASRU 2017',\n",
       " '5 pages conference paper accepted to IEEE ASRU 2017. Will be\\n  published in December 2017',\n",
       " 'To be published at AAAI 2018',\n",
       " 'to be published at the 3rd conference of the association of Digital\\n  Humanities in the Nordic Countries (DHN), 2018',\n",
       " 'A short version of this paper has been published in Proc. 21st\\n  Workshop on the Semantics and Pragmatics of Dialogue (SemDial/SaarDial)',\n",
       " 'This paper is published on the 12th ACM Conference on Recommender\\n  Systems, Vancouver, Canada, 2nd-7th October 2018',\n",
       " 'Correction (bug fix) of a published ODYSSEY 2018 publication with the\\n  same title and author list; more details in footnote in page 1',\n",
       " 'This is an updated version of the paper that has been accepted at\\n  Speech Prosody 2018 and published on the ISCA archive. The updates consist of\\n  minor corrections that do not change the main conclusions in this work',\n",
       " '9 pages, 4 figures. This paper has been published by AAAI2018',\n",
       " 'To appear in Proc. of Semantic Web for Social Good Workshop of the\\n  Int. Semantic Web Conf., Oct 2018 and published as part of the book \"Emerging\\n  Topics in Semantic Technologies. ISWC 2018 Satellite Events\", E. Demidova,\\n  A.J. Zaveri, E. Simperl (Eds.), ISBN: 978-3-89838-736-1, 2018, AKA Verlag\\n  Berlin, (edited authors)',\n",
       " 'Paper: 18 pages, 5 figures, 5 tables. Supplementary material: 3\\n  pages, 1 figure, 1 table. To be published in VLEASE ECCV 2018 workshop',\n",
       " \"6 pages article, published in LTC'17 The 8th Language & Technology\\n  Conference, Poznan, Poland\",\n",
       " 'The paper was published in SLT 2018 conference',\n",
       " 'To be published in AAAI 2019',\n",
       " 'Accepted at the 26th Irish Conference on Artificial Intelligence and\\n  Cognitive Science. This paper is an extended version of a poster published at\\n  the 12th ACM Conference on Recommender Systems, Proceedings of the 26th Irish\\n  Conference on Artificial Intelligence and Cognitive Science (AICS). Dublin,\\n  Ireland 2018',\n",
       " 'Chapter 5 of this memoir has been augmented and published at\\n  COLING2018 under the reference: Butterfly Effects in Frame Semantic Parsing:\\n  impact of data processing on model ranking',\n",
       " 'The paper is accepted to be published in IJCNN 2019',\n",
       " '4 pages, 2 figures, published in anlp.jp 2019',\n",
       " '10 pages, 2 figures, 2 tables. To be published in the Proceedings of\\n  the Thirteenth International Workshop on Juris-informatics (JURISIN 2019),\\n  hosted by JSAI-isAI2019',\n",
       " 'to be published in Proceedings of International Conference on Machine\\n  Learning 2020 (ICML)',\n",
       " 'This short article is obsolete, as its content is contained in the\\n  full paper arXiv:1908.11046, which will also be published by AAAI 2020',\n",
       " 'Machine Learning for Health (ML4H) at NeurIPS 2019 - Extended\\n  Abstract The original paper was published in December 2019. After\\n  publication, we identified a bug in our code that resulted in an error in our\\n  reported results. This version of the paper corrects that error and clarifies\\n  some of our descriptions of the experiments',\n",
       " 'To be published in the proceedings of the 33rd Conference on Neural\\n  Information Processing Systems (NeurIPS 2019), Vancouver, Canada',\n",
       " '2 figures, 12 pages. Presented at the 32nd International Conference\\n  on Legal Knowledge and Information Systems (JURIX 2019) and to be published\\n  in the CEUR Workshop Proceedings',\n",
       " '12 pages, 3 figures and 3 tables. Accepted in 20th International\\n  Conference on Intelligent Text Processing and Computational Linguistics,\\n  CICLing 2019. To be published in Springer LNCS volume',\n",
       " 'To be published in FLAIRS33 (https://www.flairs-33.info/) and appear\\n  in he proceedings of AAAI',\n",
       " 'To be published in FLAIRS33 (https://www.flairs-33.info/) and appear\\n  in he proceedings of AAAI',\n",
       " 'Also published in ICLR2020\\n  https://openreview.net/forum?id=BJlguT4YPr&noteId=BJlguT4YPr',\n",
       " 'To be published in: Lecture Notes in Artificial Intelligence, 1st\\n  International Conference on Artificial Intelligence in HCI, AI-HCI, Held as\\n  Part of HCI International 2020, Kopenhagen, Denmark, July 19-24, Springer',\n",
       " \"This is the author's prefinal version be published in conference\\n  proceedings: 4th International Conference on Natural Language Processing and\\n  Information Retrieval, Sejong, South Korea, 26-28 June, 2020, ACM\",\n",
       " 'To be published in The 24th Pacific-Asia Conference on Knowledge\\n  Discovery and Data Mining (PAKDD 2020)',\n",
       " '8 pages, 5 figures, published in AAAI 2020',\n",
       " 'To be published in IEEE conference proceedings: International\\n  Conference on Artificial Intelligence in Information and Communication,\\n  ICAIIC 2020',\n",
       " 'To be published in CogSci 2020',\n",
       " \"This paper was officially published at the 'Language Learning for\\n  Artificial Agents (L2A2) Symposium' of the 2019 Artificial Intelligence and\\n  Simulation of Behaviour (AISB) Convention\",\n",
       " 'To be published in: Annotations in Scholarly Editions and Research:\\n  Functions, Differentiation, Systematization (2020), Julia Nantke and Frederik\\n  Schlupkothen (editors). De Gruyter. In print',\n",
       " '26 pages, 14 Figures, to be published in Mathematical Problems in\\n  Engineering',\n",
       " 'This paper was published at the LDA 2019 workshop in the JURIX 2019\\n  conference',\n",
       " 'Work done by Maharshi R. Pandya and Jessica Reyes as IBM interns\\n  under leadership of Bob Vanderheyden. Article to be published',\n",
       " '10 pages, Abstract published in A2IC 2018\\n  (https://www.premc.org/doc/A2IC2018/A2IC2018_Book_Of_Abstracts.pdf)',\n",
       " 'To be published in Proceedings of the the 21st International\\n  Conference on Artificial Intelligence in Education (AIED 2020)',\n",
       " '2 pages, 1 figure, to be published in conference JNIC 2020',\n",
       " '4 pages, 2 figures, to be published in conference JNIC 2020',\n",
       " 'Some computational errors corrected. The final version of this draft\\n  was published in Jpurnal of Logic and Computation, Oxford University press',\n",
       " 'To be published in the proceedings of the 2020 Annual Meeting of the\\n  Cognitive Science Society (COGSCI). Supplemental materials available at\\n  https://osf.io/qse7y/',\n",
       " 'Please cite the published version, see proceedings of ICWSM 2020',\n",
       " '6 pages, Accepted and to be published in AFRICON 2021',\n",
       " '9 pages, published at ICLR 2021',\n",
       " 'Paper published in TMLR',\n",
       " 'Paper has been published in the AAAI2021 conference',\n",
       " '12 pages, ICACIE 2020, Will be published by Advances in Intelligent\\n  Systems and Computing (AISC) series of Springer',\n",
       " 'This paper was originally submitted to EMNLP 2015 and has not been\\n  previously published',\n",
       " 'Changed title and few more changes. This version will be published in\\n  SemEval2020. Added code Link',\n",
       " 'To be published in the proceedings of the ACM/IEEE Joint Conference\\n  on Digital Libraries (JCDL 2020)',\n",
       " 'To be published in Proceedings of SPECOM 2020',\n",
       " 'First published in the Workshop on Algorithmic Foundations of\\n  Robotics 2020, and extended version invited to a Special Issue in the\\n  International Journal of Robotics Research',\n",
       " 'Parts of content are published on CIKM 2020',\n",
       " 'To be published in the Proceedings of AMIA 2020 Annual Symposium',\n",
       " 'To be published at INTERSPEECH 2021, Brno, Czechia',\n",
       " '12 pages, 3 figures, paper to be published in 20th International\\n  Conference on Computational Linguistics and Intelligent Text Processing\\n  (CICLing 2019)',\n",
       " '10 pages, to be published at Proceedings of IJCAI-2021',\n",
       " '11 pages, 12 figures, to be published in IEEE Transactions on\\n  Visualization and Computer Graphics',\n",
       " 'A revised version of this work has been published in AAAI-2021 with\\n  title: \"Lifelong and Continual Learning Dialogue Systems: Learning during\\n  Conversation\". Please use this revised AAAI-21 version for citation',\n",
       " 'To be published in the proceedings of Ivannikov Memorial Workshop\\n  2020',\n",
       " '5 pages, to be published in Interspeech 2020',\n",
       " '9 pages, published at the CMLA 2020 conference',\n",
       " 'First published in 2020. Accepted at Machine Learning for Healthcare\\n  (MLHC) 2022',\n",
       " '5 pages, to be published in Interspeech 2020',\n",
       " '5 pages, published in ICASSP 2020',\n",
       " 'Paper accepted - to be published',\n",
       " '18 pages, 2 figures, to be published in SALT 30',\n",
       " '18 pages, 4 figures, published in JWS',\n",
       " '27 pages, 5 figures, 19 tables. To be published in the 34th\\n  conference on Neural Information Processing Systems (NeurIPS 2020). The first\\n  two authors contributed equally to this work',\n",
       " 'Also be published in JURISIN2020',\n",
       " 'Chapter published in the book Maschinelle \\\\\"Ubersetzung f\\\\\"ur\\n  \\\\\"Ubersetzungsprofis (pp. 276-295). J\\\\\"org Porsiel (Ed.), BD\\\\\"U Fachverlag,\\n  2020. ISBN 978-3-946702-09-2',\n",
       " 'PhD thesis submitted at Heriot-Watt University. Contains previously\\n  published work (see the list in Section 1.4)',\n",
       " '17 pages, 4 figures, to be published in Advances in Intelligent\\n  Systems and Computing, Appendixed by Vivek Khetan',\n",
       " '23 pages, 4 main figures, 10 appendix figures; published as a\\n  conference paper at ICLR 2021',\n",
       " 'To be published in Proceedings of ACM SIGIR Workshop on eCommerce\\n  (SIGIR eCom 20) 2020',\n",
       " '8 pages, published in The 2020 IEEE/WIC/ACM International Joint\\n  Conference on Web Intelligence and Intelligent Agent Technology (WI-IAT 2020)',\n",
       " '10 pages, 1 figure, to be published in Proceedings of the 8th\\n  International Workshop on News Recommendation and Analytics (INRA 2020)',\n",
       " 'To be published in: FIRE (Working Notes) 2020, Hate Speech and\\n  Offensive Content Identification in Indo-European Languages, HASOC 2020',\n",
       " 'To be published in: Proceedings of the First Workshop on Combating\\n  Online Hostile Posts in Regional Languages during Emergency Situation\\n  (CONSTRAINT) at AAAI 2021',\n",
       " 'to be published in Constraint-2021 Workshop @ AAAI',\n",
       " '11 pages, 2 figures. Presented the paper at Third International\\n  Conference on Soft Computing and Signal Processing (ICSCSP 2020) and is\\n  currently in production. It will soon be published in springer Advances in\\n  Intelligent Systems and Computing (AISC) series',\n",
       " 'To be published in the 15th IEEE International Conference on Semantic\\n  Computing',\n",
       " 'This article is a preprint version of the article published in\\n  Computer Speech & Language, Volume 72, March 2022, 101317',\n",
       " '6 pages, 2 figures, to be published in 25th International Conference\\n  on Pattern Recognition, ICPR2020',\n",
       " '6 pages, 4 figures, to be published in 25th International Conference\\n  on Pattern Recognition, ICPR 2020',\n",
       " '7 pages, 1 figure, to be published in 25th International Conference\\n  on Pattern Recognition, ICPR 2020',\n",
       " '16 pages, 5 figures. To be published in EPJ Data Science',\n",
       " 'This paper has been published in the Proceedings of the Seventh\\n  Italian Conference on Computational Linguistics, CLiC-it 2020',\n",
       " '17 pages, 4 tables, 7 figures, published in the conference proceeding',\n",
       " '8 pages, 15 pages supplementary, 12 figures. To be published in CVPR\\n  2021',\n",
       " '16 pages (without references). To be published in PBML 116',\n",
       " 'This document was originally published as a blog post on the web site\\n  of GeBNLP 2020',\n",
       " 'It is accepted to be published in Journal of Healthcare Informatics\\n  Research',\n",
       " '9 pages, 2 figures, 6 tables, accepted in 20th International\\n  Conference on Intelligent Text Processing and Computational Linguistics,\\n  CICLing 2019. To be published in Springer LNCS volume',\n",
       " 'This paper was published out of a shallow and simple idea. Now I find\\n  that the research is still not detailed enough. So I submit withdrawal',\n",
       " 'This work was presented at ICAAIML2020 and will be published in\\n  Lecture Notes in Electrical Engineering',\n",
       " '2 pages, 1 figure, 1 table. To be published in Phonetics and\\n  Phonology in Europe 2021',\n",
       " 'To be published at ICDAR 2021',\n",
       " '9 pages, original work published in AAAI 2019',\n",
       " 'to be published in INTERSPEECH2021',\n",
       " 'To be published in: \"32. GI-Workshop Grundlagen von Datenbanken\"',\n",
       " 'to be published in SwissText 2021',\n",
       " 'to be published at INTERSPEECH 2021',\n",
       " \"Also published in COLIEE 2021's Proceeding\",\n",
       " \"Also published in COLIEE 2021's proceeding\",\n",
       " '5 Pages, original work published at ICASSP 2021',\n",
       " 'To be published in GeBNLP 2021 conference proceedings',\n",
       " 'Outdated. Superseded by arXiv:2112.05224 and published at IEEE S&P\\'22\\n  with title: \"Spinning Language Models: Risks of Propaganda-As-A-Service and\\n  Countermeasures\"',\n",
       " 'Will be published in Interspeech 2021',\n",
       " '6 pages, Accepted and to be published in AFRICON 2021',\n",
       " 'Paper published at Symposium in Information and Human Language\\n  Technology (STIL 2021)',\n",
       " 'To be published on ICCV 2021. Webpage is at\\n  https://airbert-vln.github.io/ linking to our dataset, codes and models',\n",
       " '8 pages, 3 figures, To be published in: Translation Inference Across\\n  Dictionaries 2021 Shared Task, Language Data and Knowledge 2021',\n",
       " 'To be published in Computer Speech and Language Journal',\n",
       " '16 pages, 1 figure, in French, published in CORIA 2015 (Paris,\\n  France, 18th-20th March 2015)',\n",
       " 'To be published in SPECOM & ICR 2021 Electronic Proceedings by the\\n  Springer Nature',\n",
       " 'To be published in 22nd International Conference on Web Information\\n  Systems Engineering (WISE2021)',\n",
       " 'This is an extended version of a paper published in CLiC-it 2021 -\\n  Italian Conference on Computational Linguistics 2021 - Proceedings of the\\n  Eighth Italian Conference on Computational Linguistics Milan, Italy, January\\n  26-28, 2022. Edited by Elisabetta Fersini, Marco Passarotti, Viviana Patti.\\n  CEUR-WS.org, ISSN 1613-0073',\n",
       " \"7 pages, to be published in 36th IEEE/ACM International Conference on\\n  Automated Software Engineering Workshops (ASEW'21), November 15-19, 2021\",\n",
       " 'To be published in IEEE ICDM 2021',\n",
       " 'To be published in the 2022 IEEE Spoken Language Technology Workshop\\n  (SLT) (SLT 2022)',\n",
       " 'Accepted in PodRecs 2021, a RecSys workshop. The dataset has been\\n  published at https://zenodo.org/record/5765655#.YbFhS33MJTY',\n",
       " '40 pages, to be published in Information Processing and Management',\n",
       " '15 pages, 8 tables, 5 figures, published at Advances in Neural\\n  Information Processing Systems (NeurIPS), 2021',\n",
       " '5 pages, minor changes for camera ready version, to be published in\\n  IEEE ICASSP 2022',\n",
       " 'The result in this paper are obtained under a bug. Because we train\\n  our model under an evaluation setting (dropout and batch normalization are\\n  0.), but the dropout in our paper is 0.1. So, there is a big mistake in our\\n  paper and is not appropriate to published',\n",
       " '10 pages, 7 figures, 1 appendix, to be published in Neurips 2021',\n",
       " 'Paper was published at EMNLP 2022',\n",
       " '16 pages, 10 tables, 2 Figures. The DeBERTaV3 model significantly\\n  improves performance of the downstream NLU tasks over models with a similar\\n  structure, e.g. DeBERTaV3 large achieves 91.37% average GLUE score which is\\n  1.37% over DeBERTa large. XSmall has only 22M backbone parameters, but\\n  significantly outperforms RoBERTa/XLNet-base. Paper is published as a\\n  conference paper at ICLR 2023',\n",
       " 'Disclaimer: Cedric M\\\\\"oller, Jens Lehmann, Ricardo Usbeck, 2021. The\\n  definitive, peer reviewed and edited version of this article is published in\\n  the Semantic Web Journal, Special issue: Latest Advancements in Linguistic 3\\n  Linked Data, 2021',\n",
       " 'CVPR2022. The final published version of the proceedings will be\\n  available on IEEE Xplore',\n",
       " '6 pages, 2 figures, 6 tables. Accepted and presented at IEEE Latin\\n  American Conference on Computational Intelligence (LA-CCI 2021), but not yet\\n  published',\n",
       " 'To be published in the proceedings of the International Conference on\\n  Asian Language Information Processing',\n",
       " '19 pages. Under Review. Please cite published version, if available',\n",
       " 'Accepted as a book chapter in \"Cybersecurity & High-Performance\\n  Computing Environments: Integrated Innovations, Practices, and Applications\",\\n  published by Taylor and Francis. arXiv admin note: substantial text overlap\\n  with arXiv:2102.04081',\n",
       " '12 pages. To be published in proceedings of the AIST 2021 conference',\n",
       " 'To be published in Winter Conference on Applications of Computer\\n  Vision 2022',\n",
       " '23 pages, This paper is an extended version of a paper that will be\\n  published at the 36th AAAI Conference on Artificial Intelligence, to beheld\\n  in Vancouver, BC, Canada, February 22 - March 1, 2022',\n",
       " 'to be published at the AAAI-22 Workshop on Scientific Document\\n  Understanding',\n",
       " '10 pages, 1 figure, 3 tables. Accepted at International Conference on\\n  the Computational Processing of Portuguese (PROPOR 2022), but not yet\\n  published',\n",
       " 'To be published as a conference paper at ICLR 2022',\n",
       " '6 pages, published in the 2021 ASE RAISE workshop',\n",
       " 'This paper was published at NeurIPS 2022',\n",
       " 'To be published in AAAI 2022',\n",
       " 'To appear in AI Magazine (AAAI), 2023. This draft is an extended and\\n  revised version of the previous work - \"Self-initiated Open World Learning\\n  for Autonomous AI Agents\" arXiv preprint arXiv:2110.11385 (2021), which was\\n  published in AAAI 2022 Spring Symposium Series',\n",
       " 'A revised version of the one published at INTERSPEECH2022. The\\n  following parts have been modified: Section 2.2.2. The variance for screening\\n  paraphrases from 1.5 to 1.6 and the number of speech data and recorders;\\n  Section 2.4. The number of paraphrases from 1698 to 1697; Section 3, Table2.\\n  Values in two cells (Negation, P from 0.14 to 0.12) and (Leftward, P from\\n  0.10 to 0.12)',\n",
       " '46 pages, 11 figures, to be published in Journal of Business &\\n  Economic Statistics',\n",
       " 'Accepted to be published in the Proceedings of Interspeech 2022',\n",
       " 'To be published in the 2022 IEEE Spoken Language Technology Workshop\\n  (SLT) (SLT 2022)',\n",
       " 'The paper is published as part of TOTH 2020 proceedings\\n  (https://btk.univ-smb.fr/livres/toth-2020/)',\n",
       " 'This is the accepted version of the paper published at IEEE Spoken\\n  Language Technology (SLT) Workshop 2022',\n",
       " 'Accepted to be published in the Proceedings of Interspeech 2022',\n",
       " 'First three authors contributed equally; published at ISCA 2022',\n",
       " 'Accepted at 6th International Workshop on Health Intelligence,\\n  AAAI-2022. To appear in as a book chapter published by Springer in Studies in\\n  Computational Intelligence',\n",
       " 'To be published in 2022 Americas Conference on Information Systems',\n",
       " '25 pages, 7 figures, to be published in HCI International 2022 - Late\\n  Breaking Papers',\n",
       " '5 pages, to be published in IEEE ICASSP 2022',\n",
       " 'to be published in the Proceedings of the 15th International\\n  Conference on Educational Data Mining; 8 pages, 5 figures, 3 tables',\n",
       " 'To be published at ACM FAccT 2022',\n",
       " 'Camera-Ready Version of this paper published at ACL 2023\\n  (https://aclanthology.org/2023.acl-long.217/)',\n",
       " 'To be published at ACM FAccT 2022',\n",
       " 'Studies and Practices for Advancement in Open and Distance Education,\\n  edited by: Kam Cheong Li and Kin Sun Yuen, published by: Open University of\\n  Hong Kong. Pages: 222-234. Standard: 978-988-8238-13-2',\n",
       " '12pages, To be published in proceedings of AIED2022',\n",
       " 'To be published in AIED Late Breaking Results 2022',\n",
       " 'Accepted to be published in the Proceedings of InterSpeech 2022',\n",
       " 'Accepted to be published in the Proceedings of InterSpeech 2022',\n",
       " '12 pages, 9 tables, 2 figures, published in PST2022',\n",
       " 'To be published in the International Journal of Asian Language\\n  Processing. arXiv admin note: substantial text overlap with arXiv:2112.06462',\n",
       " 'Please cite the published version with the following information:\\n  @incollection{warstadt2022artificial, title={What artificial neural networks\\n  can tell us about human language acquisition}, author={Warstadt, Alex and\\n  Bowman, Samuel R.}, booktitle={Algebraic Structures in Natural Language},\\n  pages={17--60}, year={2022}, publisher={CRC Press} }',\n",
       " '10 pages, 2 figures, 7 tables. As published (with minor corrections)\\n  in the BioASQ 10 Workshop, Proceedings of the Working Notes of CLEF 2022 -\\n  Conference and Labs of the Evaluation Forum',\n",
       " 'To be published in the 19th International Conference on Artificial\\n  Intelligence and Law - ICAIL 2023',\n",
       " \"To be published in RecSys in HR'22\",\n",
       " 'Accepted to ACIIDS 2022. The proceedings of ACIIDS 2022 will be\\n  published by Springer in series Lecture Notes in Artificial Intelligence\\n  (LNAI) and Communications in Computer and Information Science (CCIS)',\n",
       " 'To be published in Baltic HLT 2022',\n",
       " '8 pages, 5 figures, published at 2023 IEEE 17th International\\n  Conference on Semantic Computing (ICSC)',\n",
       " 'Preprint version of the paper to be published in The International\\n  Conference and Workshop on Agglutinative Language Technologies as a challenge\\n  of Natural Language Processing (ALTNLP), June 6, 2022, Koper, Slovenia',\n",
       " 'Preprint of the paper to be published at The International Conference\\n  and Workshop on Agglutinative Language Technologies as a challenge of Natural\\n  Language Processing (ALTNLP), June 6, 2022, Koper, Slovenia',\n",
       " 'To be published in proceedings of IEEE International Conference on\\n  Machine Learning Applications IEEE ICMLA 2022',\n",
       " 'The Paper has been ACCEPTED at the \"2nd International Conference on\\n  Computing and Communication Networks(ICCCN-2022)\". This paper will be\\n  published by AIP publishing and DOI will be issued later on',\n",
       " 'This is a preprint of an article published in the Journal of\\n  Intelligent Information Systems, Springer. The final authenticated version is\\n  available online at\\n  https://link.springer.com/article/10.1007/s13278-022-00906-8',\n",
       " 'To be published in AAAI-23 Workshop on Uncertainty Reasoning and\\n  Quantification in Decision Making',\n",
       " '6 pages, to be published in Proceedings of ISP RAS Open Conference\\n  2022',\n",
       " '13 pages, 6 figures, published to AAAI',\n",
       " 'accepted to and published at \"A Participatory Approach to AI for\\n  Mental Health (PAI4MH)\" workshop, co-located with NeurIPS 2022',\n",
       " '22 pages, 12 figures, To be published in the proceedings of the 37th\\n  Conference on Neural Information Processing Systems (NeurIPS 2023), New\\n  Orleans, USA',\n",
       " '13 pages, 3 figures; to be published at the Second Workshop on\\n  Multimodal Fact-Checking and Hate Speech Detection (DEFACTIFY 2023) at the\\n  AAAI 2023 Conference, February 14, 2023, Washington, D.C',\n",
       " \"This is the accepted version of the paper that has been presented and\\n  published in the 20th IEEE Conference, OCIT'22. The final published version\\n  is copyright-protected by the IEEE. The paper consists of 5 pages, and it\\n  includes 5 figures and 1 table\",\n",
       " 'Technical Report. The contents are published in two separate papers\\n  in EMNLP 2023 (arXiv:2310.06374) and LREC-COLING 2024 (arXiv:2402.14052)',\n",
       " 'Will be published in PACM HCI, CSCW1, April 2023 issue',\n",
       " 'Book Chapter (3rd Chapter in \"Computational Intelligence Applications\\n  for Text and Sentiment Data Analysis\" published by Elsevier)',\n",
       " '2 pages, 5 figures, to be published in AAAI-23 Student Abstract and\\n  Poster Program',\n",
       " 'This book has been accepted by Springer Nature and will be published\\n  as an open access monograph. https://link.springer.com/book/9783031231896. It\\n  is licensed under the CC BY-NC-SA license\\n  (https://creativecommons.org/licenses/by-nc-sa/4.0/), except for the material\\n  included from other authors, which may have different licenses',\n",
       " '5 pages, 3 figures, published to ICASSP 2023',\n",
       " '9 pages, 3 Tables, To be published as a part of Proceedings of the\\n  37th AAAI Conference on Artificial Intelligence',\n",
       " 'The associated model is published on HuggingFace:\\n  https://huggingface.co/etamin/Letz-Translate-OPUS-LB-EN The Dictionary used\\n  in this paper is available in Github:\\n  https://github.com/Etamin/Ltz_dictionary',\n",
       " '9 pages, 3 figures. To be published in the 11th International\\n  Conference on Learning Representations, ICLR 2023, Conference Track\\n  Proceedings',\n",
       " \"To be published in the Proceedings of the 2023 SIAM International\\n  Conference on Data Mining (SDM'23)\",\n",
       " 'To be published in Proceedings of ISWC 2023, 22nd International\\n  Semantic Web Conference',\n",
       " 'Report (14 p. + 10 p. app) written for a submission in Jan 2021 (now\\n  with added explanation of relation with subsequent work that was published\\n  earlier) concerning the crucial observation underlying the crystallization\\n  process in arXiv:2209.12188 version 2: extension of Prop. 2.12 to \"under star\\n  1-free\" expressions, and correction in its proof (added termination subterm\\n  to extraction function)',\n",
       " 'A short version of this paper has been published at the 21st\\n  International Conference on Artificial Intelligence in Medicine (AIME 2023)',\n",
       " 'To be published on the INLG2023 conference website',\n",
       " 'Extended Abstract accepted to the 32nd International Joint Conference\\n  on Artificial Intelligence (IJCAI 2023); special journal track for authors of\\n  published JAIR 2022 and AIJ 2022 papers. 6 pages, 2 figures. arXiv admin\\n  note: substantial text overlap with arXiv:2106.13948',\n",
       " '8 pages, 3 figures. To be published in Proceedings of the 2023\\n  Conference on Innovation and Technology in Computer Science Education V. 1',\n",
       " 'To be published in the ICLR TinyPaper track',\n",
       " 'To be published in 21st International Conference on Applied\\n  Cryptography and Network Security, ACNS 2023',\n",
       " '3 pages, published in RNAAS',\n",
       " 'Accepted to AIED Late Breaking Results 2023 - to be published in\\n  their proceedings',\n",
       " 'To be published in the ICLR TinyPaper track',\n",
       " 'To be published in ACM FAccT 23',\n",
       " '6 pages, 1 figure, 4 tables, conference paper, published in the 20th\\n  International Conference on Informatics and Information Technologies (CIIT\\n  2023)',\n",
       " '14 pages, 11 figures, to be published in the proceedings of IDETC-CIE\\n  2023',\n",
       " 'Accepted and to be published in Proceedings of ADBIS 2023 as short\\n  paper (https://www.essi.upc.edu/dtim/ADBIS2023/index.html)',\n",
       " 'To be published in TACL (pre-MIT Press publication version)',\n",
       " 'to be published in \"Beyond Quantity: Research with Subsymbolic AI\"\\n  (11/2023)',\n",
       " '7 pages, 5 figures. To be published in the Proceedings of the 61st\\n  Annual Meeting of the Association for Computational Linguistics, 9-14 July\\n  2023, Toronto, Canada',\n",
       " 'To be published in The International AAAI Conference on Web and\\n  Social Media (ICWSM) 2023',\n",
       " 'To be published in the Journal of Chemical Information and Modeling',\n",
       " 'This is the original manuscript that was submitted to LREV. The final\\n  version was published recently and can be found at: https://rdcu.be/ddEa6.\\n  Language Resources and Evaluation, https://doi.org/10.1007/s10579-023-09664-1',\n",
       " 'To be published in Interspeech 2023 - Show and Tell Demonstrations',\n",
       " '26 pages, 15 figures, published in Transactions on Machine Learning\\n  Research (TMLR)',\n",
       " 'Updated sections on prompt engineering. Expanded sections 4.1 and 4.2\\n  and appendix. Included additional references. Work published at the ICML 2023\\n  (Neural Conversational AI TEACH) workshop',\n",
       " 'To be published in the KDD 2023 proceedings as a full paper',\n",
       " '10 pages and 2 figures. To be published in the Proceedings of the\\n  Seventeenth International Workshop on Juris-informatics (JURISIN 2023),\\n  hosted by JSAI International Symposia on AI 2023',\n",
       " 'Preprint. We published an earlier version of this paper\\n  (arXiv:2203.11131) under a different title. Both versions consider the\\n  conceptualization of explainable metrics and are overall similar. However,\\n  the new version puts a stronger emphasis on the survey of approaches for the\\n  explanation of MT metrics including the latest LLM based approaches',\n",
       " 'This is a preprint of an article to be published at the Int. Conf. on\\n  Artificial Intelligence in Education (AIED, 2023)',\n",
       " 'to be published in AIED 2023',\n",
       " 'To be published in the Proceedings of the International Society for\\n  Music Information Retrieval Conference (ISMIR)',\n",
       " \"39 pages, 9 figures, authors' manuscript approved for publication in\\n  Target International Journal of Translation published by John Benjamins\",\n",
       " 'To be published in Interspeech 2023, 5 pages, 1 figure',\n",
       " 'Accepted @ \"3rd Workshop on Bias and Fairness in AI\" (co-located with\\n  ECML PKDD 2023). This is the author\\'s version of the work. The definite\\n  version of record will be published in the proceedings',\n",
       " 'This manuscript is pre-print and in peer review. Supplementary\\n  materials will be published later',\n",
       " 'To be published in Translation, Cognition and Behavior: \"Translation\\n  and cognition in the 21st century: Goals met, goals ahead\", John Benjamins',\n",
       " 'to be published in AIIDE 2023',\n",
       " \"10 pages, 3 figures, to be published in Proceedings of the 11th\\n  International Conference on Human-Agent Interaction (ACM HAI'23)\",\n",
       " '8 pages, 4 figures, one table, to be published in VIS 2023 (Vis +\\n  Prov) x Domain',\n",
       " '6 pages, 2 figures, published in ICME2023',\n",
       " 'To be published in Proceedings of Machine Learning Research Volume\\n  219; accepted to the Machine Learning for Healthcare 2023 conference',\n",
       " \"3 pages, 1 figure, 1 table, to be published in Proceedings of the\\n  11th International Conference on Human-Agent Interaction (ACM HAI'23)\",\n",
       " '15 pages, 9 figures, to be published In Proceedings of International\\n  Conference of Computer Vision(ICCV), 2023',\n",
       " 'To be published in SEMANTICS 2023 poster track proceedings. SEMANTICS\\n  2023 EU: 19th International Conference on Semantic Systems, September 20-22,\\n  2023, Leipzig, Germany',\n",
       " 'This was published in TMLR in 2024, on January 24th',\n",
       " 'Paper has been presented at ICCCNT 2023 and the final version will be\\n  published in IEEE Digital Library Xplore',\n",
       " 'to be published in LREC-COLING 2024',\n",
       " \"To be published at 21st Int'l Conference on Service-Oriented\\n  Computing (ICSOC 2023), Rome, Italy, November 28-December 1, 2023, ser. LNCS,\\n  F. Monti, S. Rinderle-Ma, A. Ruiz Cortes, Z. Zheng, M. Mecella, Eds.,\\n  Springer, 2023\",\n",
       " '19 pages, 8 Figures, to be published in a journal (Journal TBD), All\\n  Authors contributed equally and were Supervised by Chandra Dhakal',\n",
       " 'Accepted @ \"1st Workshop on Biased Data in Conversational Agents\"\\n  (co-located with ECML PKDD 2023). This is the author\\'s version of the work.\\n  The definite version of record will be published in the proceedings',\n",
       " \"8 pages, 2 tables. To be published in Proceedings of the 2024\\n  Technical Symposium on Computer Science Education (SIGCSE'24)\",\n",
       " 'Preprint of an article published in Pacific Symposium on Biocomputing\\n  copyright 2024 World Scientific Publishing Co., Singapore,\\n  http://psb.stanford.edu/',\n",
       " '24 pages, 13 figures, to be published in NeurIPS 2023',\n",
       " 'To be published in the Proceedings of the 22nd IEEE International\\n  Conference on Machine Learning Applications (ICMLA 2023)',\n",
       " '21 pages, 14 figures, preprint to be published in HCI INTERNATIONAL\\n  2023 25TH INTERNATIONAL CONFERENCE ON HUMAN-COMPUTER INTERACTION proceedings',\n",
       " 'Selected for publication in the AI Ethics Journal published by the\\n  Artificial Intelligence Robotics Ethics Society (AIRES)',\n",
       " 'Include wrong information in comment. Should be 7 pages and not\\n  published yet',\n",
       " 'Published at Information Fusion, Volume 101, 2024, 101988, ISSN\\n  1566-2535. The equal contribution mark is missed in the published version due\\n  to the publication policies. Please contact Prof. Erik Cambria for details',\n",
       " 'The paper is planned to be published in a reputable journal',\n",
       " 'To be published in GEM workshop. Conference on Empirical Methods in\\n  Natural Language Processing (EMNLP). 2023',\n",
       " 'To be published in the proceedings of the 36th International\\n  Conference on Legal Knowledge and Information Systems (JURIX 2023). Code and\\n  prompt available at https://github.com/samyarj/JCAPG-JURIX2023',\n",
       " 'To be published in EMNLP 2023 GEM Workshop',\n",
       " 'The initial work was published in the ICMLA 2019 conference',\n",
       " 'To be published in the Proceedings of the OSM Science 2023',\n",
       " '9 pages, 1 figure, 1 table, to be published in the proceedings of the\\n  Northern Lights Deep Learning Conference 2024',\n",
       " 'To be published in the Proceedings of the 3rd Machine Learning for\\n  Health symposium, Proceedings of Machine Learning Research (PMLR)',\n",
       " 'to be published in EMNLP Findings',\n",
       " \"I will not add others' names since this work has not been published\",\n",
       " '14 pages, 3 figures. Accepted Working Notes at HASOC-FIRE 2023, to be\\n  published in CEUR Working Notes of FIRE',\n",
       " '6 pages, 5 figures, 2023 IEEE International Conference on Big Data\\n  (BigData), to be published',\n",
       " 'To be published in the AAAI 2024 Proceedings Main Track',\n",
       " '4 pages, 1 figure, model is available at\\n  https://huggingface.co/universeTBD, published in RNAAS',\n",
       " \"This is the author's version of the work. The definitive version is\\n  published in: Proceedings of the 46th European Conference on Information\\n  Retrieval} (ECIR '24), March 24--28, 2024, Glasgow, Scotland\",\n",
       " \"This is the author's version of the work. The definitive version is\\n  published in: Proceedings of the 46th European Conference on Information\\n  Retrieval (ECIR '24), March 24-28, 2024, Glasgow, Scotland\",\n",
       " 'Originally published at the Generation, Evaluation & Metrics (GEM)\\n  Workshop at EMNLP 2023. We are awaiting the release of the proceedings which\\n  we will reference here',\n",
       " '8 pages, 3 figures, 5 tables, To be published in 2024 AAAI workshop\\n  on Responsible Language Models (ReLM)',\n",
       " \"18 pages, 4 figures, to be published in ICLR'24, Code available at\\n  https://github.com/ibraheem-moosa/mt-ranker\",\n",
       " 'The current submission is the first draft, published for the sole\\n  purpose of sharing an idea and encouraging community effort. A more\\n  consolidated version may come later',\n",
       " '10 pages, 6 figures, 4 tables. To be published in the Proceedings of\\n  the 38th Annual AAAI Conference on Artificial Intelligence (AAAI-24)',\n",
       " 'Will be published as findings paper at EACL2024 - 18th Conference of\\n  the European Chapter of the Association for Computational Linguistics',\n",
       " 'To be published in ECIR 2024 proceedings',\n",
       " \"This is just an initial idea and it's implementation. The results are\\n  computed for the first 100 data points. Detailed results will be published\\n  with the actual paper\",\n",
       " \"6 pages, 2 figures, published to DAC 2024: 61st IEEE/ACM Design\\n  Automation Conference. (DAC'24)\",\n",
       " 'To be published in AAAI 24',\n",
       " '24 pages, 2 figures, to be published in NLP for Requirements\\n  Engineering Book',\n",
       " '5 pages, 1 figures, published to ICASSP 2024',\n",
       " 'This preprint has not undergone peer review or any post-submission\\n  improvements or corrections. The Version of Record of this contribution is\\n  published in Advances in Information Retrieval, 46th European Conference on\\n  Information Retrieval, ECIR 2024. 16 pages, 4 figures',\n",
       " '10 pages; 2 figures; to be published in the <Programming> 2024\\n  Conference Companion',\n",
       " '4 pages, 2 figures, published in the WWW 2024 Short Papers Track',\n",
       " 'Accepted to be published at the 21st IEEE/ACM International\\n  Conference on Mining Software Repositories (MSR 2024)',\n",
       " 'To be published in LREC-COLING 2024',\n",
       " '28 pages, 11 figures, not published yet',\n",
       " '5 pages, Macintosh Postscript, published in COLING-94, pp. 278-282',\n",
       " '30 pages, also published in the University of Tuebingen Technical\\n  Report Series',\n",
       " 'latex source with a4 style, 15 pages, to be published in computer\\n  processing of oriental language journal',\n",
       " '51 pages, Postscript. To be published in Journal of Artificial\\n  Intelligence Research 6(1), 1997',\n",
       " \"12 pages, 3 figures, published in the proceedings of NLDB'01\",\n",
       " \"to be published in the Proceedings of the 7th International\\n  Conference on User Modeling (UM'99); uses llncs.cls,um97.sty\"]"
      ]
     },
     "execution_count": 35,
     "metadata": {},
     "output_type": "execute_result"
    }
   ],
   "source": [
    "[str(c) for c in unpublished_NLP[\"comments\"].values if \" published\" in str(c)]"
   ]
  },
  {
   "cell_type": "markdown",
   "metadata": {},
   "source": [
    "### 2. Access to PDF files"
   ]
  },
  {
   "cell_type": "code",
   "execution_count": 5,
   "metadata": {},
   "outputs": [
    {
     "name": "stdout",
     "output_type": "stream",
     "text": [
      "(33817, 14)\n"
     ]
    }
   ],
   "source": [
    "df = pd.read_csv(\"../data/arxiv/arxiv-metadata-nlp-unpublished.csv\")\n",
    "print(df.shape)"
   ]
  },
  {
   "cell_type": "code",
   "execution_count": 6,
   "metadata": {},
   "outputs": [],
   "source": [
    "def get_pdf_and_xml_file_paths_from_df_row(row:pd.DataFrame)->List[Tuple[str, str]]:\n",
    "    \"\"\"Returns a list of tuples containing the (theoretical) names of the pdf and xml files of a paper.\n",
    "    There is a path name for each version mentionned in the metadata. The names are returned by decreasing version (latest first).\"\"\"\n",
    "    pdf_and_xml_paths = []\n",
    "\n",
    "    # get the paper id\n",
    "    full_id = row[\"id\"]\n",
    "\n",
    "    # depending on the id format, the pdf file will be named differently\n",
    "    if \".\" in full_id:\n",
    "        pdf_name = f\"{full_id}\"\n",
    "    elif \"/\" in full_id:\n",
    "        category, id = full_id.split(\"/\")[:2]\n",
    "        pdf_name = f\"{id}\"\n",
    "    else:\n",
    "        return []\n",
    "    \n",
    "    # get the different versions of the paper\n",
    "    versions = json.loads(row[\"versions\"].replace(\"\\'\", \"\\\"\"))\n",
    "\n",
    "    for v in versions[::-1]:\n",
    "        pdf_and_xml_paths.append((f\"{pdf_name}{v['version']}.pdf\", f\"{pdf_name}{v['version']}.grobid.tei.xml\"))\n",
    "\n",
    "    return pdf_and_xml_paths"
   ]
  },
  {
   "cell_type": "code",
   "execution_count": 7,
   "metadata": {},
   "outputs": [
    {
     "data": {
      "text/plain": [
       "[('0708.2303v2.pdf', '0708.2303v2.grobid.tei.xml'),\n",
       " ('0708.2303v1.pdf', '0708.2303v1.grobid.tei.xml')]"
      ]
     },
     "execution_count": 7,
     "metadata": {},
     "output_type": "execute_result"
    }
   ],
   "source": [
    "get_pdf_and_xml_file_paths_from_df_row(df.iloc[10])"
   ]
  },
  {
   "cell_type": "code",
   "execution_count": 9,
   "metadata": {},
   "outputs": [
    {
     "name": "stderr",
     "output_type": "stream",
     "text": [
      "100%|██████████| 33817/33817 [00:06<00:00, 5347.70it/s] \n"
     ]
    }
   ],
   "source": [
    "pdf_stored = []\n",
    "xml_stored = []\n",
    "\n",
    "pdf_dir = \"../data/arxiv/pdf/\"\n",
    "xml_dir = \"../data/arxiv/tei.xml/\"\n",
    "\n",
    "xml_files = []\n",
    "\n",
    "for i, row in tqdm.tqdm(df.iterrows(), total=df.shape[0]):\n",
    "    pdf_xml_paths = get_pdf_and_xml_file_paths_from_df_row(row)\n",
    "    found = False\n",
    "    for pdf, xml in pdf_xml_paths:\n",
    "        # check the xml first (it is the most important)\n",
    "        if os.path.exists(f\"{xml_dir}{xml}\"):\n",
    "            xml_files.append(xml)\n",
    "            xml_stored.append(True)\n",
    "            pdf_stored.append(True)\n",
    "            found = True\n",
    "            break\n",
    "        elif os.path.exists(f\"{pdf_dir}{pdf}\"):\n",
    "            pdf_stored.append(True)\n",
    "            xml_stored.append(False)\n",
    "            found = True\n",
    "            break\n",
    "\n",
    "    if not found:\n",
    "        pdf_stored.append(False)\n",
    "        xml_stored.append(False)"
   ]
  },
  {
   "cell_type": "code",
   "execution_count": 10,
   "metadata": {},
   "outputs": [
    {
     "name": "stdout",
     "output_type": "stream",
     "text": [
      "0001006v1.grobid.tei.xml 0001006.grobid.tei.xml\n",
      "0001020v1.grobid.tei.xml 0001020.grobid.tei.xml\n",
      "0002017v1.grobid.tei.xml 0002017.grobid.tei.xml\n",
      "0003022v1.grobid.tei.xml 0003022.grobid.tei.xml\n",
      "0003081v1.grobid.tei.xml 0003081.grobid.tei.xml\n"
     ]
    }
   ],
   "source": [
    "n_pdf = 0\n",
    "xml_files = os.listdir(\"../data/arxiv/tei.xml/\")\n",
    "xml_files_no_version = [re.sub(re.compile(\"v\\d.grobid\"), \".grobid\", f) for f in xml_files]\n",
    "\n",
    "for i in range(5):\n",
    "    print(xml_files[i], xml_files_no_version[i])"
   ]
  },
  {
   "cell_type": "code",
   "execution_count": 11,
   "metadata": {},
   "outputs": [
    {
     "name": "stdout",
     "output_type": "stream",
     "text": [
      "30433\n",
      "30433\n"
     ]
    }
   ],
   "source": [
    "print(len(xml_files))\n",
    "print(len(set(xml_files_no_version)))"
   ]
  },
  {
   "cell_type": "code",
   "execution_count": 12,
   "metadata": {},
   "outputs": [],
   "source": [
    "df[\"pdf_stored\"] = pdf_stored\n",
    "df[\"xml_stored\"] = xml_stored"
   ]
  },
  {
   "cell_type": "code",
   "execution_count": 13,
   "metadata": {},
   "outputs": [
    {
     "name": "stdout",
     "output_type": "stream",
     "text": [
      "30433\n",
      "30433\n"
     ]
    }
   ],
   "source": [
    "print(len(df[df[\"xml_stored\"] == True]))\n",
    "print(len(df[df[\"pdf_stored\"] == True]))"
   ]
  },
  {
   "cell_type": "code",
   "execution_count": 16,
   "metadata": {},
   "outputs": [
    {
     "data": {
      "text/html": [
       "<div>\n",
       "<style scoped>\n",
       "    .dataframe tbody tr th:only-of-type {\n",
       "        vertical-align: middle;\n",
       "    }\n",
       "\n",
       "    .dataframe tbody tr th {\n",
       "        vertical-align: top;\n",
       "    }\n",
       "\n",
       "    .dataframe thead th {\n",
       "        text-align: right;\n",
       "    }\n",
       "</style>\n",
       "<table border=\"1\" class=\"dataframe\">\n",
       "  <thead>\n",
       "    <tr style=\"text-align: right;\">\n",
       "      <th></th>\n",
       "      <th>id</th>\n",
       "      <th>submitter</th>\n",
       "      <th>authors</th>\n",
       "      <th>title</th>\n",
       "      <th>comments</th>\n",
       "      <th>journal-ref</th>\n",
       "      <th>doi</th>\n",
       "      <th>report-no</th>\n",
       "      <th>categories</th>\n",
       "      <th>license</th>\n",
       "      <th>abstract</th>\n",
       "      <th>versions</th>\n",
       "      <th>update_date</th>\n",
       "      <th>authors_parsed</th>\n",
       "      <th>pdf_stored</th>\n",
       "      <th>xml_stored</th>\n",
       "    </tr>\n",
       "  </thead>\n",
       "  <tbody>\n",
       "    <tr>\n",
       "      <th>0</th>\n",
       "      <td>0704.2083</td>\n",
       "      <td>Hassan Satori</td>\n",
       "      <td>H. Satori, M. Harti and N. Chenfour</td>\n",
       "      <td>Introduction to Arabic Speech Recognition Usin...</td>\n",
       "      <td>4 pages, 3 figures and 2 tables, was in Inform...</td>\n",
       "      <td>NaN</td>\n",
       "      <td>NaN</td>\n",
       "      <td>NaN</td>\n",
       "      <td>cs.CL cs.AI</td>\n",
       "      <td>NaN</td>\n",
       "      <td>In this paper Arabic was investigated from t...</td>\n",
       "      <td>[{'version': 'v1', 'created': 'Tue, 17 Apr 200...</td>\n",
       "      <td>2007-05-23</td>\n",
       "      <td>[['Satori', 'H.', ''], ['Harti', 'M.', ''], ['...</td>\n",
       "      <td>False</td>\n",
       "      <td>False</td>\n",
       "    </tr>\n",
       "    <tr>\n",
       "      <th>1</th>\n",
       "      <td>0704.2201</td>\n",
       "      <td>Hassan Satori</td>\n",
       "      <td>H. Satori, M. Harti and N. Chenfour</td>\n",
       "      <td>Arabic Speech Recognition System using CMU-Sph...</td>\n",
       "      <td>5 pages, 3 figures and 2 tables, in French</td>\n",
       "      <td>NaN</td>\n",
       "      <td>NaN</td>\n",
       "      <td>NaN</td>\n",
       "      <td>cs.CL cs.AI</td>\n",
       "      <td>NaN</td>\n",
       "      <td>In this paper we present the creation of an ...</td>\n",
       "      <td>[{'version': 'v1', 'created': 'Tue, 17 Apr 200...</td>\n",
       "      <td>2007-05-23</td>\n",
       "      <td>[['Satori', 'H.', ''], ['Harti', 'M.', ''], ['...</td>\n",
       "      <td>False</td>\n",
       "      <td>False</td>\n",
       "    </tr>\n",
       "    <tr>\n",
       "      <th>2</th>\n",
       "      <td>0704.3665</td>\n",
       "      <td>Tian-Jian Jiang</td>\n",
       "      <td>Mike Tian-Jian Jiang, Deng Liu, Meng-Juei Hsie...</td>\n",
       "      <td>On the Development of Text Input Method - Less...</td>\n",
       "      <td>10 pages</td>\n",
       "      <td>NaN</td>\n",
       "      <td>NaN</td>\n",
       "      <td>NaN</td>\n",
       "      <td>cs.CL cs.HC</td>\n",
       "      <td>NaN</td>\n",
       "      <td>Intelligent Input Methods (IM) are essential...</td>\n",
       "      <td>[{'version': 'v1', 'created': 'Fri, 27 Apr 200...</td>\n",
       "      <td>2007-05-23</td>\n",
       "      <td>[['Jiang', 'Mike Tian-Jian', ''], ['Liu', 'Den...</td>\n",
       "      <td>False</td>\n",
       "      <td>False</td>\n",
       "    </tr>\n",
       "    <tr>\n",
       "      <th>3</th>\n",
       "      <td>0704.3708</td>\n",
       "      <td>Bernat Corominas-Murtra BCM</td>\n",
       "      <td>Bernat Corominas-Murtra</td>\n",
       "      <td>Network statistics on early English Syntax: St...</td>\n",
       "      <td>New abstract. Due to a mistake, abstract from ...</td>\n",
       "      <td>NaN</td>\n",
       "      <td>NaN</td>\n",
       "      <td>NaN</td>\n",
       "      <td>cs.CL</td>\n",
       "      <td>NaN</td>\n",
       "      <td>This paper includes a reflection on the role...</td>\n",
       "      <td>[{'version': 'v1', 'created': 'Fri, 27 Apr 200...</td>\n",
       "      <td>2007-05-23</td>\n",
       "      <td>[['Corominas-Murtra', 'Bernat', '']]</td>\n",
       "      <td>False</td>\n",
       "      <td>False</td>\n",
       "    </tr>\n",
       "    <tr>\n",
       "      <th>4</th>\n",
       "      <td>0704.3886</td>\n",
       "      <td>W Saba</td>\n",
       "      <td>Walid S. Saba</td>\n",
       "      <td>A Note on Ontology and Ordinary Language</td>\n",
       "      <td>19 pages, 1 figure</td>\n",
       "      <td>NaN</td>\n",
       "      <td>NaN</td>\n",
       "      <td>NaN</td>\n",
       "      <td>cs.AI cs.CL</td>\n",
       "      <td>NaN</td>\n",
       "      <td>We argue for a compositional semantics groun...</td>\n",
       "      <td>[{'version': 'v1', 'created': 'Mon, 30 Apr 200...</td>\n",
       "      <td>2007-05-23</td>\n",
       "      <td>[['Saba', 'Walid S.', '']]</td>\n",
       "      <td>False</td>\n",
       "      <td>False</td>\n",
       "    </tr>\n",
       "  </tbody>\n",
       "</table>\n",
       "</div>"
      ],
      "text/plain": [
       "          id                    submitter  \\\n",
       "0  0704.2083                Hassan Satori   \n",
       "1  0704.2201                Hassan Satori   \n",
       "2  0704.3665              Tian-Jian Jiang   \n",
       "3  0704.3708  Bernat Corominas-Murtra BCM   \n",
       "4  0704.3886                       W Saba   \n",
       "\n",
       "                                             authors  \\\n",
       "0                H. Satori, M. Harti and N. Chenfour   \n",
       "1                H. Satori, M. Harti and N. Chenfour   \n",
       "2  Mike Tian-Jian Jiang, Deng Liu, Meng-Juei Hsie...   \n",
       "3                            Bernat Corominas-Murtra   \n",
       "4                                      Walid S. Saba   \n",
       "\n",
       "                                               title  \\\n",
       "0  Introduction to Arabic Speech Recognition Usin...   \n",
       "1  Arabic Speech Recognition System using CMU-Sph...   \n",
       "2  On the Development of Text Input Method - Less...   \n",
       "3  Network statistics on early English Syntax: St...   \n",
       "4           A Note on Ontology and Ordinary Language   \n",
       "\n",
       "                                            comments  journal-ref  doi  \\\n",
       "0  4 pages, 3 figures and 2 tables, was in Inform...          NaN  NaN   \n",
       "1         5 pages, 3 figures and 2 tables, in French          NaN  NaN   \n",
       "2                                           10 pages          NaN  NaN   \n",
       "3  New abstract. Due to a mistake, abstract from ...          NaN  NaN   \n",
       "4                                 19 pages, 1 figure          NaN  NaN   \n",
       "\n",
       "  report-no   categories license  \\\n",
       "0       NaN  cs.CL cs.AI     NaN   \n",
       "1       NaN  cs.CL cs.AI     NaN   \n",
       "2       NaN  cs.CL cs.HC     NaN   \n",
       "3       NaN        cs.CL     NaN   \n",
       "4       NaN  cs.AI cs.CL     NaN   \n",
       "\n",
       "                                            abstract  \\\n",
       "0    In this paper Arabic was investigated from t...   \n",
       "1    In this paper we present the creation of an ...   \n",
       "2    Intelligent Input Methods (IM) are essential...   \n",
       "3    This paper includes a reflection on the role...   \n",
       "4    We argue for a compositional semantics groun...   \n",
       "\n",
       "                                            versions update_date  \\\n",
       "0  [{'version': 'v1', 'created': 'Tue, 17 Apr 200...  2007-05-23   \n",
       "1  [{'version': 'v1', 'created': 'Tue, 17 Apr 200...  2007-05-23   \n",
       "2  [{'version': 'v1', 'created': 'Fri, 27 Apr 200...  2007-05-23   \n",
       "3  [{'version': 'v1', 'created': 'Fri, 27 Apr 200...  2007-05-23   \n",
       "4  [{'version': 'v1', 'created': 'Mon, 30 Apr 200...  2007-05-23   \n",
       "\n",
       "                                      authors_parsed  pdf_stored  xml_stored  \n",
       "0  [['Satori', 'H.', ''], ['Harti', 'M.', ''], ['...       False       False  \n",
       "1  [['Satori', 'H.', ''], ['Harti', 'M.', ''], ['...       False       False  \n",
       "2  [['Jiang', 'Mike Tian-Jian', ''], ['Liu', 'Den...       False       False  \n",
       "3               [['Corominas-Murtra', 'Bernat', '']]       False       False  \n",
       "4                         [['Saba', 'Walid S.', '']]       False       False  "
      ]
     },
     "execution_count": 16,
     "metadata": {},
     "output_type": "execute_result"
    }
   ],
   "source": [
    "df.head()"
   ]
  },
  {
   "cell_type": "code",
   "execution_count": 10,
   "metadata": {},
   "outputs": [],
   "source": [
    "df.to_csv(\"../data/arxiv/arxiv-metadata-nlp-unpublished.csv\", index = False)"
   ]
  },
  {
   "cell_type": "markdown",
   "metadata": {},
   "source": [
    "See [arxiv-papers-download.py](arxiv-papers-download.py) for the download of the arxiv papers. (not run here)"
   ]
  },
  {
   "cell_type": "markdown",
   "metadata": {},
   "source": [
    "### 3. GROBID Extraction  \n",
    "Doc:  \n",
    "[https://grobid.readthedocs.io/en/latest/Run-Grobid/](https://grobid.readthedocs.io/en/latest/Run-Grobid/)  \n",
    "[https://grobid.readthedocs.io/en/latest/Grobid-service/](https://grobid.readthedocs.io/en/latest/Grobid-service/)  \n",
    "[https://github.com/kermitt2/grobid_client_python](https://github.com/kermitt2/grobid_client_python)"
   ]
  },
  {
   "cell_type": "markdown",
   "metadata": {},
   "source": [
    "Pull the Docker Image and run Grobid on [localhost](localhost:8070) using:  \n",
    "`> docker run --rm --init --ulimit core=0 -p 8070:8070 lfoppiano/grobid:0.8.0`\n",
    "\n",
    "Then use the Python client to process all pdf files in a given folder:  \n",
    "`> grobid_client --input ..\\arxiv-papers\\pdf\\ --output ..\\arxiv-papers\\tei.xml\\ processFulltextDocument `\n",
    "\n",
    "NB: I switched to a previous version of grobid because some PDFs were throwing errors that aborted the connection to the server --> `grobid-client-python` instead of grobid-client  \n",
    "\n",
    "```\n",
    "docker pull lfoppiano/grobid:0.7.0\n",
    "docker run -t --rm --init lfoppiano/grobid:0.7.0\n",
    "docker run -t --rm --init -p 8070:8070 lfoppiano/grobid:0.7.1\n",
    "```\n"
   ]
  },
  {
   "cell_type": "code",
   "execution_count": 17,
   "metadata": {},
   "outputs": [],
   "source": [
    "# import os\n",
    "# from subprocess import run\n",
    "# import shutil\n",
    "# import tqdm\n",
    "# import shlex\n",
    "\n",
    "# pdf_files = [f for f in os.listdir(\"../data/arxiv/pdf\") if f.endswith(\".pdf\")]\n",
    "# print(len(pdf_files))\n",
    "# folder = f\"..\\\\data\\\\arxiv\\\\pdf\\\\0\\\\\"\n",
    "# source = f\"..\\\\data\\\\arxiv\\\\pdf\\\\\"\n",
    "\n",
    "# for i in range(30):\n",
    "#     files = pdf_files[i*1000:min((i+1)*1000, len(pdf_files))]\n",
    "#     destination = f\"..\\\\data\\\\arxiv\\\\pdf\\\\{i}\\\\\"\n",
    "\n",
    "#     for f in files:\n",
    "#         shutil.move(f\"{source}{f}\", destination)\n",
    "\n",
    "# destination = f\"..\\\\data\\\\arxiv\\\\tei.xml\\\\\"\n",
    "# for i in range(30):\n",
    "#     xml_files = [f for f in os.listdir(f\"..\\\\data\\\\arxiv\\\\tei.xml\\\\{i}\\\\\") if f.endswith(\".xml\")]\n",
    "#     for f in xml_files:\n",
    "#         shutil.move(f\"..\\\\data\\\\arxiv\\\\tei.xml\\\\{i}\\\\{f}\", destination)\n",
    "\n",
    "# for i in range(30):\n",
    "#     os.mkdir(f\"..\\\\data\\\\arxiv\\\\tei.xml\\\\{i}\")\n",
    "\n",
    "# for j in tqdm.tqdm(range(28,30)):\n",
    "#     source = f\"..\\\\data\\\\arxiv\\\\pdf\\\\{j}\\\\\"\n",
    "#     destination = f\"..\\\\data\\\\arxiv\\\\tei.xml\\\\{j}\\\\\"\n",
    "#     #code = run(\"cd ..\\\\grobid_client_python\\\\\", shell = True).returncode\n",
    "#     code2 = run([\"grobid_client\", \"--input\", source, \"--output\", destination, \"processFulltextDocument\"], shell = True)\n",
    "    \n",
    "#     print(code2)\n",
    "#     if code2.returncode != 0:\n",
    "#         break\n",
    "#     #os.system(f\"grobid_client --input {source} --output {destination} processFulltextDocument --verbose\")\n",
    "\n",
    "# command = \"grobid_client --input path --output path processFulltextDocument --verbose\"\n",
    "# args = shlex.split(command)\n",
    "# print(args)\n",
    "# print(os.listdir(\"../data/arxiv/tei.xml/\"))"
   ]
  },
  {
   "cell_type": "markdown",
   "metadata": {},
   "source": [
    "### 4. Load `Corpus` object"
   ]
  },
  {
   "cell_type": "code",
   "execution_count": 34,
   "metadata": {},
   "outputs": [],
   "source": [
    "# We directly load the corpus object from the json file (last version available)\n",
    "# (The creation process was similar to the one for the ACL corpus)\n",
    "from utils.utils import load_corpus_object\n",
    "corpus_arxiv = load_corpus_object(\"../data/corpus_arxiv.json\")"
   ]
  },
  {
   "cell_type": "code",
   "execution_count": 35,
   "metadata": {},
   "outputs": [
    {
     "name": "stdout",
     "output_type": "stream",
     "text": [
      "Corpus 'arXiv' was filled with 34979 papers:\n",
      "  - 31358 papers were successfully loaded\n",
      "  - 3621 papers could not be loaded\n",
      "\n",
      "Errors:\n",
      "  - FileNotFoundError: XML file does not exist : 3471\n",
      "  - Noisy data: wrong language (fr) : 48\n",
      "  - Noisy data: wrong language (uk) : 5\n",
      "  - Noisy data: wrong language (ru) : 9\n",
      "  - Noisy data: wrong language (da) : 4\n",
      "  - parsing error: not enough paper content found (<2 distinct sections) : 14\n",
      "  - Noisy data: wrong language (hi) : 1\n",
      "  - Noisy data: wrong language (de) : 8\n",
      "  - Noisy data: wrong language (tr) : 12\n",
      "  - Noisy data: wrong language (id) : 4\n",
      "  - Noisy data: wrong language (pt) : 8\n",
      "  - Noisy data: wrong language (pl) : 2\n",
      "  - Noisy data: wrong language (es) : 12\n",
      "  - Noisy data: wrong language (it) : 8\n",
      "  - Noisy data: wrong language (zh-cn) : 1\n",
      "  - Noisy data: wrong language (et) : 3\n",
      "  - Noisy data: wrong language (tl) : 1\n",
      "  - Noisy data: wrong language (hu) : 1\n",
      "  - Noisy data: wrong language (ko) : 1\n",
      "  - Noisy data: wrong language (no) : 1\n",
      "  - Noisy data: wrong language (ja) : 1\n",
      "  - Noisy data: wrong language (mk) : 1\n",
      "  - Noisy data: wrong language (sl) : 2\n",
      "  - Noisy data: wrong language (so) : 2\n",
      "  - Duplicate error: also found in ACL corpus : 1\n"
     ]
    }
   ],
   "source": [
    "corpus_arxiv.describe(error_verbose = True)"
   ]
  },
  {
   "cell_type": "code",
   "execution_count": 36,
   "metadata": {},
   "outputs": [],
   "source": [
    "# collect the encountered errors\n",
    "errors = [[pe.id, pe.init_error, pe.title, pe.abstract, pe.year] for pe in corpus_arxiv.papers_with_errors]\n",
    "df_errors = pd.DataFrame(errors, columns=[\"id\", \"error\", \"title\", \"abstract\", \"year\"])\n",
    "df_errors.to_csv(\"../data/arxiv/arxiv-init-errors.csv\", index=False)"
   ]
  },
  {
   "cell_type": "code",
   "execution_count": 37,
   "metadata": {},
   "outputs": [
    {
     "name": "stdout",
     "output_type": "stream",
     "text": [
      "1304.8016\n",
      "On Semantic Word Cloud Representation\n",
      "  We study the problem of computing semantic-preserving word clouds in which\n",
      "semantically related words are close to each other. While several heuristic\n",
      "approaches have been described in the literature, we formalize the underlying\n",
      "geometric algorithm problem: Word Rectangle Adjacency Contact (WRAC). In this\n",
      "model each word is associated with rectangle with fixed dimensions, and the\n",
      "goal is to represent semantically related words by ensuring that the two\n",
      "corresponding rectangles touch. We design and analyze efficient polynomial-time\n",
      "algorithms for some variants of the WRAC problem, show that several general\n",
      "variants are NP-hard, and describe a number of approximation algorithms.\n",
      "Finally, we experimentally demonstrate that our theoretically-sound algorithms\n",
      "outperform the early heuristics.\n",
      "\n",
      "2013\n"
     ]
    }
   ],
   "source": [
    "# an example of a Paper object\n",
    "p = corpus_arxiv.papers[123]\n",
    "\n",
    "# some metadata\n",
    "print(p.id)\n",
    "print(p.title)\n",
    "print(p.abstract)\n",
    "print(p.year)"
   ]
  },
  {
   "cell_type": "code",
   "execution_count": 38,
   "metadata": {},
   "outputs": [
    {
     "name": "stdout",
     "output_type": "stream",
     "text": [
      "<utils.Corpus.Corpus object at 0x000002411B1FFD90>\n",
      "arXiv\n"
     ]
    }
   ],
   "source": [
    "# the Corpus to which the Paper belongs\n",
    "print(p.corpus)\n",
    "print(p.corpus.name)"
   ]
  },
  {
   "cell_type": "code",
   "execution_count": 39,
   "metadata": {},
   "outputs": [
    {
     "name": "stdout",
     "output_type": "stream",
     "text": [
      "[<utils.Author.Author object at 0x00000241B4DD7A10>, <utils.Author.Author object at 0x00000241B4DD79D0>, <utils.Author.Author object at 0x00000241B4DD7990>, <utils.Author.Author object at 0x00000241B4DD7B10>]\n",
      "['Barth', 'Lukas'] []\n",
      "['Kobourov', 'Stephen'] []\n",
      "['Pupyrev', 'Sergey'] []\n",
      "['Ueckerdt', 'Torsten'] []\n"
     ]
    }
   ],
   "source": [
    "# the authors of the paper\n",
    "print(p.authors)\n",
    "for auth in p.authors:\n",
    "    print(auth.names, auth.norm_names) #<--- TO DO: store the normalized names in the json file"
   ]
  },
  {
   "cell_type": "markdown",
   "metadata": {},
   "source": [
    "Check if some duplicates can still be found between ACL and Arxiv corpora:"
   ]
  },
  {
   "cell_type": "code",
   "execution_count": 25,
   "metadata": {},
   "outputs": [
    {
     "name": "stderr",
     "output_type": "stream",
     "text": [
      "100%|██████████| 30362/30362 [44:55<00:00, 11.27it/s]  \n"
     ]
    }
   ],
   "source": [
    "# import editdistance\n",
    "\n",
    "# family_names_acl = [(i, set(a.norm_names[0])) for i, p_acl in enumerate(corpus_ACL.papers) for a in p_acl.authors]\n",
    "# ambig = []\n",
    "\n",
    "# for i, p_arx in tqdm.tqdm(enumerate(corpus_arxiv.papers), total = len(corpus_arxiv.papers)):\n",
    "#     family_names_arx = set([a.norm_names[0] for a in p_arx.authors])\n",
    "#     cand = []\n",
    "\n",
    "#     for j, fn_acl in family_names_acl:\n",
    "#         if family_names_arx.intersection(fn_acl):\n",
    "#             cand.append(j)\n",
    "    \n",
    "#     for c in cand:\n",
    "#         title_arxiv = re.sub(re.compile('[^a-z]'), \"\", p_arx.title.lower())\n",
    "#         title_acl = re.sub(re.compile('[^a-z]'), \"\", corpus_ACL.papers[c].title.lower())\n",
    "\n",
    "#         if editdistance.eval(title_arxiv, title_acl) <= 5:\n",
    "#             ambig.append((i, c, title_arxiv, title_acl))"
   ]
  },
  {
   "cell_type": "code",
   "execution_count": 26,
   "metadata": {},
   "outputs": [
    {
     "data": {
      "text/plain": [
       "1"
      ]
     },
     "execution_count": 26,
     "metadata": {},
     "output_type": "execute_result"
    }
   ],
   "source": [
    "# len(ambig)"
   ]
  },
  {
   "cell_type": "code",
   "execution_count": 27,
   "metadata": {},
   "outputs": [
    {
     "data": {
      "text/plain": [
       "(11731,\n",
       " 41477,\n",
       " 'bhasacitravisualisingthedialectgeographyofsouthasia',\n",
       " 'bhaacitravisualisingthedialectgeographyofsouthasia')"
      ]
     },
     "execution_count": 27,
     "metadata": {},
     "output_type": "execute_result"
    }
   ],
   "source": [
    "# ambig[0]"
   ]
  },
  {
   "cell_type": "code",
   "execution_count": 30,
   "metadata": {},
   "outputs": [
    {
     "data": {
      "text/plain": [
       "[['Arora', 'Aryaman'],\n",
       " ['Farris', 'Adam'],\n",
       " ['R', 'Gopalakrishnan'],\n",
       " ['Basu', 'Samopriya']]"
      ]
     },
     "execution_count": 30,
     "metadata": {},
     "output_type": "execute_result"
    }
   ],
   "source": [
    "# [a.norm_names for a in corpus_ACL.papers[41477].authors]"
   ]
  },
  {
   "cell_type": "code",
   "execution_count": 31,
   "metadata": {},
   "outputs": [
    {
     "data": {
      "text/plain": [
       "[['Arora', 'Aryaman'],\n",
       " ['Farris', 'Adam'],\n",
       " ['R', 'Gopalakrishnan'],\n",
       " ['Basu', 'Samopriya']]"
      ]
     },
     "execution_count": 31,
     "metadata": {},
     "output_type": "execute_result"
    }
   ],
   "source": [
    "# [a.norm_names for a in corpus_arxiv.papers[11731].authors]"
   ]
  },
  {
   "cell_type": "code",
   "execution_count": 32,
   "metadata": {},
   "outputs": [],
   "source": [
    "# # remove the paper from arxiv papers, store it in papers with errors\n",
    "# p = corpus_arxiv.papers[11731]\n",
    "# p.init_error = \"Duplicate error: also found in ACL corpus\"\n",
    "\n",
    "# corpus_arxiv.papers.remove(p)\n",
    "# corpus_arxiv.papers_with_errors.append(p)"
   ]
  },
  {
   "cell_type": "code",
   "execution_count": 34,
   "metadata": {},
   "outputs": [
    {
     "name": "stdout",
     "output_type": "stream",
     "text": [
      "30361\n",
      "3621\n"
     ]
    }
   ],
   "source": [
    "# print(len(corpus_arxiv.papers))\n",
    "# print(len(corpus_arxiv.papers_with_errors))"
   ]
  },
  {
   "cell_type": "code",
   "execution_count": 35,
   "metadata": {},
   "outputs": [],
   "source": [
    "# # save the changes\n",
    "# with open(\"../data/arxiv/corpus_arxiv.pkl\", \"wb\") as f:\n",
    "#     pickle.dump(corpus_arxiv, f)"
   ]
  },
  {
   "cell_type": "markdown",
   "metadata": {},
   "source": [
    "#### Some corpus Statistics"
   ]
  },
  {
   "cell_type": "code",
   "execution_count": 41,
   "metadata": {},
   "outputs": [
    {
     "data": {
      "image/png": "[encoded data removed]",
      "text/plain": [
       "<Figure size 640x480 with 1 Axes>"
      ]
     },
     "metadata": {},
     "output_type": "display_data"
    }
   ],
   "source": [
    "# distribution of dates\n",
    "years = [p.year for p in corpus_arxiv.papers]\n",
    "plt.hist(years, bins=range(min(years), max(years) + 1))\n",
    "plt.title(\"Distribution of years of papers in the arxiv corpus\")\n",
    "plt.show()\n"
   ]
  }
 ],
 "metadata": {
  "kernelspec": {
   "display_name": ".venv",
   "language": "python",
   "name": "python3"
  },
  "language_info": {
   "codemirror_mode": {
    "name": "ipython",
    "version": 3
   },
   "file_extension": ".py",
   "mimetype": "text/x-python",
   "name": "python",
   "nbconvert_exporter": "python",
   "pygments_lexer": "ipython3",
   "version": "3.11.4"
  }
 },
 "nbformat": 4,
 "nbformat_minor": 2
}
