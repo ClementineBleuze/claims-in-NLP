{
 "cells": [
  {
   "cell_type": "markdown",
   "metadata": {},
   "source": [
    "# Constitution of a corpus of NLP papers from two sources: ACL Anthology and ArXiv"
   ]
  },
  {
   "cell_type": "markdown",
   "metadata": {},
   "source": [
    "**In this Notebook**: We will create two `Corpus` objects and populate them with `Paper`(s), whose content will be further investigated. We use two sources of papers (XML format) and metadata: [the ACL Anthology](#a-acl-corpus) and [ArXiv](#b-arxiv-corpus)."
   ]
  },
  {
   "cell_type": "code",
   "execution_count": 1,
   "metadata": {},
   "outputs": [],
   "source": [
    "import pandas as pd\n",
    "import numpy as np\n",
    "import xml.etree.ElementTree as ET\n",
    "import json\n",
    "import re\n",
    "import tqdm\n",
    "import os\n",
    "from matplotlib import pyplot as plt\n",
    "from collections import Counter\n",
    "import utils.Corpus"
   ]
  },
  {
   "cell_type": "markdown",
   "metadata": {},
   "source": [
    "## A. ACL corpus"
   ]
  },
  {
   "cell_type": "markdown",
   "metadata": {},
   "source": [
    "### 1. Initial data inspection"
   ]
  },
  {
   "cell_type": "markdown",
   "metadata": {},
   "source": [
    "Data source: [ACL Anthology corpus](https://github.com/shauryr/ACL-anthology-corpus) by Shaurya Rohatgi (metadata + grobid extractions as XML files)."
   ]
  },
  {
   "cell_type": "code",
   "execution_count": 19,
   "metadata": {},
   "outputs": [],
   "source": [
    "# XML_FILES_DIR = \"acl_corpus_grobid_full_text.80k.v9_22/grobid_full_text\"\n",
    "# METADATA_PATH = \"acl-publication-info.74k.v3.full-sections-partial-topic-labels.pkl\""
   ]
  },
  {
   "cell_type": "markdown",
   "metadata": {},
   "source": [
    "Have a look at the complete metadata provided in Shaurya Rohatgi's corpus:"
   ]
  },
  {
   "cell_type": "code",
   "execution_count": 20,
   "metadata": {},
   "outputs": [],
   "source": [
    "# df = pd.read_pickle(METADATA_PATH)\n",
    "# print(df.shape)\n",
    "# df.columns"
   ]
  },
  {
   "cell_type": "markdown",
   "metadata": {},
   "source": [
    "Check the years:"
   ]
  },
  {
   "cell_type": "code",
   "execution_count": 21,
   "metadata": {},
   "outputs": [],
   "source": [
    "# df[\"year\"] = df[\"year\"].astype(int)\n",
    "# df[\"year\"].describe()"
   ]
  },
  {
   "cell_type": "markdown",
   "metadata": {},
   "source": [
    "Also check that for every article mentionned in the metadata, we have the corresponding XML file stored."
   ]
  },
  {
   "cell_type": "code",
   "execution_count": 22,
   "metadata": {},
   "outputs": [],
   "source": [
    "# # for every acl_id, check that the xml file exists\n",
    "# for acl_id in tqdm.tqdm(list(df[\"acl_id\"])):\n",
    "#     path = f\"{XML_FILES_DIR}/{acl_id}.tei.xml\"\n",
    "#     if not os.path.exists(path):\n",
    "#         print(f\"File {path} does not exist\")\n",
    "#         break"
   ]
  },
  {
   "cell_type": "markdown",
   "metadata": {},
   "source": [
    "Check for attributes with missing values:"
   ]
  },
  {
   "cell_type": "code",
   "execution_count": 23,
   "metadata": {},
   "outputs": [],
   "source": [
    "# for col in df.columns:\n",
    "#     none_rows = df[df[col].isnull()].shape[0]\n",
    "#     if none_rows > 0:\n",
    "#         print(f\"No {col}: {none_rows}\")"
   ]
  },
  {
   "cell_type": "markdown",
   "metadata": {},
   "source": [
    "We can directly exclude papers that are explicitly not in English, and posters (at least, papers whose id contains \"poster\"):"
   ]
  },
  {
   "cell_type": "code",
   "execution_count": 24,
   "metadata": {},
   "outputs": [],
   "source": [
    "# df[\"language\"].value_counts()"
   ]
  },
  {
   "cell_type": "code",
   "execution_count": 25,
   "metadata": {},
   "outputs": [],
   "source": [
    "# len([id_ for id_ in list(df[\"acl_id\"].values) if \"poster\" in id_])"
   ]
  },
  {
   "cell_type": "code",
   "execution_count": 26,
   "metadata": {},
   "outputs": [],
   "source": [
    "# # get rid of the non-english papers\n",
    "# df_c = df[(df[\"language\"] == \"English\") | (df[\"language\"].isnull())]\n",
    "\n",
    "# # get rid of the posters\n",
    "# for i, row in df_c.iterrows():\n",
    "#     if \"poster\" in df_c.loc[i, \"acl_id\"]:\n",
    "#         df_c.drop(i, inplace=True)"
   ]
  },
  {
   "cell_type": "code",
   "execution_count": 27,
   "metadata": {},
   "outputs": [],
   "source": [
    "# df_c.shape"
   ]
  },
  {
   "cell_type": "code",
   "execution_count": 28,
   "metadata": {},
   "outputs": [],
   "source": [
    "# # save in pickle format\n",
    "# df_c.to_pickle(\"acl-metadata-full-en_no-p.pkl\")"
   ]
  },
  {
   "cell_type": "markdown",
   "metadata": {},
   "source": [
    "### 2. Create `Corpus` object and extract papers content"
   ]
  },
  {
   "cell_type": "code",
   "execution_count": 2,
   "metadata": {},
   "outputs": [],
   "source": [
    "import utils.Corpus"
   ]
  },
  {
   "cell_type": "markdown",
   "metadata": {},
   "source": [
    "Below, we create a `Corpus` and provide it with the paths to find useful XML papers and metadata. When calling `initialize`, we extract the content of all the XML files in the corpus."
   ]
  },
  {
   "cell_type": "code",
   "execution_count": 3,
   "metadata": {},
   "outputs": [],
   "source": [
    "corpus_ACL = utils.Corpus.Corpus(xml_dir_path= \"acl_corpus_grobid_full_text.80k.v9_22/grobid_full_text/\",\n",
    "                    metadata_path = \"acl-metadata-full-en_no-p.pkl\",\n",
    "                    name = \"ACL\")"
   ]
  },
  {
   "cell_type": "code",
   "execution_count": 4,
   "metadata": {},
   "outputs": [
    {
     "name": "stderr",
     "output_type": "stream",
     "text": [
      "100%|██████████| 71553/71553 [29:11<00:00, 40.85it/s]   \n"
     ]
    }
   ],
   "source": [
    "corpus_ACL.load_papers()"
   ]
  },
  {
   "cell_type": "code",
   "execution_count": 7,
   "metadata": {},
   "outputs": [],
   "source": [
    "corpus_ACL.preprocess_papers()"
   ]
  },
  {
   "cell_type": "markdown",
   "metadata": {},
   "source": [
    "### 3. Corpus content inspection"
   ]
  },
  {
   "cell_type": "markdown",
   "metadata": {},
   "source": [
    "#### Errors"
   ]
  },
  {
   "cell_type": "code",
   "execution_count": 14,
   "metadata": {},
   "outputs": [
    {
     "name": "stdout",
     "output_type": "stream",
     "text": [
      "Corpus 'ACL' was filled with 71553 papers:\n",
      "  - 60725 papers were successfully loaded\n",
      "  - 10828 papers could not be loaded\n",
      "\n",
      "Errors:\n",
      "  - Parsing error: XML file not well formed : 5523\n",
      "  - Parsing error: no abstract found : 3163\n",
      "  - Noisy data: wrong language (sk) : 8\n",
      "  - Noisy data: wrong language (sq) : 34\n",
      "  - parsing error: not enough paper content found (<2 distinct sections) : 715\n",
      "  - Noisy data: wrong language (da) : 155\n",
      "  - Noisy data: wrong language (de) : 76\n",
      "  - Noisy data: wrong language (fr) : 636\n",
      "  - Noisy data: wrong language (sl) : 8\n",
      "  - Noisy data: wrong language (hr) : 4\n",
      "  - Noisy data: wrong language (so) : 21\n",
      "  - Noisy data: wrong language (tr) : 11\n",
      "  - Noisy data: wrong language (pl) : 21\n",
      "  - Noisy data: wrong language (pt) : 124\n",
      "  - Noisy data: wrong language (af) : 1\n",
      "  - Noisy data: wrong language (et) : 3\n",
      "  - Noisy data: wrong language (no) : 40\n",
      "  - Noisy data: wrong language (nl) : 8\n",
      "  - Noisy data: wrong language (vi) : 26\n",
      "  - Noisy data: wrong language (es) : 10\n",
      "  - Noisy data: wrong language (zh-tw) : 148\n",
      "  - Noisy data: wrong language (bn) : 6\n",
      "  - Noisy data: wrong language (ru) : 1\n",
      "  - Noisy data: wrong language (hu) : 10\n",
      "  - Noisy data: wrong language (fi) : 12\n",
      "  - Noisy data: wrong language (it) : 12\n",
      "  - Noisy data: wrong language (ro) : 2\n",
      "  - Noisy data: wrong language (sv) : 38\n",
      "  - Noisy data: wrong language (cs) : 5\n",
      "  - Noisy data: wrong language (ja) : 1\n",
      "  - Noisy data: wrong language (lt) : 1\n",
      "  - Noisy data: wrong language (hi) : 1\n",
      "  - Noisy data: wrong language (id) : 2\n",
      "  - Noisy data: wrong language (zh-cn) : 1\n",
      "  - Noisy data: wrong language (sw) : 1\n"
     ]
    }
   ],
   "source": [
    "corpus_ACL.describe(error_verbose=True)"
   ]
  },
  {
   "cell_type": "code",
   "execution_count": 16,
   "metadata": {},
   "outputs": [],
   "source": [
    "# collect the encountered errors\n",
    "errors = [[pe.id, pe.init_error, pe.title, pe.abstract, pe.year] for pe in corpus_ACL.papers_with_errors]\n",
    "df_errors = pd.DataFrame(errors, columns=[\"id\", \"error\", \"title\", \"abstract\", \"year\"])\n",
    "#df_errors.to_csv(\"acl-init-errors.csv\", index=False)"
   ]
  },
  {
   "cell_type": "code",
   "execution_count": 18,
   "metadata": {},
   "outputs": [
    {
     "data": {
      "text/html": [
       "<div>\n",
       "<style scoped>\n",
       "    .dataframe tbody tr th:only-of-type {\n",
       "        vertical-align: middle;\n",
       "    }\n",
       "\n",
       "    .dataframe tbody tr th {\n",
       "        vertical-align: top;\n",
       "    }\n",
       "\n",
       "    .dataframe thead th {\n",
       "        text-align: right;\n",
       "    }\n",
       "</style>\n",
       "<table border=\"1\" class=\"dataframe\">\n",
       "  <thead>\n",
       "    <tr style=\"text-align: right;\">\n",
       "      <th></th>\n",
       "      <th>id</th>\n",
       "      <th>error</th>\n",
       "      <th>title</th>\n",
       "      <th>abstract</th>\n",
       "      <th>year</th>\n",
       "    </tr>\n",
       "  </thead>\n",
       "  <tbody>\n",
       "    <tr>\n",
       "      <th>0</th>\n",
       "      <td>L02-1310</td>\n",
       "      <td>Parsing error: XML file not well formed</td>\n",
       "      <td>Bootstrapping Large Sense Tagged Corpora</td>\n",
       "      <td>NaN</td>\n",
       "      <td>2002</td>\n",
       "    </tr>\n",
       "    <tr>\n",
       "      <th>1</th>\n",
       "      <td>L02-1309</td>\n",
       "      <td>Parsing error: XML file not well formed</td>\n",
       "      <td>Proposal of a very-large-corpus acquisition me...</td>\n",
       "      <td>NaN</td>\n",
       "      <td>2002</td>\n",
       "    </tr>\n",
       "    <tr>\n",
       "      <th>2</th>\n",
       "      <td>L02-1313</td>\n",
       "      <td>Parsing error: XML file not well formed</td>\n",
       "      <td>Enhanced {J}apanese Electronic Dictionary Look-up</td>\n",
       "      <td>NaN</td>\n",
       "      <td>2002</td>\n",
       "    </tr>\n",
       "    <tr>\n",
       "      <th>3</th>\n",
       "      <td>L02-1314</td>\n",
       "      <td>Parsing error: XML file not well formed</td>\n",
       "      <td>Evaluation of a Vector Space Similarity Measur...</td>\n",
       "      <td>NaN</td>\n",
       "      <td>2002</td>\n",
       "    </tr>\n",
       "    <tr>\n",
       "      <th>4</th>\n",
       "      <td>L02-1315</td>\n",
       "      <td>Parsing error: XML file not well formed</td>\n",
       "      <td>Corpora as Object-Oriented System. From {UML}-...</td>\n",
       "      <td>NaN</td>\n",
       "      <td>2002</td>\n",
       "    </tr>\n",
       "  </tbody>\n",
       "</table>\n",
       "</div>"
      ],
      "text/plain": [
       "         id                                    error  \\\n",
       "0  L02-1310  Parsing error: XML file not well formed   \n",
       "1  L02-1309  Parsing error: XML file not well formed   \n",
       "2  L02-1313  Parsing error: XML file not well formed   \n",
       "3  L02-1314  Parsing error: XML file not well formed   \n",
       "4  L02-1315  Parsing error: XML file not well formed   \n",
       "\n",
       "                                               title abstract  year  \n",
       "0           Bootstrapping Large Sense Tagged Corpora      NaN  2002  \n",
       "1  Proposal of a very-large-corpus acquisition me...      NaN  2002  \n",
       "2  Enhanced {J}apanese Electronic Dictionary Look-up      NaN  2002  \n",
       "3  Evaluation of a Vector Space Similarity Measur...      NaN  2002  \n",
       "4  Corpora as Object-Oriented System. From {UML}-...      NaN  2002  "
      ]
     },
     "execution_count": 18,
     "metadata": {},
     "output_type": "execute_result"
    }
   ],
   "source": [
    "df_errors = pd.read_csv(\"acl-init-errors.csv\")\n",
    "df_errors.head()"
   ]
  },
  {
   "cell_type": "markdown",
   "metadata": {},
   "source": [
    "#### Some Statistics"
   ]
  },
  {
   "cell_type": "code",
   "execution_count": 19,
   "metadata": {},
   "outputs": [],
   "source": [
    "# TO DO\n",
    "# distribution errors / non errors\n",
    "# per article: how many sentences / candidates / sections, ratios"
   ]
  },
  {
   "cell_type": "code",
   "execution_count": null,
   "metadata": {},
   "outputs": [],
   "source": [
    "c_nc_ratios = []\n",
    "for p in corpus_ACL.papers:\n",
    "    nb_c = len(p.content[p.content[\"candidate\"] == True])\n",
    "    nb_nc = len(p.content[p.content[\"candidate\"] == False])\n",
    "    c_nc_ratios.append(nb_c/(nb_nc + nb_c))\n",
    "\n",
    "plt.hist(c_nc_ratios, bins = 20)\n",
    "plt.title(\"Distribution of the candidates/all sentences ratio in the ACL corpus\")\n",
    "plt.show()"
   ]
  },
  {
   "cell_type": "markdown",
   "metadata": {},
   "source": [
    "Now: draw a small sample as a toy corpus"
   ]
  },
  {
   "cell_type": "code",
   "execution_count": 7,
   "metadata": {},
   "outputs": [],
   "source": [
    "# df_sample = df.sample(1000, random_state = 23)\n",
    "# df_sample.to_pickle(\"acl-metadata-sample-1000.pkl\")\n",
    "df = pd.read_pickle(\"acl-metadata-sample-1000.pkl\")"
   ]
  },
  {
   "cell_type": "markdown",
   "metadata": {},
   "source": [
    "## B. ArXiv corpus"
   ]
  },
  {
   "cell_type": "markdown",
   "metadata": {},
   "source": [
    "### 1. Initial corpus inspection"
   ]
  },
  {
   "cell_type": "markdown",
   "metadata": {},
   "source": [
    "We load the initial metadata of the entire ArXiv corpus, available on Kaggle."
   ]
  },
  {
   "cell_type": "code",
   "execution_count": 3,
   "metadata": {},
   "outputs": [
    {
     "name": "stderr",
     "output_type": "stream",
     "text": [
      "2549it [00:00, 24104.71it/s]"
     ]
    },
    {
     "name": "stderr",
     "output_type": "stream",
     "text": [
      "2445865it [03:22, 12086.93it/s]\n"
     ]
    }
   ],
   "source": [
    "data = []\n",
    "with open(\"arxiv-metadata-oai-snapshot.json\", \"r\", errors = \"ignore\", encoding = \"utf-8\") as f:\n",
    "    for line in tqdm.tqdm(f):\n",
    "        data.append(json.loads(line))\n",
    "\n",
    "df = pd.DataFrame(data)"
   ]
  },
  {
   "cell_type": "code",
   "execution_count": 4,
   "metadata": {},
   "outputs": [
    {
     "name": "stdout",
     "output_type": "stream",
     "text": [
      "(2445865, 14)\n"
     ]
    },
    {
     "data": {
      "text/html": [
       "<div>\n",
       "<style scoped>\n",
       "    .dataframe tbody tr th:only-of-type {\n",
       "        vertical-align: middle;\n",
       "    }\n",
       "\n",
       "    .dataframe tbody tr th {\n",
       "        vertical-align: top;\n",
       "    }\n",
       "\n",
       "    .dataframe thead th {\n",
       "        text-align: right;\n",
       "    }\n",
       "</style>\n",
       "<table border=\"1\" class=\"dataframe\">\n",
       "  <thead>\n",
       "    <tr style=\"text-align: right;\">\n",
       "      <th></th>\n",
       "      <th>id</th>\n",
       "      <th>submitter</th>\n",
       "      <th>authors</th>\n",
       "      <th>title</th>\n",
       "      <th>comments</th>\n",
       "      <th>journal-ref</th>\n",
       "      <th>doi</th>\n",
       "      <th>report-no</th>\n",
       "      <th>categories</th>\n",
       "      <th>license</th>\n",
       "      <th>abstract</th>\n",
       "      <th>versions</th>\n",
       "      <th>update_date</th>\n",
       "      <th>authors_parsed</th>\n",
       "    </tr>\n",
       "  </thead>\n",
       "  <tbody>\n",
       "    <tr>\n",
       "      <th>0</th>\n",
       "      <td>0704.0001</td>\n",
       "      <td>Pavel Nadolsky</td>\n",
       "      <td>C. Bal\\'azs, E. L. Berger, P. M. Nadolsky, C.-...</td>\n",
       "      <td>Calculation of prompt diphoton production cros...</td>\n",
       "      <td>37 pages, 15 figures; published version</td>\n",
       "      <td>Phys.Rev.D76:013009,2007</td>\n",
       "      <td>10.1103/PhysRevD.76.013009</td>\n",
       "      <td>ANL-HEP-PR-07-12</td>\n",
       "      <td>hep-ph</td>\n",
       "      <td>None</td>\n",
       "      <td>A fully differential calculation in perturba...</td>\n",
       "      <td>[{'version': 'v1', 'created': 'Mon, 2 Apr 2007...</td>\n",
       "      <td>2008-11-26</td>\n",
       "      <td>[[Balázs, C., ], [Berger, E. L., ], [Nadolsky,...</td>\n",
       "    </tr>\n",
       "    <tr>\n",
       "      <th>1</th>\n",
       "      <td>0704.0002</td>\n",
       "      <td>Louis Theran</td>\n",
       "      <td>Ileana Streinu and Louis Theran</td>\n",
       "      <td>Sparsity-certifying Graph Decompositions</td>\n",
       "      <td>To appear in Graphs and Combinatorics</td>\n",
       "      <td>None</td>\n",
       "      <td>None</td>\n",
       "      <td>None</td>\n",
       "      <td>math.CO cs.CG</td>\n",
       "      <td>http://arxiv.org/licenses/nonexclusive-distrib...</td>\n",
       "      <td>We describe a new algorithm, the $(k,\\ell)$-...</td>\n",
       "      <td>[{'version': 'v1', 'created': 'Sat, 31 Mar 200...</td>\n",
       "      <td>2008-12-13</td>\n",
       "      <td>[[Streinu, Ileana, ], [Theran, Louis, ]]</td>\n",
       "    </tr>\n",
       "    <tr>\n",
       "      <th>2</th>\n",
       "      <td>0704.0003</td>\n",
       "      <td>Hongjun Pan</td>\n",
       "      <td>Hongjun Pan</td>\n",
       "      <td>The evolution of the Earth-Moon system based o...</td>\n",
       "      <td>23 pages, 3 figures</td>\n",
       "      <td>None</td>\n",
       "      <td>None</td>\n",
       "      <td>None</td>\n",
       "      <td>physics.gen-ph</td>\n",
       "      <td>None</td>\n",
       "      <td>The evolution of Earth-Moon system is descri...</td>\n",
       "      <td>[{'version': 'v1', 'created': 'Sun, 1 Apr 2007...</td>\n",
       "      <td>2008-01-13</td>\n",
       "      <td>[[Pan, Hongjun, ]]</td>\n",
       "    </tr>\n",
       "    <tr>\n",
       "      <th>3</th>\n",
       "      <td>0704.0004</td>\n",
       "      <td>David Callan</td>\n",
       "      <td>David Callan</td>\n",
       "      <td>A determinant of Stirling cycle numbers counts...</td>\n",
       "      <td>11 pages</td>\n",
       "      <td>None</td>\n",
       "      <td>None</td>\n",
       "      <td>None</td>\n",
       "      <td>math.CO</td>\n",
       "      <td>None</td>\n",
       "      <td>We show that a determinant of Stirling cycle...</td>\n",
       "      <td>[{'version': 'v1', 'created': 'Sat, 31 Mar 200...</td>\n",
       "      <td>2007-05-23</td>\n",
       "      <td>[[Callan, David, ]]</td>\n",
       "    </tr>\n",
       "    <tr>\n",
       "      <th>4</th>\n",
       "      <td>0704.0005</td>\n",
       "      <td>Alberto Torchinsky</td>\n",
       "      <td>Wael Abu-Shammala and Alberto Torchinsky</td>\n",
       "      <td>From dyadic $\\Lambda_{\\alpha}$ to $\\Lambda_{\\a...</td>\n",
       "      <td>None</td>\n",
       "      <td>Illinois J. Math. 52 (2008) no.2, 681-689</td>\n",
       "      <td>None</td>\n",
       "      <td>None</td>\n",
       "      <td>math.CA math.FA</td>\n",
       "      <td>None</td>\n",
       "      <td>In this paper we show how to compute the $\\L...</td>\n",
       "      <td>[{'version': 'v1', 'created': 'Mon, 2 Apr 2007...</td>\n",
       "      <td>2013-10-15</td>\n",
       "      <td>[[Abu-Shammala, Wael, ], [Torchinsky, Alberto, ]]</td>\n",
       "    </tr>\n",
       "  </tbody>\n",
       "</table>\n",
       "</div>"
      ],
      "text/plain": [
       "          id           submitter  \\\n",
       "0  0704.0001      Pavel Nadolsky   \n",
       "1  0704.0002        Louis Theran   \n",
       "2  0704.0003         Hongjun Pan   \n",
       "3  0704.0004        David Callan   \n",
       "4  0704.0005  Alberto Torchinsky   \n",
       "\n",
       "                                             authors  \\\n",
       "0  C. Bal\\'azs, E. L. Berger, P. M. Nadolsky, C.-...   \n",
       "1                    Ileana Streinu and Louis Theran   \n",
       "2                                        Hongjun Pan   \n",
       "3                                       David Callan   \n",
       "4           Wael Abu-Shammala and Alberto Torchinsky   \n",
       "\n",
       "                                               title  \\\n",
       "0  Calculation of prompt diphoton production cros...   \n",
       "1           Sparsity-certifying Graph Decompositions   \n",
       "2  The evolution of the Earth-Moon system based o...   \n",
       "3  A determinant of Stirling cycle numbers counts...   \n",
       "4  From dyadic $\\Lambda_{\\alpha}$ to $\\Lambda_{\\a...   \n",
       "\n",
       "                                  comments  \\\n",
       "0  37 pages, 15 figures; published version   \n",
       "1    To appear in Graphs and Combinatorics   \n",
       "2                      23 pages, 3 figures   \n",
       "3                                 11 pages   \n",
       "4                                     None   \n",
       "\n",
       "                                 journal-ref                         doi  \\\n",
       "0                   Phys.Rev.D76:013009,2007  10.1103/PhysRevD.76.013009   \n",
       "1                                       None                        None   \n",
       "2                                       None                        None   \n",
       "3                                       None                        None   \n",
       "4  Illinois J. Math. 52 (2008) no.2, 681-689                        None   \n",
       "\n",
       "          report-no       categories  \\\n",
       "0  ANL-HEP-PR-07-12           hep-ph   \n",
       "1              None    math.CO cs.CG   \n",
       "2              None   physics.gen-ph   \n",
       "3              None          math.CO   \n",
       "4              None  math.CA math.FA   \n",
       "\n",
       "                                             license  \\\n",
       "0                                               None   \n",
       "1  http://arxiv.org/licenses/nonexclusive-distrib...   \n",
       "2                                               None   \n",
       "3                                               None   \n",
       "4                                               None   \n",
       "\n",
       "                                            abstract  \\\n",
       "0    A fully differential calculation in perturba...   \n",
       "1    We describe a new algorithm, the $(k,\\ell)$-...   \n",
       "2    The evolution of Earth-Moon system is descri...   \n",
       "3    We show that a determinant of Stirling cycle...   \n",
       "4    In this paper we show how to compute the $\\L...   \n",
       "\n",
       "                                            versions update_date  \\\n",
       "0  [{'version': 'v1', 'created': 'Mon, 2 Apr 2007...  2008-11-26   \n",
       "1  [{'version': 'v1', 'created': 'Sat, 31 Mar 200...  2008-12-13   \n",
       "2  [{'version': 'v1', 'created': 'Sun, 1 Apr 2007...  2008-01-13   \n",
       "3  [{'version': 'v1', 'created': 'Sat, 31 Mar 200...  2007-05-23   \n",
       "4  [{'version': 'v1', 'created': 'Mon, 2 Apr 2007...  2013-10-15   \n",
       "\n",
       "                                      authors_parsed  \n",
       "0  [[Balázs, C., ], [Berger, E. L., ], [Nadolsky,...  \n",
       "1           [[Streinu, Ileana, ], [Theran, Louis, ]]  \n",
       "2                                 [[Pan, Hongjun, ]]  \n",
       "3                                [[Callan, David, ]]  \n",
       "4  [[Abu-Shammala, Wael, ], [Torchinsky, Alberto, ]]  "
      ]
     },
     "execution_count": 4,
     "metadata": {},
     "output_type": "execute_result"
    }
   ],
   "source": [
    "print(df.shape)\n",
    "df.head()"
   ]
  },
  {
   "cell_type": "markdown",
   "metadata": {},
   "source": [
    "We see that it is very large, but we will only keep the articles having the cs.CL category (Computational Linguistics), possibly among others."
   ]
  },
  {
   "cell_type": "code",
   "execution_count": 5,
   "metadata": {},
   "outputs": [
    {
     "name": "stdout",
     "output_type": "stream",
     "text": [
      "(59167, 14)\n"
     ]
    }
   ],
   "source": [
    "df_NLP = df[df[\"categories\"].str.contains(\"cs.CL\")]\n",
    "print(df_NLP.shape)"
   ]
  },
  {
   "cell_type": "code",
   "execution_count": 6,
   "metadata": {},
   "outputs": [
    {
     "data": {
      "text/html": [
       "<div>\n",
       "<style scoped>\n",
       "    .dataframe tbody tr th:only-of-type {\n",
       "        vertical-align: middle;\n",
       "    }\n",
       "\n",
       "    .dataframe tbody tr th {\n",
       "        vertical-align: top;\n",
       "    }\n",
       "\n",
       "    .dataframe thead th {\n",
       "        text-align: right;\n",
       "    }\n",
       "</style>\n",
       "<table border=\"1\" class=\"dataframe\">\n",
       "  <thead>\n",
       "    <tr style=\"text-align: right;\">\n",
       "      <th></th>\n",
       "      <th>id</th>\n",
       "      <th>submitter</th>\n",
       "      <th>authors</th>\n",
       "      <th>title</th>\n",
       "      <th>comments</th>\n",
       "      <th>journal-ref</th>\n",
       "      <th>doi</th>\n",
       "      <th>report-no</th>\n",
       "      <th>categories</th>\n",
       "      <th>license</th>\n",
       "      <th>abstract</th>\n",
       "      <th>versions</th>\n",
       "      <th>update_date</th>\n",
       "      <th>authors_parsed</th>\n",
       "    </tr>\n",
       "  </thead>\n",
       "  <tbody>\n",
       "    <tr>\n",
       "      <th>2082</th>\n",
       "      <td>0704.2083</td>\n",
       "      <td>Hassan Satori</td>\n",
       "      <td>H. Satori, M. Harti and N. Chenfour</td>\n",
       "      <td>Introduction to Arabic Speech Recognition Usin...</td>\n",
       "      <td>4 pages, 3 figures and 2 tables, was in Inform...</td>\n",
       "      <td>None</td>\n",
       "      <td>None</td>\n",
       "      <td>None</td>\n",
       "      <td>cs.CL cs.AI</td>\n",
       "      <td>None</td>\n",
       "      <td>In this paper Arabic was investigated from t...</td>\n",
       "      <td>[{'version': 'v1', 'created': 'Tue, 17 Apr 200...</td>\n",
       "      <td>2007-05-23</td>\n",
       "      <td>[[Satori, H., ], [Harti, M., ], [Chenfour, N., ]]</td>\n",
       "    </tr>\n",
       "    <tr>\n",
       "      <th>2200</th>\n",
       "      <td>0704.2201</td>\n",
       "      <td>Hassan Satori</td>\n",
       "      <td>H. Satori, M. Harti and N. Chenfour</td>\n",
       "      <td>Arabic Speech Recognition System using CMU-Sph...</td>\n",
       "      <td>5 pages, 3 figures and 2 tables, in French</td>\n",
       "      <td>None</td>\n",
       "      <td>None</td>\n",
       "      <td>None</td>\n",
       "      <td>cs.CL cs.AI</td>\n",
       "      <td>None</td>\n",
       "      <td>In this paper we present the creation of an ...</td>\n",
       "      <td>[{'version': 'v1', 'created': 'Tue, 17 Apr 200...</td>\n",
       "      <td>2007-05-23</td>\n",
       "      <td>[[Satori, H., ], [Harti, M., ], [Chenfour, N., ]]</td>\n",
       "    </tr>\n",
       "    <tr>\n",
       "      <th>3661</th>\n",
       "      <td>0704.3662</td>\n",
       "      <td>Tian-Jian Jiang</td>\n",
       "      <td>Mike Tian-Jian Jiang, James Zhan, Jaimie Lin, ...</td>\n",
       "      <td>An Automated Evaluation Metric for Chinese Tex...</td>\n",
       "      <td>8 pages</td>\n",
       "      <td>Jiang, Mike Tian-Jian, et al. \"Robustness anal...</td>\n",
       "      <td>None</td>\n",
       "      <td>None</td>\n",
       "      <td>cs.HC cs.CL</td>\n",
       "      <td>None</td>\n",
       "      <td>In this paper, we propose an automated evalu...</td>\n",
       "      <td>[{'version': 'v1', 'created': 'Fri, 27 Apr 200...</td>\n",
       "      <td>2013-10-29</td>\n",
       "      <td>[[Jiang, Mike Tian-Jian, ], [Zhan, James, ], [...</td>\n",
       "    </tr>\n",
       "    <tr>\n",
       "      <th>3664</th>\n",
       "      <td>0704.3665</td>\n",
       "      <td>Tian-Jian Jiang</td>\n",
       "      <td>Mike Tian-Jian Jiang, Deng Liu, Meng-Juei Hsie...</td>\n",
       "      <td>On the Development of Text Input Method - Less...</td>\n",
       "      <td>10 pages</td>\n",
       "      <td>None</td>\n",
       "      <td>None</td>\n",
       "      <td>None</td>\n",
       "      <td>cs.CL cs.HC</td>\n",
       "      <td>None</td>\n",
       "      <td>Intelligent Input Methods (IM) are essential...</td>\n",
       "      <td>[{'version': 'v1', 'created': 'Fri, 27 Apr 200...</td>\n",
       "      <td>2007-05-23</td>\n",
       "      <td>[[Jiang, Mike Tian-Jian, ], [Liu, Deng, ], [Hs...</td>\n",
       "    </tr>\n",
       "    <tr>\n",
       "      <th>3707</th>\n",
       "      <td>0704.3708</td>\n",
       "      <td>Bernat Corominas-Murtra BCM</td>\n",
       "      <td>Bernat Corominas-Murtra</td>\n",
       "      <td>Network statistics on early English Syntax: St...</td>\n",
       "      <td>New abstract. Due to a mistake, abstract from ...</td>\n",
       "      <td>None</td>\n",
       "      <td>None</td>\n",
       "      <td>None</td>\n",
       "      <td>cs.CL</td>\n",
       "      <td>None</td>\n",
       "      <td>This paper includes a reflection on the role...</td>\n",
       "      <td>[{'version': 'v1', 'created': 'Fri, 27 Apr 200...</td>\n",
       "      <td>2007-05-23</td>\n",
       "      <td>[[Corominas-Murtra, Bernat, ]]</td>\n",
       "    </tr>\n",
       "  </tbody>\n",
       "</table>\n",
       "</div>"
      ],
      "text/plain": [
       "             id                    submitter  \\\n",
       "2082  0704.2083                Hassan Satori   \n",
       "2200  0704.2201                Hassan Satori   \n",
       "3661  0704.3662              Tian-Jian Jiang   \n",
       "3664  0704.3665              Tian-Jian Jiang   \n",
       "3707  0704.3708  Bernat Corominas-Murtra BCM   \n",
       "\n",
       "                                                authors  \\\n",
       "2082                H. Satori, M. Harti and N. Chenfour   \n",
       "2200                H. Satori, M. Harti and N. Chenfour   \n",
       "3661  Mike Tian-Jian Jiang, James Zhan, Jaimie Lin, ...   \n",
       "3664  Mike Tian-Jian Jiang, Deng Liu, Meng-Juei Hsie...   \n",
       "3707                            Bernat Corominas-Murtra   \n",
       "\n",
       "                                                  title  \\\n",
       "2082  Introduction to Arabic Speech Recognition Usin...   \n",
       "2200  Arabic Speech Recognition System using CMU-Sph...   \n",
       "3661  An Automated Evaluation Metric for Chinese Tex...   \n",
       "3664  On the Development of Text Input Method - Less...   \n",
       "3707  Network statistics on early English Syntax: St...   \n",
       "\n",
       "                                               comments  \\\n",
       "2082  4 pages, 3 figures and 2 tables, was in Inform...   \n",
       "2200         5 pages, 3 figures and 2 tables, in French   \n",
       "3661                                            8 pages   \n",
       "3664                                           10 pages   \n",
       "3707  New abstract. Due to a mistake, abstract from ...   \n",
       "\n",
       "                                            journal-ref   doi report-no  \\\n",
       "2082                                               None  None      None   \n",
       "2200                                               None  None      None   \n",
       "3661  Jiang, Mike Tian-Jian, et al. \"Robustness anal...  None      None   \n",
       "3664                                               None  None      None   \n",
       "3707                                               None  None      None   \n",
       "\n",
       "       categories license                                           abstract  \\\n",
       "2082  cs.CL cs.AI    None    In this paper Arabic was investigated from t...   \n",
       "2200  cs.CL cs.AI    None    In this paper we present the creation of an ...   \n",
       "3661  cs.HC cs.CL    None    In this paper, we propose an automated evalu...   \n",
       "3664  cs.CL cs.HC    None    Intelligent Input Methods (IM) are essential...   \n",
       "3707        cs.CL    None    This paper includes a reflection on the role...   \n",
       "\n",
       "                                               versions update_date  \\\n",
       "2082  [{'version': 'v1', 'created': 'Tue, 17 Apr 200...  2007-05-23   \n",
       "2200  [{'version': 'v1', 'created': 'Tue, 17 Apr 200...  2007-05-23   \n",
       "3661  [{'version': 'v1', 'created': 'Fri, 27 Apr 200...  2013-10-29   \n",
       "3664  [{'version': 'v1', 'created': 'Fri, 27 Apr 200...  2007-05-23   \n",
       "3707  [{'version': 'v1', 'created': 'Fri, 27 Apr 200...  2007-05-23   \n",
       "\n",
       "                                         authors_parsed  \n",
       "2082  [[Satori, H., ], [Harti, M., ], [Chenfour, N., ]]  \n",
       "2200  [[Satori, H., ], [Harti, M., ], [Chenfour, N., ]]  \n",
       "3661  [[Jiang, Mike Tian-Jian, ], [Zhan, James, ], [...  \n",
       "3664  [[Jiang, Mike Tian-Jian, ], [Liu, Deng, ], [Hs...  \n",
       "3707                     [[Corominas-Murtra, Bernat, ]]  "
      ]
     },
     "execution_count": 6,
     "metadata": {},
     "output_type": "execute_result"
    }
   ],
   "source": [
    "df_NLP.head()"
   ]
  },
  {
   "cell_type": "code",
   "execution_count": 2,
   "metadata": {},
   "outputs": [],
   "source": [
    "# df_NLP.to_csv(\"arxiv-metadata-nlp.csv\", index = False)\n",
    "df_NLP = pd.read_csv(\"arxiv-metadata-nlp.csv\")"
   ]
  },
  {
   "cell_type": "markdown",
   "metadata": {},
   "source": [
    "Then we remove papers having a journal ref or a DOI, indicating that they have been published."
   ]
  },
  {
   "cell_type": "code",
   "execution_count": 3,
   "metadata": {},
   "outputs": [
    {
     "name": "stdout",
     "output_type": "stream",
     "text": [
      "(50857, 14)\n"
     ]
    }
   ],
   "source": [
    "unpublished_NLP = df_NLP[df_NLP[\"journal-ref\"].isnull() & df_NLP[\"doi\"].isnull()]\n",
    "print(unpublished_NLP.shape)"
   ]
  },
  {
   "cell_type": "markdown",
   "metadata": {},
   "source": [
    "In case the paper has been published after being first put in arXiv, and the authors haven't updated its information, we will check that the title of the paper is not already in the ACL Anthology."
   ]
  },
  {
   "cell_type": "markdown",
   "metadata": {},
   "source": [
    "TO DO"
   ]
  },
  {
   "cell_type": "code",
   "execution_count": 4,
   "metadata": {},
   "outputs": [],
   "source": [
    "# gather all (supposedly) unpublished titles from the arxiv NLP corpus\n",
    "all_unpublished_titles = [re.sub(re.compile('[^a-z]'), \"\", t.lower()) for t in list(unpublished_NLP[\"title\"])]"
   ]
  },
  {
   "cell_type": "code",
   "execution_count": 38,
   "metadata": {},
   "outputs": [
    {
     "name": "stdout",
     "output_type": "stream",
     "text": [
      "93387\n"
     ]
    },
    {
     "data": {
      "text/plain": [
       "'@inproceedings{zhu-etal-2024-resolving,    title = \"Resolving Transcription Ambiguity in {S}panish: A Hybrid Acoustic-Lexical System for Punctuation Restoration\",    author = \"Zhu, Xiliang  and      Chang, Chia-Tien  and      Gardiner, Shayna  and      Rossouw, David  and      Robertson, Jonas\",    editor = \"Pyatkin, Valentina  and      Fried, Daniel  and      Stengel-Eskin, Elias  and      Stengel-Eskin, Elias  and      Liu, Alisa  and      Pezzelle, Sandro\",    booktitle = \"Proceedings of the Third Workshop on Understanding Implicit and Underspecified Language\",    month = mar,    year = \"2024\",    address = \"Malta\",    publisher = \"Association for Computational Linguistics\",    url = \"https://aclanthology.org/2024.unimplicit-1.3\",    pages = \"33--41\",'"
      ]
     },
     "execution_count": 38,
     "metadata": {},
     "output_type": "execute_result"
    }
   ],
   "source": [
    "# use the full acl anthology to gather all acl papers titles and authors\n",
    "with open(\"C:/Users/cleme/Documents/STAGE/claims-in-NLP/data/acl/anthology.bib\", \"r\", encoding=\"utf-8\", errors = \"ignore\") as f:\n",
    "    antho = str(f.read())\n",
    "\n",
    "papers = [p.replace(\"\\n\", \"\") for p in antho.split(\"\\n}\\n\")]\n",
    "print(len(papers))\n",
    "papers[14]"
   ]
  },
  {
   "cell_type": "code",
   "execution_count": 112,
   "metadata": {},
   "outputs": [
    {
     "name": "stdout",
     "output_type": "stream",
     "text": [
      "['Resolving Transcription Ambiguity in {S}panish: A Hybrid Acoustic-Lexical System for Punctuation Restoration']\n",
      "['Zhu, Xiliang  and      Chang, Chia-Tien  and      Gardiner, Shayna  and      Rossouw, David  and      Robertson, Jonas']\n",
      "['https://aclanthology.org/2024.unimplicit-1.3']\n"
     ]
    }
   ],
   "source": [
    "# example on one paper\n",
    "tp = re.compile(r\" title = \\\"(.*?)\\\",\")\n",
    "ap = re.compile(r\" author = \\\"(.*?)\\\",\")\n",
    "lp = re.compile(r\" url = \\\"(.*?)\\\",\")\n",
    "\n",
    "print(re.findall(tp, papers[14]))\n",
    "print(re.findall(ap, papers[14]))\n",
    "print(re.findall(lp, papers[14]))"
   ]
  },
  {
   "cell_type": "code",
   "execution_count": 114,
   "metadata": {},
   "outputs": [],
   "source": [
    "# collect all the titles and authors\n",
    "import utils.Author\n",
    "antho_papers = []\n",
    "\n",
    "for p in papers:\n",
    "\n",
    "    # catch the title\n",
    "    title = re.findall(tp, p)\n",
    "    if len(title) > 0:\n",
    "        t = re.sub(re.compile('[^a-z]'), \"\", title[0].lower())\n",
    "    else:\n",
    "        t = \"\"\n",
    "\n",
    "    # catch the authors\n",
    "    authors = re.findall(ap, p)\n",
    "    if len(authors) > 0:\n",
    "        al = []\n",
    "        als = authors[0].replace(\"\\n\", \"\").split(\" and \")\n",
    "        for a in als:\n",
    "            names = a.split(\",\")\n",
    "            ao = utils.Author.Author(names = [n.strip() for n in names])\n",
    "            ao.normalize_names()\n",
    "            al.append(ao)\n",
    "    else:\n",
    "        al = []\n",
    "\n",
    "    # catch the url\n",
    "    url = re.findall(lp, p)\n",
    "    if len(url) > 0:\n",
    "        u = url[0]\n",
    "    else:\n",
    "        u = \"\"\n",
    "\n",
    "    antho_papers.append((t, al, u))"
   ]
  },
  {
   "cell_type": "code",
   "execution_count": 115,
   "metadata": {},
   "outputs": [
    {
     "name": "stdout",
     "output_type": "stream",
     "text": [
      "resolvingtranscriptionambiguityinspanishahybridacousticlexicalsystemforpunctuationrestoration\n",
      "[<utils.Author.Author object at 0x000002355D28F9D0>, <utils.Author.Author object at 0x000002355D28E310>, <utils.Author.Author object at 0x000002355D28EC10>, <utils.Author.Author object at 0x000002355D28C9D0>, <utils.Author.Author object at 0x000002355D28D710>]\n",
      "https://aclanthology.org/2024.unimplicit-1.3\n",
      "['Zhu', 'Xiliang']\n",
      "['Chang', 'Chia-Tien']\n"
     ]
    }
   ],
   "source": [
    "print(antho_papers[14][0])\n",
    "print(antho_papers[14][1])\n",
    "print(antho_papers[14][2])\n",
    "print(antho_papers[14][1][0].norm_names)\n",
    "print(antho_papers[14][1][1].norm_names)"
   ]
  },
  {
   "cell_type": "markdown",
   "metadata": {},
   "source": [
    "Find the arxiv papers whose title is already found in the ACL Anthology:"
   ]
  },
  {
   "cell_type": "code",
   "execution_count": 116,
   "metadata": {},
   "outputs": [
    {
     "name": "stdout",
     "output_type": "stream",
     "text": [
      "17022\n"
     ]
    },
    {
     "data": {
      "text/plain": [
       "'semisupervisedeventextractionwithparaphraseclusters'"
      ]
     },
     "execution_count": 116,
     "metadata": {},
     "output_type": "execute_result"
    }
   ],
   "source": [
    "all_ACL_titles = [t_and_a[0] for t_and_a in antho_papers]\n",
    "inter = set(all_unpublished_titles).intersection(set(all_ACL_titles))\n",
    "print(len(inter))\n",
    "list(inter)[0]"
   ]
  },
  {
   "cell_type": "code",
   "execution_count": 117,
   "metadata": {},
   "outputs": [
    {
     "name": "stdout",
     "output_type": "stream",
     "text": [
      "(33817, 14)\n"
     ]
    }
   ],
   "source": [
    "# remove from the arxiv NLP corpus the papers that are already in the ACL anthology\n",
    "unpublished_NLP = unpublished_NLP[~unpublished_NLP[\"title\"].str.lower().str.replace(re.compile('[^a-z]'), \"\").isin(inter)]\n",
    "# reset the index\n",
    "unpublished_NLP.reset_index(drop = True, inplace = True)\n",
    "print(unpublished_NLP.shape)"
   ]
  },
  {
   "cell_type": "markdown",
   "metadata": {},
   "source": [
    "Double check (in case the title has been slightly modified before publication) with the set of all family names of a papers' authors:"
   ]
  },
  {
   "cell_type": "code",
   "execution_count": 72,
   "metadata": {},
   "outputs": [],
   "source": [
    "all_arxiv_authors = []\n",
    "\n",
    "for i, row in unpublished_NLP.iterrows():\n",
    "    authors = row[\"authors_parsed\"].split(\"],\")\n",
    "    al = []\n",
    "    for a in authors:\n",
    "        a = a.replace(\"[\", \"\").replace(\"]\", \"\").replace(\"'\", \"\").replace(\"\\\"\", \"\")\n",
    "        names = a.split(\",\")\n",
    "        if len(names) > 2:\n",
    "            others = names[2:]\n",
    "            names = names[:2]\n",
    "\n",
    "        ao = utils.Author.Author(names = [n.strip() for n in names])\n",
    "        ao.normalize_names()\n",
    "        al.append(ao)\n",
    "    all_arxiv_authors.append(al)"
   ]
  },
  {
   "cell_type": "code",
   "execution_count": 73,
   "metadata": {},
   "outputs": [
    {
     "data": {
      "text/plain": [
       "\"[['Satori', 'H.', ''], ['Harti', 'M.', ''], ['Chenfour', 'N.', '']]\""
      ]
     },
     "execution_count": 73,
     "metadata": {},
     "output_type": "execute_result"
    }
   ],
   "source": [
    "unpublished_NLP[\"authors_parsed\"].values[0]"
   ]
  },
  {
   "cell_type": "code",
   "execution_count": 78,
   "metadata": {},
   "outputs": [
    {
     "data": {
      "text/plain": [
       "['Chenfour', 'N.']"
      ]
     },
     "execution_count": 78,
     "metadata": {},
     "output_type": "execute_result"
    }
   ],
   "source": [
    "all_arxiv_authors[0][2].norm_names"
   ]
  },
  {
   "cell_type": "code",
   "execution_count": 97,
   "metadata": {},
   "outputs": [
    {
     "data": {
      "text/plain": [
       "{'Saba'}"
      ]
     },
     "execution_count": 97,
     "metadata": {},
     "output_type": "execute_result"
    }
   ],
   "source": [
    "all_arxiv_authors_fn = []\n",
    "for al in all_arxiv_authors:\n",
    "    all_arxiv_authors_fn.append(set([a.norm_names[0] for a in al]))\n",
    "\n",
    "all_arxiv_authors_fn[19]"
   ]
  },
  {
   "cell_type": "code",
   "execution_count": 98,
   "metadata": {},
   "outputs": [
    {
     "data": {
      "text/plain": [
       "{'Chang', 'Gardiner', 'Robertson', 'Rossouw', 'Zhu'}"
      ]
     },
     "execution_count": 98,
     "metadata": {},
     "output_type": "execute_result"
    }
   ],
   "source": [
    "all_ACL_authors_fn = []\n",
    "for t_and_a in antho_papers:\n",
    "    all_ACL_authors_fn.append(set([a.norm_names[0] for a in t_and_a[1]]))\n",
    "\n",
    "all_ACL_authors_fn[14]"
   ]
  },
  {
   "cell_type": "code",
   "execution_count": 119,
   "metadata": {},
   "outputs": [
    {
     "name": "stderr",
     "output_type": "stream",
     "text": [
      "0it [00:00, ?it/s]"
     ]
    },
    {
     "name": "stderr",
     "output_type": "stream",
     "text": [
      "33817it [06:51, 82.26it/s]"
     ]
    },
    {
     "name": "stdout",
     "output_type": "stream",
     "text": [
      "25963\n"
     ]
    },
    {
     "name": "stderr",
     "output_type": "stream",
     "text": [
      "\n"
     ]
    }
   ],
   "source": [
    "ambig = []\n",
    "\n",
    "for i, aset_arxiv in tqdm.tqdm(enumerate(all_arxiv_authors_fn)):\n",
    "    for j, aset_acl in enumerate(all_ACL_authors_fn):\n",
    "        if aset_arxiv == aset_acl:\n",
    "            arxiv_row = unpublished_NLP.loc[i]\n",
    "            ambig.append((arxiv_row[\"id\"], arxiv_row[\"title\"], arxiv_row[\"authors_parsed\"], arxiv_row[\"abstract\"], antho_papers[j][0], antho_papers[j][1], antho_papers[j][2]))\n",
    "\n",
    "print(len(ambig)) "
   ]
  },
  {
   "cell_type": "markdown",
   "metadata": {},
   "source": [
    "TODO: Trop de bruit avec la stratégie des auteurs, pas possible de vérifier 25k articles, voir si on utilise les commentaires, voir si on exclut les articles trop récents (e.g TBP in LREC-Coling 2024)  \n",
    "EN ATTENDANT: on reste sur la liste des 33 817 articles."
   ]
  },
  {
   "cell_type": "code",
   "execution_count": 142,
   "metadata": {},
   "outputs": [
    {
     "data": {
      "text/plain": [
       "['14 pages, 5 figures, unpublished',\n",
       " 'unpublished manuscript',\n",
       " '5 pages, 1 figure, unpublished',\n",
       " '21 pages, 4 figures, 5 tables. Old (2012) unpublished manuscript',\n",
       " 'unpublished',\n",
       " '8 pages, 2010, unpublished',\n",
       " '12 pages, 2014, unpublished',\n",
       " 'Reprint of an unpublished 2010 Working Note',\n",
       " '17 pages, 4 figures, 3 tables, unpublished (comments welcome)',\n",
       " 'unpublished preprint',\n",
       " '8 pages; unpublished contribution to the PharmaCoNER shared task held\\n  as part of BioNLP-OST 2019',\n",
       " 'unpublished short paper',\n",
       " 'An unpublished survey',\n",
       " '2021, non-print, unpublished version',\n",
       " 'Technical report, unpublished']"
      ]
     },
     "execution_count": 142,
     "metadata": {},
     "output_type": "execute_result"
    }
   ],
   "source": [
    "[str(c) for c in unpublished_NLP[\"comments\"].values if \"unpublished\" in str(c)]"
   ]
  },
  {
   "cell_type": "code",
   "execution_count": 143,
   "metadata": {},
   "outputs": [
    {
     "data": {
      "text/plain": [
       "['10 pages, 1 figure, 3 tables, in Russian, short version of the paper\\n  to be published in Proceedings of the Wiki-Conference 2007, Russia, St.\\n  Petersburg, October 27-28. http://tinyurl.com/2czd6e ; v3: +figure; v4: typo\\n  in Table 3; v5: +desc (res_hypo formula); v6: typo',\n",
       " 'latex2e, 8 pages, 1 figure, published in the Proceedings of\\n  Cross-Language Knowledge Induction Workshop, 2005 Cluj-Napoca, held during\\n  the summer school EUROLAN 2005',\n",
       " \"13 pages, to be presented at QI'11, to be published in LNCS\\n  (Springer)\",\n",
       " '11 pages, 2 figures. To be published in the proceedings of Quantum\\n  Interaction 2011',\n",
       " '10 pages, 3 figures, 3 tables, short paper version published in JCDL\\n  2011',\n",
       " '14 pages, 14 figures, published in IJWEST Journal',\n",
       " 'This version supercedes the short version of this paper published in\\n  the proceedings of WWW 2012',\n",
       " \"Draft of the chapter published In: Explorations Across Languages and\\n  Corpora. PALC 2009, ed. by S. Go\\\\'zd\\\\'z-Roszkowski, Peter Lang, 2011, p.\\n  123-133\",\n",
       " \"This is a draft of a book chapter to be published in 2014 by\\n  Scarecrow Press. Please cite as: Yasseri T., Spoerri A., Graham M., and\\n  Kert\\\\'esz J., The most controversial topics in Wikipedia: A multilingual and\\n  geographical analysis. In: Fichman P., Hara N., editors, Global\\n  Wikipedia:International and cross-cultural issues in online collaboration.\\n  Scarecrow Press (2014)\",\n",
       " 'To be published in Journal of the American Society for Information\\n  Science and Technology',\n",
       " '37 pages, 8 figures A short version of this paper was already\\n  published at ECML/PKDD 2012',\n",
       " 'to be published in: Proceedings of the Sixth Text Analysis Conference\\n  (TAC 2013)',\n",
       " '12 pages with 3 figures, to be published in \"International Conference\\n  on Foundations of Computer Science & Technology (CST 2014), Zurich,\\n  Switzerland - January 2014 Proceedings, AIRCC\"',\n",
       " '9 pages, published on International Journal on Computational Sciences\\n  & Applications (IJCSA) Vol.3, No.6, December 2013',\n",
       " 'Presented at Russian Summer School in Information Retrieval (RuSSIR\\n  2014). To be published in Springer Communications in Computer and Information\\n  Science series',\n",
       " 'This paper have been presented and published in 10th International\\n  Conference on Terminology and Artificial Intelligence Proceedings',\n",
       " '10 pages, 2 figures, published at ICLR 2015',\n",
       " '12 pages, published as conference paper at ICLR 2015',\n",
       " '47 pages; 3 figures; 25 tables. Also published as ICSI Technical\\n  Report TR-15-001',\n",
       " '4 pages, 4 figures, not published',\n",
       " 'To be published in the INTERSPEECH 2015 proceedings',\n",
       " 'Conflict between recently published and arxiv versions',\n",
       " '10 pages, published as a conference paper at ICLR 2016',\n",
       " 'To be published in the proceedings of INTERSPEECH 2016',\n",
       " '6 pages, 3 figures, published at IEEE SLT 2016. arXiv admin note:\\n  text overlap with arXiv:1610.05812',\n",
       " 'Re-written abstract and intro, other minor changes throughout. This\\n  version published at AAAI 2017',\n",
       " 'paper accepted on Cicling 2016 conference, will be published in\\n  Springer',\n",
       " 'This is the non-final version of the paper. The final version is\\n  published in the IC3INA 2016 Conference (3-5 Oct. 2016,\\n  http://situs.opi.lipi.go.id/ic3ina2016/). All citation should be directed to\\n  the final version',\n",
       " 'Further experiments were performed on the model using LibriVox speech\\n  dataset and it was found that a Time Distributed CRNN model performed better\\n  and represented our initial ideas about the speaker recognition task better.\\n  The dataset contains speech in three languages - English, Spanish and Czech.\\n  A report on our findings along with experimental results will be published\\n  soon',\n",
       " '30 pages, Accepted to be published in \"Applications of Comparable\\n  Corpora\", Berlin: Language Science Press',\n",
       " '16 pages, accepted to be published in \"Applications of Comparable\\n  Corpora\", Berlin: Language Science Press',\n",
       " \"4 pages, 1 figure, published at ICWSM'17\",\n",
       " \"10 pages, published at ICWSM'17\",\n",
       " 'This paper was published at ICWSM 2017 as a full paper, Proc. of the\\n  11th International AAAI Conference on Web and Social Media (ICWSM 2017).\\n  Montreal, Canada. 2017',\n",
       " '34 pages. 9 page version of this paper published at EMNLP 2017',\n",
       " 'Accepted to be published at The 26th ACM International Conference on\\n  Information and Knowledge Management (CIKM2017)',\n",
       " 'A paper with a similar method has been published earlier at\\n  arXiv:1706.04815 The authors believe there is no need for a separate\\n  publication',\n",
       " '7 pages, 3 figures, camera-ready version published on AAAI 2016',\n",
       " 'To be published in the proceedings of NIPS 2017',\n",
       " '5 pages conference paper accepted to IEEE ASRU 2017. Will be\\n  published in December 2017',\n",
       " '6 pages, published in Workshop on Learning with Limited Labeled Data\\n  co-held with NIPS 2017',\n",
       " '6 pages, 3 figures, published at IEEE ASRU 2017',\n",
       " '5 pages conference paper accepted to IEEE ASRU 2017. Will be\\n  published in December 2017',\n",
       " 'To be published at AAAI 2018',\n",
       " 'to be published at the 3rd conference of the association of Digital\\n  Humanities in the Nordic Countries (DHN), 2018',\n",
       " 'A short version of this paper has been published in Proc. 21st\\n  Workshop on the Semantics and Pragmatics of Dialogue (SemDial/SaarDial)',\n",
       " 'This paper is published on the 12th ACM Conference on Recommender\\n  Systems, Vancouver, Canada, 2nd-7th October 2018',\n",
       " 'Correction (bug fix) of a published ODYSSEY 2018 publication with the\\n  same title and author list; more details in footnote in page 1',\n",
       " 'This is an updated version of the paper that has been accepted at\\n  Speech Prosody 2018 and published on the ISCA archive. The updates consist of\\n  minor corrections that do not change the main conclusions in this work',\n",
       " '9 pages, 4 figures. This paper has been published by AAAI2018',\n",
       " 'To appear in Proc. of Semantic Web for Social Good Workshop of the\\n  Int. Semantic Web Conf., Oct 2018 and published as part of the book \"Emerging\\n  Topics in Semantic Technologies. ISWC 2018 Satellite Events\", E. Demidova,\\n  A.J. Zaveri, E. Simperl (Eds.), ISBN: 978-3-89838-736-1, 2018, AKA Verlag\\n  Berlin, (edited authors)',\n",
       " 'Paper: 18 pages, 5 figures, 5 tables. Supplementary material: 3\\n  pages, 1 figure, 1 table. To be published in VLEASE ECCV 2018 workshop',\n",
       " \"6 pages article, published in LTC'17 The 8th Language & Technology\\n  Conference, Poznan, Poland\",\n",
       " 'The paper was published in SLT 2018 conference',\n",
       " 'To be published in AAAI 2019',\n",
       " 'Accepted at the 26th Irish Conference on Artificial Intelligence and\\n  Cognitive Science. This paper is an extended version of a poster published at\\n  the 12th ACM Conference on Recommender Systems, Proceedings of the 26th Irish\\n  Conference on Artificial Intelligence and Cognitive Science (AICS). Dublin,\\n  Ireland 2018',\n",
       " 'Chapter 5 of this memoir has been augmented and published at\\n  COLING2018 under the reference: Butterfly Effects in Frame Semantic Parsing:\\n  impact of data processing on model ranking',\n",
       " 'The paper is accepted to be published in IJCNN 2019',\n",
       " '4 pages, 2 figures, published in anlp.jp 2019',\n",
       " '10 pages, 2 figures, 2 tables. To be published in the Proceedings of\\n  the Thirteenth International Workshop on Juris-informatics (JURISIN 2019),\\n  hosted by JSAI-isAI2019',\n",
       " 'to be published in Proceedings of International Conference on Machine\\n  Learning 2020 (ICML)',\n",
       " 'This short article is obsolete, as its content is contained in the\\n  full paper arXiv:1908.11046, which will also be published by AAAI 2020',\n",
       " 'Machine Learning for Health (ML4H) at NeurIPS 2019 - Extended\\n  Abstract The original paper was published in December 2019. After\\n  publication, we identified a bug in our code that resulted in an error in our\\n  reported results. This version of the paper corrects that error and clarifies\\n  some of our descriptions of the experiments',\n",
       " 'To be published in the proceedings of the 33rd Conference on Neural\\n  Information Processing Systems (NeurIPS 2019), Vancouver, Canada',\n",
       " '2 figures, 12 pages. Presented at the 32nd International Conference\\n  on Legal Knowledge and Information Systems (JURIX 2019) and to be published\\n  in the CEUR Workshop Proceedings',\n",
       " '12 pages, 3 figures and 3 tables. Accepted in 20th International\\n  Conference on Intelligent Text Processing and Computational Linguistics,\\n  CICLing 2019. To be published in Springer LNCS volume',\n",
       " 'To be published in FLAIRS33 (https://www.flairs-33.info/) and appear\\n  in he proceedings of AAAI',\n",
       " 'To be published in FLAIRS33 (https://www.flairs-33.info/) and appear\\n  in he proceedings of AAAI',\n",
       " 'Also published in ICLR2020\\n  https://openreview.net/forum?id=BJlguT4YPr&noteId=BJlguT4YPr',\n",
       " 'To be published in: Lecture Notes in Artificial Intelligence, 1st\\n  International Conference on Artificial Intelligence in HCI, AI-HCI, Held as\\n  Part of HCI International 2020, Kopenhagen, Denmark, July 19-24, Springer',\n",
       " \"This is the author's prefinal version be published in conference\\n  proceedings: 4th International Conference on Natural Language Processing and\\n  Information Retrieval, Sejong, South Korea, 26-28 June, 2020, ACM\",\n",
       " 'To be published in The 24th Pacific-Asia Conference on Knowledge\\n  Discovery and Data Mining (PAKDD 2020)',\n",
       " '8 pages, 5 figures, published in AAAI 2020',\n",
       " 'To be published in IEEE conference proceedings: International\\n  Conference on Artificial Intelligence in Information and Communication,\\n  ICAIIC 2020',\n",
       " 'To be published in CogSci 2020',\n",
       " \"This paper was officially published at the 'Language Learning for\\n  Artificial Agents (L2A2) Symposium' of the 2019 Artificial Intelligence and\\n  Simulation of Behaviour (AISB) Convention\",\n",
       " 'To be published in: Annotations in Scholarly Editions and Research:\\n  Functions, Differentiation, Systematization (2020), Julia Nantke and Frederik\\n  Schlupkothen (editors). De Gruyter. In print',\n",
       " '26 pages, 14 Figures, to be published in Mathematical Problems in\\n  Engineering',\n",
       " 'This paper was published at the LDA 2019 workshop in the JURIX 2019\\n  conference',\n",
       " 'Work done by Maharshi R. Pandya and Jessica Reyes as IBM interns\\n  under leadership of Bob Vanderheyden. Article to be published',\n",
       " '10 pages, Abstract published in A2IC 2018\\n  (https://www.premc.org/doc/A2IC2018/A2IC2018_Book_Of_Abstracts.pdf)',\n",
       " 'To be published in Proceedings of the the 21st International\\n  Conference on Artificial Intelligence in Education (AIED 2020)',\n",
       " '2 pages, 1 figure, to be published in conference JNIC 2020',\n",
       " '4 pages, 2 figures, to be published in conference JNIC 2020',\n",
       " 'Some computational errors corrected. The final version of this draft\\n  was published in Jpurnal of Logic and Computation, Oxford University press',\n",
       " 'To be published in the proceedings of the 2020 Annual Meeting of the\\n  Cognitive Science Society (COGSCI). Supplemental materials available at\\n  https://osf.io/qse7y/',\n",
       " 'Please cite the published version, see proceedings of ICWSM 2020',\n",
       " '6 pages, Accepted and to be published in AFRICON 2021',\n",
       " '9 pages, published at ICLR 2021',\n",
       " 'Paper published in TMLR',\n",
       " 'Paper has been published in the AAAI2021 conference',\n",
       " '12 pages, ICACIE 2020, Will be published by Advances in Intelligent\\n  Systems and Computing (AISC) series of Springer',\n",
       " 'This paper was originally submitted to EMNLP 2015 and has not been\\n  previously published',\n",
       " 'Changed title and few more changes. This version will be published in\\n  SemEval2020. Added code Link',\n",
       " 'To be published in the proceedings of the ACM/IEEE Joint Conference\\n  on Digital Libraries (JCDL 2020)',\n",
       " 'To be published in Proceedings of SPECOM 2020',\n",
       " 'First published in the Workshop on Algorithmic Foundations of\\n  Robotics 2020, and extended version invited to a Special Issue in the\\n  International Journal of Robotics Research',\n",
       " 'Parts of content are published on CIKM 2020',\n",
       " 'To be published in the Proceedings of AMIA 2020 Annual Symposium',\n",
       " 'To be published at INTERSPEECH 2021, Brno, Czechia',\n",
       " '12 pages, 3 figures, paper to be published in 20th International\\n  Conference on Computational Linguistics and Intelligent Text Processing\\n  (CICLing 2019)',\n",
       " '10 pages, to be published at Proceedings of IJCAI-2021',\n",
       " '11 pages, 12 figures, to be published in IEEE Transactions on\\n  Visualization and Computer Graphics',\n",
       " 'A revised version of this work has been published in AAAI-2021 with\\n  title: \"Lifelong and Continual Learning Dialogue Systems: Learning during\\n  Conversation\". Please use this revised AAAI-21 version for citation',\n",
       " 'To be published in the proceedings of Ivannikov Memorial Workshop\\n  2020',\n",
       " '5 pages, to be published in Interspeech 2020',\n",
       " '9 pages, published at the CMLA 2020 conference',\n",
       " 'First published in 2020. Accepted at Machine Learning for Healthcare\\n  (MLHC) 2022',\n",
       " '5 pages, to be published in Interspeech 2020',\n",
       " '5 pages, published in ICASSP 2020',\n",
       " 'Paper accepted - to be published',\n",
       " '18 pages, 2 figures, to be published in SALT 30',\n",
       " '18 pages, 4 figures, published in JWS',\n",
       " '27 pages, 5 figures, 19 tables. To be published in the 34th\\n  conference on Neural Information Processing Systems (NeurIPS 2020). The first\\n  two authors contributed equally to this work',\n",
       " 'Also be published in JURISIN2020',\n",
       " 'Chapter published in the book Maschinelle \\\\\"Ubersetzung f\\\\\"ur\\n  \\\\\"Ubersetzungsprofis (pp. 276-295). J\\\\\"org Porsiel (Ed.), BD\\\\\"U Fachverlag,\\n  2020. ISBN 978-3-946702-09-2',\n",
       " 'PhD thesis submitted at Heriot-Watt University. Contains previously\\n  published work (see the list in Section 1.4)',\n",
       " '17 pages, 4 figures, to be published in Advances in Intelligent\\n  Systems and Computing, Appendixed by Vivek Khetan',\n",
       " '23 pages, 4 main figures, 10 appendix figures; published as a\\n  conference paper at ICLR 2021',\n",
       " 'To be published in Proceedings of ACM SIGIR Workshop on eCommerce\\n  (SIGIR eCom 20) 2020',\n",
       " '8 pages, published in The 2020 IEEE/WIC/ACM International Joint\\n  Conference on Web Intelligence and Intelligent Agent Technology (WI-IAT 2020)',\n",
       " '10 pages, 1 figure, to be published in Proceedings of the 8th\\n  International Workshop on News Recommendation and Analytics (INRA 2020)',\n",
       " 'To be published in: FIRE (Working Notes) 2020, Hate Speech and\\n  Offensive Content Identification in Indo-European Languages, HASOC 2020',\n",
       " 'To be published in: Proceedings of the First Workshop on Combating\\n  Online Hostile Posts in Regional Languages during Emergency Situation\\n  (CONSTRAINT) at AAAI 2021',\n",
       " 'to be published in Constraint-2021 Workshop @ AAAI',\n",
       " '11 pages, 2 figures. Presented the paper at Third International\\n  Conference on Soft Computing and Signal Processing (ICSCSP 2020) and is\\n  currently in production. It will soon be published in springer Advances in\\n  Intelligent Systems and Computing (AISC) series',\n",
       " 'To be published in the 15th IEEE International Conference on Semantic\\n  Computing',\n",
       " 'This article is a preprint version of the article published in\\n  Computer Speech & Language, Volume 72, March 2022, 101317',\n",
       " '6 pages, 2 figures, to be published in 25th International Conference\\n  on Pattern Recognition, ICPR2020',\n",
       " '6 pages, 4 figures, to be published in 25th International Conference\\n  on Pattern Recognition, ICPR 2020',\n",
       " '7 pages, 1 figure, to be published in 25th International Conference\\n  on Pattern Recognition, ICPR 2020',\n",
       " '16 pages, 5 figures. To be published in EPJ Data Science',\n",
       " 'This paper has been published in the Proceedings of the Seventh\\n  Italian Conference on Computational Linguistics, CLiC-it 2020',\n",
       " '17 pages, 4 tables, 7 figures, published in the conference proceeding',\n",
       " '8 pages, 15 pages supplementary, 12 figures. To be published in CVPR\\n  2021',\n",
       " '16 pages (without references). To be published in PBML 116',\n",
       " 'This document was originally published as a blog post on the web site\\n  of GeBNLP 2020',\n",
       " 'It is accepted to be published in Journal of Healthcare Informatics\\n  Research',\n",
       " '9 pages, 2 figures, 6 tables, accepted in 20th International\\n  Conference on Intelligent Text Processing and Computational Linguistics,\\n  CICLing 2019. To be published in Springer LNCS volume',\n",
       " 'This paper was published out of a shallow and simple idea. Now I find\\n  that the research is still not detailed enough. So I submit withdrawal',\n",
       " 'This work was presented at ICAAIML2020 and will be published in\\n  Lecture Notes in Electrical Engineering',\n",
       " '2 pages, 1 figure, 1 table. To be published in Phonetics and\\n  Phonology in Europe 2021',\n",
       " 'To be published at ICDAR 2021',\n",
       " '9 pages, original work published in AAAI 2019',\n",
       " 'to be published in INTERSPEECH2021',\n",
       " 'To be published in: \"32. GI-Workshop Grundlagen von Datenbanken\"',\n",
       " 'to be published in SwissText 2021',\n",
       " 'to be published at INTERSPEECH 2021',\n",
       " \"Also published in COLIEE 2021's Proceeding\",\n",
       " \"Also published in COLIEE 2021's proceeding\",\n",
       " '5 Pages, original work published at ICASSP 2021',\n",
       " 'To be published in GeBNLP 2021 conference proceedings',\n",
       " 'Outdated. Superseded by arXiv:2112.05224 and published at IEEE S&P\\'22\\n  with title: \"Spinning Language Models: Risks of Propaganda-As-A-Service and\\n  Countermeasures\"',\n",
       " 'Will be published in Interspeech 2021',\n",
       " '6 pages, Accepted and to be published in AFRICON 2021',\n",
       " 'Paper published at Symposium in Information and Human Language\\n  Technology (STIL 2021)',\n",
       " 'To be published on ICCV 2021. Webpage is at\\n  https://airbert-vln.github.io/ linking to our dataset, codes and models',\n",
       " '8 pages, 3 figures, To be published in: Translation Inference Across\\n  Dictionaries 2021 Shared Task, Language Data and Knowledge 2021',\n",
       " 'To be published in Computer Speech and Language Journal',\n",
       " '16 pages, 1 figure, in French, published in CORIA 2015 (Paris,\\n  France, 18th-20th March 2015)',\n",
       " 'To be published in SPECOM & ICR 2021 Electronic Proceedings by the\\n  Springer Nature',\n",
       " 'To be published in 22nd International Conference on Web Information\\n  Systems Engineering (WISE2021)',\n",
       " 'This is an extended version of a paper published in CLiC-it 2021 -\\n  Italian Conference on Computational Linguistics 2021 - Proceedings of the\\n  Eighth Italian Conference on Computational Linguistics Milan, Italy, January\\n  26-28, 2022. Edited by Elisabetta Fersini, Marco Passarotti, Viviana Patti.\\n  CEUR-WS.org, ISSN 1613-0073',\n",
       " \"7 pages, to be published in 36th IEEE/ACM International Conference on\\n  Automated Software Engineering Workshops (ASEW'21), November 15-19, 2021\",\n",
       " 'To be published in IEEE ICDM 2021',\n",
       " 'To be published in the 2022 IEEE Spoken Language Technology Workshop\\n  (SLT) (SLT 2022)',\n",
       " 'Accepted in PodRecs 2021, a RecSys workshop. The dataset has been\\n  published at https://zenodo.org/record/5765655#.YbFhS33MJTY',\n",
       " '40 pages, to be published in Information Processing and Management',\n",
       " '15 pages, 8 tables, 5 figures, published at Advances in Neural\\n  Information Processing Systems (NeurIPS), 2021',\n",
       " '5 pages, minor changes for camera ready version, to be published in\\n  IEEE ICASSP 2022',\n",
       " 'The result in this paper are obtained under a bug. Because we train\\n  our model under an evaluation setting (dropout and batch normalization are\\n  0.), but the dropout in our paper is 0.1. So, there is a big mistake in our\\n  paper and is not appropriate to published',\n",
       " '10 pages, 7 figures, 1 appendix, to be published in Neurips 2021',\n",
       " 'Paper was published at EMNLP 2022',\n",
       " '16 pages, 10 tables, 2 Figures. The DeBERTaV3 model significantly\\n  improves performance of the downstream NLU tasks over models with a similar\\n  structure, e.g. DeBERTaV3 large achieves 91.37% average GLUE score which is\\n  1.37% over DeBERTa large. XSmall has only 22M backbone parameters, but\\n  significantly outperforms RoBERTa/XLNet-base. Paper is published as a\\n  conference paper at ICLR 2023',\n",
       " 'Disclaimer: Cedric M\\\\\"oller, Jens Lehmann, Ricardo Usbeck, 2021. The\\n  definitive, peer reviewed and edited version of this article is published in\\n  the Semantic Web Journal, Special issue: Latest Advancements in Linguistic 3\\n  Linked Data, 2021',\n",
       " 'CVPR2022. The final published version of the proceedings will be\\n  available on IEEE Xplore',\n",
       " '6 pages, 2 figures, 6 tables. Accepted and presented at IEEE Latin\\n  American Conference on Computational Intelligence (LA-CCI 2021), but not yet\\n  published',\n",
       " 'To be published in the proceedings of the International Conference on\\n  Asian Language Information Processing',\n",
       " '19 pages. Under Review. Please cite published version, if available',\n",
       " 'Accepted as a book chapter in \"Cybersecurity & High-Performance\\n  Computing Environments: Integrated Innovations, Practices, and Applications\",\\n  published by Taylor and Francis. arXiv admin note: substantial text overlap\\n  with arXiv:2102.04081',\n",
       " '12 pages. To be published in proceedings of the AIST 2021 conference',\n",
       " 'To be published in Winter Conference on Applications of Computer\\n  Vision 2022',\n",
       " '23 pages, This paper is an extended version of a paper that will be\\n  published at the 36th AAAI Conference on Artificial Intelligence, to beheld\\n  in Vancouver, BC, Canada, February 22 - March 1, 2022',\n",
       " 'to be published at the AAAI-22 Workshop on Scientific Document\\n  Understanding',\n",
       " '10 pages, 1 figure, 3 tables. Accepted at International Conference on\\n  the Computational Processing of Portuguese (PROPOR 2022), but not yet\\n  published',\n",
       " 'To be published as a conference paper at ICLR 2022',\n",
       " '6 pages, published in the 2021 ASE RAISE workshop',\n",
       " 'This paper was published at NeurIPS 2022',\n",
       " 'To be published in AAAI 2022',\n",
       " 'To appear in AI Magazine (AAAI), 2023. This draft is an extended and\\n  revised version of the previous work - \"Self-initiated Open World Learning\\n  for Autonomous AI Agents\" arXiv preprint arXiv:2110.11385 (2021), which was\\n  published in AAAI 2022 Spring Symposium Series',\n",
       " 'A revised version of the one published at INTERSPEECH2022. The\\n  following parts have been modified: Section 2.2.2. The variance for screening\\n  paraphrases from 1.5 to 1.6 and the number of speech data and recorders;\\n  Section 2.4. The number of paraphrases from 1698 to 1697; Section 3, Table2.\\n  Values in two cells (Negation, P from 0.14 to 0.12) and (Leftward, P from\\n  0.10 to 0.12)',\n",
       " '46 pages, 11 figures, to be published in Journal of Business &\\n  Economic Statistics',\n",
       " 'Accepted to be published in the Proceedings of Interspeech 2022',\n",
       " 'To be published in the 2022 IEEE Spoken Language Technology Workshop\\n  (SLT) (SLT 2022)',\n",
       " 'The paper is published as part of TOTH 2020 proceedings\\n  (https://btk.univ-smb.fr/livres/toth-2020/)',\n",
       " 'This is the accepted version of the paper published at IEEE Spoken\\n  Language Technology (SLT) Workshop 2022',\n",
       " 'Accepted to be published in the Proceedings of Interspeech 2022',\n",
       " 'First three authors contributed equally; published at ISCA 2022',\n",
       " 'Accepted at 6th International Workshop on Health Intelligence,\\n  AAAI-2022. To appear in as a book chapter published by Springer in Studies in\\n  Computational Intelligence',\n",
       " 'To be published in 2022 Americas Conference on Information Systems',\n",
       " '25 pages, 7 figures, to be published in HCI International 2022 - Late\\n  Breaking Papers',\n",
       " '5 pages, to be published in IEEE ICASSP 2022',\n",
       " 'to be published in the Proceedings of the 15th International\\n  Conference on Educational Data Mining; 8 pages, 5 figures, 3 tables',\n",
       " 'To be published at ACM FAccT 2022',\n",
       " 'Camera-Ready Version of this paper published at ACL 2023\\n  (https://aclanthology.org/2023.acl-long.217/)',\n",
       " 'To be published at ACM FAccT 2022',\n",
       " 'Studies and Practices for Advancement in Open and Distance Education,\\n  edited by: Kam Cheong Li and Kin Sun Yuen, published by: Open University of\\n  Hong Kong. Pages: 222-234. Standard: 978-988-8238-13-2',\n",
       " '12pages, To be published in proceedings of AIED2022',\n",
       " 'To be published in AIED Late Breaking Results 2022',\n",
       " 'Accepted to be published in the Proceedings of InterSpeech 2022',\n",
       " 'Accepted to be published in the Proceedings of InterSpeech 2022',\n",
       " '12 pages, 9 tables, 2 figures, published in PST2022',\n",
       " 'To be published in the International Journal of Asian Language\\n  Processing. arXiv admin note: substantial text overlap with arXiv:2112.06462',\n",
       " 'Please cite the published version with the following information:\\n  @incollection{warstadt2022artificial, title={What artificial neural networks\\n  can tell us about human language acquisition}, author={Warstadt, Alex and\\n  Bowman, Samuel R.}, booktitle={Algebraic Structures in Natural Language},\\n  pages={17--60}, year={2022}, publisher={CRC Press} }',\n",
       " '10 pages, 2 figures, 7 tables. As published (with minor corrections)\\n  in the BioASQ 10 Workshop, Proceedings of the Working Notes of CLEF 2022 -\\n  Conference and Labs of the Evaluation Forum',\n",
       " 'To be published in the 19th International Conference on Artificial\\n  Intelligence and Law - ICAIL 2023',\n",
       " \"To be published in RecSys in HR'22\",\n",
       " 'Accepted to ACIIDS 2022. The proceedings of ACIIDS 2022 will be\\n  published by Springer in series Lecture Notes in Artificial Intelligence\\n  (LNAI) and Communications in Computer and Information Science (CCIS)',\n",
       " 'To be published in Baltic HLT 2022',\n",
       " '8 pages, 5 figures, published at 2023 IEEE 17th International\\n  Conference on Semantic Computing (ICSC)',\n",
       " 'Preprint version of the paper to be published in The International\\n  Conference and Workshop on Agglutinative Language Technologies as a challenge\\n  of Natural Language Processing (ALTNLP), June 6, 2022, Koper, Slovenia',\n",
       " 'Preprint of the paper to be published at The International Conference\\n  and Workshop on Agglutinative Language Technologies as a challenge of Natural\\n  Language Processing (ALTNLP), June 6, 2022, Koper, Slovenia',\n",
       " 'To be published in proceedings of IEEE International Conference on\\n  Machine Learning Applications IEEE ICMLA 2022',\n",
       " 'The Paper has been ACCEPTED at the \"2nd International Conference on\\n  Computing and Communication Networks(ICCCN-2022)\". This paper will be\\n  published by AIP publishing and DOI will be issued later on',\n",
       " 'This is a preprint of an article published in the Journal of\\n  Intelligent Information Systems, Springer. The final authenticated version is\\n  available online at\\n  https://link.springer.com/article/10.1007/s13278-022-00906-8',\n",
       " 'To be published in AAAI-23 Workshop on Uncertainty Reasoning and\\n  Quantification in Decision Making',\n",
       " '6 pages, to be published in Proceedings of ISP RAS Open Conference\\n  2022',\n",
       " '13 pages, 6 figures, published to AAAI',\n",
       " 'accepted to and published at \"A Participatory Approach to AI for\\n  Mental Health (PAI4MH)\" workshop, co-located with NeurIPS 2022',\n",
       " '22 pages, 12 figures, To be published in the proceedings of the 37th\\n  Conference on Neural Information Processing Systems (NeurIPS 2023), New\\n  Orleans, USA',\n",
       " '13 pages, 3 figures; to be published at the Second Workshop on\\n  Multimodal Fact-Checking and Hate Speech Detection (DEFACTIFY 2023) at the\\n  AAAI 2023 Conference, February 14, 2023, Washington, D.C',\n",
       " \"This is the accepted version of the paper that has been presented and\\n  published in the 20th IEEE Conference, OCIT'22. The final published version\\n  is copyright-protected by the IEEE. The paper consists of 5 pages, and it\\n  includes 5 figures and 1 table\",\n",
       " 'Technical Report. The contents are published in two separate papers\\n  in EMNLP 2023 (arXiv:2310.06374) and LREC-COLING 2024 (arXiv:2402.14052)',\n",
       " 'Will be published in PACM HCI, CSCW1, April 2023 issue',\n",
       " 'Book Chapter (3rd Chapter in \"Computational Intelligence Applications\\n  for Text and Sentiment Data Analysis\" published by Elsevier)',\n",
       " '2 pages, 5 figures, to be published in AAAI-23 Student Abstract and\\n  Poster Program',\n",
       " 'This book has been accepted by Springer Nature and will be published\\n  as an open access monograph. https://link.springer.com/book/9783031231896. It\\n  is licensed under the CC BY-NC-SA license\\n  (https://creativecommons.org/licenses/by-nc-sa/4.0/), except for the material\\n  included from other authors, which may have different licenses',\n",
       " '5 pages, 3 figures, published to ICASSP 2023',\n",
       " '9 pages, 3 Tables, To be published as a part of Proceedings of the\\n  37th AAAI Conference on Artificial Intelligence',\n",
       " 'The associated model is published on HuggingFace:\\n  https://huggingface.co/etamin/Letz-Translate-OPUS-LB-EN The Dictionary used\\n  in this paper is available in Github:\\n  https://github.com/Etamin/Ltz_dictionary',\n",
       " '9 pages, 3 figures. To be published in the 11th International\\n  Conference on Learning Representations, ICLR 2023, Conference Track\\n  Proceedings',\n",
       " \"To be published in the Proceedings of the 2023 SIAM International\\n  Conference on Data Mining (SDM'23)\",\n",
       " 'To be published in Proceedings of ISWC 2023, 22nd International\\n  Semantic Web Conference',\n",
       " 'Report (14 p. + 10 p. app) written for a submission in Jan 2021 (now\\n  with added explanation of relation with subsequent work that was published\\n  earlier) concerning the crucial observation underlying the crystallization\\n  process in arXiv:2209.12188 version 2: extension of Prop. 2.12 to \"under star\\n  1-free\" expressions, and correction in its proof (added termination subterm\\n  to extraction function)',\n",
       " 'A short version of this paper has been published at the 21st\\n  International Conference on Artificial Intelligence in Medicine (AIME 2023)',\n",
       " 'To be published on the INLG2023 conference website',\n",
       " 'Extended Abstract accepted to the 32nd International Joint Conference\\n  on Artificial Intelligence (IJCAI 2023); special journal track for authors of\\n  published JAIR 2022 and AIJ 2022 papers. 6 pages, 2 figures. arXiv admin\\n  note: substantial text overlap with arXiv:2106.13948',\n",
       " '8 pages, 3 figures. To be published in Proceedings of the 2023\\n  Conference on Innovation and Technology in Computer Science Education V. 1',\n",
       " 'To be published in the ICLR TinyPaper track',\n",
       " 'To be published in 21st International Conference on Applied\\n  Cryptography and Network Security, ACNS 2023',\n",
       " '3 pages, published in RNAAS',\n",
       " 'Accepted to AIED Late Breaking Results 2023 - to be published in\\n  their proceedings',\n",
       " 'To be published in the ICLR TinyPaper track',\n",
       " 'To be published in ACM FAccT 23',\n",
       " '6 pages, 1 figure, 4 tables, conference paper, published in the 20th\\n  International Conference on Informatics and Information Technologies (CIIT\\n  2023)',\n",
       " '14 pages, 11 figures, to be published in the proceedings of IDETC-CIE\\n  2023',\n",
       " 'Accepted and to be published in Proceedings of ADBIS 2023 as short\\n  paper (https://www.essi.upc.edu/dtim/ADBIS2023/index.html)',\n",
       " 'To be published in TACL (pre-MIT Press publication version)',\n",
       " 'to be published in \"Beyond Quantity: Research with Subsymbolic AI\"\\n  (11/2023)',\n",
       " '7 pages, 5 figures. To be published in the Proceedings of the 61st\\n  Annual Meeting of the Association for Computational Linguistics, 9-14 July\\n  2023, Toronto, Canada',\n",
       " 'To be published in The International AAAI Conference on Web and\\n  Social Media (ICWSM) 2023',\n",
       " 'To be published in the Journal of Chemical Information and Modeling',\n",
       " 'This is the original manuscript that was submitted to LREV. The final\\n  version was published recently and can be found at: https://rdcu.be/ddEa6.\\n  Language Resources and Evaluation, https://doi.org/10.1007/s10579-023-09664-1',\n",
       " 'To be published in Interspeech 2023 - Show and Tell Demonstrations',\n",
       " '26 pages, 15 figures, published in Transactions on Machine Learning\\n  Research (TMLR)',\n",
       " 'Updated sections on prompt engineering. Expanded sections 4.1 and 4.2\\n  and appendix. Included additional references. Work published at the ICML 2023\\n  (Neural Conversational AI TEACH) workshop',\n",
       " 'To be published in the KDD 2023 proceedings as a full paper',\n",
       " '10 pages and 2 figures. To be published in the Proceedings of the\\n  Seventeenth International Workshop on Juris-informatics (JURISIN 2023),\\n  hosted by JSAI International Symposia on AI 2023',\n",
       " 'Preprint. We published an earlier version of this paper\\n  (arXiv:2203.11131) under a different title. Both versions consider the\\n  conceptualization of explainable metrics and are overall similar. However,\\n  the new version puts a stronger emphasis on the survey of approaches for the\\n  explanation of MT metrics including the latest LLM based approaches',\n",
       " 'This is a preprint of an article to be published at the Int. Conf. on\\n  Artificial Intelligence in Education (AIED, 2023)',\n",
       " 'to be published in AIED 2023',\n",
       " 'To be published in the Proceedings of the International Society for\\n  Music Information Retrieval Conference (ISMIR)',\n",
       " \"39 pages, 9 figures, authors' manuscript approved for publication in\\n  Target International Journal of Translation published by John Benjamins\",\n",
       " 'To be published in Interspeech 2023, 5 pages, 1 figure',\n",
       " 'Accepted @ \"3rd Workshop on Bias and Fairness in AI\" (co-located with\\n  ECML PKDD 2023). This is the author\\'s version of the work. The definite\\n  version of record will be published in the proceedings',\n",
       " 'This manuscript is pre-print and in peer review. Supplementary\\n  materials will be published later',\n",
       " 'To be published in Translation, Cognition and Behavior: \"Translation\\n  and cognition in the 21st century: Goals met, goals ahead\", John Benjamins',\n",
       " 'to be published in AIIDE 2023',\n",
       " \"10 pages, 3 figures, to be published in Proceedings of the 11th\\n  International Conference on Human-Agent Interaction (ACM HAI'23)\",\n",
       " '8 pages, 4 figures, one table, to be published in VIS 2023 (Vis +\\n  Prov) x Domain',\n",
       " '6 pages, 2 figures, published in ICME2023',\n",
       " 'To be published in Proceedings of Machine Learning Research Volume\\n  219; accepted to the Machine Learning for Healthcare 2023 conference',\n",
       " \"3 pages, 1 figure, 1 table, to be published in Proceedings of the\\n  11th International Conference on Human-Agent Interaction (ACM HAI'23)\",\n",
       " '15 pages, 9 figures, to be published In Proceedings of International\\n  Conference of Computer Vision(ICCV), 2023',\n",
       " 'To be published in SEMANTICS 2023 poster track proceedings. SEMANTICS\\n  2023 EU: 19th International Conference on Semantic Systems, September 20-22,\\n  2023, Leipzig, Germany',\n",
       " 'This was published in TMLR in 2024, on January 24th',\n",
       " 'Paper has been presented at ICCCNT 2023 and the final version will be\\n  published in IEEE Digital Library Xplore',\n",
       " 'to be published in LREC-COLING 2024',\n",
       " \"To be published at 21st Int'l Conference on Service-Oriented\\n  Computing (ICSOC 2023), Rome, Italy, November 28-December 1, 2023, ser. LNCS,\\n  F. Monti, S. Rinderle-Ma, A. Ruiz Cortes, Z. Zheng, M. Mecella, Eds.,\\n  Springer, 2023\",\n",
       " '19 pages, 8 Figures, to be published in a journal (Journal TBD), All\\n  Authors contributed equally and were Supervised by Chandra Dhakal',\n",
       " 'Accepted @ \"1st Workshop on Biased Data in Conversational Agents\"\\n  (co-located with ECML PKDD 2023). This is the author\\'s version of the work.\\n  The definite version of record will be published in the proceedings',\n",
       " \"8 pages, 2 tables. To be published in Proceedings of the 2024\\n  Technical Symposium on Computer Science Education (SIGCSE'24)\",\n",
       " 'Preprint of an article published in Pacific Symposium on Biocomputing\\n  copyright 2024 World Scientific Publishing Co., Singapore,\\n  http://psb.stanford.edu/',\n",
       " '24 pages, 13 figures, to be published in NeurIPS 2023',\n",
       " 'To be published in the Proceedings of the 22nd IEEE International\\n  Conference on Machine Learning Applications (ICMLA 2023)',\n",
       " '21 pages, 14 figures, preprint to be published in HCI INTERNATIONAL\\n  2023 25TH INTERNATIONAL CONFERENCE ON HUMAN-COMPUTER INTERACTION proceedings',\n",
       " 'Selected for publication in the AI Ethics Journal published by the\\n  Artificial Intelligence Robotics Ethics Society (AIRES)',\n",
       " 'Include wrong information in comment. Should be 7 pages and not\\n  published yet',\n",
       " 'Published at Information Fusion, Volume 101, 2024, 101988, ISSN\\n  1566-2535. The equal contribution mark is missed in the published version due\\n  to the publication policies. Please contact Prof. Erik Cambria for details',\n",
       " 'The paper is planned to be published in a reputable journal',\n",
       " 'To be published in GEM workshop. Conference on Empirical Methods in\\n  Natural Language Processing (EMNLP). 2023',\n",
       " 'To be published in the proceedings of the 36th International\\n  Conference on Legal Knowledge and Information Systems (JURIX 2023). Code and\\n  prompt available at https://github.com/samyarj/JCAPG-JURIX2023',\n",
       " 'To be published in EMNLP 2023 GEM Workshop',\n",
       " 'The initial work was published in the ICMLA 2019 conference',\n",
       " 'To be published in the Proceedings of the OSM Science 2023',\n",
       " '9 pages, 1 figure, 1 table, to be published in the proceedings of the\\n  Northern Lights Deep Learning Conference 2024',\n",
       " 'To be published in the Proceedings of the 3rd Machine Learning for\\n  Health symposium, Proceedings of Machine Learning Research (PMLR)',\n",
       " 'to be published in EMNLP Findings',\n",
       " \"I will not add others' names since this work has not been published\",\n",
       " '14 pages, 3 figures. Accepted Working Notes at HASOC-FIRE 2023, to be\\n  published in CEUR Working Notes of FIRE',\n",
       " '6 pages, 5 figures, 2023 IEEE International Conference on Big Data\\n  (BigData), to be published',\n",
       " 'To be published in the AAAI 2024 Proceedings Main Track',\n",
       " '4 pages, 1 figure, model is available at\\n  https://huggingface.co/universeTBD, published in RNAAS',\n",
       " \"This is the author's version of the work. The definitive version is\\n  published in: Proceedings of the 46th European Conference on Information\\n  Retrieval} (ECIR '24), March 24--28, 2024, Glasgow, Scotland\",\n",
       " \"This is the author's version of the work. The definitive version is\\n  published in: Proceedings of the 46th European Conference on Information\\n  Retrieval (ECIR '24), March 24-28, 2024, Glasgow, Scotland\",\n",
       " 'Originally published at the Generation, Evaluation & Metrics (GEM)\\n  Workshop at EMNLP 2023. We are awaiting the release of the proceedings which\\n  we will reference here',\n",
       " '8 pages, 3 figures, 5 tables, To be published in 2024 AAAI workshop\\n  on Responsible Language Models (ReLM)',\n",
       " \"18 pages, 4 figures, to be published in ICLR'24, Code available at\\n  https://github.com/ibraheem-moosa/mt-ranker\",\n",
       " 'The current submission is the first draft, published for the sole\\n  purpose of sharing an idea and encouraging community effort. A more\\n  consolidated version may come later',\n",
       " '10 pages, 6 figures, 4 tables. To be published in the Proceedings of\\n  the 38th Annual AAAI Conference on Artificial Intelligence (AAAI-24)',\n",
       " 'Will be published as findings paper at EACL2024 - 18th Conference of\\n  the European Chapter of the Association for Computational Linguistics',\n",
       " 'To be published in ECIR 2024 proceedings',\n",
       " \"This is just an initial idea and it's implementation. The results are\\n  computed for the first 100 data points. Detailed results will be published\\n  with the actual paper\",\n",
       " \"6 pages, 2 figures, published to DAC 2024: 61st IEEE/ACM Design\\n  Automation Conference. (DAC'24)\",\n",
       " 'To be published in AAAI 24',\n",
       " '24 pages, 2 figures, to be published in NLP for Requirements\\n  Engineering Book',\n",
       " '5 pages, 1 figures, published to ICASSP 2024',\n",
       " 'This preprint has not undergone peer review or any post-submission\\n  improvements or corrections. The Version of Record of this contribution is\\n  published in Advances in Information Retrieval, 46th European Conference on\\n  Information Retrieval, ECIR 2024. 16 pages, 4 figures',\n",
       " '10 pages; 2 figures; to be published in the <Programming> 2024\\n  Conference Companion',\n",
       " '4 pages, 2 figures, published in the WWW 2024 Short Papers Track',\n",
       " 'Accepted to be published at the 21st IEEE/ACM International\\n  Conference on Mining Software Repositories (MSR 2024)',\n",
       " 'To be published in LREC-COLING 2024',\n",
       " '28 pages, 11 figures, not published yet',\n",
       " '5 pages, Macintosh Postscript, published in COLING-94, pp. 278-282',\n",
       " '30 pages, also published in the University of Tuebingen Technical\\n  Report Series',\n",
       " 'latex source with a4 style, 15 pages, to be published in computer\\n  processing of oriental language journal',\n",
       " '51 pages, Postscript. To be published in Journal of Artificial\\n  Intelligence Research 6(1), 1997',\n",
       " \"12 pages, 3 figures, published in the proceedings of NLDB'01\",\n",
       " \"to be published in the Proceedings of the 7th International\\n  Conference on User Modeling (UM'99); uses llncs.cls,um97.sty\"]"
      ]
     },
     "execution_count": 143,
     "metadata": {},
     "output_type": "execute_result"
    }
   ],
   "source": [
    "[str(c) for c in unpublished_NLP[\"comments\"].values if \" published\" in str(c)]"
   ]
  },
  {
   "cell_type": "code",
   "execution_count": 134,
   "metadata": {},
   "outputs": [
    {
     "data": {
      "text/html": [
       "<div>\n",
       "<style scoped>\n",
       "    .dataframe tbody tr th:only-of-type {\n",
       "        vertical-align: middle;\n",
       "    }\n",
       "\n",
       "    .dataframe tbody tr th {\n",
       "        vertical-align: top;\n",
       "    }\n",
       "\n",
       "    .dataframe thead th {\n",
       "        text-align: right;\n",
       "    }\n",
       "</style>\n",
       "<table border=\"1\" class=\"dataframe\">\n",
       "  <thead>\n",
       "    <tr style=\"text-align: right;\">\n",
       "      <th></th>\n",
       "      <th>arxiv_id</th>\n",
       "      <th>arxiv_title</th>\n",
       "      <th>arxiv_authors</th>\n",
       "      <th>arxiv_abstract</th>\n",
       "      <th>acl_title</th>\n",
       "      <th>acl_authors</th>\n",
       "      <th>acl_url</th>\n",
       "    </tr>\n",
       "  </thead>\n",
       "  <tbody>\n",
       "    <tr>\n",
       "      <th>0</th>\n",
       "      <td>0704.3886</td>\n",
       "      <td>A Note on Ontology and Ordinary Language</td>\n",
       "      <td>[['Saba', 'Walid S.', '']]</td>\n",
       "      <td>We argue for a compositional semantics groun...</td>\n",
       "      <td>towardsontologicallygroundedandlanguageagnosti...</td>\n",
       "      <td>[&lt;utils.Author.Author object at 0x000002355DDF...</td>\n",
       "      <td>https://aclanthology.org/2023.iwcs-1.11</td>\n",
       "    </tr>\n",
       "    <tr>\n",
       "      <th>1</th>\n",
       "      <td>0704.3886</td>\n",
       "      <td>A Note on Ontology and Ordinary Language</td>\n",
       "      <td>[['Saba', 'Walid S.', '']]</td>\n",
       "      <td>We argue for a compositional semantics groun...</td>\n",
       "      <td>towardsacognitivelyplausiblemodelforquantifica...</td>\n",
       "      <td>[&lt;utils.Author.Author object at 0x000002356E70...</td>\n",
       "      <td>https://aclanthology.org/P95-1051</td>\n",
       "    </tr>\n",
       "    <tr>\n",
       "      <th>2</th>\n",
       "      <td>0705.1161</td>\n",
       "      <td>IDF revisited: A simple new derivation within ...</td>\n",
       "      <td>[['Lee', 'Lillian', '']]</td>\n",
       "      <td>There have been a number of prior attempts t...</td>\n",
       "      <td>enhancingtextcomprehensionforquestionanswering...</td>\n",
       "      <td>[&lt;utils.Author.Author object at 0x00000235609B...</td>\n",
       "      <td>https://aclanthology.org/2023.repl4nlp-1.7</td>\n",
       "    </tr>\n",
       "    <tr>\n",
       "      <th>3</th>\n",
       "      <td>0705.1161</td>\n",
       "      <td>IDF revisited: A simple new derivation within ...</td>\n",
       "      <td>[['Lee', 'Lillian', '']]</td>\n",
       "      <td>There have been a number of prior attempts t...</td>\n",
       "      <td>promptbasedlearningfortextreadabilityassessment</td>\n",
       "      <td>[&lt;utils.Author.Author object at 0x000002354F5A...</td>\n",
       "      <td>https://aclanthology.org/2023.findings-eacl.135</td>\n",
       "    </tr>\n",
       "    <tr>\n",
       "      <th>4</th>\n",
       "      <td>0705.1161</td>\n",
       "      <td>IDF revisited: A simple new derivation within ...</td>\n",
       "      <td>[['Lee', 'Lillian', '']]</td>\n",
       "      <td>There have been a number of prior attempts t...</td>\n",
       "      <td>lftkhandcraftedfeaturesincomputationallinguistics</td>\n",
       "      <td>[&lt;utils.Author.Author object at 0x000002355277...</td>\n",
       "      <td>https://aclanthology.org/2023.bea-1.1</td>\n",
       "    </tr>\n",
       "  </tbody>\n",
       "</table>\n",
       "</div>"
      ],
      "text/plain": [
       "    arxiv_id                                        arxiv_title  \\\n",
       "0  0704.3886           A Note on Ontology and Ordinary Language   \n",
       "1  0704.3886           A Note on Ontology and Ordinary Language   \n",
       "2  0705.1161  IDF revisited: A simple new derivation within ...   \n",
       "3  0705.1161  IDF revisited: A simple new derivation within ...   \n",
       "4  0705.1161  IDF revisited: A simple new derivation within ...   \n",
       "\n",
       "                arxiv_authors  \\\n",
       "0  [['Saba', 'Walid S.', '']]   \n",
       "1  [['Saba', 'Walid S.', '']]   \n",
       "2    [['Lee', 'Lillian', '']]   \n",
       "3    [['Lee', 'Lillian', '']]   \n",
       "4    [['Lee', 'Lillian', '']]   \n",
       "\n",
       "                                      arxiv_abstract  \\\n",
       "0    We argue for a compositional semantics groun...   \n",
       "1    We argue for a compositional semantics groun...   \n",
       "2    There have been a number of prior attempts t...   \n",
       "3    There have been a number of prior attempts t...   \n",
       "4    There have been a number of prior attempts t...   \n",
       "\n",
       "                                           acl_title  \\\n",
       "0  towardsontologicallygroundedandlanguageagnosti...   \n",
       "1  towardsacognitivelyplausiblemodelforquantifica...   \n",
       "2  enhancingtextcomprehensionforquestionanswering...   \n",
       "3    promptbasedlearningfortextreadabilityassessment   \n",
       "4  lftkhandcraftedfeaturesincomputationallinguistics   \n",
       "\n",
       "                                         acl_authors  \\\n",
       "0  [<utils.Author.Author object at 0x000002355DDF...   \n",
       "1  [<utils.Author.Author object at 0x000002356E70...   \n",
       "2  [<utils.Author.Author object at 0x00000235609B...   \n",
       "3  [<utils.Author.Author object at 0x000002354F5A...   \n",
       "4  [<utils.Author.Author object at 0x000002355277...   \n",
       "\n",
       "                                           acl_url  \n",
       "0          https://aclanthology.org/2023.iwcs-1.11  \n",
       "1                https://aclanthology.org/P95-1051  \n",
       "2       https://aclanthology.org/2023.repl4nlp-1.7  \n",
       "3  https://aclanthology.org/2023.findings-eacl.135  \n",
       "4            https://aclanthology.org/2023.bea-1.1  "
      ]
     },
     "execution_count": 134,
     "metadata": {},
     "output_type": "execute_result"
    }
   ],
   "source": [
    "ambig_df = pd.DataFrame(ambig, columns = [\"arxiv_id\", \"arxiv_title\", \"arxiv_authors\", \"arxiv_abstract\", \"acl_title\", \"acl_authors\", \"acl_url\"])\n",
    "ambig_df.head()"
   ]
  },
  {
   "cell_type": "code",
   "execution_count": 144,
   "metadata": {},
   "outputs": [],
   "source": [
    "# unpublished_NLP.to_csv(\"arxiv-metadata-nlp-unpublished.csv\", index = False)\n",
    "unpublished_NLP = pd.read_csv(\"arxiv-metadata-nlp-unpublished.csv\")"
   ]
  },
  {
   "cell_type": "code",
   "execution_count": 145,
   "metadata": {},
   "outputs": [
    {
     "name": "stdout",
     "output_type": "stream",
     "text": [
      "(33817, 14)\n"
     ]
    },
    {
     "data": {
      "text/html": [
       "<div>\n",
       "<style scoped>\n",
       "    .dataframe tbody tr th:only-of-type {\n",
       "        vertical-align: middle;\n",
       "    }\n",
       "\n",
       "    .dataframe tbody tr th {\n",
       "        vertical-align: top;\n",
       "    }\n",
       "\n",
       "    .dataframe thead th {\n",
       "        text-align: right;\n",
       "    }\n",
       "</style>\n",
       "<table border=\"1\" class=\"dataframe\">\n",
       "  <thead>\n",
       "    <tr style=\"text-align: right;\">\n",
       "      <th></th>\n",
       "      <th>id</th>\n",
       "      <th>submitter</th>\n",
       "      <th>authors</th>\n",
       "      <th>title</th>\n",
       "      <th>comments</th>\n",
       "      <th>journal-ref</th>\n",
       "      <th>doi</th>\n",
       "      <th>report-no</th>\n",
       "      <th>categories</th>\n",
       "      <th>license</th>\n",
       "      <th>abstract</th>\n",
       "      <th>versions</th>\n",
       "      <th>update_date</th>\n",
       "      <th>authors_parsed</th>\n",
       "    </tr>\n",
       "  </thead>\n",
       "  <tbody>\n",
       "    <tr>\n",
       "      <th>0</th>\n",
       "      <td>0704.2083</td>\n",
       "      <td>Hassan Satori</td>\n",
       "      <td>H. Satori, M. Harti and N. Chenfour</td>\n",
       "      <td>Introduction to Arabic Speech Recognition Usin...</td>\n",
       "      <td>4 pages, 3 figures and 2 tables, was in Inform...</td>\n",
       "      <td>NaN</td>\n",
       "      <td>NaN</td>\n",
       "      <td>NaN</td>\n",
       "      <td>cs.CL cs.AI</td>\n",
       "      <td>NaN</td>\n",
       "      <td>In this paper Arabic was investigated from t...</td>\n",
       "      <td>[{'version': 'v1', 'created': 'Tue, 17 Apr 200...</td>\n",
       "      <td>2007-05-23</td>\n",
       "      <td>[['Satori', 'H.', ''], ['Harti', 'M.', ''], ['...</td>\n",
       "    </tr>\n",
       "    <tr>\n",
       "      <th>1</th>\n",
       "      <td>0704.2201</td>\n",
       "      <td>Hassan Satori</td>\n",
       "      <td>H. Satori, M. Harti and N. Chenfour</td>\n",
       "      <td>Arabic Speech Recognition System using CMU-Sph...</td>\n",
       "      <td>5 pages, 3 figures and 2 tables, in French</td>\n",
       "      <td>NaN</td>\n",
       "      <td>NaN</td>\n",
       "      <td>NaN</td>\n",
       "      <td>cs.CL cs.AI</td>\n",
       "      <td>NaN</td>\n",
       "      <td>In this paper we present the creation of an ...</td>\n",
       "      <td>[{'version': 'v1', 'created': 'Tue, 17 Apr 200...</td>\n",
       "      <td>2007-05-23</td>\n",
       "      <td>[['Satori', 'H.', ''], ['Harti', 'M.', ''], ['...</td>\n",
       "    </tr>\n",
       "    <tr>\n",
       "      <th>2</th>\n",
       "      <td>0704.3665</td>\n",
       "      <td>Tian-Jian Jiang</td>\n",
       "      <td>Mike Tian-Jian Jiang, Deng Liu, Meng-Juei Hsie...</td>\n",
       "      <td>On the Development of Text Input Method - Less...</td>\n",
       "      <td>10 pages</td>\n",
       "      <td>NaN</td>\n",
       "      <td>NaN</td>\n",
       "      <td>NaN</td>\n",
       "      <td>cs.CL cs.HC</td>\n",
       "      <td>NaN</td>\n",
       "      <td>Intelligent Input Methods (IM) are essential...</td>\n",
       "      <td>[{'version': 'v1', 'created': 'Fri, 27 Apr 200...</td>\n",
       "      <td>2007-05-23</td>\n",
       "      <td>[['Jiang', 'Mike Tian-Jian', ''], ['Liu', 'Den...</td>\n",
       "    </tr>\n",
       "    <tr>\n",
       "      <th>3</th>\n",
       "      <td>0704.3708</td>\n",
       "      <td>Bernat Corominas-Murtra BCM</td>\n",
       "      <td>Bernat Corominas-Murtra</td>\n",
       "      <td>Network statistics on early English Syntax: St...</td>\n",
       "      <td>New abstract. Due to a mistake, abstract from ...</td>\n",
       "      <td>NaN</td>\n",
       "      <td>NaN</td>\n",
       "      <td>NaN</td>\n",
       "      <td>cs.CL</td>\n",
       "      <td>NaN</td>\n",
       "      <td>This paper includes a reflection on the role...</td>\n",
       "      <td>[{'version': 'v1', 'created': 'Fri, 27 Apr 200...</td>\n",
       "      <td>2007-05-23</td>\n",
       "      <td>[['Corominas-Murtra', 'Bernat', '']]</td>\n",
       "    </tr>\n",
       "    <tr>\n",
       "      <th>4</th>\n",
       "      <td>0704.3886</td>\n",
       "      <td>W Saba</td>\n",
       "      <td>Walid S. Saba</td>\n",
       "      <td>A Note on Ontology and Ordinary Language</td>\n",
       "      <td>19 pages, 1 figure</td>\n",
       "      <td>NaN</td>\n",
       "      <td>NaN</td>\n",
       "      <td>NaN</td>\n",
       "      <td>cs.AI cs.CL</td>\n",
       "      <td>NaN</td>\n",
       "      <td>We argue for a compositional semantics groun...</td>\n",
       "      <td>[{'version': 'v1', 'created': 'Mon, 30 Apr 200...</td>\n",
       "      <td>2007-05-23</td>\n",
       "      <td>[['Saba', 'Walid S.', '']]</td>\n",
       "    </tr>\n",
       "  </tbody>\n",
       "</table>\n",
       "</div>"
      ],
      "text/plain": [
       "          id                    submitter  \\\n",
       "0  0704.2083                Hassan Satori   \n",
       "1  0704.2201                Hassan Satori   \n",
       "2  0704.3665              Tian-Jian Jiang   \n",
       "3  0704.3708  Bernat Corominas-Murtra BCM   \n",
       "4  0704.3886                       W Saba   \n",
       "\n",
       "                                             authors  \\\n",
       "0                H. Satori, M. Harti and N. Chenfour   \n",
       "1                H. Satori, M. Harti and N. Chenfour   \n",
       "2  Mike Tian-Jian Jiang, Deng Liu, Meng-Juei Hsie...   \n",
       "3                            Bernat Corominas-Murtra   \n",
       "4                                      Walid S. Saba   \n",
       "\n",
       "                                               title  \\\n",
       "0  Introduction to Arabic Speech Recognition Usin...   \n",
       "1  Arabic Speech Recognition System using CMU-Sph...   \n",
       "2  On the Development of Text Input Method - Less...   \n",
       "3  Network statistics on early English Syntax: St...   \n",
       "4           A Note on Ontology and Ordinary Language   \n",
       "\n",
       "                                            comments  journal-ref  doi  \\\n",
       "0  4 pages, 3 figures and 2 tables, was in Inform...          NaN  NaN   \n",
       "1         5 pages, 3 figures and 2 tables, in French          NaN  NaN   \n",
       "2                                           10 pages          NaN  NaN   \n",
       "3  New abstract. Due to a mistake, abstract from ...          NaN  NaN   \n",
       "4                                 19 pages, 1 figure          NaN  NaN   \n",
       "\n",
       "  report-no   categories license  \\\n",
       "0       NaN  cs.CL cs.AI     NaN   \n",
       "1       NaN  cs.CL cs.AI     NaN   \n",
       "2       NaN  cs.CL cs.HC     NaN   \n",
       "3       NaN        cs.CL     NaN   \n",
       "4       NaN  cs.AI cs.CL     NaN   \n",
       "\n",
       "                                            abstract  \\\n",
       "0    In this paper Arabic was investigated from t...   \n",
       "1    In this paper we present the creation of an ...   \n",
       "2    Intelligent Input Methods (IM) are essential...   \n",
       "3    This paper includes a reflection on the role...   \n",
       "4    We argue for a compositional semantics groun...   \n",
       "\n",
       "                                            versions update_date  \\\n",
       "0  [{'version': 'v1', 'created': 'Tue, 17 Apr 200...  2007-05-23   \n",
       "1  [{'version': 'v1', 'created': 'Tue, 17 Apr 200...  2007-05-23   \n",
       "2  [{'version': 'v1', 'created': 'Fri, 27 Apr 200...  2007-05-23   \n",
       "3  [{'version': 'v1', 'created': 'Fri, 27 Apr 200...  2007-05-23   \n",
       "4  [{'version': 'v1', 'created': 'Mon, 30 Apr 200...  2007-05-23   \n",
       "\n",
       "                                      authors_parsed  \n",
       "0  [['Satori', 'H.', ''], ['Harti', 'M.', ''], ['...  \n",
       "1  [['Satori', 'H.', ''], ['Harti', 'M.', ''], ['...  \n",
       "2  [['Jiang', 'Mike Tian-Jian', ''], ['Liu', 'Den...  \n",
       "3               [['Corominas-Murtra', 'Bernat', '']]  \n",
       "4                         [['Saba', 'Walid S.', '']]  "
      ]
     },
     "execution_count": 145,
     "metadata": {},
     "output_type": "execute_result"
    }
   ],
   "source": [
    "print(unpublished_NLP.shape)\n",
    "unpublished_NLP.head()"
   ]
  },
  {
   "cell_type": "markdown",
   "metadata": {},
   "source": [
    "### 2. Access to PDF files [TO BE COMPLETED]"
   ]
  },
  {
   "cell_type": "code",
   "execution_count": 87,
   "metadata": {},
   "outputs": [
    {
     "name": "stdout",
     "output_type": "stream",
     "text": [
      "['1806.04872', '1611.09441', '2312.08901', '2109.12500', '2103.15316']\n",
      "['v1', 'v1', 'v3', 'v1', 'v1']\n"
     ]
    }
   ],
   "source": [
    "import json\n",
    "random_indexes = np.random.choice(unpublished_NLP.index, 5, replace = False)\n",
    "random_ids = list(unpublished_NLP.loc[random_indexes, \"id\"])\n",
    "last_versions = []\n",
    "for v_list in list(unpublished_NLP.loc[random_indexes, \"versions\"]):\n",
    "    v_list = v_list.replace(\"\\'\", \"\\\"\")\n",
    "    versions = json.loads(v_list)\n",
    "    last_versions.append(versions[-1][\"version\"])\n",
    "\n",
    "print(random_ids)\n",
    "print(last_versions)"
   ]
  },
  {
   "cell_type": "code",
   "execution_count": 86,
   "metadata": {},
   "outputs": [
    {
     "data": {
      "text/plain": [
       "'v1'"
      ]
     },
     "execution_count": 86,
     "metadata": {},
     "output_type": "execute_result"
    }
   ],
   "source": [
    "# parse versions[0] as a list\n",
    "json.loads(versions[0].replace(\"\\'\", \"\\\"\"))[0][\"version\"]"
   ]
  },
  {
   "cell_type": "code",
   "execution_count": 91,
   "metadata": {},
   "outputs": [
    {
     "name": "stdout",
     "output_type": "stream",
     "text": [
      "gs://arxiv-dataset/arxiv/arxiv/pdf/1806/1806.04872v1.pdf\n",
      "gs://arxiv-dataset/arxiv/arxiv/pdf/1611/1611.09441v1.pdf\n",
      "gs://arxiv-dataset/arxiv/arxiv/pdf/2312/2312.08901v3.pdf\n",
      "gs://arxiv-dataset/arxiv/arxiv/pdf/2109/2109.12500v1.pdf\n",
      "gs://arxiv-dataset/arxiv/arxiv/pdf/2103/2103.15316v1.pdf\n"
     ]
    }
   ],
   "source": [
    "for full_id, version in zip(random_ids, last_versions):\n",
    "    date_code = full_id.split(\".\")[0]\n",
    "    url = f\"gs://arxiv-dataset/arxiv/arxiv/pdf/{date_code}/{full_id}{version}.pdf\"\n",
    "    print(url)\n",
    "    #!gsutil cp gs://arxiv-dataset/arxiv/arxiv/pdf/{date_code}/{full_id}{version}.pdf ./\n"
   ]
  },
  {
   "cell_type": "markdown",
   "metadata": {},
   "source": [
    "### 3. GROBID Extraction [TO BE COMPLETED]"
   ]
  },
  {
   "cell_type": "markdown",
   "metadata": {},
   "source": [
    "### 4. Create `Corpus` object (on toy corpus) and extract papers content"
   ]
  },
  {
   "cell_type": "code",
   "execution_count": 2,
   "metadata": {},
   "outputs": [],
   "source": [
    "corpus_arxiv = utils.Corpus.Corpus(metadata_path = \"arxiv-metadata-nlp-unpublished-sample-1000.csv\",\n",
    "                      xml_dir_path= \"arxiv-papers/tei.xml/\",\n",
    "                      name = \"arXiv\")"
   ]
  },
  {
   "cell_type": "code",
   "execution_count": 3,
   "metadata": {},
   "outputs": [
    {
     "name": "stdout",
     "output_type": "stream",
     "text": [
      "Corpus 'arXiv' is being initialized...\n",
      "\n"
     ]
    },
    {
     "name": "stderr",
     "output_type": "stream",
     "text": [
      "100%|██████████| 1000/1000 [01:27<00:00, 11.40it/s]\n"
     ]
    },
    {
     "name": "stdout",
     "output_type": "stream",
     "text": [
      "Corpus 'arXiv' papers have been loaded.\n",
      "Corpus 'arXiv' was filled with 1000 papers:\n",
      "  - 995 papers were successfully loaded\n",
      "  - 5 papers could not be loaded\n",
      "\n",
      "Preprocessing papers...\n"
     ]
    }
   ],
   "source": [
    "corpus_arxiv.initialize(verbose = True)"
   ]
  },
  {
   "cell_type": "code",
   "execution_count": 4,
   "metadata": {},
   "outputs": [
    {
     "name": "stdout",
     "output_type": "stream",
     "text": [
      "Corpus 'arXiv' was filled with 1000 papers:\n",
      "  - 995 papers were successfully loaded\n",
      "  - 5 papers could not be loaded\n",
      "\n",
      "Errors:\n",
      "  - FileNotFoundError: XML file does not exist : 4\n",
      "  - Noisy data: wrong language (fr) : 1\n"
     ]
    }
   ],
   "source": [
    "corpus_arxiv.describe(error_verbose = True)"
   ]
  },
  {
   "cell_type": "markdown",
   "metadata": {},
   "source": [
    "## C. Others"
   ]
  },
  {
   "cell_type": "markdown",
   "metadata": {},
   "source": [
    "### Core claims"
   ]
  },
  {
   "cell_type": "code",
   "execution_count": 9,
   "metadata": {},
   "outputs": [
    {
     "name": "stderr",
     "output_type": "stream",
     "text": [
      "c:\\Users\\cleme\\Documents\\STAGE\\data\\.venv\\Lib\\site-packages\\tqdm\\auto.py:21: TqdmWarning: IProgress not found. Please update jupyter and ipywidgets. See https://ipywidgets.readthedocs.io/en/stable/user_install.html\n",
      "  from .autonotebook import tqdm as notebook_tqdm\n"
     ]
    }
   ],
   "source": [
    "from sentence_transformers import SentenceTransformer, util\n",
    "from rouge_score import rouge_scorer\n",
    "from nltk.translate.bleu_score import sentence_bleu\n",
    "\n",
    "model = SentenceTransformer('sentence-transformers/all-MiniLM-L6-v2')"
   ]
  },
  {
   "cell_type": "code",
   "execution_count": 57,
   "metadata": {},
   "outputs": [],
   "source": [
    "import tqdm\n",
    "p = corpus_ACL.papers[0]\n",
    "s_embeddings = [model.encode(s) for s in p.content[\"sentence\"].values]\n",
    "#scores = []"
   ]
  },
  {
   "cell_type": "code",
   "execution_count": 58,
   "metadata": {},
   "outputs": [
    {
     "name": "stderr",
     "output_type": "stream",
     "text": [
      "0it [00:00, ?it/s]"
     ]
    },
    {
     "name": "stdout",
     "output_type": "stream",
     "text": [
      "We present a series of studies of affirmative cue words-a family of cue words such as \"okay\" or \"alright\" that speakers use frequently in conversation.\n",
      "---> 0.6065555810928345 : Examples of cue phrases include now, well, so, and, but, then, after all, furthermore, however, in consequence, as a matter of fact, in fact, actually, okay, alright, for example, and incidentally.\n",
      "---> 0.8207764625549316 : In this study, we focus on a subclass of cue phrases that we term affirmative cue words (hereafter, ACWs), and that include alright, mm-hm, okay, right, and uh-huh, inter alia.\n",
      "---> 0.6668821573257446 : Whereas ACWs thus form a subset of more general classes of utterances which have been studied in more general studies of cue words, cue phrases, discourse markers, feedback utterances, linguistic feedback, acknowledgments, grounding acts, our focus is on this particular subset of lexical items which may convey an affirmative response-but which may also convey many different meanings.\n",
      "---> 0.6692189574241638 : Prior work on the automatic classification of cue phrases includes a series of studies performed by Hirschberg and Litman (Hirschberg andLitman 1987, 1993;Litman and Hirschberg 1990), which focus on differentiating between the discourse and sentential senses of single-word cue phrases such as now, well, okay, say, and so in American English.\n",
      "---> 0.6344627737998962 : These include not only the computational linguists' cue phrases but also expressions such as I see or oh wow, which CA research describes in terms of attention, understanding, and acceptance by the speaker of a proposition uttered by another conversation participant (Kendon 1967;Yngve 1970;Duncan 1972;Schegloff 1982;Jefferson 1984).\n",
      "---> 0.6366628408432007 : The authors examine 1,155 conversations from the Switchboard database (Godfrey, Holliman, and McDaniel 1992), and report that the vast majority of these four dialogue acts are realized with words like yeah, okay, or uh-huh.\n",
      "---> 0.6164366006851196 : Despite their high frequency in spontaneous conversation, the set of ACWs we examine here have seldom, if ever, been an object of study in themselves, as a separate subclass of cue phrases or dialogue acts.\n",
      "---> 0.657342791557312 : Some have attempted to model other types of cue phrases (e.g., well, like) or cue phrases in general; others discuss discourse/ pragmatic functions that may be conveyed through ACWs, but which may also be conveyed through other types of expressions (e.g., agreements may be communicated by single words such as yes or longer cue phrases such as that's correct).\n",
      "---> 0.6398480534553528 : (2007) suggest that, in task-oriented American English dialogue, contextual information (e.g., duration of surrounding silence, number of surrounding words) as well as word-final intonation figure as the most salient cues to disambiguation of the function of the word okay by human listeners.\n",
      "---> 0.6946202516555786 : Also, in a study of the function of intonation in Scottish English task-oriented dialogue, Kowtko (1996) examines a corpus of 273 instances of single-word utterances, including affirmative cue words such as mmhm, okay, right, uh-huh, and yes.\n",
      "---> 0.6347091197967529 : Although broader studies focusing on the pragmatic function of cue phrases, discourse markers, linguistic feedback, and dialogue acts do shed light on the particular subset of utterances we are studying, and although there is some information on particular lexical items we include here in our study, the class of ACWs itself has received little attention.\n",
      "---> 0.7147622108459473 : In this section we present results of a series of statistical tests aimed at identifying contextual, acoustic, and prosodic differences in the production of the various discourse/ pragmatic functions of affirmative cue words.\n",
      "---> 0.6025700569152832 : Alright and okay are the only two ACWs in the corpus that are used to cue the beginning of a new discourse segment, either combined with an agreement function (PBeg) or in its pure form (CBeg).\n",
      "---> 0.6580368280410767 : In this section we present results from machine learning (ML) experiments aimed at investigating how accurately affirmative cue words may be classified automatically into their various discourse/pragmatic functions.\n",
      "---> 0.6153199076652527 : We note that previous studies have attempted to disambiguate between the sentential and discourse uses of cue phrases such as now, well, and like, in corpora containing comparable numbers of instances of each class.\n",
      "---> 0.6374293565750122 : Among the cue words tested in Litman (1996) is okay, one of the ACWs we also investigate.\n",
      "---> 0.813957154750824 : In this work we have undertaken a comprehensive study of affirmative cue words, a subset of cue phrases such as okay, yeah, or alright that may be utilized to convey as many as ten different discourse/pragmatic functions, such as indicating continued attention to the interlocutor or cueing the beginning of a new topic.\n"
     ]
    },
    {
     "name": "stderr",
     "output_type": "stream",
     "text": [
      "1it [00:00,  4.50it/s]"
     ]
    },
    {
     "name": "stdout",
     "output_type": "stream",
     "text": [
      "---> 0.7070017457008362 : In summary, in this study we have identified a number of characterizations of affirmative cue words in a large corpus of SAE task-oriented dialogue.\n",
      "\n",
      "These words pose a challenge for spoken dialogue systems because of their ambiguity: They may be used for agreeing with what the interlocutor has said, indicating continued attention, or for cueing the start of a new topic, among other meanings.\n",
      "---> 0.7507622838020325 : These words are frequent in spontaneous conversation, especially in task-oriented dialogue, and are heavily overloaded: Their possible discourse/pragmatic functions include agreeing with what the interlocutor has said, displaying interest and continued attention, and cueing the start of a new topic.\n",
      "---> 0.6897234320640564 : The disambiguation of these meanings we believe is critical to the success of spoken dialogue systems.\n"
     ]
    },
    {
     "name": "stderr",
     "output_type": "stream",
     "text": [
      "2it [00:00,  3.84it/s]"
     ]
    },
    {
     "name": "stdout",
     "output_type": "stream",
     "text": [
      "---> 0.60649174451828 : Considering the high frequency of ACWs in task-oriented dialogue, it is critical for some spoken language processing applications such as spoken dialogue systems to model the usage of these words correctly, from both an understanding and a generation perspective.\n",
      "\n",
      "We describe differences in the acoustic/prosodic realization of such functions in a corpus of spontaneous, task-oriented dialogues in Standard American English.\n",
      "---> 0.653379499912262 : Section 4 presents a statistical description of the acoustic, prosodic, and contextual characteristics of the functions of ACWs in this corpus.\n",
      "---> 0.6250091195106506 : Novick and Sutton (1994) propose an alternative categorization of linguistic feedback in task-oriented dialogue, which is based on the structural context of exchanges rather than on the characteristics of the preceding utterance.\n",
      "---> 0.6316356658935547 : Recently, Gravano and Hirschberg (2009a, 2009b, 2011) describe six distinct prosodic, acoustic, and lexical events in American English speech that tend to precede the occurrence of a backchannel by the interlocutor.\n",
      "---> 0.653546154499054 : For example, Hockey (1993) examines the prosodic variation of two ACWs, okay and uh-huh (66 and 77 data points, respectively) produced as full intonational phrases in two spontaneous task-oriented dialogues.\n"
     ]
    },
    {
     "name": "stderr",
     "output_type": "stream",
     "text": [
      "3it [00:01,  2.46it/s]"
     ]
    },
    {
     "name": "stdout",
     "output_type": "stream",
     "text": [
      "---> 0.6159815788269043 : The comparison of these numeric acoustic features across discourse/pragmatic functions confirms that the observations made previously for categorical prosodic features also hold when considering numeric features such as pitch slope, thus making the likelihood that such observations will be of practical use in actual systems.\n",
      "---> 0.6037591695785522 : The experiments are conducted on transcripts of 1,368 utterances from 14 dialogues in English.\n",
      "---> 0.607715904712677 : In the study of automatic classification of ACWs presented in Section 5 we show that for spoken task-oriented dialogue, the simple discourse/sentential distinction is insufficient.\n",
      "\n",
      "These results are important both for interpretation and for production in spoken language applications.\n",
      "---> 0.7787131071090698 : This kind of characterization is important both for interpretation and for production in spoken language applications: If we can find reliable features that effectively distinguish the various uses of these words, we can hope to interpret them automatically and generate them appropriately.\n",
      "---> 0.6060587763786316 : Our corpus includes instances conveying each of the ten identified meanings, and this item shows the highest degree of variation along the acoustic/prosodic features we have examined.\n"
     ]
    },
    {
     "name": "stderr",
     "output_type": "stream",
     "text": [
      "5it [00:01,  4.08it/s]"
     ]
    },
    {
     "name": "stdout",
     "output_type": "stream",
     "text": [
      "\n",
      "We also assess the predictive power of computational methods for the automatic disambiguation of these words.\n",
      "---> 0.6079588532447815 : The corpus on which our experiments were conducted, rich in ACWs conveying a wide range of discourse/pragmatic functions, has allowed us to systematically investigate many dimensions of these words, including their production and automatic disambiguation.\n",
      "\n",
      "We find that contextual information and final intonation figure as the most salient cues to automatic disambiguation.\n"
     ]
    },
    {
     "name": "stderr",
     "output_type": "stream",
     "text": [
      "497it [00:01, 300.78it/s]"
     ]
    },
    {
     "name": "stdout",
     "output_type": "stream",
     "text": [
      "\n"
     ]
    },
    {
     "name": "stderr",
     "output_type": "stream",
     "text": [
      "\n"
     ]
    }
   ],
   "source": [
    "for i, se1 in tqdm.tqdm(enumerate(s_embeddings)):\n",
    "    if p.content.loc[i][\"section\"] != \"abstract\":\n",
    "        continue\n",
    "    s1 = p.content.iloc[i][\"sentence\"]\n",
    "    print(f\"{s1}\")\n",
    "    for j, se2 in enumerate(s_embeddings):\n",
    "        if j > i and p.content.loc[j, \"candidate\"] == True:\n",
    "            s2 = p.content.iloc[j][\"sentence\"]\n",
    "            score = util.pytorch_cos_sim(se1, se2)\n",
    "            if score > 0.6:\n",
    "                print(f\"---> {score.item()} : {s2}\")\n",
    "    print()"
   ]
  },
  {
   "cell_type": "code",
   "execution_count": 59,
   "metadata": {},
   "outputs": [
    {
     "name": "stdout",
     "output_type": "stream",
     "text": [
      "We present a series of studies of affirmative cue words-a family of cue words such as \"okay\" or \"alright\" that speakers use frequently in conversation.\n",
      "---> 0.41379310344827586 : In this study, we focus on a subclass of cue phrases that we term affirmative cue words (hereafter, ACWs), and that include alright, mm-hm, okay, right, and uh-huh, inter alia.\n",
      "---> 0.4242424242424242 : Also, in a study of the function of intonation in Scottish English task-oriented dialogue, Kowtko (1996) examines a corpus of 273 instances of single-word utterances, including affirmative cue words such as mmhm, okay, right, uh-huh, and yes.\n",
      "---> 0.45 : In this work we have undertaken a comprehensive study of affirmative cue words, a subset of cue phrases such as okay, yeah, or alright that may be utilized to convey as many as ten different discourse/pragmatic functions, such as indicating continued attention to the interlocutor or cueing the beginning of a new topic.\n",
      "---> 0.4313725490196078 : In summary, in this study we have identified a number of characterizations of affirmative cue words in a large corpus of SAE task-oriented dialogue.\n",
      "\n",
      "These words pose a challenge for spoken dialogue systems because of their ambiguity: They may be used for agreeing with what the interlocutor has said, indicating continued attention, or for cueing the start of a new topic, among other meanings.\n",
      "---> 0.4878048780487805 : These words are frequent in spontaneous conversation, especially in task-oriented dialogue, and are heavily overloaded: Their possible discourse/pragmatic functions include agreeing with what the interlocutor has said, displaying interest and continued attention, and cueing the start of a new topic.\n",
      "\n",
      "We describe differences in the acoustic/prosodic realization of such functions in a corpus of spontaneous, task-oriented dialogues in Standard American English.\n",
      "---> 0.4090909090909091 : Section 4 presents a statistical description of the acoustic, prosodic, and contextual characteristics of the functions of ACWs in this corpus.\n",
      "---> 0.4126984126984127 : Also, in a study of the function of intonation in Scottish English task-oriented dialogue, Kowtko (1996) examines a corpus of 273 instances of single-word utterances, including affirmative cue words such as mmhm, okay, right, uh-huh, and yes.\n",
      "---> 0.4583333333333333 : In summary, in this study we have identified a number of characterizations of affirmative cue words in a large corpus of SAE task-oriented dialogue.\n",
      "\n",
      "These results are important both for interpretation and for production in spoken language applications.\n",
      "---> 0.42857142857142855 : This kind of characterization is important both for interpretation and for production in spoken language applications: If we can find reliable features that effectively distinguish the various uses of these words, we can hope to interpret them automatically and generate them appropriately.\n",
      "\n",
      "We also assess the predictive power of computational methods for the automatic disambiguation of these words.\n",
      "---> 0.4375 : The disambiguation of these meanings we believe is critical to the success of spoken dialogue systems.\n",
      "---> 0.4210526315789473 : In the studies presented here, our goal is to extend our understanding of ACWs, in particular by finding descriptions of the acoustic/prosodic characteristics of their different functions, and by assessing the predictive power of computational methods for their automatic disambiguation.\n",
      "\n",
      "We find that contextual information and final intonation figure as the most salient cues to automatic disambiguation.\n",
      "---> 0.41935483870967744 : (2007) suggest that, in task-oriented American English dialogue, contextual information (e.g., duration of surrounding silence, number of surrounding words) as well as word-final intonation figure as the most salient cues to disambiguation of the function of the word okay by human listeners.\n",
      "\n"
     ]
    }
   ],
   "source": [
    "scorer = rouge_scorer.RougeScorer(['rouge1', 'rouge2'], use_stemmer=True)\n",
    "for i, s1 in enumerate(p.content[\"sentence\"].values):\n",
    "    if p.content.loc[i][\"section\"] != \"abstract\":\n",
    "        continue\n",
    "    print(f\"{s1}\")\n",
    "    for j, s2 in enumerate(p.content[\"sentence\"].values):\n",
    "        if j > i and p.content.loc[j, \"candidate\"] == True:\n",
    "            r_scores = scorer.score(s1, s2)\n",
    "            if r_scores[\"rouge1\"].fmeasure > 0.4:\n",
    "                print(f\"---> {r_scores['rouge1'].fmeasure} : {s2}\")\n",
    "    print()"
   ]
  },
  {
   "cell_type": "code",
   "execution_count": 39,
   "metadata": {},
   "outputs": [
    {
     "data": {
      "text/plain": [
       "(array([ 12.,  33.,  52.,  82., 117., 108., 120., 118.,  96.,  86.,  59.,\n",
       "         45.,  36.,  27.,  10.,  11.,   3.,   2.,   2.,   3.]),\n",
       " array([-0.06328004, -0.02201925,  0.01924153,  0.06050231,  0.1017631 ,\n",
       "         0.14302388,  0.18428467,  0.22554545,  0.26680624,  0.30806702,\n",
       "         0.34932781,  0.39058859,  0.43184938,  0.47311016,  0.51437094,\n",
       "         0.55563173,  0.59689251,  0.6381533 ,  0.67941408,  0.72067487,\n",
       "         0.76193565]),\n",
       " <BarContainer object of 20 artists>)"
      ]
     },
     "execution_count": 39,
     "metadata": {},
     "output_type": "execute_result"
    },
    {
     "data": {
      "image/png": "[encoded data removed]",
      "text/plain": [
       "<Figure size 640x480 with 1 Axes>"
      ]
     },
     "metadata": {},
     "output_type": "display_data"
    }
   ],
   "source": [
    "scores = sorted(scores, key = lambda x: x[2], reverse = True)\n",
    "plt.hist([s[2] for s in scores], bins = 20)"
   ]
  },
  {
   "cell_type": "code",
   "execution_count": 40,
   "metadata": {},
   "outputs": [
    {
     "name": "stdout",
     "output_type": "stream",
     "text": [
      "---Between 1.0 and 0.95\n",
      "\n",
      "---Between 0.95 and 0.8999999999999999\n",
      "\n",
      "---Between 0.8999999999999999 and 0.8499999999999999\n",
      "\n",
      "---Between 0.8499999999999999 and 0.7999999999999998\n",
      "\n",
      "---Between 0.7999999999999998 and 0.7499999999999998\n",
      "\n",
      "---Between 0.7499999999999998 and 0.6999999999999997\n",
      "The proposed LM can be expanded to new domains by adding about 2% of parameters for a first domain and 13% parameters for after second domain. \n",
      " The proposed architecture allows LMs to expand multi-domain, suppressing the increase of the number of parameters. \n",
      " 0.7619356513023376\n",
      "  We propose an adapter based multi-domain Transformer based language model (LM) for Transformer ASR. \n",
      " In this paper, we study an external LM structure for Transformer based ASR model that can be adapted for multi-domain with only 2% or 13% parameter addition per domain. \n",
      " 0.7546730637550354\n",
      "The proposed model can reuse the full fine-tuned LM which is fine-tuned using all layers of an original model. \n",
      " Finally, the proposed architecture can reuse standard full fine-tuned LMs. \n",
      " 0.7542180418968201\n",
      "\n",
      "---Between 0.6999999999999997 and 0.6499999999999997\n",
      "The proposed model can reuse the full fine-tuned LM which is fine-tuned using all layers of an original model. \n",
      " So, the full fine-tuned LMs can be easily reused (or transferred) without any changes. \n",
      " 0.7150662541389465\n",
      "\n",
      "---Between 0.6499999999999997 and 0.5999999999999996\n",
      "Using proposed adapter based approach, we observed that a general LM with adapter can outperform a dedicated music domain LM in terms of word error rate (WER). \n",
      " In the experiments, a general domain LM (G-LM), a music specialized domain LM (M-LM), and adapter added general and music LMs (G-LM-A, M-LM-A) are used. \n",
      " 0.6839401721954346\n",
      "The proposed LM can be expanded to new domains by adding about 2% of parameters for a first domain and 13% parameters for after second domain. \n",
      " 2) Multi-domain LM can be supported with fewer parameters. \n",
      " 0.6787692904472351\n",
      "  We propose an adapter based multi-domain Transformer based language model (LM) for Transformer ASR. \n",
      " To the best of our knowledge, this is a first attempt applying adapters to Transformer LM in ASR. \n",
      " 0.6717246174812317\n",
      "\n",
      "---Between 0.5999999999999996 and 0.5499999999999996\n",
      "The proposed model is also effective in reducing the model maintenance cost because it is possible to omit the costly and time-consuming common LM pre-training process. \n",
      " 3) Our approach provides cost efficient way to maintain existing models. \n",
      " 0.630357563495636\n",
      "The proposed LM can be expanded to new domains by adding about 2% of parameters for a first domain and 13% parameters for after second domain. \n",
      " Therefore, a multi-domain LM configuration with the structure shown in Figure 2 is possible. \n",
      " 0.6172383427619934\n",
      "\n",
      "---Between 0.5499999999999996 and 0.4999999999999996\n",
      "The model can perform multi-domain adaptation with only the small size adapters and its related layers. \n",
      " This means that a common G-LM with adapters can be used as a dedicated domain LM, and we can switch only adapter related layers to fit our model on each domain. \n",
      " 0.5986753106117249\n",
      "  We propose an adapter based multi-domain Transformer based language model (LM) for Transformer ASR. \n",
      " Transformer was first introduced as a model for translation [1]. \n",
      " 0.5889422297477722\n",
      "The model consists of a big size common LM and small size adapters. \n",
      " In the paper, a large common model is used as a base model. \n",
      " 0.5846380591392517\n",
      "The proposed LM can be expanded to new domains by adding about 2% of parameters for a first domain and 13% parameters for after second domain. \n",
      " Since 𝑓 𝐴 is a relatively small value, the increasing number of parameters per domain is about 2% for the first domain and about 13% for after the second domain. \n",
      " 0.5825341939926147\n",
      "  We propose an adapter based multi-domain Transformer based language model (LM) for Transformer ASR. \n",
      " Also we observed that applying adapter module on Transformer LM has an effect on WER improvement especially for proper nouns that is hard to be handled with a common base LM. \n",
      " 0.5804556608200073\n",
      "The proposed model can reuse the full fine-tuned LM which is fine-tuned using all layers of an original model. \n",
      " Table 5 compares the case of using a G-LM as a common base LM with an iterative adapter fine-tuned G-LM (E2E-G-LMiter) and the case of creating a dedicated M-LM and full fine-tune or adapter fine-tune it (E2E-M-LM, E2E-M-LM-A). \n",
      " 0.5801664590835571\n",
      "The proposed model can reuse the full fine-tuned LM which is fine-tuned using all layers of an original model. \n",
      " The proposed model is also effective in reducing the model maintenance cost because it is possible to omit the costly and time-consuming common LM pre-training process. \n",
      " 0.5724422931671143\n",
      "Using proposed adapter based approach, we observed that a general LM with adapter can outperform a dedicated music domain LM in terms of word error rate (WER). \n",
      " Intuitively, when we decode music domain TCs with the E2E model and G-LM without any adaptation (E2E-G-LM) as a baseline, it showed a higher error rates than E2E-M-LM and E2E-M-LM-A. \n",
      " 0.5709532499313354\n",
      "  We propose an adapter based multi-domain Transformer based language model (LM) for Transformer ASR. \n",
      " For multilingual ASR, a structure is introduced so that only adapter layers can be switched [20]. \n",
      " 0.5706966519355774\n",
      "The proposed model can reuse the full fine-tuned LM which is fine-tuned using all layers of an original model. \n",
      " Meanwhile, in [16], a method to fine-tune models by adding only adjustable 3.6% of parameters has been proposed. \n",
      " 0.564490795135498\n",
      "  We propose an adapter based multi-domain Transformer based language model (LM) for Transformer ASR. \n",
      " Figure 1 shows a Transformer based E2E ASR models with an external LM. \n",
      " 0.5633689165115356\n",
      "  We propose an adapter based multi-domain Transformer based language model (LM) for Transformer ASR. \n",
      " In this paper, adapter based multi-domain LM structure has been proposed. \n",
      " 0.5611745715141296\n",
      "The proposed LM can be expanded to new domains by adding about 2% of parameters for a first domain and 13% parameters for after second domain. \n",
      " For simplicity we set batch size and the number of domains to one in the followings. \n",
      " 0.5524855852127075\n",
      "\n"
     ]
    }
   ],
   "source": [
    "import numpy as np\n",
    "for score in np.arange(1.0, 0.5, -0.05):\n",
    "    print(f\"---Between {score} and {score - 0.05}\")\n",
    "    _ = [print(s[0], \"\\n\", s[1], \"\\n\", s[2]) for s in scores if s[2] > score and s[2] < score + 0.05]\n",
    "    print()"
   ]
  },
  {
   "cell_type": "code",
   "execution_count": 42,
   "metadata": {},
   "outputs": [
    {
     "name": "stdout",
     "output_type": "stream",
     "text": [
      "tensor([[0.8875]])\n",
      "  The long-standing one-to-many issue of the open-domain dialogues poses significant challenges for automatic evaluation methods, i.e., there may be multiple suitable responses which differ in semantics for a given conversational context.\n",
      "In addition, we provide a detailed analysis of the effectiveness of our proposed method in solving the one-to-many issue in open-domain dialogue evaluation.\n",
      "\n",
      "tensor([[0.8517]])\n",
      "  The long-standing one-to-many issue of the open-domain dialogues poses significant challenges for automatic evaluation methods, i.e., there may be multiple suitable responses which differ in semantics for a given conversational context.\n",
      "To tackle the one-to-many issue, we design a reference-based automatic evaluation metric (CMN), which can robustly evaluate open-domain dialogues with a single gold-standard reference.\n",
      "\n",
      "tensor([[0.8243]])\n",
      "Experimental results on two open-domain dialogue datasets demonstrate the superiority of our method compared with a wide range of baselines, especially in handling responses which are distant to the golden reference responses in semantics.\n",
      "Experimental results on two open-domain dialogue datasets show the superiority of our method compared to a wide range of baseline metrics based on both Pearson and Spearman correlations with human annotations.\n",
      "\n",
      "tensor([[0.8081]])\n",
      "  The long-standing one-to-many issue of the open-domain dialogues poses significant challenges for automatic evaluation methods, i.e., there may be multiple suitable responses which differ in semantics for a given conversational context.\n",
      "Although our proposed method performs well in evaluating the open-domain dialogue systems, it also has some limitations.\n",
      "\n",
      "tensor([[0.7995]])\n",
      "Experimental results on two open-domain dialogue datasets demonstrate the superiority of our method compared with a wide range of baselines, especially in handling responses which are distant to the golden reference responses in semantics.\n",
      "Existing approaches for evaluating open-domain dialogue systems can be broadly divided into two different categories: reference-based and referencefree approaches.\n",
      "\n"
     ]
    }
   ],
   "source": [
    "cos_sim_scores = []\n",
    "for a_s in abs_sentences:\n",
    "    embedding_1= model.encode(a_s, convert_to_tensor=True)\n",
    "    for i, na_s in enumerate(non_abs_sentences):\n",
    "        embedding_2 = model.encode(na_s, convert_to_tensor=True)\n",
    "        cos_sim = util.pytorch_cos_sim(embedding_1, embedding_2)\n",
    "        cos_sim_scores.append((cos_sim, a_s, na_s))\n",
    "\n",
    "cos_sim_scores = sorted(cos_sim_scores, key = lambda x: x[0], reverse = True)\n",
    "for top_sim in cos_sim_scores[:5]:\n",
    "    print(top_sim[0])\n",
    "    print(top_sim[1])\n",
    "    print(top_sim[2])\n",
    "    print()"
   ]
  },
  {
   "cell_type": "markdown",
   "metadata": {},
   "source": [
    "### Selection of some papers for annotation (doccano)"
   ]
  },
  {
   "cell_type": "markdown",
   "metadata": {},
   "source": [
    "Initial selection:"
   ]
  },
  {
   "cell_type": "code",
   "execution_count": 21,
   "metadata": {},
   "outputs": [],
   "source": [
    "# select 5 random papers in acl and 5 random papers in arxiv\n",
    "import random\n",
    "# random seed for reproducibility\n",
    "random.seed(23)\n",
    "random_acl = random.sample(corpus_ACL.papers, 5)\n",
    "random_arxiv = random.sample(corpus_arxiv.papers, 5)\n",
    "\n",
    "random_list = random_acl + random_arxiv\n",
    "\n",
    "# shuffle the list\n",
    "random.shuffle(random_list)\n",
    "\n",
    "data = []\n",
    "\n",
    "for rp in random_list:\n",
    "    contents = rp.content[[\"sentence\", \"section\", \"id\", \"candidate\"]].values\n",
    "    for i, row in enumerate(contents):\n",
    "        if row[3] == True:\n",
    "            # catch the previous sentence\n",
    "            if i == 0:\n",
    "                prev_sec, prev_sent = None, None\n",
    "            else:\n",
    "                prev_sec, prev_sent = contents[i-1][1], contents[i-1][0]\n",
    "\n",
    "            # current sentence (the one to annotate)\n",
    "            sec, sent = row[1], row[0]\n",
    "\n",
    "            # catch the next sentence\n",
    "            if i == len(contents) - 1:\n",
    "                next_sec, next_sent = None, None\n",
    "            else:\n",
    "                next_sec, next_sent = contents[i+1][1], contents[i+1][0]\n",
    "\n",
    "            data.append({\"article_id\": rp.id, \"source\": rp.corpus.name, \"sent_id\": row[2], \"prev_sec\": prev_sec, \"prev_sent\": prev_sent, \"sec\": sec, \"sent\": sent, \"next_sec\": next_sec, \"next_sent\": next_sent})\n"
   ]
  },
  {
   "cell_type": "code",
   "execution_count": 22,
   "metadata": {},
   "outputs": [
    {
     "data": {
      "text/html": [
       "<div>\n",
       "<style scoped>\n",
       "    .dataframe tbody tr th:only-of-type {\n",
       "        vertical-align: middle;\n",
       "    }\n",
       "\n",
       "    .dataframe tbody tr th {\n",
       "        vertical-align: top;\n",
       "    }\n",
       "\n",
       "    .dataframe thead th {\n",
       "        text-align: right;\n",
       "    }\n",
       "</style>\n",
       "<table border=\"1\" class=\"dataframe\">\n",
       "  <thead>\n",
       "    <tr style=\"text-align: right;\">\n",
       "      <th></th>\n",
       "      <th>article_id</th>\n",
       "      <th>source</th>\n",
       "      <th>sent_id</th>\n",
       "      <th>prev_sec</th>\n",
       "      <th>prev_sent</th>\n",
       "      <th>sec</th>\n",
       "      <th>sent</th>\n",
       "      <th>next_sec</th>\n",
       "      <th>next_sent</th>\n",
       "    </tr>\n",
       "  </thead>\n",
       "  <tbody>\n",
       "    <tr>\n",
       "      <th>0</th>\n",
       "      <td>2012.08013</td>\n",
       "      <td>arXiv</td>\n",
       "      <td>0</td>\n",
       "      <td>None</td>\n",
       "      <td>None</td>\n",
       "      <td>abstract</td>\n",
       "      <td>The prevalence of ambiguous acronyms make sc...</td>\n",
       "      <td>abstract</td>\n",
       "      <td>We introduce new methods for acronym identific...</td>\n",
       "    </tr>\n",
       "    <tr>\n",
       "      <th>1</th>\n",
       "      <td>2012.08013</td>\n",
       "      <td>arXiv</td>\n",
       "      <td>1</td>\n",
       "      <td>abstract</td>\n",
       "      <td>The prevalence of ambiguous acronyms make sc...</td>\n",
       "      <td>abstract</td>\n",
       "      <td>We introduce new methods for acronym identific...</td>\n",
       "      <td>abstract</td>\n",
       "      <td>Both of our systems achieve significant perfor...</td>\n",
       "    </tr>\n",
       "    <tr>\n",
       "      <th>2</th>\n",
       "      <td>2012.08013</td>\n",
       "      <td>arXiv</td>\n",
       "      <td>2</td>\n",
       "      <td>abstract</td>\n",
       "      <td>We introduce new methods for acronym identific...</td>\n",
       "      <td>abstract</td>\n",
       "      <td>Both of our systems achieve significant perfor...</td>\n",
       "      <td>abstract</td>\n",
       "      <td>Our models were trained in part on new distant...</td>\n",
       "    </tr>\n",
       "    <tr>\n",
       "      <th>3</th>\n",
       "      <td>2012.08013</td>\n",
       "      <td>arXiv</td>\n",
       "      <td>3</td>\n",
       "      <td>abstract</td>\n",
       "      <td>Both of our systems achieve significant perfor...</td>\n",
       "      <td>abstract</td>\n",
       "      <td>Our models were trained in part on new distant...</td>\n",
       "      <td>abstract</td>\n",
       "      <td>We also identified a duplication conflict issu...</td>\n",
       "    </tr>\n",
       "    <tr>\n",
       "      <th>4</th>\n",
       "      <td>2012.08013</td>\n",
       "      <td>arXiv</td>\n",
       "      <td>4</td>\n",
       "      <td>abstract</td>\n",
       "      <td>Our models were trained in part on new distant...</td>\n",
       "      <td>abstract</td>\n",
       "      <td>We also identified a duplication conflict issu...</td>\n",
       "      <td>abstract</td>\n",
       "      <td>We publicly released all three of these datase...</td>\n",
       "    </tr>\n",
       "    <tr>\n",
       "      <th>...</th>\n",
       "      <td>...</td>\n",
       "      <td>...</td>\n",
       "      <td>...</td>\n",
       "      <td>...</td>\n",
       "      <td>...</td>\n",
       "      <td>...</td>\n",
       "      <td>...</td>\n",
       "      <td>...</td>\n",
       "      <td>...</td>\n",
       "    </tr>\n",
       "    <tr>\n",
       "      <th>1149</th>\n",
       "      <td>2211.05414</td>\n",
       "      <td>arXiv</td>\n",
       "      <td>228</td>\n",
       "      <td>Ethics Statement</td>\n",
       "      <td>In our paper, we discussed the usage of ADEPT ...</td>\n",
       "      <td>Ethics Statement</td>\n",
       "      <td>It is reasonable to have concerns that a binar...</td>\n",
       "      <td>Ethics Statement</td>\n",
       "      <td>Luckily, all pieces of ADEPT are directly exte...</td>\n",
       "    </tr>\n",
       "    <tr>\n",
       "      <th>1150</th>\n",
       "      <td>2211.05414</td>\n",
       "      <td>arXiv</td>\n",
       "      <td>229</td>\n",
       "      <td>Ethics Statement</td>\n",
       "      <td>It is reasonable to have concerns that a binar...</td>\n",
       "      <td>Ethics Statement</td>\n",
       "      <td>Luckily, all pieces of ADEPT are directly exte...</td>\n",
       "      <td>Ethics Statement</td>\n",
       "      <td>Unfortunately, we cannot ensure or contradict ...</td>\n",
       "    </tr>\n",
       "    <tr>\n",
       "      <th>1151</th>\n",
       "      <td>2211.05414</td>\n",
       "      <td>arXiv</td>\n",
       "      <td>230</td>\n",
       "      <td>Ethics Statement</td>\n",
       "      <td>Luckily, all pieces of ADEPT are directly exte...</td>\n",
       "      <td>Ethics Statement</td>\n",
       "      <td>Unfortunately, we cannot ensure or contradict ...</td>\n",
       "      <td>Ethics Statement</td>\n",
       "      <td>Goldfarb-Tarrant et al.</td>\n",
       "    </tr>\n",
       "    <tr>\n",
       "      <th>1152</th>\n",
       "      <td>2211.05414</td>\n",
       "      <td>arXiv</td>\n",
       "      <td>231</td>\n",
       "      <td>Ethics Statement</td>\n",
       "      <td>Unfortunately, we cannot ensure or contradict ...</td>\n",
       "      <td>Ethics Statement</td>\n",
       "      <td>Goldfarb-Tarrant et al.</td>\n",
       "      <td>Ethics Statement</td>\n",
       "      <td>(2020) makes an effort to deny the causality b...</td>\n",
       "    </tr>\n",
       "    <tr>\n",
       "      <th>1153</th>\n",
       "      <td>2211.05414</td>\n",
       "      <td>arXiv</td>\n",
       "      <td>232</td>\n",
       "      <td>Ethics Statement</td>\n",
       "      <td>Goldfarb-Tarrant et al.</td>\n",
       "      <td>Ethics Statement</td>\n",
       "      <td>(2020) makes an effort to deny the causality b...</td>\n",
       "      <td>None</td>\n",
       "      <td>None</td>\n",
       "    </tr>\n",
       "  </tbody>\n",
       "</table>\n",
       "<p>1154 rows × 9 columns</p>\n",
       "</div>"
      ],
      "text/plain": [
       "      article_id source  sent_id          prev_sec  \\\n",
       "0     2012.08013  arXiv        0              None   \n",
       "1     2012.08013  arXiv        1          abstract   \n",
       "2     2012.08013  arXiv        2          abstract   \n",
       "3     2012.08013  arXiv        3          abstract   \n",
       "4     2012.08013  arXiv        4          abstract   \n",
       "...          ...    ...      ...               ...   \n",
       "1149  2211.05414  arXiv      228  Ethics Statement   \n",
       "1150  2211.05414  arXiv      229  Ethics Statement   \n",
       "1151  2211.05414  arXiv      230  Ethics Statement   \n",
       "1152  2211.05414  arXiv      231  Ethics Statement   \n",
       "1153  2211.05414  arXiv      232  Ethics Statement   \n",
       "\n",
       "                                              prev_sent               sec  \\\n",
       "0                                                  None          abstract   \n",
       "1       The prevalence of ambiguous acronyms make sc...          abstract   \n",
       "2     We introduce new methods for acronym identific...          abstract   \n",
       "3     Both of our systems achieve significant perfor...          abstract   \n",
       "4     Our models were trained in part on new distant...          abstract   \n",
       "...                                                 ...               ...   \n",
       "1149  In our paper, we discussed the usage of ADEPT ...  Ethics Statement   \n",
       "1150  It is reasonable to have concerns that a binar...  Ethics Statement   \n",
       "1151  Luckily, all pieces of ADEPT are directly exte...  Ethics Statement   \n",
       "1152  Unfortunately, we cannot ensure or contradict ...  Ethics Statement   \n",
       "1153                            Goldfarb-Tarrant et al.  Ethics Statement   \n",
       "\n",
       "                                                   sent          next_sec  \\\n",
       "0       The prevalence of ambiguous acronyms make sc...          abstract   \n",
       "1     We introduce new methods for acronym identific...          abstract   \n",
       "2     Both of our systems achieve significant perfor...          abstract   \n",
       "3     Our models were trained in part on new distant...          abstract   \n",
       "4     We also identified a duplication conflict issu...          abstract   \n",
       "...                                                 ...               ...   \n",
       "1149  It is reasonable to have concerns that a binar...  Ethics Statement   \n",
       "1150  Luckily, all pieces of ADEPT are directly exte...  Ethics Statement   \n",
       "1151  Unfortunately, we cannot ensure or contradict ...  Ethics Statement   \n",
       "1152                            Goldfarb-Tarrant et al.  Ethics Statement   \n",
       "1153  (2020) makes an effort to deny the causality b...              None   \n",
       "\n",
       "                                              next_sent  \n",
       "0     We introduce new methods for acronym identific...  \n",
       "1     Both of our systems achieve significant perfor...  \n",
       "2     Our models were trained in part on new distant...  \n",
       "3     We also identified a duplication conflict issu...  \n",
       "4     We publicly released all three of these datase...  \n",
       "...                                                 ...  \n",
       "1149  Luckily, all pieces of ADEPT are directly exte...  \n",
       "1150  Unfortunately, we cannot ensure or contradict ...  \n",
       "1151                            Goldfarb-Tarrant et al.  \n",
       "1152  (2020) makes an effort to deny the causality b...  \n",
       "1153                                               None  \n",
       "\n",
       "[1154 rows x 9 columns]"
      ]
     },
     "execution_count": 22,
     "metadata": {},
     "output_type": "execute_result"
    }
   ],
   "source": [
    "import pandas as pd\n",
    "df_anno = pd.DataFrame(data)\n",
    "df_anno"
   ]
  },
  {
   "cell_type": "markdown",
   "metadata": {},
   "source": [
    "For arxiv papers, we'll redraw some articles to avoid them being part of the ACL Antho / being too recent."
   ]
  },
  {
   "cell_type": "code",
   "execution_count": 23,
   "metadata": {},
   "outputs": [],
   "source": [
    "# df_anno.to_csv(\"claims-to-annotate-10-papers.csv\", index = False)"
   ]
  },
  {
   "cell_type": "code",
   "execution_count": 26,
   "metadata": {},
   "outputs": [
    {
     "name": "stdout",
     "output_type": "stream",
     "text": [
      "['W17-4709' 'P18-1048' 'Y15-1047' 'N19-1358' '2020.signlang-1.20']\n"
     ]
    }
   ],
   "source": [
    "df_anno = pd.read_csv(\"claims-to-annotate-10-papers.csv\")\n",
    "df_anno = df_anno[df_anno[\"source\"] == \"ACL\"]\n",
    "random_acl = df_anno.article_id.unique()\n",
    "print(random_acl)"
   ]
  },
  {
   "cell_type": "code",
   "execution_count": 40,
   "metadata": {},
   "outputs": [
    {
     "data": {
      "text/plain": [
       "2023    8868\n",
       "2024    5198\n",
       "2022    4439\n",
       "2021    3906\n",
       "2020    3332\n",
       "2019    2480\n",
       "2018    1821\n",
       "2017    1247\n",
       "2016     922\n",
       "2015     468\n",
       "2014     291\n",
       "2008     238\n",
       "2007     190\n",
       "2013     161\n",
       "2012     124\n",
       "2011      46\n",
       "2009      46\n",
       "2010      40\n",
       "Name: update_year, dtype: int64"
      ]
     },
     "execution_count": 40,
     "metadata": {},
     "output_type": "execute_result"
    }
   ],
   "source": [
    "unpublished_NLP = pd.read_csv(\"arxiv-metadata-nlp-unpublished.csv\")\n",
    "unpublished_NLP[\"update_year\"] = unpublished_NLP[\"update_date\"].apply(lambda x: x[:4])\n",
    "unpublished_NLP[\"update_year\"] = unpublished_NLP[\"update_year\"].astype(int)\n",
    "unpublished_NLP[\"update_year\"].value_counts()"
   ]
  },
  {
   "cell_type": "code",
   "execution_count": 41,
   "metadata": {},
   "outputs": [
    {
     "name": "stdout",
     "output_type": "stream",
     "text": [
      "(511, 14)\n"
     ]
    }
   ],
   "source": [
    "unpublished_NLP_upto2022 = unpublished_NLP[unpublished_NLP[\"update_year\"]<2023]\n",
    "arxiv_df = pd.read_csv(\"arxiv-metadata-nlp-unpublished-sample-1000.csv\")\n",
    "arxiv_df = arxiv_df[arxiv_df[\"id\"].isin(set(unpublished_NLP_upto2022.id.values))]\n",
    "print(arxiv_df.shape)"
   ]
  },
  {
   "cell_type": "code",
   "execution_count": 55,
   "metadata": {},
   "outputs": [
    {
     "name": "stdout",
     "output_type": "stream",
     "text": [
      "['1605.05172', '2012.04584', '2103.14302', '1708.01009', '1611.08765']\n",
      "['2020.signlang-1.20', 'W17-4709', 'N19-1358', '2103.14302', 'Y15-1047', 'P18-1048', '1708.01009', '1611.08765', '1605.05172', '2012.04584']\n"
     ]
    }
   ],
   "source": [
    "import random\n",
    "random.seed(23)\n",
    "random_arxiv = random.sample(list(arxiv_df[\"id\"]), 5)\n",
    "print(random_arxiv)\n",
    "\n",
    "random_idx = random_arxiv + list(random_acl)\n",
    "random.shuffle(random_idx)\n",
    "print(random_idx)\n",
    "\n",
    "data = []\n",
    "for idx in random_idx:\n",
    "    if idx in random_arxiv:\n",
    "        p = corpus_arxiv.get_paper_by_id(idx)\n",
    "\n",
    "        contents = p.content[[\"sentence\", \"section\", \"id\", \"candidate\"]].values\n",
    "        for i, row in enumerate(contents):\n",
    "            if row[3] == True:\n",
    "                # catch the previous sentence\n",
    "                if i == 0:\n",
    "                    prev_sec, prev_sent = None, None\n",
    "                else:\n",
    "                    prev_sec, prev_sent = contents[i-1][1], contents[i-1][0]\n",
    "\n",
    "                # current sentence (the one to annotate)\n",
    "                sec, sent = row[1], row[0]\n",
    "\n",
    "                # catch the next sentence\n",
    "                if i == len(contents) - 1:\n",
    "                    next_sec, next_sent = None, None\n",
    "                else:\n",
    "                    next_sec, next_sent = contents[i+1][1], contents[i+1][0]\n",
    "\n",
    "                data.append({\"article-title\": p.title, \"article_id\": p.id, \"source\": p.corpus.name, \"sent_id\": row[2], \"prev_sec\": prev_sec, \"prev_sent\": prev_sent, \"sec\": sec, \"sent\": sent, \"next_sec\": next_sec, \"next_sent\": next_sent})\n",
    "\n",
    "    else:\n",
    "        rows = df_anno[df_anno[\"article_id\"] == idx]\n",
    "        for i, row in rows.iterrows():\n",
    "            data.append({\"article-title\": \"\", \"article_id\": row[\"article_id\"], \"source\": \"ACL\", \"sent_id\": row[\"sent_id\"], \"prev_sec\": row[\"prev_sec\"], \"prev_sent\": row[\"prev_sent\"], \"sec\": row[\"sec\"], \"sent\": row[\"sent\"], \"next_sec\": row[\"next_sec\"], \"next_sent\": row[\"next_sent\"]})\n"
   ]
  },
  {
   "cell_type": "code",
   "execution_count": 56,
   "metadata": {},
   "outputs": [
    {
     "data": {
      "text/html": [
       "<div>\n",
       "<style scoped>\n",
       "    .dataframe tbody tr th:only-of-type {\n",
       "        vertical-align: middle;\n",
       "    }\n",
       "\n",
       "    .dataframe tbody tr th {\n",
       "        vertical-align: top;\n",
       "    }\n",
       "\n",
       "    .dataframe thead th {\n",
       "        text-align: right;\n",
       "    }\n",
       "</style>\n",
       "<table border=\"1\" class=\"dataframe\">\n",
       "  <thead>\n",
       "    <tr style=\"text-align: right;\">\n",
       "      <th></th>\n",
       "      <th>article-title</th>\n",
       "      <th>article_id</th>\n",
       "      <th>source</th>\n",
       "      <th>sent_id</th>\n",
       "      <th>prev_sec</th>\n",
       "      <th>prev_sent</th>\n",
       "      <th>sec</th>\n",
       "      <th>sent</th>\n",
       "      <th>next_sec</th>\n",
       "      <th>next_sent</th>\n",
       "    </tr>\n",
       "  </thead>\n",
       "  <tbody>\n",
       "    <tr>\n",
       "      <th>0</th>\n",
       "      <td></td>\n",
       "      <td>2020.signlang-1.20</td>\n",
       "      <td>ACL</td>\n",
       "      <td>0</td>\n",
       "      <td>NaN</td>\n",
       "      <td>NaN</td>\n",
       "      <td>abstract</td>\n",
       "      <td>In this paper we report on a research effort f...</td>\n",
       "      <td>abstract</td>\n",
       "      <td>Three sequential models have been developed fo...</td>\n",
       "    </tr>\n",
       "    <tr>\n",
       "      <th>1</th>\n",
       "      <td></td>\n",
       "      <td>2020.signlang-1.20</td>\n",
       "      <td>ACL</td>\n",
       "      <td>1</td>\n",
       "      <td>abstract</td>\n",
       "      <td>In this paper we report on a research effort f...</td>\n",
       "      <td>abstract</td>\n",
       "      <td>Three sequential models have been developed fo...</td>\n",
       "      <td>abstract</td>\n",
       "      <td>The models have been applied to a Danish and a...</td>\n",
       "    </tr>\n",
       "    <tr>\n",
       "      <th>2</th>\n",
       "      <td></td>\n",
       "      <td>2020.signlang-1.20</td>\n",
       "      <td>ACL</td>\n",
       "      <td>2</td>\n",
       "      <td>abstract</td>\n",
       "      <td>Three sequential models have been developed fo...</td>\n",
       "      <td>abstract</td>\n",
       "      <td>The models have been applied to a Danish and a...</td>\n",
       "      <td>abstract</td>\n",
       "      <td>Moreover, during the reported research, a meth...</td>\n",
       "    </tr>\n",
       "    <tr>\n",
       "      <th>3</th>\n",
       "      <td></td>\n",
       "      <td>2020.signlang-1.20</td>\n",
       "      <td>ACL</td>\n",
       "      <td>3</td>\n",
       "      <td>abstract</td>\n",
       "      <td>The models have been applied to a Danish and a...</td>\n",
       "      <td>abstract</td>\n",
       "      <td>Moreover, during the reported research, a meth...</td>\n",
       "      <td>Introduction</td>\n",
       "      <td>One of the problems relating to sign language ...</td>\n",
       "    </tr>\n",
       "    <tr>\n",
       "      <th>4</th>\n",
       "      <td></td>\n",
       "      <td>2020.signlang-1.20</td>\n",
       "      <td>ACL</td>\n",
       "      <td>4</td>\n",
       "      <td>abstract</td>\n",
       "      <td>Moreover, during the reported research, a meth...</td>\n",
       "      <td>Introduction</td>\n",
       "      <td>One of the problems relating to sign language ...</td>\n",
       "      <td>Introduction</td>\n",
       "      <td>Therefore, most data collections contain a ver...</td>\n",
       "    </tr>\n",
       "    <tr>\n",
       "      <th>...</th>\n",
       "      <td>...</td>\n",
       "      <td>...</td>\n",
       "      <td>...</td>\n",
       "      <td>...</td>\n",
       "      <td>...</td>\n",
       "      <td>...</td>\n",
       "      <td>...</td>\n",
       "      <td>...</td>\n",
       "      <td>...</td>\n",
       "      <td>...</td>\n",
       "    </tr>\n",
       "    <tr>\n",
       "      <th>982</th>\n",
       "      <td>Distilling Knowledge from Reader to Retriever ...</td>\n",
       "      <td>2012.04584</td>\n",
       "      <td>arXiv</td>\n",
       "      <td>230</td>\n",
       "      <td>CONCLUSION</td>\n",
       "      <td>In this paper, we introduce a method to train ...</td>\n",
       "      <td>CONCLUSION</td>\n",
       "      <td>Our approach is inspired by knowledge distilla...</td>\n",
       "      <td>CONCLUSION</td>\n",
       "      <td>In particular, we use the cross-attention scor...</td>\n",
       "    </tr>\n",
       "    <tr>\n",
       "      <th>983</th>\n",
       "      <td>Distilling Knowledge from Reader to Retriever ...</td>\n",
       "      <td>2012.04584</td>\n",
       "      <td>arXiv</td>\n",
       "      <td>231</td>\n",
       "      <td>CONCLUSION</td>\n",
       "      <td>Our approach is inspired by knowledge distilla...</td>\n",
       "      <td>CONCLUSION</td>\n",
       "      <td>In particular, we use the cross-attention scor...</td>\n",
       "      <td>CONCLUSION</td>\n",
       "      <td>We compare different ways to aggregate the sco...</td>\n",
       "    </tr>\n",
       "    <tr>\n",
       "      <th>984</th>\n",
       "      <td>Distilling Knowledge from Reader to Retriever ...</td>\n",
       "      <td>2012.04584</td>\n",
       "      <td>arXiv</td>\n",
       "      <td>232</td>\n",
       "      <td>CONCLUSION</td>\n",
       "      <td>In particular, we use the cross-attention scor...</td>\n",
       "      <td>CONCLUSION</td>\n",
       "      <td>We compare different ways to aggregate the sco...</td>\n",
       "      <td>CONCLUSION</td>\n",
       "      <td>We show that iteratively training the reader a...</td>\n",
       "    </tr>\n",
       "    <tr>\n",
       "      <th>985</th>\n",
       "      <td>Distilling Knowledge from Reader to Retriever ...</td>\n",
       "      <td>2012.04584</td>\n",
       "      <td>arXiv</td>\n",
       "      <td>233</td>\n",
       "      <td>CONCLUSION</td>\n",
       "      <td>We compare different ways to aggregate the sco...</td>\n",
       "      <td>CONCLUSION</td>\n",
       "      <td>We show that iteratively training the reader a...</td>\n",
       "      <td>CONCLUSION</td>\n",
       "      <td>In the future, we would like to explore better...</td>\n",
       "    </tr>\n",
       "    <tr>\n",
       "      <th>986</th>\n",
       "      <td>Distilling Knowledge from Reader to Retriever ...</td>\n",
       "      <td>2012.04584</td>\n",
       "      <td>arXiv</td>\n",
       "      <td>234</td>\n",
       "      <td>CONCLUSION</td>\n",
       "      <td>We show that iteratively training the reader a...</td>\n",
       "      <td>CONCLUSION</td>\n",
       "      <td>In the future, we would like to explore better...</td>\n",
       "      <td>None</td>\n",
       "      <td>None</td>\n",
       "    </tr>\n",
       "  </tbody>\n",
       "</table>\n",
       "<p>987 rows × 10 columns</p>\n",
       "</div>"
      ],
      "text/plain": [
       "                                         article-title          article_id  \\\n",
       "0                                                       2020.signlang-1.20   \n",
       "1                                                       2020.signlang-1.20   \n",
       "2                                                       2020.signlang-1.20   \n",
       "3                                                       2020.signlang-1.20   \n",
       "4                                                       2020.signlang-1.20   \n",
       "..                                                 ...                 ...   \n",
       "982  Distilling Knowledge from Reader to Retriever ...          2012.04584   \n",
       "983  Distilling Knowledge from Reader to Retriever ...          2012.04584   \n",
       "984  Distilling Knowledge from Reader to Retriever ...          2012.04584   \n",
       "985  Distilling Knowledge from Reader to Retriever ...          2012.04584   \n",
       "986  Distilling Knowledge from Reader to Retriever ...          2012.04584   \n",
       "\n",
       "    source  sent_id    prev_sec  \\\n",
       "0      ACL        0         NaN   \n",
       "1      ACL        1    abstract   \n",
       "2      ACL        2    abstract   \n",
       "3      ACL        3    abstract   \n",
       "4      ACL        4    abstract   \n",
       "..     ...      ...         ...   \n",
       "982  arXiv      230  CONCLUSION   \n",
       "983  arXiv      231  CONCLUSION   \n",
       "984  arXiv      232  CONCLUSION   \n",
       "985  arXiv      233  CONCLUSION   \n",
       "986  arXiv      234  CONCLUSION   \n",
       "\n",
       "                                             prev_sent           sec  \\\n",
       "0                                                  NaN      abstract   \n",
       "1    In this paper we report on a research effort f...      abstract   \n",
       "2    Three sequential models have been developed fo...      abstract   \n",
       "3    The models have been applied to a Danish and a...      abstract   \n",
       "4    Moreover, during the reported research, a meth...  Introduction   \n",
       "..                                                 ...           ...   \n",
       "982  In this paper, we introduce a method to train ...    CONCLUSION   \n",
       "983  Our approach is inspired by knowledge distilla...    CONCLUSION   \n",
       "984  In particular, we use the cross-attention scor...    CONCLUSION   \n",
       "985  We compare different ways to aggregate the sco...    CONCLUSION   \n",
       "986  We show that iteratively training the reader a...    CONCLUSION   \n",
       "\n",
       "                                                  sent      next_sec  \\\n",
       "0    In this paper we report on a research effort f...      abstract   \n",
       "1    Three sequential models have been developed fo...      abstract   \n",
       "2    The models have been applied to a Danish and a...      abstract   \n",
       "3    Moreover, during the reported research, a meth...  Introduction   \n",
       "4    One of the problems relating to sign language ...  Introduction   \n",
       "..                                                 ...           ...   \n",
       "982  Our approach is inspired by knowledge distilla...    CONCLUSION   \n",
       "983  In particular, we use the cross-attention scor...    CONCLUSION   \n",
       "984  We compare different ways to aggregate the sco...    CONCLUSION   \n",
       "985  We show that iteratively training the reader a...    CONCLUSION   \n",
       "986  In the future, we would like to explore better...          None   \n",
       "\n",
       "                                             next_sent  \n",
       "0    Three sequential models have been developed fo...  \n",
       "1    The models have been applied to a Danish and a...  \n",
       "2    Moreover, during the reported research, a meth...  \n",
       "3    One of the problems relating to sign language ...  \n",
       "4    Therefore, most data collections contain a ver...  \n",
       "..                                                 ...  \n",
       "982  In particular, we use the cross-attention scor...  \n",
       "983  We compare different ways to aggregate the sco...  \n",
       "984  We show that iteratively training the reader a...  \n",
       "985  In the future, we would like to explore better...  \n",
       "986                                               None  \n",
       "\n",
       "[987 rows x 10 columns]"
      ]
     },
     "execution_count": 56,
     "metadata": {},
     "output_type": "execute_result"
    }
   ],
   "source": [
    "df = pd.DataFrame(data)\n",
    "df"
   ]
  },
  {
   "cell_type": "code",
   "execution_count": 57,
   "metadata": {},
   "outputs": [
    {
     "data": {
      "text/plain": [
       "{'W17-4709': 'Tree as a Pivot: Syntactic Matching Methods in Pivot Translation',\n",
       " 'P18-1048': 'Self-regulation: Employing a Generative Adversarial Network to Improve Event Detection',\n",
       " 'Y15-1047': 'Not Voice but Case Identity in {VP} Ellipsis of {E}nglish',\n",
       " 'N19-1358': 'Playing Text-Adventure Games with Graph-Based Deep Reinforcement Learning',\n",
       " '2020.signlang-1.20': 'Recognition of Static Features in Sign Language Using Key-Points'}"
      ]
     },
     "execution_count": 57,
     "metadata": {},
     "output_type": "execute_result"
    }
   ],
   "source": [
    "df_acl = pd.read_pickle(\"acl-metadata-sample-1000.pkl\")\n",
    "id2titles = {}\n",
    "for idx in random_acl:\n",
    "    id2titles[idx] = df_acl[df_acl[\"acl_id\"] == idx].title.values[0]\n",
    "\n",
    "id2titles"
   ]
  },
  {
   "cell_type": "code",
   "execution_count": 58,
   "metadata": {},
   "outputs": [
    {
     "data": {
      "text/plain": [
       "article-title\n",
       "Not Voice but Case Identity in {VP} Ellipsis of {E}nglish                                     183\n",
       "Fill it up: Exploiting partial dependency annotations in a minimum\\n  spanning tree parser    141\n",
       "Self-regulation: Employing a Generative Adversarial Network to Improve Event Detection        136\n",
       "Playing Text-Adventure Games with Graph-Based Deep Reinforcement Learning                     112\n",
       "Siamese convolutional networks based on phonetic features for cognate\\n  identification       103\n",
       "Tree as a Pivot: Syntactic Matching Methods in Pivot Translation                               92\n",
       "Revisiting Activation Regularization for Language RNNs                                         76\n",
       "Distilling Knowledge from Reader to Retriever for Question Answering                           66\n",
       "Mutually-Constrained Monotonic Multihead Attention for Online ASR                              61\n",
       "Recognition of Static Features in Sign Language Using Key-Points                               17\n",
       "dtype: int64"
      ]
     },
     "execution_count": 58,
     "metadata": {},
     "output_type": "execute_result"
    }
   ],
   "source": [
    "for idx in random_acl:\n",
    "    # assign the title\n",
    "    df.loc[df[\"article_id\"] == idx, \"article-title\"] = id2titles[idx]\n",
    "df.value_counts(\"article-title\")"
   ]
  },
  {
   "cell_type": "code",
   "execution_count": 60,
   "metadata": {},
   "outputs": [
    {
     "data": {
      "text/html": [
       "<div>\n",
       "<style scoped>\n",
       "    .dataframe tbody tr th:only-of-type {\n",
       "        vertical-align: middle;\n",
       "    }\n",
       "\n",
       "    .dataframe tbody tr th {\n",
       "        vertical-align: top;\n",
       "    }\n",
       "\n",
       "    .dataframe thead th {\n",
       "        text-align: right;\n",
       "    }\n",
       "</style>\n",
       "<table border=\"1\" class=\"dataframe\">\n",
       "  <thead>\n",
       "    <tr style=\"text-align: right;\">\n",
       "      <th></th>\n",
       "      <th>article-title</th>\n",
       "      <th>article_id</th>\n",
       "      <th>source</th>\n",
       "      <th>sent_id</th>\n",
       "      <th>prev_sec</th>\n",
       "      <th>prev_sent</th>\n",
       "      <th>sec</th>\n",
       "      <th>sent</th>\n",
       "      <th>next_sec</th>\n",
       "      <th>next_sent</th>\n",
       "    </tr>\n",
       "  </thead>\n",
       "  <tbody>\n",
       "    <tr>\n",
       "      <th>0</th>\n",
       "      <td>Recognition of Static Features in Sign Languag...</td>\n",
       "      <td>2020.signlang-1.20</td>\n",
       "      <td>ACL</td>\n",
       "      <td>0</td>\n",
       "      <td>NaN</td>\n",
       "      <td>NaN</td>\n",
       "      <td>abstract</td>\n",
       "      <td>In this paper we report on a research effort f...</td>\n",
       "      <td>abstract</td>\n",
       "      <td>Three sequential models have been developed fo...</td>\n",
       "    </tr>\n",
       "    <tr>\n",
       "      <th>1</th>\n",
       "      <td>Recognition of Static Features in Sign Languag...</td>\n",
       "      <td>2020.signlang-1.20</td>\n",
       "      <td>ACL</td>\n",
       "      <td>1</td>\n",
       "      <td>abstract</td>\n",
       "      <td>In this paper we report on a research effort f...</td>\n",
       "      <td>abstract</td>\n",
       "      <td>Three sequential models have been developed fo...</td>\n",
       "      <td>abstract</td>\n",
       "      <td>The models have been applied to a Danish and a...</td>\n",
       "    </tr>\n",
       "    <tr>\n",
       "      <th>2</th>\n",
       "      <td>Recognition of Static Features in Sign Languag...</td>\n",
       "      <td>2020.signlang-1.20</td>\n",
       "      <td>ACL</td>\n",
       "      <td>2</td>\n",
       "      <td>abstract</td>\n",
       "      <td>Three sequential models have been developed fo...</td>\n",
       "      <td>abstract</td>\n",
       "      <td>The models have been applied to a Danish and a...</td>\n",
       "      <td>abstract</td>\n",
       "      <td>Moreover, during the reported research, a meth...</td>\n",
       "    </tr>\n",
       "    <tr>\n",
       "      <th>3</th>\n",
       "      <td>Recognition of Static Features in Sign Languag...</td>\n",
       "      <td>2020.signlang-1.20</td>\n",
       "      <td>ACL</td>\n",
       "      <td>3</td>\n",
       "      <td>abstract</td>\n",
       "      <td>The models have been applied to a Danish and a...</td>\n",
       "      <td>abstract</td>\n",
       "      <td>Moreover, during the reported research, a meth...</td>\n",
       "      <td>Introduction</td>\n",
       "      <td>One of the problems relating to sign language ...</td>\n",
       "    </tr>\n",
       "    <tr>\n",
       "      <th>4</th>\n",
       "      <td>Recognition of Static Features in Sign Languag...</td>\n",
       "      <td>2020.signlang-1.20</td>\n",
       "      <td>ACL</td>\n",
       "      <td>4</td>\n",
       "      <td>abstract</td>\n",
       "      <td>Moreover, during the reported research, a meth...</td>\n",
       "      <td>Introduction</td>\n",
       "      <td>One of the problems relating to sign language ...</td>\n",
       "      <td>Introduction</td>\n",
       "      <td>Therefore, most data collections contain a ver...</td>\n",
       "    </tr>\n",
       "  </tbody>\n",
       "</table>\n",
       "</div>"
      ],
      "text/plain": [
       "                                       article-title          article_id  \\\n",
       "0  Recognition of Static Features in Sign Languag...  2020.signlang-1.20   \n",
       "1  Recognition of Static Features in Sign Languag...  2020.signlang-1.20   \n",
       "2  Recognition of Static Features in Sign Languag...  2020.signlang-1.20   \n",
       "3  Recognition of Static Features in Sign Languag...  2020.signlang-1.20   \n",
       "4  Recognition of Static Features in Sign Languag...  2020.signlang-1.20   \n",
       "\n",
       "  source  sent_id  prev_sec  \\\n",
       "0    ACL        0       NaN   \n",
       "1    ACL        1  abstract   \n",
       "2    ACL        2  abstract   \n",
       "3    ACL        3  abstract   \n",
       "4    ACL        4  abstract   \n",
       "\n",
       "                                           prev_sent           sec  \\\n",
       "0                                                NaN      abstract   \n",
       "1  In this paper we report on a research effort f...      abstract   \n",
       "2  Three sequential models have been developed fo...      abstract   \n",
       "3  The models have been applied to a Danish and a...      abstract   \n",
       "4  Moreover, during the reported research, a meth...  Introduction   \n",
       "\n",
       "                                                sent      next_sec  \\\n",
       "0  In this paper we report on a research effort f...      abstract   \n",
       "1  Three sequential models have been developed fo...      abstract   \n",
       "2  The models have been applied to a Danish and a...      abstract   \n",
       "3  Moreover, during the reported research, a meth...  Introduction   \n",
       "4  One of the problems relating to sign language ...  Introduction   \n",
       "\n",
       "                                           next_sent  \n",
       "0  Three sequential models have been developed fo...  \n",
       "1  The models have been applied to a Danish and a...  \n",
       "2  Moreover, during the reported research, a meth...  \n",
       "3  One of the problems relating to sign language ...  \n",
       "4  Therefore, most data collections contain a ver...  "
      ]
     },
     "execution_count": 60,
     "metadata": {},
     "output_type": "execute_result"
    }
   ],
   "source": [
    "df.head()"
   ]
  },
  {
   "cell_type": "code",
   "execution_count": 70,
   "metadata": {},
   "outputs": [],
   "source": [
    "doccano_id2article_id = {i:idx for i, idx in enumerate(random_idx)}\n",
    "article_id2doccano_id = {idx:i for i, idx in enumerate(random_idx)}"
   ]
  },
  {
   "cell_type": "code",
   "execution_count": 78,
   "metadata": {},
   "outputs": [
    {
     "data": {
      "text/html": [
       "<div>\n",
       "<style scoped>\n",
       "    .dataframe tbody tr th:only-of-type {\n",
       "        vertical-align: middle;\n",
       "    }\n",
       "\n",
       "    .dataframe tbody tr th {\n",
       "        vertical-align: top;\n",
       "    }\n",
       "\n",
       "    .dataframe thead th {\n",
       "        text-align: right;\n",
       "    }\n",
       "</style>\n",
       "<table border=\"1\" class=\"dataframe\">\n",
       "  <thead>\n",
       "    <tr style=\"text-align: right;\">\n",
       "      <th></th>\n",
       "      <th>article-title</th>\n",
       "      <th>article_id</th>\n",
       "      <th>source</th>\n",
       "      <th>sent_id</th>\n",
       "      <th>prev_sec</th>\n",
       "      <th>prev_sent</th>\n",
       "      <th>sec</th>\n",
       "      <th>sent</th>\n",
       "      <th>next_sec</th>\n",
       "      <th>next_sent</th>\n",
       "      <th>article_id-d</th>\n",
       "    </tr>\n",
       "  </thead>\n",
       "  <tbody>\n",
       "    <tr>\n",
       "      <th>0</th>\n",
       "      <td>Recognition of Static Features in Sign Languag...</td>\n",
       "      <td>2020.signlang-1.20</td>\n",
       "      <td>ACL</td>\n",
       "      <td>0</td>\n",
       "      <td>NaN</td>\n",
       "      <td>NaN</td>\n",
       "      <td>abstract</td>\n",
       "      <td>In this paper we report on a research effort f...</td>\n",
       "      <td>abstract</td>\n",
       "      <td>Three sequential models have been developed fo...</td>\n",
       "      <td>0</td>\n",
       "    </tr>\n",
       "    <tr>\n",
       "      <th>1</th>\n",
       "      <td>Recognition of Static Features in Sign Languag...</td>\n",
       "      <td>2020.signlang-1.20</td>\n",
       "      <td>ACL</td>\n",
       "      <td>1</td>\n",
       "      <td>abstract</td>\n",
       "      <td>In this paper we report on a research effort f...</td>\n",
       "      <td>abstract</td>\n",
       "      <td>Three sequential models have been developed fo...</td>\n",
       "      <td>abstract</td>\n",
       "      <td>The models have been applied to a Danish and a...</td>\n",
       "      <td>0</td>\n",
       "    </tr>\n",
       "    <tr>\n",
       "      <th>2</th>\n",
       "      <td>Recognition of Static Features in Sign Languag...</td>\n",
       "      <td>2020.signlang-1.20</td>\n",
       "      <td>ACL</td>\n",
       "      <td>2</td>\n",
       "      <td>abstract</td>\n",
       "      <td>Three sequential models have been developed fo...</td>\n",
       "      <td>abstract</td>\n",
       "      <td>The models have been applied to a Danish and a...</td>\n",
       "      <td>abstract</td>\n",
       "      <td>Moreover, during the reported research, a meth...</td>\n",
       "      <td>0</td>\n",
       "    </tr>\n",
       "    <tr>\n",
       "      <th>3</th>\n",
       "      <td>Recognition of Static Features in Sign Languag...</td>\n",
       "      <td>2020.signlang-1.20</td>\n",
       "      <td>ACL</td>\n",
       "      <td>3</td>\n",
       "      <td>abstract</td>\n",
       "      <td>The models have been applied to a Danish and a...</td>\n",
       "      <td>abstract</td>\n",
       "      <td>Moreover, during the reported research, a meth...</td>\n",
       "      <td>Introduction</td>\n",
       "      <td>One of the problems relating to sign language ...</td>\n",
       "      <td>0</td>\n",
       "    </tr>\n",
       "    <tr>\n",
       "      <th>4</th>\n",
       "      <td>Recognition of Static Features in Sign Languag...</td>\n",
       "      <td>2020.signlang-1.20</td>\n",
       "      <td>ACL</td>\n",
       "      <td>4</td>\n",
       "      <td>abstract</td>\n",
       "      <td>Moreover, during the reported research, a meth...</td>\n",
       "      <td>Introduction</td>\n",
       "      <td>One of the problems relating to sign language ...</td>\n",
       "      <td>Introduction</td>\n",
       "      <td>Therefore, most data collections contain a ver...</td>\n",
       "      <td>0</td>\n",
       "    </tr>\n",
       "    <tr>\n",
       "      <th>...</th>\n",
       "      <td>...</td>\n",
       "      <td>...</td>\n",
       "      <td>...</td>\n",
       "      <td>...</td>\n",
       "      <td>...</td>\n",
       "      <td>...</td>\n",
       "      <td>...</td>\n",
       "      <td>...</td>\n",
       "      <td>...</td>\n",
       "      <td>...</td>\n",
       "      <td>...</td>\n",
       "    </tr>\n",
       "    <tr>\n",
       "      <th>982</th>\n",
       "      <td>Distilling Knowledge from Reader to Retriever ...</td>\n",
       "      <td>2012.04584</td>\n",
       "      <td>arXiv</td>\n",
       "      <td>230</td>\n",
       "      <td>CONCLUSION</td>\n",
       "      <td>In this paper, we introduce a method to train ...</td>\n",
       "      <td>CONCLUSION</td>\n",
       "      <td>Our approach is inspired by knowledge distilla...</td>\n",
       "      <td>CONCLUSION</td>\n",
       "      <td>In particular, we use the cross-attention scor...</td>\n",
       "      <td>9</td>\n",
       "    </tr>\n",
       "    <tr>\n",
       "      <th>983</th>\n",
       "      <td>Distilling Knowledge from Reader to Retriever ...</td>\n",
       "      <td>2012.04584</td>\n",
       "      <td>arXiv</td>\n",
       "      <td>231</td>\n",
       "      <td>CONCLUSION</td>\n",
       "      <td>Our approach is inspired by knowledge distilla...</td>\n",
       "      <td>CONCLUSION</td>\n",
       "      <td>In particular, we use the cross-attention scor...</td>\n",
       "      <td>CONCLUSION</td>\n",
       "      <td>We compare different ways to aggregate the sco...</td>\n",
       "      <td>9</td>\n",
       "    </tr>\n",
       "    <tr>\n",
       "      <th>984</th>\n",
       "      <td>Distilling Knowledge from Reader to Retriever ...</td>\n",
       "      <td>2012.04584</td>\n",
       "      <td>arXiv</td>\n",
       "      <td>232</td>\n",
       "      <td>CONCLUSION</td>\n",
       "      <td>In particular, we use the cross-attention scor...</td>\n",
       "      <td>CONCLUSION</td>\n",
       "      <td>We compare different ways to aggregate the sco...</td>\n",
       "      <td>CONCLUSION</td>\n",
       "      <td>We show that iteratively training the reader a...</td>\n",
       "      <td>9</td>\n",
       "    </tr>\n",
       "    <tr>\n",
       "      <th>985</th>\n",
       "      <td>Distilling Knowledge from Reader to Retriever ...</td>\n",
       "      <td>2012.04584</td>\n",
       "      <td>arXiv</td>\n",
       "      <td>233</td>\n",
       "      <td>CONCLUSION</td>\n",
       "      <td>We compare different ways to aggregate the sco...</td>\n",
       "      <td>CONCLUSION</td>\n",
       "      <td>We show that iteratively training the reader a...</td>\n",
       "      <td>CONCLUSION</td>\n",
       "      <td>In the future, we would like to explore better...</td>\n",
       "      <td>9</td>\n",
       "    </tr>\n",
       "    <tr>\n",
       "      <th>986</th>\n",
       "      <td>Distilling Knowledge from Reader to Retriever ...</td>\n",
       "      <td>2012.04584</td>\n",
       "      <td>arXiv</td>\n",
       "      <td>234</td>\n",
       "      <td>CONCLUSION</td>\n",
       "      <td>We show that iteratively training the reader a...</td>\n",
       "      <td>CONCLUSION</td>\n",
       "      <td>In the future, we would like to explore better...</td>\n",
       "      <td>NaN</td>\n",
       "      <td>NaN</td>\n",
       "      <td>9</td>\n",
       "    </tr>\n",
       "  </tbody>\n",
       "</table>\n",
       "<p>987 rows × 11 columns</p>\n",
       "</div>"
      ],
      "text/plain": [
       "                                         article-title          article_id  \\\n",
       "0    Recognition of Static Features in Sign Languag...  2020.signlang-1.20   \n",
       "1    Recognition of Static Features in Sign Languag...  2020.signlang-1.20   \n",
       "2    Recognition of Static Features in Sign Languag...  2020.signlang-1.20   \n",
       "3    Recognition of Static Features in Sign Languag...  2020.signlang-1.20   \n",
       "4    Recognition of Static Features in Sign Languag...  2020.signlang-1.20   \n",
       "..                                                 ...                 ...   \n",
       "982  Distilling Knowledge from Reader to Retriever ...          2012.04584   \n",
       "983  Distilling Knowledge from Reader to Retriever ...          2012.04584   \n",
       "984  Distilling Knowledge from Reader to Retriever ...          2012.04584   \n",
       "985  Distilling Knowledge from Reader to Retriever ...          2012.04584   \n",
       "986  Distilling Knowledge from Reader to Retriever ...          2012.04584   \n",
       "\n",
       "    source  sent_id    prev_sec  \\\n",
       "0      ACL        0         NaN   \n",
       "1      ACL        1    abstract   \n",
       "2      ACL        2    abstract   \n",
       "3      ACL        3    abstract   \n",
       "4      ACL        4    abstract   \n",
       "..     ...      ...         ...   \n",
       "982  arXiv      230  CONCLUSION   \n",
       "983  arXiv      231  CONCLUSION   \n",
       "984  arXiv      232  CONCLUSION   \n",
       "985  arXiv      233  CONCLUSION   \n",
       "986  arXiv      234  CONCLUSION   \n",
       "\n",
       "                                             prev_sent           sec  \\\n",
       "0                                                  NaN      abstract   \n",
       "1    In this paper we report on a research effort f...      abstract   \n",
       "2    Three sequential models have been developed fo...      abstract   \n",
       "3    The models have been applied to a Danish and a...      abstract   \n",
       "4    Moreover, during the reported research, a meth...  Introduction   \n",
       "..                                                 ...           ...   \n",
       "982  In this paper, we introduce a method to train ...    CONCLUSION   \n",
       "983  Our approach is inspired by knowledge distilla...    CONCLUSION   \n",
       "984  In particular, we use the cross-attention scor...    CONCLUSION   \n",
       "985  We compare different ways to aggregate the sco...    CONCLUSION   \n",
       "986  We show that iteratively training the reader a...    CONCLUSION   \n",
       "\n",
       "                                                  sent      next_sec  \\\n",
       "0    In this paper we report on a research effort f...      abstract   \n",
       "1    Three sequential models have been developed fo...      abstract   \n",
       "2    The models have been applied to a Danish and a...      abstract   \n",
       "3    Moreover, during the reported research, a meth...  Introduction   \n",
       "4    One of the problems relating to sign language ...  Introduction   \n",
       "..                                                 ...           ...   \n",
       "982  Our approach is inspired by knowledge distilla...    CONCLUSION   \n",
       "983  In particular, we use the cross-attention scor...    CONCLUSION   \n",
       "984  We compare different ways to aggregate the sco...    CONCLUSION   \n",
       "985  We show that iteratively training the reader a...    CONCLUSION   \n",
       "986  In the future, we would like to explore better...           NaN   \n",
       "\n",
       "                                             next_sent  article_id-d  \n",
       "0    Three sequential models have been developed fo...             0  \n",
       "1    The models have been applied to a Danish and a...             0  \n",
       "2    Moreover, during the reported research, a meth...             0  \n",
       "3    One of the problems relating to sign language ...             0  \n",
       "4    Therefore, most data collections contain a ver...             0  \n",
       "..                                                 ...           ...  \n",
       "982  In particular, we use the cross-attention scor...             9  \n",
       "983  We compare different ways to aggregate the sco...             9  \n",
       "984  We show that iteratively training the reader a...             9  \n",
       "985  In the future, we would like to explore better...             9  \n",
       "986                                                NaN             9  \n",
       "\n",
       "[987 rows x 11 columns]"
      ]
     },
     "execution_count": 78,
     "metadata": {},
     "output_type": "execute_result"
    }
   ],
   "source": [
    "df[\"article_id-d\"] = df[\"article_id\"].apply(lambda x: article_id2doccano_id[x])\n",
    "df"
   ]
  },
  {
   "cell_type": "code",
   "execution_count": 80,
   "metadata": {},
   "outputs": [],
   "source": [
    "df.to_csv(\"claims-to-annotate-10-papers-fulldoc.csv\", index = False)\n",
    "df = pd.read_csv(\"claims-to-annotate-10-papers-fulldoc.csv\")"
   ]
  },
  {
   "cell_type": "code",
   "execution_count": 73,
   "metadata": {},
   "outputs": [],
   "source": [
    "# save doccano_id2article_id as a json file\n",
    "import json\n",
    "with open(\"doccano_id2article_id-10-article.json\", \"w\") as f:\n",
    "    json.dump(doccano_id2article_id, f)"
   ]
  },
  {
   "cell_type": "code",
   "execution_count": 89,
   "metadata": {},
   "outputs": [
    {
     "name": "stderr",
     "output_type": "stream",
     "text": [
      "C:\\Users\\cleme\\AppData\\Local\\Temp\\ipykernel_11684\\2342835808.py:2: SettingWithCopyWarning: \n",
      "A value is trying to be set on a copy of a slice from a DataFrame.\n",
      "Try using .loc[row_indexer,col_indexer] = value instead\n",
      "\n",
      "See the caveats in the documentation: https://pandas.pydata.org/pandas-docs/stable/user_guide/indexing.html#returning-a-view-versus-a-copy\n",
      "  df_anno[\"label\"] = [\"\"] * df_anno.shape[0]\n"
     ]
    }
   ],
   "source": [
    "df_anno = df[[\"article_id-d\", \"sent_id\", \"sent\", \"sec\", \"prev_sec\", \"prev_sent\", \"next_sec\", \"next_sent\"]]\n",
    "df_anno[\"label\"] = [\"\"] * df_anno.shape[0]\n",
    "df_anno = df_anno.rename(columns = {\"article_id-d\": \"doccano_art_id\", \"sent_id\": \"sentence_id\", \"sent\": \"sentence\", \"sec\": \"current_sentence_section\", \"prev_sec\": \"previous_sentence_section\", \"prev_sent\": \"previous_sentence\", \"next_sec\": \"next_sentence_section\", \"next_sent\": \"next_sentence\"})\n",
    "df_anno.to_csv(\"claims-to-annotate-10-papers-partialdoc.csv\")"
   ]
  },
  {
   "cell_type": "code",
   "execution_count": 90,
   "metadata": {},
   "outputs": [
    {
     "data": {
      "text/html": [
       "<div>\n",
       "<style scoped>\n",
       "    .dataframe tbody tr th:only-of-type {\n",
       "        vertical-align: middle;\n",
       "    }\n",
       "\n",
       "    .dataframe tbody tr th {\n",
       "        vertical-align: top;\n",
       "    }\n",
       "\n",
       "    .dataframe thead th {\n",
       "        text-align: right;\n",
       "    }\n",
       "</style>\n",
       "<table border=\"1\" class=\"dataframe\">\n",
       "  <thead>\n",
       "    <tr style=\"text-align: right;\">\n",
       "      <th></th>\n",
       "      <th>doccano_art_id</th>\n",
       "      <th>sentence_id</th>\n",
       "      <th>sentence</th>\n",
       "      <th>current_sentence_section</th>\n",
       "      <th>previous_sentence_section</th>\n",
       "      <th>previous_sentence</th>\n",
       "      <th>next_sentence_section</th>\n",
       "      <th>next_sentence</th>\n",
       "      <th>label</th>\n",
       "    </tr>\n",
       "  </thead>\n",
       "  <tbody>\n",
       "    <tr>\n",
       "      <th>0</th>\n",
       "      <td>0</td>\n",
       "      <td>0</td>\n",
       "      <td>In this paper we report on a research effort f...</td>\n",
       "      <td>abstract</td>\n",
       "      <td>NaN</td>\n",
       "      <td>NaN</td>\n",
       "      <td>abstract</td>\n",
       "      <td>Three sequential models have been developed fo...</td>\n",
       "      <td></td>\n",
       "    </tr>\n",
       "    <tr>\n",
       "      <th>1</th>\n",
       "      <td>0</td>\n",
       "      <td>1</td>\n",
       "      <td>Three sequential models have been developed fo...</td>\n",
       "      <td>abstract</td>\n",
       "      <td>abstract</td>\n",
       "      <td>In this paper we report on a research effort f...</td>\n",
       "      <td>abstract</td>\n",
       "      <td>The models have been applied to a Danish and a...</td>\n",
       "      <td></td>\n",
       "    </tr>\n",
       "    <tr>\n",
       "      <th>2</th>\n",
       "      <td>0</td>\n",
       "      <td>2</td>\n",
       "      <td>The models have been applied to a Danish and a...</td>\n",
       "      <td>abstract</td>\n",
       "      <td>abstract</td>\n",
       "      <td>Three sequential models have been developed fo...</td>\n",
       "      <td>abstract</td>\n",
       "      <td>Moreover, during the reported research, a meth...</td>\n",
       "      <td></td>\n",
       "    </tr>\n",
       "    <tr>\n",
       "      <th>3</th>\n",
       "      <td>0</td>\n",
       "      <td>3</td>\n",
       "      <td>Moreover, during the reported research, a meth...</td>\n",
       "      <td>abstract</td>\n",
       "      <td>abstract</td>\n",
       "      <td>The models have been applied to a Danish and a...</td>\n",
       "      <td>Introduction</td>\n",
       "      <td>One of the problems relating to sign language ...</td>\n",
       "      <td></td>\n",
       "    </tr>\n",
       "    <tr>\n",
       "      <th>4</th>\n",
       "      <td>0</td>\n",
       "      <td>4</td>\n",
       "      <td>One of the problems relating to sign language ...</td>\n",
       "      <td>Introduction</td>\n",
       "      <td>abstract</td>\n",
       "      <td>Moreover, during the reported research, a meth...</td>\n",
       "      <td>Introduction</td>\n",
       "      <td>Therefore, most data collections contain a ver...</td>\n",
       "      <td></td>\n",
       "    </tr>\n",
       "    <tr>\n",
       "      <th>...</th>\n",
       "      <td>...</td>\n",
       "      <td>...</td>\n",
       "      <td>...</td>\n",
       "      <td>...</td>\n",
       "      <td>...</td>\n",
       "      <td>...</td>\n",
       "      <td>...</td>\n",
       "      <td>...</td>\n",
       "      <td>...</td>\n",
       "    </tr>\n",
       "    <tr>\n",
       "      <th>982</th>\n",
       "      <td>9</td>\n",
       "      <td>230</td>\n",
       "      <td>Our approach is inspired by knowledge distilla...</td>\n",
       "      <td>CONCLUSION</td>\n",
       "      <td>CONCLUSION</td>\n",
       "      <td>In this paper, we introduce a method to train ...</td>\n",
       "      <td>CONCLUSION</td>\n",
       "      <td>In particular, we use the cross-attention scor...</td>\n",
       "      <td></td>\n",
       "    </tr>\n",
       "    <tr>\n",
       "      <th>983</th>\n",
       "      <td>9</td>\n",
       "      <td>231</td>\n",
       "      <td>In particular, we use the cross-attention scor...</td>\n",
       "      <td>CONCLUSION</td>\n",
       "      <td>CONCLUSION</td>\n",
       "      <td>Our approach is inspired by knowledge distilla...</td>\n",
       "      <td>CONCLUSION</td>\n",
       "      <td>We compare different ways to aggregate the sco...</td>\n",
       "      <td></td>\n",
       "    </tr>\n",
       "    <tr>\n",
       "      <th>984</th>\n",
       "      <td>9</td>\n",
       "      <td>232</td>\n",
       "      <td>We compare different ways to aggregate the sco...</td>\n",
       "      <td>CONCLUSION</td>\n",
       "      <td>CONCLUSION</td>\n",
       "      <td>In particular, we use the cross-attention scor...</td>\n",
       "      <td>CONCLUSION</td>\n",
       "      <td>We show that iteratively training the reader a...</td>\n",
       "      <td></td>\n",
       "    </tr>\n",
       "    <tr>\n",
       "      <th>985</th>\n",
       "      <td>9</td>\n",
       "      <td>233</td>\n",
       "      <td>We show that iteratively training the reader a...</td>\n",
       "      <td>CONCLUSION</td>\n",
       "      <td>CONCLUSION</td>\n",
       "      <td>We compare different ways to aggregate the sco...</td>\n",
       "      <td>CONCLUSION</td>\n",
       "      <td>In the future, we would like to explore better...</td>\n",
       "      <td></td>\n",
       "    </tr>\n",
       "    <tr>\n",
       "      <th>986</th>\n",
       "      <td>9</td>\n",
       "      <td>234</td>\n",
       "      <td>In the future, we would like to explore better...</td>\n",
       "      <td>CONCLUSION</td>\n",
       "      <td>CONCLUSION</td>\n",
       "      <td>We show that iteratively training the reader a...</td>\n",
       "      <td>NaN</td>\n",
       "      <td>NaN</td>\n",
       "      <td></td>\n",
       "    </tr>\n",
       "  </tbody>\n",
       "</table>\n",
       "<p>987 rows × 9 columns</p>\n",
       "</div>"
      ],
      "text/plain": [
       "     doccano_art_id  sentence_id  \\\n",
       "0                 0            0   \n",
       "1                 0            1   \n",
       "2                 0            2   \n",
       "3                 0            3   \n",
       "4                 0            4   \n",
       "..              ...          ...   \n",
       "982               9          230   \n",
       "983               9          231   \n",
       "984               9          232   \n",
       "985               9          233   \n",
       "986               9          234   \n",
       "\n",
       "                                              sentence  \\\n",
       "0    In this paper we report on a research effort f...   \n",
       "1    Three sequential models have been developed fo...   \n",
       "2    The models have been applied to a Danish and a...   \n",
       "3    Moreover, during the reported research, a meth...   \n",
       "4    One of the problems relating to sign language ...   \n",
       "..                                                 ...   \n",
       "982  Our approach is inspired by knowledge distilla...   \n",
       "983  In particular, we use the cross-attention scor...   \n",
       "984  We compare different ways to aggregate the sco...   \n",
       "985  We show that iteratively training the reader a...   \n",
       "986  In the future, we would like to explore better...   \n",
       "\n",
       "    current_sentence_section previous_sentence_section  \\\n",
       "0                   abstract                       NaN   \n",
       "1                   abstract                  abstract   \n",
       "2                   abstract                  abstract   \n",
       "3                   abstract                  abstract   \n",
       "4               Introduction                  abstract   \n",
       "..                       ...                       ...   \n",
       "982               CONCLUSION                CONCLUSION   \n",
       "983               CONCLUSION                CONCLUSION   \n",
       "984               CONCLUSION                CONCLUSION   \n",
       "985               CONCLUSION                CONCLUSION   \n",
       "986               CONCLUSION                CONCLUSION   \n",
       "\n",
       "                                     previous_sentence next_sentence_section  \\\n",
       "0                                                  NaN              abstract   \n",
       "1    In this paper we report on a research effort f...              abstract   \n",
       "2    Three sequential models have been developed fo...              abstract   \n",
       "3    The models have been applied to a Danish and a...          Introduction   \n",
       "4    Moreover, during the reported research, a meth...          Introduction   \n",
       "..                                                 ...                   ...   \n",
       "982  In this paper, we introduce a method to train ...            CONCLUSION   \n",
       "983  Our approach is inspired by knowledge distilla...            CONCLUSION   \n",
       "984  In particular, we use the cross-attention scor...            CONCLUSION   \n",
       "985  We compare different ways to aggregate the sco...            CONCLUSION   \n",
       "986  We show that iteratively training the reader a...                   NaN   \n",
       "\n",
       "                                         next_sentence label  \n",
       "0    Three sequential models have been developed fo...        \n",
       "1    The models have been applied to a Danish and a...        \n",
       "2    Moreover, during the reported research, a meth...        \n",
       "3    One of the problems relating to sign language ...        \n",
       "4    Therefore, most data collections contain a ver...        \n",
       "..                                                 ...   ...  \n",
       "982  In particular, we use the cross-attention scor...        \n",
       "983  We compare different ways to aggregate the sco...        \n",
       "984  We show that iteratively training the reader a...        \n",
       "985  In the future, we would like to explore better...        \n",
       "986                                                NaN        \n",
       "\n",
       "[987 rows x 9 columns]"
      ]
     },
     "execution_count": 90,
     "metadata": {},
     "output_type": "execute_result"
    }
   ],
   "source": [
    "df_anno"
   ]
  },
  {
   "cell_type": "code",
   "execution_count": 96,
   "metadata": {},
   "outputs": [
    {
     "data": {
      "text/plain": [
       "['2020.signlang-1.20',\n",
       " 'W17-4709',\n",
       " 'N19-1358',\n",
       " '2103.14302',\n",
       " 'Y15-1047',\n",
       " 'P18-1048',\n",
       " '1708.01009',\n",
       " '1611.08765',\n",
       " '1605.05172',\n",
       " '2012.04584']"
      ]
     },
     "execution_count": 96,
     "metadata": {},
     "output_type": "execute_result"
    }
   ],
   "source": [
    "random_idx"
   ]
  },
  {
   "cell_type": "code",
   "execution_count": 97,
   "metadata": {},
   "outputs": [
    {
     "name": "stdout",
     "output_type": "stream",
     "text": [
      "2020.signlang-1.20 ACL\n",
      "W17-4709 ACL\n",
      "N19-1358 ACL\n",
      "2103.14302 arXiv\n",
      "Y15-1047 ACL\n",
      "P18-1048 ACL\n",
      "1708.01009 arXiv\n",
      "1611.08765 arXiv\n",
      "1605.05172 arXiv\n",
      "2012.04584 arXiv\n"
     ]
    }
   ],
   "source": [
    "for idx in random_idx:\n",
    "    source = \"arXiv\" if idx in random_arxiv else \"ACL\"\n",
    "    print(idx, source)"
   ]
  },
  {
   "cell_type": "code",
   "execution_count": 104,
   "metadata": {},
   "outputs": [
    {
     "name": "stdout",
     "output_type": "stream",
     "text": [
      "[0, 1, 3, 6]\n"
     ]
    }
   ],
   "source": [
    "reduced_list = [\"2020.signlang-1.20\", \"W17-4709\", \"2103.14302\", \"1708.01009\"]\n",
    "red_doccano = [article_id2doccano_id[idx] for idx in reduced_list]\n",
    "print(red_doccano)\n",
    "\n",
    "red_df = df[df[\"article_id\"].isin(reduced_list)]\n",
    "red_df.to_csv(\"claims-to-annotate-4-papers-fulldoc.csv\", index = False)\n",
    "\n",
    "red_df_anno = df_anno[df_anno[\"doccano_art_id\"].isin(red_doccano)]\n",
    "red_df_anno.to_csv(\"claims-to-annotate-4-papers-partialdoc.csv\", index = False)"
   ]
  },
  {
   "cell_type": "code",
   "execution_count": 106,
   "metadata": {},
   "outputs": [
    {
     "data": {
      "text/plain": [
       "array([0, 1, 3, 6], dtype=int64)"
      ]
     },
     "execution_count": 106,
     "metadata": {},
     "output_type": "execute_result"
    }
   ],
   "source": [
    "red_df_anno.doccano_art_id.unique()"
   ]
  }
 ],
 "metadata": {
  "kernelspec": {
   "display_name": ".venv",
   "language": "python",
   "name": "python3"
  },
  "language_info": {
   "codemirror_mode": {
    "name": "ipython",
    "version": 3
   },
   "file_extension": ".py",
   "mimetype": "text/x-python",
   "name": "python",
   "nbconvert_exporter": "python",
   "pygments_lexer": "ipython3",
   "version": "3.11.4"
  }
 },
 "nbformat": 4,
 "nbformat_minor": 2
}
